{
 "cells": [
  {
   "cell_type": "markdown",
   "metadata": {},
   "source": [
    "begin jul7 18 2019\n",
    "i want to make a database of nested trnas, their sequence and their host  intron sequences"
   ]
  },
  {
   "cell_type": "code",
   "execution_count": 1,
   "metadata": {},
   "outputs": [],
   "source": [
    "import numpy as np\n",
    "import pandas as pd\n",
    "import scipy.stats as stats\n",
    "import matplotlib.pyplot as plt\n",
    "import seaborn"
   ]
  },
  {
   "cell_type": "code",
   "execution_count": 58,
   "metadata": {},
   "outputs": [],
   "source": [
    "merged = pd.read_table('trna_host_genes_merged.csv', sep=',')#only nested trnas \n",
    "fb_trna=pd.read_table('complete_trna_info.csv',sep=',')  #all flybase trnas\n",
    "introns = pd.read_table('host_introns_only.bed',sep=',') ##custom bed wirh host intron IDs"
   ]
  },
  {
   "cell_type": "code",
   "execution_count": 3,
   "metadata": {
    "scrolled": true
   },
   "outputs": [
    {
     "data": {
      "text/html": [
       "<div>\n",
       "<style scoped>\n",
       "    .dataframe tbody tr th:only-of-type {\n",
       "        vertical-align: middle;\n",
       "    }\n",
       "\n",
       "    .dataframe tbody tr th {\n",
       "        vertical-align: top;\n",
       "    }\n",
       "\n",
       "    .dataframe thead th {\n",
       "        text-align: right;\n",
       "    }\n",
       "</style>\n",
       "<table border=\"1\" class=\"dataframe\">\n",
       "  <thead>\n",
       "    <tr style=\"text-align: right;\">\n",
       "      <th></th>\n",
       "      <th>Flybase_ID</th>\n",
       "      <th>Fb_symbol</th>\n",
       "      <th>Chromosome</th>\n",
       "      <th>Start</th>\n",
       "      <th>End</th>\n",
       "      <th>Sequence</th>\n",
       "      <th>Complement</th>\n",
       "      <th>Amino_acid</th>\n",
       "      <th>Organization</th>\n",
       "      <th>A-content</th>\n",
       "      <th>G-content</th>\n",
       "      <th>C-content</th>\n",
       "      <th>T-content</th>\n",
       "      <th>GC-content</th>\n",
       "      <th>AT-content</th>\n",
       "      <th>Length</th>\n",
       "      <th>Co-orientation</th>\n",
       "    </tr>\n",
       "  </thead>\n",
       "  <tbody>\n",
       "    <tr>\n",
       "      <th>0</th>\n",
       "      <td>FBgn0011840</td>\n",
       "      <td>Ala-AGC-2-3</td>\n",
       "      <td>3R</td>\n",
       "      <td>17620144</td>\n",
       "      <td>17620216</td>\n",
       "      <td>GGGGAUGUAGCUCAGAUGGUAGAGCGCUCGCUUAGCAUGUGAGAGG...</td>\n",
       "      <td>True</td>\n",
       "      <td>Glu</td>\n",
       "      <td>Non-Nested</td>\n",
       "      <td>0.205479</td>\n",
       "      <td>0.356164</td>\n",
       "      <td>0.232877</td>\n",
       "      <td>0.205479</td>\n",
       "      <td>0.589041</td>\n",
       "      <td>0.438356</td>\n",
       "      <td>73</td>\n",
       "      <td>Non-nested</td>\n",
       "    </tr>\n",
       "    <tr>\n",
       "      <th>1</th>\n",
       "      <td>FBgn0011844</td>\n",
       "      <td>Asp-GTC-1-10</td>\n",
       "      <td>3L</td>\n",
       "      <td>13249547</td>\n",
       "      <td>13249618</td>\n",
       "      <td>UCCUCGAUAGUAUAGUGGUUAGUAUCCCCGCCUGUCACGCGGGAGA...</td>\n",
       "      <td>False</td>\n",
       "      <td>Lys</td>\n",
       "      <td>Nested</td>\n",
       "      <td>0.166667</td>\n",
       "      <td>0.319444</td>\n",
       "      <td>0.277778</td>\n",
       "      <td>0.236111</td>\n",
       "      <td>0.597222</td>\n",
       "      <td>0.513889</td>\n",
       "      <td>72</td>\n",
       "      <td>Nested-Sense</td>\n",
       "    </tr>\n",
       "    <tr>\n",
       "      <th>2</th>\n",
       "      <td>FBgn0011845</td>\n",
       "      <td>Asp-GTC-1-11</td>\n",
       "      <td>3R</td>\n",
       "      <td>24555302</td>\n",
       "      <td>24555373</td>\n",
       "      <td>UCCUCGAUAGUAUAGUGGUUAGUAUCCCCGCCUGUCACGCGGGAGA...</td>\n",
       "      <td>False</td>\n",
       "      <td>Gly</td>\n",
       "      <td>Nested</td>\n",
       "      <td>0.166667</td>\n",
       "      <td>0.319444</td>\n",
       "      <td>0.277778</td>\n",
       "      <td>0.236111</td>\n",
       "      <td>0.597222</td>\n",
       "      <td>0.513889</td>\n",
       "      <td>72</td>\n",
       "      <td>Nested-Sense</td>\n",
       "    </tr>\n",
       "    <tr>\n",
       "      <th>3</th>\n",
       "      <td>FBgn0011848</td>\n",
       "      <td>Glu-TTC-1-6</td>\n",
       "      <td>2R</td>\n",
       "      <td>19727981</td>\n",
       "      <td>19728052</td>\n",
       "      <td>UCCCAUAUGGUCUAGUGGCUAGGAUAUCUGGCUUUCACCCAGAAGG...</td>\n",
       "      <td>True</td>\n",
       "      <td>Gly</td>\n",
       "      <td>Non-Nested</td>\n",
       "      <td>0.194444</td>\n",
       "      <td>0.291667</td>\n",
       "      <td>0.250000</td>\n",
       "      <td>0.263889</td>\n",
       "      <td>0.541667</td>\n",
       "      <td>0.513889</td>\n",
       "      <td>72</td>\n",
       "      <td>Non-nested</td>\n",
       "    </tr>\n",
       "    <tr>\n",
       "      <th>4</th>\n",
       "      <td>FBgn0011849</td>\n",
       "      <td>Glu-TTC-1-5</td>\n",
       "      <td>2R</td>\n",
       "      <td>19727460</td>\n",
       "      <td>19727531</td>\n",
       "      <td>UCCCAUAUGGUCUAGUGGCUAGGAUAUCUGGCUUUCACCCAGAAGG...</td>\n",
       "      <td>True</td>\n",
       "      <td>Phe</td>\n",
       "      <td>Non-Nested</td>\n",
       "      <td>0.194444</td>\n",
       "      <td>0.291667</td>\n",
       "      <td>0.250000</td>\n",
       "      <td>0.263889</td>\n",
       "      <td>0.541667</td>\n",
       "      <td>0.513889</td>\n",
       "      <td>72</td>\n",
       "      <td>Non-nested</td>\n",
       "    </tr>\n",
       "  </tbody>\n",
       "</table>\n",
       "</div>"
      ],
      "text/plain": [
       "    Flybase_ID     Fb_symbol Chromosome     Start       End  \\\n",
       "0  FBgn0011840   Ala-AGC-2-3         3R  17620144  17620216   \n",
       "1  FBgn0011844  Asp-GTC-1-10         3L  13249547  13249618   \n",
       "2  FBgn0011845  Asp-GTC-1-11         3R  24555302  24555373   \n",
       "3  FBgn0011848   Glu-TTC-1-6         2R  19727981  19728052   \n",
       "4  FBgn0011849   Glu-TTC-1-5         2R  19727460  19727531   \n",
       "\n",
       "                                            Sequence  Complement Amino_acid  \\\n",
       "0  GGGGAUGUAGCUCAGAUGGUAGAGCGCUCGCUUAGCAUGUGAGAGG...        True        Glu   \n",
       "1  UCCUCGAUAGUAUAGUGGUUAGUAUCCCCGCCUGUCACGCGGGAGA...       False        Lys   \n",
       "2  UCCUCGAUAGUAUAGUGGUUAGUAUCCCCGCCUGUCACGCGGGAGA...       False        Gly   \n",
       "3  UCCCAUAUGGUCUAGUGGCUAGGAUAUCUGGCUUUCACCCAGAAGG...        True        Gly   \n",
       "4  UCCCAUAUGGUCUAGUGGCUAGGAUAUCUGGCUUUCACCCAGAAGG...        True        Phe   \n",
       "\n",
       "  Organization  A-content  G-content  C-content  T-content  GC-content  \\\n",
       "0   Non-Nested   0.205479   0.356164   0.232877   0.205479    0.589041   \n",
       "1       Nested   0.166667   0.319444   0.277778   0.236111    0.597222   \n",
       "2       Nested   0.166667   0.319444   0.277778   0.236111    0.597222   \n",
       "3   Non-Nested   0.194444   0.291667   0.250000   0.263889    0.541667   \n",
       "4   Non-Nested   0.194444   0.291667   0.250000   0.263889    0.541667   \n",
       "\n",
       "   AT-content  Length Co-orientation  \n",
       "0    0.438356      73     Non-nested  \n",
       "1    0.513889      72   Nested-Sense  \n",
       "2    0.513889      72   Nested-Sense  \n",
       "3    0.513889      72     Non-nested  \n",
       "4    0.513889      72     Non-nested  "
      ]
     },
     "execution_count": 3,
     "metadata": {},
     "output_type": "execute_result"
    }
   ],
   "source": [
    "fb_trna.head()"
   ]
  },
  {
   "cell_type": "code",
   "execution_count": 4,
   "metadata": {
    "scrolled": true
   },
   "outputs": [
    {
     "data": {
      "text/html": [
       "<div>\n",
       "<style scoped>\n",
       "    .dataframe tbody tr th:only-of-type {\n",
       "        vertical-align: middle;\n",
       "    }\n",
       "\n",
       "    .dataframe tbody tr th {\n",
       "        vertical-align: top;\n",
       "    }\n",
       "\n",
       "    .dataframe thead th {\n",
       "        text-align: right;\n",
       "    }\n",
       "</style>\n",
       "<table border=\"1\" class=\"dataframe\">\n",
       "  <thead>\n",
       "    <tr style=\"text-align: right;\">\n",
       "      <th></th>\n",
       "      <th>Chrom</th>\n",
       "      <th>Start</th>\n",
       "      <th>End</th>\n",
       "      <th>Strand</th>\n",
       "      <th>tRNA_ID</th>\n",
       "      <th>tRNA_name</th>\n",
       "      <th>Host_Exon_ID</th>\n",
       "      <th>intron_length</th>\n",
       "      <th>mRNA_length</th>\n",
       "      <th>Host_gene_name</th>\n",
       "      <th>Host_Gene_Strand</th>\n",
       "      <th>Co-orientation</th>\n",
       "    </tr>\n",
       "  </thead>\n",
       "  <tbody>\n",
       "    <tr>\n",
       "      <th>0</th>\n",
       "      <td>3L</td>\n",
       "      <td>13249547</td>\n",
       "      <td>13249618</td>\n",
       "      <td>+</td>\n",
       "      <td>FBgn0011844</td>\n",
       "      <td>sp-GTC-1-10-</td>\n",
       "      <td>FBtr0305480</td>\n",
       "      <td>49756</td>\n",
       "      <td>4841</td>\n",
       "      <td>caps</td>\n",
       "      <td>+</td>\n",
       "      <td>Yes</td>\n",
       "    </tr>\n",
       "    <tr>\n",
       "      <th>1</th>\n",
       "      <td>3R</td>\n",
       "      <td>24555302</td>\n",
       "      <td>24555373</td>\n",
       "      <td>+</td>\n",
       "      <td>FBgn0011845</td>\n",
       "      <td>sp-GTC-1-11-</td>\n",
       "      <td>FBtr0084647</td>\n",
       "      <td>1309</td>\n",
       "      <td>3120</td>\n",
       "      <td>Esyt2</td>\n",
       "      <td>+</td>\n",
       "      <td>Yes</td>\n",
       "    </tr>\n",
       "    <tr>\n",
       "      <th>2</th>\n",
       "      <td>3L</td>\n",
       "      <td>1397695</td>\n",
       "      <td>1397766</td>\n",
       "      <td>+</td>\n",
       "      <td>FBgn0011851</td>\n",
       "      <td>Glu-CTC-3-4-</td>\n",
       "      <td>FBtr0310161</td>\n",
       "      <td>204807</td>\n",
       "      <td>5167</td>\n",
       "      <td>Ptp61F</td>\n",
       "      <td>-</td>\n",
       "      <td>No</td>\n",
       "    </tr>\n",
       "    <tr>\n",
       "      <th>3</th>\n",
       "      <td>3L</td>\n",
       "      <td>1397932</td>\n",
       "      <td>1398003</td>\n",
       "      <td>+</td>\n",
       "      <td>FBgn0011852</td>\n",
       "      <td>Glu-CTC-3-5-</td>\n",
       "      <td>FBtr0310161</td>\n",
       "      <td>204807</td>\n",
       "      <td>5167</td>\n",
       "      <td>Ptp61F</td>\n",
       "      <td>-</td>\n",
       "      <td>No</td>\n",
       "    </tr>\n",
       "    <tr>\n",
       "      <th>4</th>\n",
       "      <td>3L</td>\n",
       "      <td>1398169</td>\n",
       "      <td>1398240</td>\n",
       "      <td>+</td>\n",
       "      <td>FBgn0011853</td>\n",
       "      <td>Glu-CTC-3-6-</td>\n",
       "      <td>FBtr0310161</td>\n",
       "      <td>204807</td>\n",
       "      <td>5167</td>\n",
       "      <td>Ptp61F</td>\n",
       "      <td>-</td>\n",
       "      <td>No</td>\n",
       "    </tr>\n",
       "  </tbody>\n",
       "</table>\n",
       "</div>"
      ],
      "text/plain": [
       "  Chrom     Start       End Strand      tRNA_ID     tRNA_name Host_Exon_ID  \\\n",
       "0    3L  13249547  13249618      +  FBgn0011844  sp-GTC-1-10-  FBtr0305480   \n",
       "1    3R  24555302  24555373      +  FBgn0011845  sp-GTC-1-11-  FBtr0084647   \n",
       "2    3L   1397695   1397766      +  FBgn0011851  Glu-CTC-3-4-  FBtr0310161   \n",
       "3    3L   1397932   1398003      +  FBgn0011852  Glu-CTC-3-5-  FBtr0310161   \n",
       "4    3L   1398169   1398240      +  FBgn0011853  Glu-CTC-3-6-  FBtr0310161   \n",
       "\n",
       "   intron_length  mRNA_length Host_gene_name Host_Gene_Strand Co-orientation  \n",
       "0          49756         4841           caps                +            Yes  \n",
       "1           1309         3120          Esyt2                +            Yes  \n",
       "2         204807         5167         Ptp61F                -             No  \n",
       "3         204807         5167         Ptp61F                -             No  \n",
       "4         204807         5167         Ptp61F                -             No  "
      ]
     },
     "execution_count": 4,
     "metadata": {},
     "output_type": "execute_result"
    }
   ],
   "source": [
    "merged.head()"
   ]
  },
  {
   "cell_type": "markdown",
   "metadata": {},
   "source": [
    "for the trnasequencing analysis, i wrote a script that extracted sequences from fasta using a ID information and sequence location stored in gff table. bedtools requires fasta header with >chr so thats why I had to that"
   ]
  },
  {
   "cell_type": "code",
   "execution_count": 5,
   "metadata": {
    "scrolled": false
   },
   "outputs": [
    {
     "name": "stdout",
     "output_type": "stream",
     "text": [
      ">FBgn0026189_intron_FBgn0026189:16_FBgn0026189:15 type=intron; loc=3L:complement(3120401..3120458); parent=FBgn0026189,FBtr0073118,FBtr0073119,FBtr0073120,FBtr0306258,FBtr0333895,FBtr0337055,FBtr0337056; MD5=c536164cef683e0c151f65a1466d8481; release=r6.28; species=Dmel; length=58; \n",
      "GTGAGTTTTGAGACCATTGATTCAATTAACGTAGATAACCAATATTTGTTCACCACAG\n",
      ">FBgn0053517_intron_FBgn0053517:13_FBgn0053517:12 type=intron; loc=X:complement(20026896..20027750); parent=FBgn0053517,FBtr0343167,FBtr0343168,FBtr0343169,FBtr0343170,FBtr0343171; MD5=f9a10dfb97a95769dd1e8facc2e69c75; release=r6.28; species=Dmel; length=855; \n",
      "GTGAGTACGAGGCAGGATTACCATTCGAAATCATCAAACTACTACAACTTAACATCTTAA\n",
      "AACCGCATTATAAATCTTTAAAAATCATTAAAGCTCATTAGATATTATTGAATATCATTC\n",
      "AAAGGCTTTAAAATTATTAAATTAGATTAGATAGCCTTGAATCTCATTAAATACCTTTAA\n",
      "ACATTATCATCAAGTTGGAGCATCATTTAAACCTTGCAACAGCAACTTCTTTAGTATAAT\n",
      "ATATTTTCATCGGATAGTGAGGTGACTAGGTTTTGAGAACAGAATTCCTTAGATTTCTAA\n",
      "GATGGGAGTATTTGAATGAAACCGCCGATAATTAATTTATTTATAAAGATGTTCATTTAG\n",
      "AAATCAGTTTTGATAGCAAGAATTTAATTTAAACGCGTTACATAACTCATTTATTCGTGC\n"
     ]
    }
   ],
   "source": [
    "##example of fasta file with intronic regions of host transcript IDs\n",
    "!head -10 host_transc_introns.fasta"
   ]
  },
  {
   "cell_type": "markdown",
   "metadata": {},
   "source": [
    "if transcript_ID in fasta header: \n",
    "transcript_ID: [sequenc"
   ]
  },
  {
   "cell_type": "code",
   "execution_count": 16,
   "metadata": {},
   "outputs": [
    {
     "data": {
      "text/plain": [
       "array(['FBtr0305480', 'FBtr0084647', 'FBtr0310161', 'FBtr0310161',\n",
       "       'FBtr0310161'], dtype=object)"
      ]
     },
     "execution_count": 16,
     "metadata": {},
     "output_type": "execute_result"
    }
   ],
   "source": [
    "trans_ids = merged['Host_Exon_ID'].values\n",
    "trans_ids[:5]"
   ]
  },
  {
   "cell_type": "code",
   "execution_count": 13,
   "metadata": {
    "scrolled": true
   },
   "outputs": [
    {
     "data": {
      "text/plain": [
       "'>FBgn0026189_intron_FBgn0026189:16_FBgn0026189:15 type=intron; loc=3L:complement(3120401..3120458); parent=FBgn0026189,FBtr0073118,FBtr0073119,FBtr0073120,FBtr0306258,FBtr0333895,FBtr0337055,FBtr0337056; MD5=c536164cef683e0c151f65a1466d8481; release=r6.28; species=Dmel; length=58;'"
      ]
     },
     "execution_count": 13,
     "metadata": {},
     "output_type": "execute_result"
    }
   ],
   "source": [
    "fas = []\n",
    "with open('host_transc_introns.fasta', 'r') as f:\n",
    "    for line in f:\n",
    "        fas.append(line.rstrip())\n",
    "fas[0]"
   ]
  },
  {
   "cell_type": "code",
   "execution_count": 31,
   "metadata": {},
   "outputs": [
    {
     "data": {
      "text/plain": [
       "'GTGAGTTTTGAGACCATTGATTCAATTAACGTAGATAACCAATATTTGTTCACCACAG'"
      ]
     },
     "execution_count": 31,
     "metadata": {},
     "output_type": "execute_result"
    }
   ],
   "source": [
    "fas[1]"
   ]
  },
  {
   "cell_type": "code",
   "execution_count": 14,
   "metadata": {},
   "outputs": [
    {
     "data": {
      "text/plain": [
       "37752"
      ]
     },
     "execution_count": 14,
     "metadata": {},
     "output_type": "execute_result"
    }
   ],
   "source": [
    "len(fas)"
   ]
  },
  {
   "cell_type": "code",
   "execution_count": 20,
   "metadata": {},
   "outputs": [
    {
     "data": {
      "text/html": [
       "<div>\n",
       "<style scoped>\n",
       "    .dataframe tbody tr th:only-of-type {\n",
       "        vertical-align: middle;\n",
       "    }\n",
       "\n",
       "    .dataframe tbody tr th {\n",
       "        vertical-align: top;\n",
       "    }\n",
       "\n",
       "    .dataframe thead th {\n",
       "        text-align: right;\n",
       "    }\n",
       "</style>\n",
       "<table border=\"1\" class=\"dataframe\">\n",
       "  <thead>\n",
       "    <tr style=\"text-align: right;\">\n",
       "      <th></th>\n",
       "      <th>Chr</th>\n",
       "      <th>Start</th>\n",
       "      <th>End</th>\n",
       "      <th>ExonID</th>\n",
       "      <th>Score</th>\n",
       "      <th>Strand</th>\n",
       "      <th>Length</th>\n",
       "    </tr>\n",
       "  </thead>\n",
       "  <tbody>\n",
       "    <tr>\n",
       "      <th>0</th>\n",
       "      <td>chr3R</td>\n",
       "      <td>24555133</td>\n",
       "      <td>24555458</td>\n",
       "      <td>FBtr0084647_intron_7_0_chr3R_24555134_f</td>\n",
       "      <td>0</td>\n",
       "      <td>+</td>\n",
       "      <td>325</td>\n",
       "    </tr>\n",
       "    <tr>\n",
       "      <th>1</th>\n",
       "      <td>chr3R</td>\n",
       "      <td>16315246</td>\n",
       "      <td>16321962</td>\n",
       "      <td>FBtr0334699_intron_7_0_chr3R_16315247_r</td>\n",
       "      <td>0</td>\n",
       "      <td>-</td>\n",
       "      <td>6716</td>\n",
       "    </tr>\n",
       "    <tr>\n",
       "      <th>2</th>\n",
       "      <td>chr3R</td>\n",
       "      <td>5385862</td>\n",
       "      <td>5392786</td>\n",
       "      <td>FBtr0078800_intron_9_0_chr3R_5385863_r</td>\n",
       "      <td>0</td>\n",
       "      <td>-</td>\n",
       "      <td>6924</td>\n",
       "    </tr>\n",
       "    <tr>\n",
       "      <th>3</th>\n",
       "      <td>chr3R</td>\n",
       "      <td>8842839</td>\n",
       "      <td>8864785</td>\n",
       "      <td>FBtr0305301_intron_10_0_chr3R_8842840_r</td>\n",
       "      <td>0</td>\n",
       "      <td>-</td>\n",
       "      <td>21946</td>\n",
       "    </tr>\n",
       "    <tr>\n",
       "      <th>4</th>\n",
       "      <td>chr3R</td>\n",
       "      <td>10264878</td>\n",
       "      <td>10291099</td>\n",
       "      <td>FBtr0305356_intron_0_0_chr3R_10264879_f</td>\n",
       "      <td>0</td>\n",
       "      <td>+</td>\n",
       "      <td>26221</td>\n",
       "    </tr>\n",
       "  </tbody>\n",
       "</table>\n",
       "</div>"
      ],
      "text/plain": [
       "     Chr     Start       End                                   ExonID  Score  \\\n",
       "0  chr3R  24555133  24555458  FBtr0084647_intron_7_0_chr3R_24555134_f      0   \n",
       "1  chr3R  16315246  16321962  FBtr0334699_intron_7_0_chr3R_16315247_r      0   \n",
       "2  chr3R   5385862   5392786   FBtr0078800_intron_9_0_chr3R_5385863_r      0   \n",
       "3  chr3R   8842839   8864785  FBtr0305301_intron_10_0_chr3R_8842840_r      0   \n",
       "4  chr3R  10264878  10291099  FBtr0305356_intron_0_0_chr3R_10264879_f      0   \n",
       "\n",
       "  Strand  Length  \n",
       "0      +     325  \n",
       "1      -    6716  \n",
       "2      -    6924  \n",
       "3      -   21946  \n",
       "4      +   26221  "
      ]
     },
     "execution_count": 20,
     "metadata": {},
     "output_type": "execute_result"
    }
   ],
   "source": [
    "introns.head()"
   ]
  },
  {
   "cell_type": "code",
   "execution_count": 25,
   "metadata": {
    "scrolled": true
   },
   "outputs": [
    {
     "name": "stdout",
     "output_type": "stream",
     "text": [
      ">FBgn0266758_intron_FBgn0039208:1_FBgn0039208:5 type=intron; loc=3R:24545070..24551328; parent=FBgn0266758,FBtr0084647; MD5=f0732e3bb7ef2d85dbb440aebea55e42; release=r6.28; species=Dmel; length=6259;\n",
      ">FBgn0266758_intron_FBgn0039208:5_FBgn0039208:6 type=intron; loc=3R:24551813..24551873; parent=FBgn0266758,FBtr0084647,FBtr0084648,FBtr0306024,FBtr0334336; MD5=4f26a9e5b5e62d3787df638164f532db; release=r6.28; species=Dmel; length=61;\n",
      ">FBgn0266758_intron_FBgn0039208:14_FBgn0039208:16 type=intron; loc=3R:24555963..24556235; parent=FBgn0266758,FBtr0084647,FBtr0084648,FBtr0306024; MD5=7c37b86b3d4c8d131a2d629938ec6d55; release=r6.28; species=Dmel; length=273;\n",
      ">FBgn0266758_intron_FBgn0039208:8_FBgn0039208:11 type=intron; loc=3R:24552984..24554355; parent=FBgn0266758,FBtr0084647,FBtr0084648; MD5=8ea9b36726c7f75ecd75d36ea91a86e7; release=r6.28; species=Dmel; length=1372;\n",
      ">FBgn0266758_intron_FBgn0039208:11_FBgn0039208:12 type=intron; loc=3R:24554405..24554464; parent=FBgn0266758,FBtr0084647,FBtr0084648,FBtr0306024,FBtr0334336; MD5=cca328e3d6bc5e6f13a1423e1d701072; release=r6.28; species=Dmel; length=60;\n",
      ">FBgn0266758_intron_FBgn0039208:12_FBgn0039208:13 type=intron; loc=3R:24554642..24554701; parent=FBgn0266758,FBtr0084647,FBtr0084648,FBtr0306024,FBtr0334336; MD5=35482c748df05479f323f02d97e2ac6f; release=r6.28; species=Dmel; length=60;\n",
      ">FBgn0266758_intron_FBgn0039208:13_FBgn0039208:14 type=intron; loc=3R:24555134..24555458; parent=FBgn0266758,FBtr0084647,FBtr0084648,FBtr0306024; MD5=eb2c05e3e6b2eb5a6973667d53743ba3; release=r6.28; species=Dmel; length=325;\n",
      ">FBgn0266758_intron_FBgn0039208:7_FBgn0039208:8 type=intron; loc=3R:24552657..24552897; parent=FBgn0266758,FBtr0084647,FBtr0084648; MD5=9be23ab9b452e7f3c25c1b2e8ed816c2; release=r6.28; species=Dmel; length=241;\n",
      ">FBgn0266758_intron_FBgn0039208:6_FBgn0039208:7 type=intron; loc=3R:24552426..24552485; parent=FBgn0266758,FBtr0084647,FBtr0084648,FBtr0306024,FBtr0334336; MD5=107b6e66b9c2d9556a77f4afeb76f783; release=r6.28; species=Dmel; length=60;\n"
     ]
    }
   ],
   "source": [
    "##check for a sample FBtr0084647 in fasta fromt he above bed file\n",
    "for line in fas:\n",
    "    if 'FBtr0084647'in line:\n",
    "        print(line)"
   ]
  },
  {
   "cell_type": "code",
   "execution_count": 32,
   "metadata": {
    "scrolled": true
   },
   "outputs": [
    {
     "name": "stdout",
     "output_type": "stream",
     "text": [
      ">FBgn0266758_intron_FBgn0039208:13_FBgn0039208:14 type=intron; loc=3R:24555134..24555458; parent=FBgn0266758,FBtr0084647,FBtr0084648,FBtr0306024; MD5=eb2c05e3e6b2eb5a6973667d53743ba3; release=r6.28; species=Dmel; length=325; GTGAGTTCAGTTTTCCACAACTCAACGATAAACTTGCAGAATTACGTAGAATGTGACTAT\n"
     ]
    }
   ],
   "source": [
    "##search for location and transcript\n",
    "for line in fas:\n",
    "    if 'FBtr0084647'in line:\n",
    "        if \"24555134\" in line and \"24555458\" in line:\n",
    "            print(line, fas[fas.index(line)+1])\n",
    "            break\n",
    "    else:\n",
    "        continue\n",
    "##so its correct but i need full sequence"
   ]
  },
  {
   "cell_type": "code",
   "execution_count": 34,
   "metadata": {
    "scrolled": true
   },
   "outputs": [
    {
     "data": {
      "text/plain": [
       "33185"
      ]
     },
     "execution_count": 34,
     "metadata": {},
     "output_type": "execute_result"
    }
   ],
   "source": [
    "fas.index(line)"
   ]
  },
  {
   "cell_type": "code",
   "execution_count": 37,
   "metadata": {},
   "outputs": [
    {
     "data": {
      "text/plain": [
       "['GTGAGTTCAGTTTTCCACAACTCAACGATAAACTTGCAGAATTACGTAGAATGTGACTAT',\n",
       " 'AGAGAATCTCATAAAAAGTTACAAAGATAGGTCCTTTCAGAACCATACAGAAACTAACTA',\n",
       " 'CGACCACATCCTCTATAAGAATTAGTTTTTGCTCGAATATTTTCAACGTCCTCGATAGTA',\n",
       " 'TAGTGGTTAGTATCCCCGCCTGTCACGCGGGAGACCGGGGTTCAATTCCCCGTCGGGGAG',\n",
       " 'AATCTGTGATTCTTTTTTTTTTTCTTTTACTTTGTTATATAAACAATTTTTGTTTTAATT',\n",
       " 'GAATCTAATTTGCCATTGCTTTTAG',\n",
       " '>FBgn0041092_intron_FBgn0041092:13_FBgn0041092:14 type=intron; loc=2L:9243179..9243234; parent=FBgn0041092,FBtr0303870,FBtr0303871,FBtr0303872,FBtr0303873,FBtr0333405; MD5=5da9f4ca9a0103efc1521fcd3c8c7ae7; release=r6.28; species=Dmel; length=56;',\n",
       " 'GTATGCTGATTATGAATATGTCATTGATAATCTAATGATGAATTTTGGATTTGTAG',\n",
       " '>FBgn0014135_intron_FBgn0014135:4_FBgn0014135:1 type=intron; loc=3R:complement(19794337..19796213); parent=FBgn0014135,FBtr0083795; MD5=5d31c958f233bfc4c10736c3adbcb759; release=r6.28; species=Dmel; length=1877;',\n",
       " 'GTGAGTTTCCCATGAGCAAATTCTAAGCTAACCCTTCATCTGTTTCTCACAAACAAACGA',\n",
       " 'TATTTACGTAGAGATTTTCTAAATTTGATTAAAATTTTCAAAATTTATACAATTTATTTC',\n",
       " 'TTTGAGTATTGATATAACATTTTTAATATATTTTATGGATCGGAATTTAAACACTTATAC',\n",
       " 'ATTTTTCTAAATTCTTTAAATACTTACTTTTGGCATTAACATTGATTGGAATATTTAATA',\n",
       " 'ACTTTTAAAATTTATAGAGCATTTTCCGAATTTATTTCCCACATTTTGTTCTTTTTGGTT']"
      ]
     },
     "execution_count": 37,
     "metadata": {},
     "output_type": "execute_result"
    }
   ],
   "source": [
    "fas[33186:33200]"
   ]
  },
  {
   "cell_type": "markdown",
   "metadata": {},
   "source": [
    "modify the bedfile by adding 1 to the starts coords"
   ]
  },
  {
   "cell_type": "code",
   "execution_count": 28,
   "metadata": {
    "scrolled": true
   },
   "outputs": [
    {
     "data": {
      "text/html": [
       "<div>\n",
       "<style scoped>\n",
       "    .dataframe tbody tr th:only-of-type {\n",
       "        vertical-align: middle;\n",
       "    }\n",
       "\n",
       "    .dataframe tbody tr th {\n",
       "        vertical-align: top;\n",
       "    }\n",
       "\n",
       "    .dataframe thead th {\n",
       "        text-align: right;\n",
       "    }\n",
       "</style>\n",
       "<table border=\"1\" class=\"dataframe\">\n",
       "  <thead>\n",
       "    <tr style=\"text-align: right;\">\n",
       "      <th></th>\n",
       "      <th>Chr</th>\n",
       "      <th>Start</th>\n",
       "      <th>End</th>\n",
       "      <th>ExonID</th>\n",
       "      <th>Score</th>\n",
       "      <th>Strand</th>\n",
       "      <th>Length</th>\n",
       "    </tr>\n",
       "  </thead>\n",
       "  <tbody>\n",
       "    <tr>\n",
       "      <th>0</th>\n",
       "      <td>chr3R</td>\n",
       "      <td>24555134</td>\n",
       "      <td>24555458</td>\n",
       "      <td>FBtr0084647_intron_7_0_chr3R_24555134_f</td>\n",
       "      <td>0</td>\n",
       "      <td>+</td>\n",
       "      <td>325</td>\n",
       "    </tr>\n",
       "    <tr>\n",
       "      <th>1</th>\n",
       "      <td>chr3R</td>\n",
       "      <td>16315247</td>\n",
       "      <td>16321962</td>\n",
       "      <td>FBtr0334699_intron_7_0_chr3R_16315247_r</td>\n",
       "      <td>0</td>\n",
       "      <td>-</td>\n",
       "      <td>6716</td>\n",
       "    </tr>\n",
       "    <tr>\n",
       "      <th>2</th>\n",
       "      <td>chr3R</td>\n",
       "      <td>5385863</td>\n",
       "      <td>5392786</td>\n",
       "      <td>FBtr0078800_intron_9_0_chr3R_5385863_r</td>\n",
       "      <td>0</td>\n",
       "      <td>-</td>\n",
       "      <td>6924</td>\n",
       "    </tr>\n",
       "    <tr>\n",
       "      <th>3</th>\n",
       "      <td>chr3R</td>\n",
       "      <td>8842840</td>\n",
       "      <td>8864785</td>\n",
       "      <td>FBtr0305301_intron_10_0_chr3R_8842840_r</td>\n",
       "      <td>0</td>\n",
       "      <td>-</td>\n",
       "      <td>21946</td>\n",
       "    </tr>\n",
       "    <tr>\n",
       "      <th>4</th>\n",
       "      <td>chr3R</td>\n",
       "      <td>10264879</td>\n",
       "      <td>10291099</td>\n",
       "      <td>FBtr0305356_intron_0_0_chr3R_10264879_f</td>\n",
       "      <td>0</td>\n",
       "      <td>+</td>\n",
       "      <td>26221</td>\n",
       "    </tr>\n",
       "  </tbody>\n",
       "</table>\n",
       "</div>"
      ],
      "text/plain": [
       "     Chr     Start       End                                   ExonID  Score  \\\n",
       "0  chr3R  24555134  24555458  FBtr0084647_intron_7_0_chr3R_24555134_f      0   \n",
       "1  chr3R  16315247  16321962  FBtr0334699_intron_7_0_chr3R_16315247_r      0   \n",
       "2  chr3R   5385863   5392786   FBtr0078800_intron_9_0_chr3R_5385863_r      0   \n",
       "3  chr3R   8842840   8864785  FBtr0305301_intron_10_0_chr3R_8842840_r      0   \n",
       "4  chr3R  10264879  10291099  FBtr0305356_intron_0_0_chr3R_10264879_f      0   \n",
       "\n",
       "  Strand  Length  \n",
       "0      +     325  \n",
       "1      -    6716  \n",
       "2      -    6924  \n",
       "3      -   21946  \n",
       "4      +   26221  "
      ]
     },
     "execution_count": 28,
     "metadata": {},
     "output_type": "execute_result"
    }
   ],
   "source": [
    "introns['Start']=introns['Start']+1\n",
    "introns.head()"
   ]
  },
  {
   "cell_type": "code",
   "execution_count": 54,
   "metadata": {
    "scrolled": true
   },
   "outputs": [
    {
     "data": {
      "text/plain": [
       "['>FBgn0026189_intron_FBgn0026189:16_FBgn0026189:15 type=intron; loc=3L:complement(3120401..3120458); parent=FBgn0026189,FBtr0073118,FBtr0073119,FBtr0073120,FBtr0306258,FBtr0333895,FBtr0337055,FBtr0337056; MD5=c536164cef683e0c151f65a1466d8481; release=r6.28; species=Dmel; length=58;',\n",
       " 'GTGAGTTTTGAGACCATTGATTCAATTAACGTAGATAACCAATATTTGTTCACCACAG']"
      ]
     },
     "execution_count": 54,
     "metadata": {},
     "output_type": "execute_result"
    }
   ],
   "source": [
    "##why did flybase construct a fasta file with a \\n with the same sequence!!\n",
    "fasta = []\n",
    "file=[]\n",
    "with open('host_transc_introns.fasta', 'r') as f:\n",
    "    for line in f:\n",
    "        file.append(line.strip())\n",
    "            \n",
    "    for i in range(len(file)):\n",
    "        line = file[i]\n",
    "        if line.startswith('>') is True:\n",
    "            header =(line.rstrip())\n",
    "            seq = \"\"\n",
    "            j=i  #the index for the sequence\n",
    "            while True:\n",
    "                j+=1  #the sequence is one position right of the header line\n",
    "                if j==len(file):\n",
    "                    break\n",
    "                if file[j].startswith('>') is True:\n",
    "                    break  #when it encounters another header\n",
    "                else:\n",
    "                    s = file[j]\n",
    "                    seq+=s\n",
    "            fasta.append(header)\n",
    "            fasta.append(seq)\n",
    "        else:\n",
    "            continue\n",
    "fasta[0:2]"
   ]
  },
  {
   "cell_type": "code",
   "execution_count": 57,
   "metadata": {},
   "outputs": [
    {
     "name": "stdout",
     "output_type": "stream",
     "text": [
      ">FBgn0266758_intron_FBgn0039208:13_FBgn0039208:14 type=intron; loc=3R:24555134..24555458; parent=FBgn0266758,FBtr0084647,FBtr0084648,FBtr0306024; MD5=eb2c05e3e6b2eb5a6973667d53743ba3; release=r6.28; species=Dmel; length=325; GTGAGTTCAGTTTTCCACAACTCAACGATAAACTTGCAGAATTACGTAGAATGTGACTATAGAGAATCTCATAAAAAGTTACAAAGATAGGTCCTTTCAGAACCATACAGAAACTAACTACGACCACATCCTCTATAAGAATTAGTTTTTGCTCGAATATTTTCAACGTCCTCGATAGTATAGTGGTTAGTATCCCCGCCTGTCACGCGGGAGACCGGGGTTCAATTCCCCGTCGGGGAGAATCTGTGATTCTTTTTTTTTTTCTTTTACTTTGTTATATAAACAATTTTTGTTTTAATTGAATCTAATTTGCCATTGCTTTTAG length is 325\n"
     ]
    }
   ],
   "source": [
    "##re-run the test, should show a sequence that is 352ntlong\n",
    "##search for location and transcript\n",
    "for line in fasta:\n",
    "    if 'FBtr0084647'in line:\n",
    "        if \"24555134\" in line and \"24555458\" in line:\n",
    "            print(line, fasta[fasta.index(line)+1],\n",
    "                  'length is {}'.format(len(fasta[fasta.index(line)+1])))\n",
    "            break\n",
    "    else:\n",
    "        continue"
   ]
  },
  {
   "cell_type": "code",
   "execution_count": 71,
   "metadata": {},
   "outputs": [
    {
     "name": "stdout",
     "output_type": "stream",
     "text": [
      ">FBgn0266758_intron_FBgn0039208:13_FBgn0039208:14 type=intron; loc=3R:24555134..24555458; parent=FBgn0266758,FBtr0084647,FBtr0084648,FBtr0306024; MD5=eb2c05e3e6b2eb5a6973667d53743ba3; release=r6.28; species=Dmel; length=325; GTGAGTTCAGTTTTCCACAACTCAACGATAAACTTGCAGAATTACGTAGAATGTGACTATAGAGAATCTCATAAAAAGTTACAAAGATAGGTCCTTTCAGAACCATACAGAAACTAACTACGACCACATCCTCTATAAGAATTAGTTTTTGCTCGAATATTTTCAACGTCCTCGATAGTATAGTGGTTAGTATCCCCGCCTGTCACGCGGGAGACCGGGGTTCAATTCCCCGTCGGGGAGAATCTGTGATTCTTTTTTTTTTTCTTTTACTTTGTTATATAAACAATTTTTGTTTTAATTGAATCTAATTTGCCATTGCTTTTAG length is 325\n"
     ]
    }
   ],
   "source": [
    "for line in fasta:\n",
    "    if 'FBtr0084647'in line:\n",
    "        if \"24555134..24555458\" in line:\n",
    "            print(line, fasta[fasta.index(line)+1],\n",
    "                  'length is {}'.format(len(fasta[fasta.index(line)+1])))\n",
    "            break\n",
    "    else:\n",
    "        continue"
   ]
  },
  {
   "cell_type": "markdown",
   "metadata": {},
   "source": [
    "#### There is no file Rhondene cannot parse. None."
   ]
  },
  {
   "cell_type": "markdown",
   "metadata": {},
   "source": [
    "- write this to a proper fasta file with \\n only separating only headers and sequence as the good Lord intended"
   ]
  },
  {
   "cell_type": "code",
   "execution_count": 58,
   "metadata": {},
   "outputs": [],
   "source": [
    "with open('host_transc_introns_V2.fasta', 'w') as f:\n",
    "    for line in fasta:\n",
    "        f.write(line+'\\n')"
   ]
  },
  {
   "cell_type": "code",
   "execution_count": 60,
   "metadata": {
    "scrolled": false
   },
   "outputs": [
    {
     "name": "stdout",
     "output_type": "stream",
     "text": [
      ">FBgn0026189_intron_FBgn0026189:16_FBgn0026189:15 type=intron; loc=3L:complement(3120401..3120458); parent=FBgn0026189,FBtr0073118,FBtr0073119,FBtr0073120,FBtr0306258,FBtr0333895,FBtr0337055,FBtr0337056; MD5=c536164cef683e0c151f65a1466d8481; release=r6.28; species=Dmel; length=58;\n",
      "GTGAGTTTTGAGACCATTGATTCAATTAACGTAGATAACCAATATTTGTTCACCACAG\n"
     ]
    }
   ],
   "source": [
    "! head -2 host_transc_introns_V2.fasta"
   ]
  },
  {
   "cell_type": "code",
   "execution_count": 62,
   "metadata": {
    "collapsed": true
   },
   "outputs": [
    {
     "data": {
      "text/plain": [
       "966"
      ]
     },
     "execution_count": 62,
     "metadata": {},
     "output_type": "execute_result"
    }
   ],
   "source": [
    "len(fasta)"
   ]
  },
  {
   "cell_type": "markdown",
   "metadata": {},
   "source": [
    "write a functiom extract the header and sequence of the specific host intron"
   ]
  },
  {
   "cell_type": "code",
   "execution_count": 63,
   "metadata": {},
   "outputs": [
    {
     "data": {
      "text/plain": [
       "'123'"
      ]
     },
     "execution_count": 63,
     "metadata": {},
     "output_type": "execute_result"
    }
   ],
   "source": [
    "str(123)"
   ]
  },
  {
   "cell_type": "code",
   "execution_count": 64,
   "metadata": {
    "scrolled": true
   },
   "outputs": [
    {
     "data": {
      "text/html": [
       "<div>\n",
       "<style scoped>\n",
       "    .dataframe tbody tr th:only-of-type {\n",
       "        vertical-align: middle;\n",
       "    }\n",
       "\n",
       "    .dataframe tbody tr th {\n",
       "        vertical-align: top;\n",
       "    }\n",
       "\n",
       "    .dataframe thead th {\n",
       "        text-align: right;\n",
       "    }\n",
       "</style>\n",
       "<table border=\"1\" class=\"dataframe\">\n",
       "  <thead>\n",
       "    <tr style=\"text-align: right;\">\n",
       "      <th></th>\n",
       "      <th>Chr</th>\n",
       "      <th>Start</th>\n",
       "      <th>End</th>\n",
       "      <th>ExonID</th>\n",
       "      <th>Score</th>\n",
       "      <th>Strand</th>\n",
       "      <th>Length</th>\n",
       "    </tr>\n",
       "  </thead>\n",
       "  <tbody>\n",
       "    <tr>\n",
       "      <th>0</th>\n",
       "      <td>chr3R</td>\n",
       "      <td>24555134</td>\n",
       "      <td>24555458</td>\n",
       "      <td>FBtr0084647_intron_7_0_chr3R_24555134_f</td>\n",
       "      <td>0</td>\n",
       "      <td>+</td>\n",
       "      <td>325</td>\n",
       "    </tr>\n",
       "    <tr>\n",
       "      <th>1</th>\n",
       "      <td>chr3R</td>\n",
       "      <td>16315247</td>\n",
       "      <td>16321962</td>\n",
       "      <td>FBtr0334699_intron_7_0_chr3R_16315247_r</td>\n",
       "      <td>0</td>\n",
       "      <td>-</td>\n",
       "      <td>6716</td>\n",
       "    </tr>\n",
       "    <tr>\n",
       "      <th>2</th>\n",
       "      <td>chr3R</td>\n",
       "      <td>5385863</td>\n",
       "      <td>5392786</td>\n",
       "      <td>FBtr0078800_intron_9_0_chr3R_5385863_r</td>\n",
       "      <td>0</td>\n",
       "      <td>-</td>\n",
       "      <td>6924</td>\n",
       "    </tr>\n",
       "    <tr>\n",
       "      <th>3</th>\n",
       "      <td>chr3R</td>\n",
       "      <td>8842840</td>\n",
       "      <td>8864785</td>\n",
       "      <td>FBtr0305301_intron_10_0_chr3R_8842840_r</td>\n",
       "      <td>0</td>\n",
       "      <td>-</td>\n",
       "      <td>21946</td>\n",
       "    </tr>\n",
       "    <tr>\n",
       "      <th>4</th>\n",
       "      <td>chr3R</td>\n",
       "      <td>10264879</td>\n",
       "      <td>10291099</td>\n",
       "      <td>FBtr0305356_intron_0_0_chr3R_10264879_f</td>\n",
       "      <td>0</td>\n",
       "      <td>+</td>\n",
       "      <td>26221</td>\n",
       "    </tr>\n",
       "  </tbody>\n",
       "</table>\n",
       "</div>"
      ],
      "text/plain": [
       "     Chr     Start       End                                   ExonID  Score  \\\n",
       "0  chr3R  24555134  24555458  FBtr0084647_intron_7_0_chr3R_24555134_f      0   \n",
       "1  chr3R  16315247  16321962  FBtr0334699_intron_7_0_chr3R_16315247_r      0   \n",
       "2  chr3R   5385863   5392786   FBtr0078800_intron_9_0_chr3R_5385863_r      0   \n",
       "3  chr3R   8842840   8864785  FBtr0305301_intron_10_0_chr3R_8842840_r      0   \n",
       "4  chr3R  10264879  10291099  FBtr0305356_intron_0_0_chr3R_10264879_f      0   \n",
       "\n",
       "  Strand  Length  \n",
       "0      +     325  \n",
       "1      -    6716  \n",
       "2      -    6924  \n",
       "3      -   21946  \n",
       "4      +   26221  "
      ]
     },
     "execution_count": 64,
     "metadata": {},
     "output_type": "execute_result"
    }
   ],
   "source": [
    "introns.head()"
   ]
  },
  {
   "cell_type": "code",
   "execution_count": 68,
   "metadata": {},
   "outputs": [],
   "source": [
    "IDs = []\n",
    "for name in introns['ExonID'].values:\n",
    "    n = name.split('_')[0]\n",
    "    IDs.append(n)\n",
    "introns['Transcript_ID']=IDs"
   ]
  },
  {
   "cell_type": "code",
   "execution_count": 69,
   "metadata": {
    "scrolled": true
   },
   "outputs": [
    {
     "data": {
      "text/html": [
       "<div>\n",
       "<style scoped>\n",
       "    .dataframe tbody tr th:only-of-type {\n",
       "        vertical-align: middle;\n",
       "    }\n",
       "\n",
       "    .dataframe tbody tr th {\n",
       "        vertical-align: top;\n",
       "    }\n",
       "\n",
       "    .dataframe thead th {\n",
       "        text-align: right;\n",
       "    }\n",
       "</style>\n",
       "<table border=\"1\" class=\"dataframe\">\n",
       "  <thead>\n",
       "    <tr style=\"text-align: right;\">\n",
       "      <th></th>\n",
       "      <th>Chr</th>\n",
       "      <th>Start</th>\n",
       "      <th>End</th>\n",
       "      <th>ExonID</th>\n",
       "      <th>Score</th>\n",
       "      <th>Strand</th>\n",
       "      <th>Length</th>\n",
       "      <th>Transcript_ID</th>\n",
       "    </tr>\n",
       "  </thead>\n",
       "  <tbody>\n",
       "    <tr>\n",
       "      <th>0</th>\n",
       "      <td>chr3R</td>\n",
       "      <td>24555134</td>\n",
       "      <td>24555458</td>\n",
       "      <td>FBtr0084647_intron_7_0_chr3R_24555134_f</td>\n",
       "      <td>0</td>\n",
       "      <td>+</td>\n",
       "      <td>325</td>\n",
       "      <td>FBtr0084647</td>\n",
       "    </tr>\n",
       "    <tr>\n",
       "      <th>1</th>\n",
       "      <td>chr3R</td>\n",
       "      <td>16315247</td>\n",
       "      <td>16321962</td>\n",
       "      <td>FBtr0334699_intron_7_0_chr3R_16315247_r</td>\n",
       "      <td>0</td>\n",
       "      <td>-</td>\n",
       "      <td>6716</td>\n",
       "      <td>FBtr0334699</td>\n",
       "    </tr>\n",
       "    <tr>\n",
       "      <th>2</th>\n",
       "      <td>chr3R</td>\n",
       "      <td>5385863</td>\n",
       "      <td>5392786</td>\n",
       "      <td>FBtr0078800_intron_9_0_chr3R_5385863_r</td>\n",
       "      <td>0</td>\n",
       "      <td>-</td>\n",
       "      <td>6924</td>\n",
       "      <td>FBtr0078800</td>\n",
       "    </tr>\n",
       "    <tr>\n",
       "      <th>3</th>\n",
       "      <td>chr3R</td>\n",
       "      <td>8842840</td>\n",
       "      <td>8864785</td>\n",
       "      <td>FBtr0305301_intron_10_0_chr3R_8842840_r</td>\n",
       "      <td>0</td>\n",
       "      <td>-</td>\n",
       "      <td>21946</td>\n",
       "      <td>FBtr0305301</td>\n",
       "    </tr>\n",
       "    <tr>\n",
       "      <th>4</th>\n",
       "      <td>chr3R</td>\n",
       "      <td>10264879</td>\n",
       "      <td>10291099</td>\n",
       "      <td>FBtr0305356_intron_0_0_chr3R_10264879_f</td>\n",
       "      <td>0</td>\n",
       "      <td>+</td>\n",
       "      <td>26221</td>\n",
       "      <td>FBtr0305356</td>\n",
       "    </tr>\n",
       "  </tbody>\n",
       "</table>\n",
       "</div>"
      ],
      "text/plain": [
       "     Chr     Start       End                                   ExonID  Score  \\\n",
       "0  chr3R  24555134  24555458  FBtr0084647_intron_7_0_chr3R_24555134_f      0   \n",
       "1  chr3R  16315247  16321962  FBtr0334699_intron_7_0_chr3R_16315247_r      0   \n",
       "2  chr3R   5385863   5392786   FBtr0078800_intron_9_0_chr3R_5385863_r      0   \n",
       "3  chr3R   8842840   8864785  FBtr0305301_intron_10_0_chr3R_8842840_r      0   \n",
       "4  chr3R  10264879  10291099  FBtr0305356_intron_0_0_chr3R_10264879_f      0   \n",
       "\n",
       "  Strand  Length Transcript_ID  \n",
       "0      +     325   FBtr0084647  \n",
       "1      -    6716   FBtr0334699  \n",
       "2      -    6924   FBtr0078800  \n",
       "3      -   21946   FBtr0305301  \n",
       "4      +   26221   FBtr0305356  "
      ]
     },
     "execution_count": 69,
     "metadata": {},
     "output_type": "execute_result"
    }
   ],
   "source": [
    "introns.head()"
   ]
  },
  {
   "cell_type": "code",
   "execution_count": 70,
   "metadata": {},
   "outputs": [],
   "source": [
    "introns.to_csv('host_introns_only.bed',sep='\\t',index=False)"
   ]
  },
  {
   "cell_type": "code",
   "execution_count": 83,
   "metadata": {},
   "outputs": [],
   "source": [
    "host_seqs=[]\n",
    "for i in range(introns.shape[0]):\n",
    "    trans = introns['Transcript_ID'].values[i]\n",
    "    start = str(introns['Start'].values[i])\n",
    "    end = str(introns['End'].values[i])\n",
    "\n",
    "    for line in fasta:\n",
    "        if trans in line:\n",
    "            if start+'..'+end in line:  ##\"loc=(start..end)\"\n",
    "                seq = fasta[fasta.index(line)+1]\n",
    "                entry = [trans,seq]\n",
    "                host_seqs.append(entry)\n",
    "                break\n",
    "    else:\n",
    "        continue"
   ]
  },
  {
   "cell_type": "code",
   "execution_count": 84,
   "metadata": {
    "scrolled": false
   },
   "outputs": [
    {
     "data": {
      "text/plain": [
       "False"
      ]
     },
     "execution_count": 84,
     "metadata": {},
     "output_type": "execute_result"
    }
   ],
   "source": [
    "len(host_seqs)==introns.shape[0]"
   ]
  },
  {
   "cell_type": "code",
   "execution_count": 80,
   "metadata": {},
   "outputs": [
    {
     "data": {
      "text/plain": [
       "(131, 8)"
      ]
     },
     "execution_count": 80,
     "metadata": {},
     "output_type": "execute_result"
    }
   ],
   "source": [
    "introns.shape ##oh cuz the introns table have the extra pseudo threonine that I omiited"
   ]
  },
  {
   "cell_type": "code",
   "execution_count": 82,
   "metadata": {
    "scrolled": true
   },
   "outputs": [
    {
     "data": {
      "text/plain": [
       "66"
      ]
     },
     "execution_count": 82,
     "metadata": {},
     "output_type": "execute_result"
    }
   ],
   "source": [
    "len(introns['Transcript_ID'].unique())"
   ]
  },
  {
   "cell_type": "code",
   "execution_count": 88,
   "metadata": {},
   "outputs": [
    {
     "name": "stdout",
     "output_type": "stream",
     "text": [
      "FBtr0331824\n"
     ]
    }
   ],
   "source": [
    "for i in introns['Transcript_ID'].values:\n",
    "    if i not in merged['Host_Exon_ID'].values:\n",
    "        print(i)"
   ]
  },
  {
   "cell_type": "code",
   "execution_count": 85,
   "metadata": {
    "scrolled": true
   },
   "outputs": [
    {
     "data": {
      "text/plain": [
       "130"
      ]
     },
     "execution_count": 85,
     "metadata": {},
     "output_type": "execute_result"
    }
   ],
   "source": [
    "len(host_seqs)"
   ]
  },
  {
   "cell_type": "code",
   "execution_count": 87,
   "metadata": {
    "scrolled": true
   },
   "outputs": [
    {
     "data": {
      "text/plain": [
       "['FBtr0084647',\n",
       " 'GTGAGTTCAGTTTTCCACAACTCAACGATAAACTTGCAGAATTACGTAGAATGTGACTATAGAGAATCTCATAAAAAGTTACAAAGATAGGTCCTTTCAGAACCATACAGAAACTAACTACGACCACATCCTCTATAAGAATTAGTTTTTGCTCGAATATTTTCAACGTCCTCGATAGTATAGTGGTTAGTATCCCCGCCTGTCACGCGGGAGACCGGGGTTCAATTCCCCGTCGGGGAGAATCTGTGATTCTTTTTTTTTTTCTTTTACTTTGTTATATAAACAATTTTTGTTTTAATTGAATCTAATTTGCCATTGCTTTTAG']"
      ]
     },
     "execution_count": 87,
     "metadata": {},
     "output_type": "execute_result"
    }
   ],
   "source": [
    "host_seqs[0]"
   ]
  },
  {
   "cell_type": "code",
   "execution_count": 89,
   "metadata": {},
   "outputs": [
    {
     "data": {
      "text/plain": [
       "(130, 8)"
      ]
     },
     "execution_count": 89,
     "metadata": {},
     "output_type": "execute_result"
    }
   ],
   "source": [
    "introns = introns[introns['Transcript_ID']!='FBtr0331824']\n",
    "introns.shape"
   ]
  },
  {
   "cell_type": "code",
   "execution_count": 91,
   "metadata": {
    "scrolled": true
   },
   "outputs": [
    {
     "data": {
      "text/html": [
       "<div>\n",
       "<style scoped>\n",
       "    .dataframe tbody tr th:only-of-type {\n",
       "        vertical-align: middle;\n",
       "    }\n",
       "\n",
       "    .dataframe tbody tr th {\n",
       "        vertical-align: top;\n",
       "    }\n",
       "\n",
       "    .dataframe thead th {\n",
       "        text-align: right;\n",
       "    }\n",
       "</style>\n",
       "<table border=\"1\" class=\"dataframe\">\n",
       "  <thead>\n",
       "    <tr style=\"text-align: right;\">\n",
       "      <th></th>\n",
       "      <th>Transcript_ID</th>\n",
       "      <th>Sequence</th>\n",
       "    </tr>\n",
       "  </thead>\n",
       "  <tbody>\n",
       "    <tr>\n",
       "      <th>0</th>\n",
       "      <td>FBtr0084647</td>\n",
       "      <td>GTGAGTTCAGTTTTCCACAACTCAACGATAAACTTGCAGAATTACG...</td>\n",
       "    </tr>\n",
       "    <tr>\n",
       "      <th>1</th>\n",
       "      <td>FBtr0334699</td>\n",
       "      <td>GTAGGTGCGAGTCCAGGACGAAGATTCTGGCATGCCGCTGATCTAG...</td>\n",
       "    </tr>\n",
       "    <tr>\n",
       "      <th>2</th>\n",
       "      <td>FBtr0078800</td>\n",
       "      <td>GTACGTGCGCGCATGCGTGTGTGTCTGTGTGTGGGCAAATGCGAGC...</td>\n",
       "    </tr>\n",
       "    <tr>\n",
       "      <th>3</th>\n",
       "      <td>FBtr0305301</td>\n",
       "      <td>GTAAGTACAATGATTTATGCAAAGAAAATATACGTATTTCCATGGA...</td>\n",
       "    </tr>\n",
       "    <tr>\n",
       "      <th>4</th>\n",
       "      <td>FBtr0305356</td>\n",
       "      <td>GTAAGTGCGTGTAATGCGTGTACGTGTGTGTGTGTGTATGGGTCTG...</td>\n",
       "    </tr>\n",
       "  </tbody>\n",
       "</table>\n",
       "</div>"
      ],
      "text/plain": [
       "  Transcript_ID                                           Sequence\n",
       "0   FBtr0084647  GTGAGTTCAGTTTTCCACAACTCAACGATAAACTTGCAGAATTACG...\n",
       "1   FBtr0334699  GTAGGTGCGAGTCCAGGACGAAGATTCTGGCATGCCGCTGATCTAG...\n",
       "2   FBtr0078800  GTACGTGCGCGCATGCGTGTGTGTCTGTGTGTGGGCAAATGCGAGC...\n",
       "3   FBtr0305301  GTAAGTACAATGATTTATGCAAAGAAAATATACGTATTTCCATGGA...\n",
       "4   FBtr0305356  GTAAGTGCGTGTAATGCGTGTACGTGTGTGTGTGTGTATGGGTCTG..."
      ]
     },
     "execution_count": 91,
     "metadata": {},
     "output_type": "execute_result"
    }
   ],
   "source": [
    "d = pd.DataFrame(host_seqs) ##add teh sequences to the tables\n",
    "d.columns=['Transcript_ID', 'Sequence']\n",
    "d.head()"
   ]
  },
  {
   "cell_type": "code",
   "execution_count": 93,
   "metadata": {
    "collapsed": true
   },
   "outputs": [
    {
     "data": {
      "text/plain": [
       "array([False, False, False, False, False, False, False, False, False,\n",
       "       False, False, False, False, False, False, False, False, False,\n",
       "       False, False, False, False, False, False, False, False, False,\n",
       "       False, False, False, False, False, False, False, False, False,\n",
       "       False, False, False, False, False, False, False, False, False,\n",
       "       False, False, False, False, False, False, False, False, False,\n",
       "       False, False, False, False, False, False, False, False, False,\n",
       "       False, False, False, False, False, False, False, False, False,\n",
       "       False, False, False, False, False, False, False, False, False,\n",
       "       False, False, False, False, False, False, False, False, False,\n",
       "       False, False, False, False, False, False, False, False, False,\n",
       "       False, False, False, False, False, False, False, False, False,\n",
       "       False, False, False, False, False, False, False, False, False,\n",
       "       False, False, False, False, False, False, False, False, False,\n",
       "       False, False, False, False])"
      ]
     },
     "execution_count": 93,
     "metadata": {},
     "output_type": "execute_result"
    }
   ],
   "source": [
    "merged['Host_Exon_ID'].values==d['Transcript_ID'].values  ##should sort by IDs"
   ]
  },
  {
   "cell_type": "code",
   "execution_count": 96,
   "metadata": {
    "scrolled": true
   },
   "outputs": [],
   "source": [
    "merged.sort_values(by='Host_Exon_ID',inplace=True)"
   ]
  },
  {
   "cell_type": "code",
   "execution_count": 97,
   "metadata": {
    "scrolled": true
   },
   "outputs": [],
   "source": [
    "d.sort_values(by='Transcript_ID',inplace =True)"
   ]
  },
  {
   "cell_type": "code",
   "execution_count": 98,
   "metadata": {
    "scrolled": true
   },
   "outputs": [
    {
     "data": {
      "text/plain": [
       "array([ True,  True,  True,  True,  True,  True,  True,  True,  True,\n",
       "        True,  True,  True,  True,  True,  True,  True,  True,  True,\n",
       "        True,  True,  True,  True,  True,  True,  True,  True,  True,\n",
       "        True,  True,  True,  True,  True,  True,  True,  True,  True,\n",
       "        True,  True,  True,  True,  True,  True,  True,  True,  True,\n",
       "        True,  True,  True,  True,  True,  True,  True,  True,  True,\n",
       "        True,  True,  True,  True,  True,  True,  True,  True,  True,\n",
       "        True,  True,  True,  True,  True,  True,  True,  True,  True,\n",
       "        True,  True,  True,  True,  True,  True,  True,  True,  True,\n",
       "        True,  True,  True,  True,  True,  True,  True,  True,  True,\n",
       "        True,  True,  True,  True,  True,  True,  True,  True,  True,\n",
       "        True,  True,  True,  True,  True,  True,  True,  True,  True,\n",
       "        True,  True,  True,  True,  True,  True,  True,  True,  True,\n",
       "        True,  True,  True,  True,  True,  True,  True,  True,  True,\n",
       "        True,  True,  True,  True])"
      ]
     },
     "execution_count": 98,
     "metadata": {},
     "output_type": "execute_result"
    }
   ],
   "source": [
    "merged['Host_Exon_ID'].values==d['Transcript_ID'].values ##good"
   ]
  },
  {
   "cell_type": "code",
   "execution_count": 99,
   "metadata": {
    "scrolled": false
   },
   "outputs": [
    {
     "data": {
      "text/html": [
       "<div>\n",
       "<style scoped>\n",
       "    .dataframe tbody tr th:only-of-type {\n",
       "        vertical-align: middle;\n",
       "    }\n",
       "\n",
       "    .dataframe tbody tr th {\n",
       "        vertical-align: top;\n",
       "    }\n",
       "\n",
       "    .dataframe thead th {\n",
       "        text-align: right;\n",
       "    }\n",
       "</style>\n",
       "<table border=\"1\" class=\"dataframe\">\n",
       "  <thead>\n",
       "    <tr style=\"text-align: right;\">\n",
       "      <th></th>\n",
       "      <th>Chrom</th>\n",
       "      <th>Start</th>\n",
       "      <th>End</th>\n",
       "      <th>Strand</th>\n",
       "      <th>tRNA_ID</th>\n",
       "      <th>tRNA_name</th>\n",
       "      <th>Host_Exon_ID</th>\n",
       "      <th>intron_length</th>\n",
       "      <th>mRNA_length</th>\n",
       "      <th>Host_gene_name</th>\n",
       "      <th>Host_Gene_Strand</th>\n",
       "      <th>Co-orientation</th>\n",
       "      <th>Intron_Sequence</th>\n",
       "    </tr>\n",
       "  </thead>\n",
       "  <tbody>\n",
       "    <tr>\n",
       "      <th>129</th>\n",
       "      <td>2R</td>\n",
       "      <td>21181284</td>\n",
       "      <td>21181355</td>\n",
       "      <td>+</td>\n",
       "      <td>FBgn0053539</td>\n",
       "      <td>Trp-CCA-2-5-</td>\n",
       "      <td>FBtr0071578</td>\n",
       "      <td>3816</td>\n",
       "      <td>1625</td>\n",
       "      <td>Pu</td>\n",
       "      <td>+</td>\n",
       "      <td>Yes</td>\n",
       "      <td>GTAAGCACACCACACATTTCAAGCAATTAGCACCGGGTCAGTGATC...</td>\n",
       "    </tr>\n",
       "    <tr>\n",
       "      <th>106</th>\n",
       "      <td>3L</td>\n",
       "      <td>3096891</td>\n",
       "      <td>3096963</td>\n",
       "      <td>-</td>\n",
       "      <td>FBgn0052272</td>\n",
       "      <td>Lys-CTT-1-13-</td>\n",
       "      <td>FBtr0073124</td>\n",
       "      <td>2776</td>\n",
       "      <td>3953</td>\n",
       "      <td>Cht7</td>\n",
       "      <td>-</td>\n",
       "      <td>Yes</td>\n",
       "      <td>GTAAGTAAAAAATGTAAAAAGAAATTAAACATGAACAAGTAATTGG...</td>\n",
       "    </tr>\n",
       "    <tr>\n",
       "      <th>108</th>\n",
       "      <td>3L</td>\n",
       "      <td>3097519</td>\n",
       "      <td>3097590</td>\n",
       "      <td>+</td>\n",
       "      <td>FBgn0052286</td>\n",
       "      <td>Cys-GCA-1-4-</td>\n",
       "      <td>FBtr0073124</td>\n",
       "      <td>2776</td>\n",
       "      <td>3953</td>\n",
       "      <td>Cht7</td>\n",
       "      <td>-</td>\n",
       "      <td>No</td>\n",
       "      <td>GTAAGTAAAAAATGTAAAAAGAAATTAAACATGAACAAGTAATTGG...</td>\n",
       "    </tr>\n",
       "    <tr>\n",
       "      <th>109</th>\n",
       "      <td>3L</td>\n",
       "      <td>3096369</td>\n",
       "      <td>3096440</td>\n",
       "      <td>+</td>\n",
       "      <td>FBgn0052287</td>\n",
       "      <td>Cys-GCA-1-3-</td>\n",
       "      <td>FBtr0073124</td>\n",
       "      <td>2776</td>\n",
       "      <td>3953</td>\n",
       "      <td>Cht7</td>\n",
       "      <td>-</td>\n",
       "      <td>No</td>\n",
       "      <td>GTAAGTAAAAAATGTAAAAAGAAATTAAACATGAACAAGTAATTGG...</td>\n",
       "    </tr>\n",
       "    <tr>\n",
       "      <th>110</th>\n",
       "      <td>3L</td>\n",
       "      <td>3095737</td>\n",
       "      <td>3095808</td>\n",
       "      <td>+</td>\n",
       "      <td>FBgn0052288</td>\n",
       "      <td>Cys-GCA-1-1-</td>\n",
       "      <td>FBtr0073124</td>\n",
       "      <td>2776</td>\n",
       "      <td>3953</td>\n",
       "      <td>Cht7</td>\n",
       "      <td>-</td>\n",
       "      <td>No</td>\n",
       "      <td>GTAAGTAAAAAATGTAAAAAGAAATTAAACATGAACAAGTAATTGG...</td>\n",
       "    </tr>\n",
       "  </tbody>\n",
       "</table>\n",
       "</div>"
      ],
      "text/plain": [
       "    Chrom     Start       End Strand      tRNA_ID      tRNA_name Host_Exon_ID  \\\n",
       "129    2R  21181284  21181355      +  FBgn0053539   Trp-CCA-2-5-  FBtr0071578   \n",
       "106    3L   3096891   3096963      -  FBgn0052272  Lys-CTT-1-13-  FBtr0073124   \n",
       "108    3L   3097519   3097590      +  FBgn0052286   Cys-GCA-1-4-  FBtr0073124   \n",
       "109    3L   3096369   3096440      +  FBgn0052287   Cys-GCA-1-3-  FBtr0073124   \n",
       "110    3L   3095737   3095808      +  FBgn0052288   Cys-GCA-1-1-  FBtr0073124   \n",
       "\n",
       "     intron_length  mRNA_length Host_gene_name Host_Gene_Strand  \\\n",
       "129           3816         1625             Pu                +   \n",
       "106           2776         3953           Cht7                -   \n",
       "108           2776         3953           Cht7                -   \n",
       "109           2776         3953           Cht7                -   \n",
       "110           2776         3953           Cht7                -   \n",
       "\n",
       "    Co-orientation                                    Intron_Sequence  \n",
       "129            Yes  GTAAGCACACCACACATTTCAAGCAATTAGCACCGGGTCAGTGATC...  \n",
       "106            Yes  GTAAGTAAAAAATGTAAAAAGAAATTAAACATGAACAAGTAATTGG...  \n",
       "108             No  GTAAGTAAAAAATGTAAAAAGAAATTAAACATGAACAAGTAATTGG...  \n",
       "109             No  GTAAGTAAAAAATGTAAAAAGAAATTAAACATGAACAAGTAATTGG...  \n",
       "110             No  GTAAGTAAAAAATGTAAAAAGAAATTAAACATGAACAAGTAATTGG...  "
      ]
     },
     "execution_count": 99,
     "metadata": {},
     "output_type": "execute_result"
    }
   ],
   "source": [
    "merged['Intron_Sequence']=d['Sequence'].values\n",
    "merged.head()"
   ]
  },
  {
   "cell_type": "code",
   "execution_count": 101,
   "metadata": {},
   "outputs": [
    {
     "data": {
      "text/html": [
       "<div>\n",
       "<style scoped>\n",
       "    .dataframe tbody tr th:only-of-type {\n",
       "        vertical-align: middle;\n",
       "    }\n",
       "\n",
       "    .dataframe tbody tr th {\n",
       "        vertical-align: top;\n",
       "    }\n",
       "\n",
       "    .dataframe thead th {\n",
       "        text-align: right;\n",
       "    }\n",
       "</style>\n",
       "<table border=\"1\" class=\"dataframe\">\n",
       "  <thead>\n",
       "    <tr style=\"text-align: right;\">\n",
       "      <th></th>\n",
       "      <th>Transcript_ID</th>\n",
       "      <th>Sequence</th>\n",
       "    </tr>\n",
       "  </thead>\n",
       "  <tbody>\n",
       "    <tr>\n",
       "      <th>102</th>\n",
       "      <td>FBtr0071578</td>\n",
       "      <td>GTAAGCACACCACACATTTCAAGCAATTAGCACCGGGTCAGTGATC...</td>\n",
       "    </tr>\n",
       "    <tr>\n",
       "      <th>40</th>\n",
       "      <td>FBtr0073124</td>\n",
       "      <td>GTAAGTAAAAAATGTAAAAAGAAATTAAACATGAACAAGTAATTGG...</td>\n",
       "    </tr>\n",
       "    <tr>\n",
       "      <th>39</th>\n",
       "      <td>FBtr0073124</td>\n",
       "      <td>GTAAGTAAAAAATGTAAAAAGAAATTAAACATGAACAAGTAATTGG...</td>\n",
       "    </tr>\n",
       "    <tr>\n",
       "      <th>42</th>\n",
       "      <td>FBtr0073124</td>\n",
       "      <td>GTAAGTAAAAAATGTAAAAAGAAATTAAACATGAACAAGTAATTGG...</td>\n",
       "    </tr>\n",
       "    <tr>\n",
       "      <th>36</th>\n",
       "      <td>FBtr0073124</td>\n",
       "      <td>GTAAGTAAAAAATGTAAAAAGAAATTAAACATGAACAAGTAATTGG...</td>\n",
       "    </tr>\n",
       "  </tbody>\n",
       "</table>\n",
       "</div>"
      ],
      "text/plain": [
       "    Transcript_ID                                           Sequence\n",
       "102   FBtr0071578  GTAAGCACACCACACATTTCAAGCAATTAGCACCGGGTCAGTGATC...\n",
       "40    FBtr0073124  GTAAGTAAAAAATGTAAAAAGAAATTAAACATGAACAAGTAATTGG...\n",
       "39    FBtr0073124  GTAAGTAAAAAATGTAAAAAGAAATTAAACATGAACAAGTAATTGG...\n",
       "42    FBtr0073124  GTAAGTAAAAAATGTAAAAAGAAATTAAACATGAACAAGTAATTGG...\n",
       "36    FBtr0073124  GTAAGTAAAAAATGTAAAAAGAAATTAAACATGAACAAGTAATTGG..."
      ]
     },
     "execution_count": 101,
     "metadata": {},
     "output_type": "execute_result"
    }
   ],
   "source": [
    "d.head()"
   ]
  },
  {
   "cell_type": "code",
   "execution_count": 102,
   "metadata": {
    "scrolled": true
   },
   "outputs": [
    {
     "data": {
      "text/html": [
       "<div>\n",
       "<style scoped>\n",
       "    .dataframe tbody tr th:only-of-type {\n",
       "        vertical-align: middle;\n",
       "    }\n",
       "\n",
       "    .dataframe tbody tr th {\n",
       "        vertical-align: top;\n",
       "    }\n",
       "\n",
       "    .dataframe thead th {\n",
       "        text-align: right;\n",
       "    }\n",
       "</style>\n",
       "<table border=\"1\" class=\"dataframe\">\n",
       "  <thead>\n",
       "    <tr style=\"text-align: right;\">\n",
       "      <th></th>\n",
       "      <th>Chr</th>\n",
       "      <th>Start</th>\n",
       "      <th>End</th>\n",
       "      <th>ExonID</th>\n",
       "      <th>Score</th>\n",
       "      <th>Strand</th>\n",
       "      <th>Length</th>\n",
       "      <th>Transcript_ID</th>\n",
       "      <th>Sequence</th>\n",
       "    </tr>\n",
       "  </thead>\n",
       "  <tbody>\n",
       "    <tr>\n",
       "      <th>103</th>\n",
       "      <td>chr2R</td>\n",
       "      <td>21180148</td>\n",
       "      <td>21181419</td>\n",
       "      <td>FBtr0071578_intron_1_0_chr2R_21180148_f</td>\n",
       "      <td>0</td>\n",
       "      <td>+</td>\n",
       "      <td>1272</td>\n",
       "      <td>FBtr0071578</td>\n",
       "      <td>GTAAGCACACCACACATTTCAAGCAATTAGCACCGGGTCAGTGATC...</td>\n",
       "    </tr>\n",
       "    <tr>\n",
       "      <th>41</th>\n",
       "      <td>chr3L</td>\n",
       "      <td>3094887</td>\n",
       "      <td>3097662</td>\n",
       "      <td>FBtr0073124_intron_5_0_chr3L_3094887_r</td>\n",
       "      <td>0</td>\n",
       "      <td>-</td>\n",
       "      <td>2776</td>\n",
       "      <td>FBtr0073124</td>\n",
       "      <td>GTAAGTAAAAAATGTAAAAAGAAATTAAACATGAACAAGTAATTGG...</td>\n",
       "    </tr>\n",
       "    <tr>\n",
       "      <th>40</th>\n",
       "      <td>chr3L</td>\n",
       "      <td>3094887</td>\n",
       "      <td>3097662</td>\n",
       "      <td>FBtr0073124_intron_5_0_chr3L_3094887_r</td>\n",
       "      <td>0</td>\n",
       "      <td>-</td>\n",
       "      <td>2776</td>\n",
       "      <td>FBtr0073124</td>\n",
       "      <td>GTAAGTAAAAAATGTAAAAAGAAATTAAACATGAACAAGTAATTGG...</td>\n",
       "    </tr>\n",
       "    <tr>\n",
       "      <th>43</th>\n",
       "      <td>chr3L</td>\n",
       "      <td>3094887</td>\n",
       "      <td>3097662</td>\n",
       "      <td>FBtr0073124_intron_5_0_chr3L_3094887_r</td>\n",
       "      <td>0</td>\n",
       "      <td>-</td>\n",
       "      <td>2776</td>\n",
       "      <td>FBtr0073124</td>\n",
       "      <td>GTAAGTAAAAAATGTAAAAAGAAATTAAACATGAACAAGTAATTGG...</td>\n",
       "    </tr>\n",
       "    <tr>\n",
       "      <th>37</th>\n",
       "      <td>chr3L</td>\n",
       "      <td>3094887</td>\n",
       "      <td>3097662</td>\n",
       "      <td>FBtr0073124_intron_5_0_chr3L_3094887_r</td>\n",
       "      <td>0</td>\n",
       "      <td>-</td>\n",
       "      <td>2776</td>\n",
       "      <td>FBtr0073124</td>\n",
       "      <td>GTAAGTAAAAAATGTAAAAAGAAATTAAACATGAACAAGTAATTGG...</td>\n",
       "    </tr>\n",
       "  </tbody>\n",
       "</table>\n",
       "</div>"
      ],
      "text/plain": [
       "       Chr     Start       End                                   ExonID  \\\n",
       "103  chr2R  21180148  21181419  FBtr0071578_intron_1_0_chr2R_21180148_f   \n",
       "41   chr3L   3094887   3097662   FBtr0073124_intron_5_0_chr3L_3094887_r   \n",
       "40   chr3L   3094887   3097662   FBtr0073124_intron_5_0_chr3L_3094887_r   \n",
       "43   chr3L   3094887   3097662   FBtr0073124_intron_5_0_chr3L_3094887_r   \n",
       "37   chr3L   3094887   3097662   FBtr0073124_intron_5_0_chr3L_3094887_r   \n",
       "\n",
       "     Score Strand  Length Transcript_ID  \\\n",
       "103      0      +    1272   FBtr0071578   \n",
       "41       0      -    2776   FBtr0073124   \n",
       "40       0      -    2776   FBtr0073124   \n",
       "43       0      -    2776   FBtr0073124   \n",
       "37       0      -    2776   FBtr0073124   \n",
       "\n",
       "                                              Sequence  \n",
       "103  GTAAGCACACCACACATTTCAAGCAATTAGCACCGGGTCAGTGATC...  \n",
       "41   GTAAGTAAAAAATGTAAAAAGAAATTAAACATGAACAAGTAATTGG...  \n",
       "40   GTAAGTAAAAAATGTAAAAAGAAATTAAACATGAACAAGTAATTGG...  \n",
       "43   GTAAGTAAAAAATGTAAAAAGAAATTAAACATGAACAAGTAATTGG...  \n",
       "37   GTAAGTAAAAAATGTAAAAAGAAATTAAACATGAACAAGTAATTGG...  "
      ]
     },
     "execution_count": 102,
     "metadata": {},
     "output_type": "execute_result"
    }
   ],
   "source": [
    "introns = introns.sort_values(by='Transcript_ID')\n",
    "introns['Sequence']=d['Sequence'].values\n",
    "introns.head()"
   ]
  },
  {
   "cell_type": "code",
   "execution_count": 104,
   "metadata": {},
   "outputs": [],
   "source": [
    "##save updated tables\n",
    "merged.to_csv('trna_host_genes_merged.csv', sep=',',index=False)#only nested trnas \n",
    "introns.to_csv('host_introns_only_V2.bed',sep=',',index=False) ##custom bed wirh host intron IDs"
   ]
  },
  {
   "cell_type": "markdown",
   "metadata": {},
   "source": [
    "# Obtain and compare other introns to host"
   ]
  },
  {
   "cell_type": "code",
   "execution_count": 2,
   "metadata": {},
   "outputs": [],
   "source": [
    "merged = pd.read_table('trna_host_genes_merged.csv', sep=',')#only nested trnas \n",
    "fb_trna=pd.read_table('complete_trna_info.csv',sep=',')  #all flybase trnas\n",
    "introns = pd.read_table('host_introns_only_V2.bed',sep=',') ##custom bed wirh host intron IDs"
   ]
  },
  {
   "cell_type": "code",
   "execution_count": 3,
   "metadata": {
    "scrolled": true
   },
   "outputs": [
    {
     "data": {
      "text/plain": [
       "['>FBgn0026189_intron_FBgn0026189:16_FBgn0026189:15 type=intron; loc=3L:complement(3120401..3120458); parent=FBgn0026189,FBtr0073118,FBtr0073119,FBtr0073120,FBtr0306258,FBtr0333895,FBtr0337055,FBtr0337056; MD5=c536164cef683e0c151f65a1466d8481; release=r6.28; species=Dmel; length=58;',\n",
       " 'GTGAGTTTTGAGACCATTGATTCAATTAACGTAGATAACCAATATTTGTTCACCACAG']"
      ]
     },
     "execution_count": 3,
     "metadata": {},
     "output_type": "execute_result"
    }
   ],
   "source": [
    "fasta=[]\n",
    "with open('host_transc_introns_V2.fasta', 'r') as f:  ##all introns of host genes\n",
    "    for line in f:\n",
    "        fasta.append(line.rstrip())\n",
    "fasta[:2]"
   ]
  },
  {
   "cell_type": "code",
   "execution_count": 5,
   "metadata": {
    "collapsed": true
   },
   "outputs": [
    {
     "name": "stdout",
     "output_type": "stream",
     "text": [
      ">FBgn0266758_intron_FBgn0039208:1_FBgn0039208:5 type=intron; loc=3R:24545070..24551328; parent=FBgn0266758,FBtr0084647; MD5=f0732e3bb7ef2d85dbb440aebea55e42; release=r6.28; species=Dmel; length=6259;\n",
      ">FBgn0266758_intron_FBgn0039208:5_FBgn0039208:6 type=intron; loc=3R:24551813..24551873; parent=FBgn0266758,FBtr0084647,FBtr0084648,FBtr0306024,FBtr0334336; MD5=4f26a9e5b5e62d3787df638164f532db; release=r6.28; species=Dmel; length=61;\n",
      ">FBgn0266758_intron_FBgn0039208:14_FBgn0039208:16 type=intron; loc=3R:24555963..24556235; parent=FBgn0266758,FBtr0084647,FBtr0084648,FBtr0306024; MD5=7c37b86b3d4c8d131a2d629938ec6d55; release=r6.28; species=Dmel; length=273;\n",
      ">FBgn0266758_intron_FBgn0039208:8_FBgn0039208:11 type=intron; loc=3R:24552984..24554355; parent=FBgn0266758,FBtr0084647,FBtr0084648; MD5=8ea9b36726c7f75ecd75d36ea91a86e7; release=r6.28; species=Dmel; length=1372;\n",
      ">FBgn0266758_intron_FBgn0039208:11_FBgn0039208:12 type=intron; loc=3R:24554405..24554464; parent=FBgn0266758,FBtr0084647,FBtr0084648,FBtr0306024,FBtr0334336; MD5=cca328e3d6bc5e6f13a1423e1d701072; release=r6.28; species=Dmel; length=60;\n",
      ">FBgn0266758_intron_FBgn0039208:12_FBgn0039208:13 type=intron; loc=3R:24554642..24554701; parent=FBgn0266758,FBtr0084647,FBtr0084648,FBtr0306024,FBtr0334336; MD5=35482c748df05479f323f02d97e2ac6f; release=r6.28; species=Dmel; length=60;\n",
      ">FBgn0266758_intron_FBgn0039208:13_FBgn0039208:14 type=intron; loc=3R:24555134..24555458; parent=FBgn0266758,FBtr0084647,FBtr0084648,FBtr0306024; MD5=eb2c05e3e6b2eb5a6973667d53743ba3; release=r6.28; species=Dmel; length=325;\n",
      ">FBgn0266758_intron_FBgn0039208:7_FBgn0039208:8 type=intron; loc=3R:24552657..24552897; parent=FBgn0266758,FBtr0084647,FBtr0084648; MD5=9be23ab9b452e7f3c25c1b2e8ed816c2; release=r6.28; species=Dmel; length=241;\n",
      ">FBgn0266758_intron_FBgn0039208:6_FBgn0039208:7 type=intron; loc=3R:24552426..24552485; parent=FBgn0266758,FBtr0084647,FBtr0084648,FBtr0306024,FBtr0334336; MD5=107b6e66b9c2d9556a77f4afeb76f783; release=r6.28; species=Dmel; length=60;\n"
     ]
    }
   ],
   "source": [
    "for line in fasta:\n",
    "    if 'FBtr0084647'in line:\n",
    "        print(line)"
   ]
  },
  {
   "cell_type": "code",
   "execution_count": null,
   "metadata": {},
   "outputs": [],
   "source": [
    "#number of introns, lengths, composition"
   ]
  },
  {
   "cell_type": "code",
   "execution_count": 13,
   "metadata": {},
   "outputs": [],
   "source": [
    "def base_comp(seqs,base):\n",
    "    \"\"\"computes base/nucleotide composition\n",
    "    Input: \n",
    "    seqs: array or list of sequences\n",
    "    base: char, nucleotide A,C,G, or T\n",
    "    Output: returns list of base compoisiton\"\"\"\n",
    "    content = []\n",
    "    for seq in seqs:\n",
    "        fraction = seq.upper().replace('U','T').count(base.upper())/len(seq)  ##replace U with T\n",
    "        content.append(fraction)\n",
    "    assert len(content) == len(seqs)\n",
    "    return content"
   ]
  },
  {
   "cell_type": "code",
   "execution_count": null,
   "metadata": {},
   "outputs": [],
   "source": [
    "bases = ['A','G','C','T']"
   ]
  },
  {
   "cell_type": "code",
   "execution_count": 9,
   "metadata": {},
   "outputs": [],
   "source": [
    "##extract all intronic sequecnes execpt host intron for parent gene\n",
    "non_hosts = []\n",
    "for i in range(introns.shape[0]):\n",
    "    trans = introns['Transcript_ID'].values[i]\n",
    "    start = str(introns['Start'].values[i])\n",
    "    end = str(introns['End'].values[i])\n",
    "    c = 0\n",
    "    entry=[trans]\n",
    "    seqs=[]\n",
    "    for line in fasta:\n",
    "        if trans in line:\n",
    "            c+=1  ##counting number of introns\n",
    "            if start+'..'+end in line:  ##\"loc=(start..end)\" skipover host intron information\n",
    "                continue\n",
    "            else:\n",
    "                s = fasta[fasta.index(line)+1]\n",
    "                seqs.append(s)     \n",
    "    entry.append(c)\n",
    "    entry.append(seqs) \n",
    "    non_hosts.append(entry)\n",
    "    continue\n",
    "##pretty fast"
   ]
  },
  {
   "cell_type": "code",
   "execution_count": 10,
   "metadata": {},
   "outputs": [
    {
     "data": {
      "text/plain": [
       "130"
      ]
     },
     "execution_count": 10,
     "metadata": {},
     "output_type": "execute_result"
    }
   ],
   "source": [
    "len(non_hosts)"
   ]
  },
  {
   "cell_type": "code",
   "execution_count": 12,
   "metadata": {
    "collapsed": true
   },
   "outputs": [
    {
     "data": {
      "text/plain": [
       "['FBtr0073124',\n",
       " 7,\n",
       " ['GTGAGTTGGGACAACTACTCAATAAGTCGTGGATAACGCGTTACTTACACAATTCGTTCTTCATCAACAG',\n",
       "  'GTGAGTGTCAATATATGCCGATATGAAAAGTTCAATCTATAAATTCTTCCCCAACTTTCTTCAG',\n",
       "  'GTAAGTTGCTAGAACGGCTTAGCCATGGAACTTTGAATATATACCCATCATTTTGATCAG',\n",
       "  'GTGAGTGCAAATGTGTGTCAGAGGCATGGAGCTATGGAAATTATCATATCCACAACAGACCCCAACACAGCCCCCTTGGGTTGCCAGAACCAAAAGCATGCCAAAGAATATTGAAAGTCCGTTGACGCAACGGAAAAACGAATGTTAAACAGCAGAAACTCCATGGCAGTTGGAGAACGTAAACTAAGAATGCACAGCGAAAAAAACAAGACAATGCTGCATAAACATAACATAAAACAATGATAGGCAGAAAACAATCAAAGAAATATTATAGACAATTCCAAGATATTTTAGAAAACACTTGATTGTTATTCTTGTTATGCTAATTGTTAAGTTTGCTTTAATTAACCAGCTAACACGTTCTCCGCACAGCTAGGAAATCGTTCAAAATTCTTTTCCTGTGTAAGACTTTATCGCTGAATGGCTGAGTGTGAGAAAAAGCAACAGCAACAACGACAACGGGTTCTGTACCGCTACTGACCGACCGAAGTTGAAGGCGAACTTGTCAAAGACAATGAATAAAATGAGCGCTGAGGGGCTAAACAAAAAAAAAAAATAAATAAAAAAAAGAGTGTAAAGTGGGGGGCTAGAAGTTGGTGGGGGGTTTCAGTTTCGCTTTCGTAGCTGAAAGCCCGTCCGAGAAAAGGGGAAAATGTCCGTAGTCGCAGTCTTCAATTGGCCAATTGGCAACGGCTTTTACTTCCTCGGCCGTTTGAGGCGAAAAGCGAAAAACGAAAAGCCAGCTAGCCGAAAGATTTCCATTATGGCCGCAGCAGGCGGCACGCCTCAATTTGCCAGCAAAATCAGCGGTATAGGCAGCAAGTAAAAGTTGCACAGGCGCACAACAATGGCAAAAACAATAACTAGTTTTGTTTTACAACAATTAATATTTGCAAAGGAAAAAATAAAAAGAAAAAATACCTATAACTCGCCGCTGTCGATTGGCAAATAGTTGGCAAAGCAAAGCAACATAAAAAAAAACTGGTCTCAAAAAAGGAAAACTGCAAAAATTTGGTTCGAAACGGAGTCTCGAAAACAGTGGAAAAGCAAAAGGCAATCGGAGAGTCCAAATCAAATGCGAACTCTGCTGGCTTTATAAATTAAACATTTTATTTTATGGTCTTTCGCTAGCCGCACAATGCAACCGATCGGACATACGAGCTCCATTATATTTCTGTGAACGAGCGTATAATGTGGAGCAGGTCGAAATTTAAGCATTTCGAAAATGAAAACGAAAAACGAAAAACAATAAGAAATGCTAATTGCCCAAGTTTTCATTGTCTCCGTGATAGGTTTTCGCATTAGTTATGGCACTGAAAATATACATTTTATGTGCTAAGAAATGTTTCCCAATGGAAAAATATCAAACGGTCTCCAAAAACTAACTAGCTTCTTAAGACAATTTAAACTGCTTAATTCGAGCTTTTTCCTAATTATAATTATCATTTATGGCAATATTCATCAAGTCTTTCGCTTTTTATAATTACCAAAACATTTATGTAATGTGGAGCAGGTCAAAACTAAATCGCTTGAAAGAAAGAAAACTCGAAAATGTTAATTGCCAGCCGGGCCAAAGTTTTCATTGCCTCTGTGCACTTTCGCGGCATTTTGGCGTTAGTTAATAACTCTCTTTCGTGCCGCCCCTTTTCTTGTTGCCACGCCCATCGACTTGACACGCGCTATTGACAGCAGTGACTGACATGTGCAGTAAGTTGGAAATGTATCTGCAAAACTCCCGTCGTATCTGTAGCTGTTCATGTTTCTACGAGTGTATCTGAAACTCTCACTTTCGTTTGAAATGCCACTGCCGGCGCTGACAATTGAATGAAAACACTTGCAGAGAATTTTGTTTGCAAAACAAACCATTGAAATGGCAAGACGGCGAGCTTACCCATGTTTACATTCGAAAAACCCCAAAGAAAAGTAAATACCAAACGAAAAAAAAAATCAGAGCTTAGTGGAAAAGGAGGTTGGGGGCAGACAATATAATTGCACAGCGACAGACTTTCTCCCTTACAGAAAACAGAAAACAAGCAACGCATTTTTCTCTACGCTCTTGTCGTATTATTTTTTTATTATTGTGACGGAAGTTGCTAATGCGGTACGATTGGGCGTATACGTAATGCGAGTGCCAACGATTACGAGGGTCCTGCCTTGCCAGATTTTGTAACCGATCGCGCAATTAGAGTGTAGAAAATAGAAGAAGATGCAAGTAGGCGAATTGGGTAACAGGAATGCTTATCTTTTGATTTGTATTACCAAATTTAGTTTTTTTATTAAAAAAGCAAAGAAAAAACATATTCCCCTTCAAAGTTCTGACATTTTTTTAGCTGTCCCTGAAGCTGTGACTTTTGAAGCGATATAATCATTTTAATAGTATTTTAAGCTTGACTTTACATAAATGAAAGACATTTAAATGTTTTATTGTTAGACTAGACAATGCAACTTTAGTTTCTATGAAATGTGAATATAATGTGCCAGAAAATGCCAGGCACTCAAAACTCAGCCACGACTCATAGCTCAAACAGCGTCAAGTAGCTGGGGCATAATTGCAGGCCAGGCCAAGCATTCCGACTACGGCCAATAATATCTTGGCTCAAAAGCGTGGCCAAAAGTGCCTGGCAACACGACGTTCTCGATTCTTGGCTGTCGGCTTCTTGGCAATCACTTTTTGCCCAGCCCTGACAGCCAGCTGCAACTGGGTTTTGTTTGGCTTTTGCATCGGGGGAGTGTGGGCTGAATAAAAAGCTCTGTTCACTATACACATAAATAGAGAAAAACAGCTAAAGCGATGCAAATCGAGTTTGCAGCCTCGCTCACTTTTATGCTGATTTGTTTACACAGTTTGGCTGAAATCGAAACGCATCAAATGGTTATTGAACTCCTCGTTGAGACAGTCAGTCAGTGAGACAGATAGACAAACAGTCAACCAGCTGACGGGCGATAGGAGTGAGAGTAATTCAACAAGTCATTGCACAGAAAAAAAATATGAATTCCATTGAATGGAAACTATTTGGCACACTATGCATCCAGGATTTATATGCTTAGCAAAGAAAAACAAACATTACTCAATAATAAATCGAACACGTGCCATGATTAGTTTCCGCATTCCAGAACAATAGAAAATTTTTAATGTCAAAATTATTATTGGTTTTGTGCGGCGAGCAGTGGTAAATCAAAAGACTGAGGCAACAAACTTGGTGCTCAAGCAAGTTCAATTGGTATGGTCTTGCAAAATGACATAAACGCTTTGTACCTATTAATAATATGTCGTTAATGATTCACTTTTTCTCCGTGCACGGTGGCAAAAAATCAAAAGACTGAGCCAACGAACTCGGCACCCAGTGCAAGTTTCAGTTTTAGGGTCTAGCAGGAAGTGCGACATAAAGGCAGCGAGCTTTGTTTGTCGAACCGCGCGCTACAAGAACCATCTTAATTACCCCGCACCCAATGCCAAGCCGGCAGCCAAAGTCGCAGACAAATAAATGTTAATTATGCTTGGGCCAAATCCACATCCATATGCTTAGGGATCCGAGGTACACGCGTGTGTATCAATCATTTGTCGGACGGCGAGGTGACAAACCGAAATAAAAGCCAAAGCAAACTGGTTCGGCGCTGTCATTATATAAAGGCGAAGTATCTAAATTTATCAGCCGTATATCCACGGCGAAATCGTACAGCGACATAACCGAAATGTCAAATCACTATCGTTGGCGATAGACTGATCTGCGCCGATCGGTTGCACAACCTCATAGTCACTCATAATTGAATCTAATTAGGCGAAAATTGTAATTTGTGGCCCTTCCGCTGGCCGAGGCAATTATTATTATCGTCCAGCGAAGACGTCGTTGTGCCATTTGGCAATAAATTCATCCGTCATCCGGCTAGACGAGGCAATAAAGTGGCTTAAATTAAAAGCAAAACCGTTTTATGGTCTAGGCCATAAACACTGATCGGGCCATCAAACTGGCCCAGACTCGAGGCAATCGGGCATCTTTTCATTTGAATATATTTGTTTATAAACTGTATAAGCCAAAACGGGTTTGCAGTCGCATCTTCGCTGTTTAACCGAAAAGGTTAAAGTTGAGCACAATGCCACCTGCTTTCGGCCGCTGGAGATGCAAACCTCGTATTAAGTTGCTAATAATACAAATTTCACCGCTTCTCGTTTCCCTATGATTTCTGGTTGTCTCTCTTTGGGACGCTTTGTTTATTAATAAAAGCGCATGTGGACTTACGTAAGGAGGCGGCTGCTGGCGCTTCTCCTCATGTTGCACTTGCTGATGGCGATGACATAATGTCCGCACAGTCAGTTCCTTATTGCCGCTGGGTTGACTGCAAAATAAAGCTGCAAACACTCCCCCAAAAAGTGCAAGTGAAAAATATGATTTTTACCCAACGTTCGAGAGACACCAAGTCGAGCATTTTCCACGCCGTTAGCTGCGGTTTCGCCAGAGTAAGCAGTGAAAAACCCAAGCCAGAAGGCTGACAAAAAGCCAACGAAGTTGGCTCTAATGCGACACTGACAAATGGCAAATTCTTTACGAGGCCAGAAGCCAAAAAGCAAGACAAACAAACAAACGGACATAAATTTTATTGACATTATGAACAAGATCGCAGCGTGTAGGAAATGCTTGATCTGGCGGCACTGGAACGGAAGTGGTGCGCACTCAACTGTTAAAATCTGGCATTGCAGCCGCAAGAATAATGGTTATATGTTCTCGTTCGCTCTGTTGCCACTTCTGTTTGTGCTTAGGTTTTTTCATTTTTATCTTTTTTTCTGTTACTGATAGTGACTCAGCAGCAACGGCTCCAACAGCTGGCTGGCATTTTATTTGCCTCACGTTTGGGACATTAAAAAGTCAAACCAAAATGCAGTTCCATAACTCAGTGGGTGCGTCAAAAAATCCCAGCCATGTTGCTTAATCACCTAAAAGATGAAACTCTTAAGGGAATAGATTGATCTGAAGATGGCATGGATAAAATTTTTATAAGAACTTTTTATACCGTAAAAGGCATTACATTAATAAACTCCTAATCAACAAGAATGCGTTATTTAATTATCTTAATAAACCTCAACTGGACATAAAGGCAGCTTCATTTTTTAATTTTTTGGTAATTAATTAAAATTACATGGAATTCATTCCATTCCTTCGTATATCCTCGGTCATTTTCGCAGTGTAAGAAGCCCTAGAACAGTCTGTAAATTTTAGCACAGTTTATGAGAAAGCCGTTGGAGTCTGCTGCCTCAACTCGTTTTCCGAGACGTCAATGGCCGGTTCAGGGTTATGCTGCAACAGGAAGTAATTGCCCGACCAGGAGAACCGGCAGACCAGAAGATTGGCTGAGCACCGCACCCAGAAATGGCTGCCCGCCCTCCCCTTAACCGTAATTGGTAATTGGAAACGCATATTCTCGCCCAGCGGCCCGGCCCAACAAATTGCTTAAGCTCAGCCATTATTCTAATCGATCCGTGAACCAGTTTCGGCTTAAGTACTTAAGTACGCTGACTCAGGCTCTCTTAATCTGCAATCGCCGTCAAAGTAGCCGTTTTTCTCTCTGGACTCGTTTGCGCAGCTTTTTGGTCAGATTGCGCAAGGTCGTCTGGTCAGGACAGGTGCTCACGACATGGCTTAATTGTGTGACGTATGCAACTGGTCTGAGACCGGGCCAGAAAACAAAATAGTTAGCCACAAAATCAAAGCCAAAATATTGCCCAAGCAGTTATGACTTGTGGCTTAGAGCCCCCAATGAATGCGCATACCCACACAGTCAAAAGACGCGTGTCGCTGGTTTTCTTAAGTTTTCACTGTACTTTTATATTTCTCTTATTTATTTTTCGATGTTATTTTCGCTGCTTTGGCTGCGCTGCGCTGCGTTGCGCCTCACCTTGAGCTTAATTTCGGTCAAGCAAAAAGGCGTTCAACATTTAATTAAATACAGCAGGCGCGACAGAGCCGCAAACAAACGGCCAGACAACATCGATTCGACAGCCGCTAAAGTGGTAAATGGTCGAAAGCCGAGACCGCATTTAAATAAATCGCACTTCAAACGAGCGCCAACTGCATTGCCATTTCCATTTTCATTTCCATTTCGATCGCCCCAAACGAAAGACTTAAGCGACGAACGCGACGCGACGCGCCGCACAGCGAACGGCAGATGTTGCAGCCTCCGTGGCGCATGATTAATGCAGTATTTGCGCAATTTGTCTCGCCCGTTGAAGTTATTGAGCATTCGGCAAACGGCAACAAAAGCCACAAAATTTACGCAAATGAATTGCTATTTCAGCGCTTTCTTGCTTTCGTGCAAGTGAAATCCACAATCACCAAACAGATCATATTTTAGATACCCTGGAAGACATTGAATGTTAAGTCTGATCGCATTGATTTTACACTGCCTATACCTATAATCATTTTAGATTCTTGGCAACTAATATTGCAAAAATACATATGTAGTTTTCCATTTTCCATTAAACTTTATTGTTTGATGCACATTTTTTGGTTAATTAGAAAACAATAAATTCGAATAAAGCCTAACACCTCGGGGTGTTCAAAGTCTCGTATCCAAAGCTTAATAGTTAAATGCAATTTTCTCCGATTTTCCATTGGGAAATGATGTTTCTTTTTTTTGCGCAAGACAATTGAACAAATCCAATCACGCTGCTGGAATGCAGTTGGCTTGTCTTTACCTAAAACCACCCCCTCATCCACCAGTCCACCCCTCTCTCTTTCTATTATTTATTGACTTTTATTTGGTGCTGTCGTAACAGCAGACATAGAGCTTGGCGCGGCTTTCAGGTAAACTCAAACGCAGAAACGTGGGGCCAAAACTGAAACCGAAGACTTGGCGGCTCTTTAAAGCCGATAAAGAAAAGCAAGTCCCAGTTACACAGAAATTATATTTTTATATTTAACTTTATGAATTGAGGAGCATACATCTACCGCAAAGTGGTAATTATGGTACTAATACCTGCAAGTTTCTTTCAAAGAACACAAAATTTAGTATTTAGGTTGAAGCTCCGAGAAAATTCTCGAAACTTAGTAATTTTTCCAAGCCATTTTCAAGCCGACCGCGGAAATCTCTTGAAGTTTCTGTGTTATTCAAAGCAAATTTGATCTGGAAATTAAGGCTGCTCATTATGAGGCTTAAACACCCAGTTTCGACCAGTGCCGAGTTGCAGCGACTTGGCTGTGCTCCAGCGAGCCGTTAGTCAACATGGACACCAGCTAATGATACCGACACACAGCCACACAACCAAACCAAACACAATGGACATTTGTAGAAAAGTTTGCAATTCGACTTGGACAATCGCCCGAAATGGTTATGCCAGCGAAACATACAACACATTTTACGCAAGAATGCAATTGAAAGATGATTTGCTGAATTCGACGGTTTGGGGAGACTTTCGGTTCTGGTGATTTTCGCTTTCGCACAAGGAAAATGAAAGGCATTTGAGAGGCCAGGTTTCTCTTTACGGTCATTCCGTTTATTTCCGCGCCCAGTTTCAGAGTTCCAGCGCCAAAGATGCAAAGATCCAAAGCGAGAGCAAACCAGTTGGTCCAGACCAGTTCGGCACCACAACTGACTAACTGACTAACTGGCCACACGCGATAAGGAACCTTTTGGGTTATTTTGCTTCAAGACTAAATAATTTATGCACCGTTTGCGGACTGCTAAAAAATTTAAATAAATAGCCGAAAATAAGCCGAAACCAGTTTCACTTTTATGTACTGATCAACTGCGTCCCATCTCGATCGAGAGATCTGAGGAGATTAATGGGCGGACTAATGGCGGGGGATGTTCATTAATAAGGCAACCTTCTCGGTGAGTTAGTAACACGACCTTGGGCATTCTTCTCCAGAATATCCACGGCTTTCTAACTGTAAGCCCCAGCCGTTAGCAATCGACTCACGGTTGTGCCAATTCGGGCCATTTCACCATTTCTCAACTTCTCCACCTCCATTACGGCTAACTGTTTGTGGCCCACAGGCGATTTGCATAACCCGGCGTTGTGTAAGGTGTTCTTAATGGAGATGCCCCCTGAATACCTAAACAGGCAGTGGGTAATGGCCTAAAGAACCCGGTAAATGGAAAAGCGTTAAGTGTGTTTACCTACGGTTAGAGTCGATAATATTTGCAAAAAGATAAACATAGCCCAAATGAAGGGTCACAGTTACGTCTACAGTCATTAATTTTATAATTCTGTTAACTCTTTTCATGTTATTCATTTTACAAATTCTGTAATAATACCATGATTGCTACTCTCCTTCCATTCACAACTCAAAATATTTTGTTTCATCATTATCAGAGCTGTTAAAAAAACACCTCTCAGCCAAATTCCAATAAATAAAGTAATCAGGTGTCCCAGTAAATGAAGTGCCTTGCCTGAATTCAACCTTTTTCCCATCACTTCAGTGAACCTTTGTGAATGGGGAATGGCTTCGGTTGGAGGTCGGGCTTACTTTCAAAGTCGAGAGACTCTTCAAAACGGCTAATAAGTCTGCGAAGTGCAGCTGAAGATGTCAGACAAGTTTTAACAGCTTTATGAGACAAACTGTCTCATCTGAACAATGGGCAGTCGCTTTGAATAATTATGAGCAAGAGGGTTAATTGTTAATTAGTTGGCCGGGCAATCGGCCTGAAACTTTGGGAGCATTGTTTATTTTTCATAGCAGGTCGGTCTGGTGATAAAAGTAGGTCAATGTCAAAACGTGTTCGTCCGCTTATGACTGGTGGGCGCCAAAGGGCCATCCGACTGACCTCTGTCTGTCACCTGACGACCTTCACTCTGGCCCAATTGGGGAGGCAACAAGTGCCACGTAATTTGTTGAAAGTCGACGTGCCCCCCACATAAATCACAGATTATTAATCGTACATCAAAGCATAAACCCGTGATTAATTGCCCCTTGTTTTTGTTTCTCCTCCACAG',\n",
       "  'GTTGGTGTTAGAAAAATCTAAAAAATTCTAAAGTTTACCTAACCCATCCCCATTCTCTCTAG',\n",
       "  'GTTTGTTTACCAGCTATGACGGTTCAAACAGTTTCTAATCCCTAACGTTGCTTCTTACAG']]"
      ]
     },
     "execution_count": 12,
     "metadata": {},
     "output_type": "execute_result"
    }
   ],
   "source": [
    "non_hosts[2]"
   ]
  },
  {
   "cell_type": "markdown",
   "metadata": {},
   "source": [
    "### maybe I should store the host introns too"
   ]
  },
  {
   "cell_type": "code",
   "execution_count": 14,
   "metadata": {},
   "outputs": [],
   "source": [
    "##extract all intronic sequecnes execpt host intron for parent gene\n",
    "hosts = []\n",
    "for i in range(introns.shape[0]):\n",
    "    trans = introns['Transcript_ID'].values[i]\n",
    "    start = str(introns['Start'].values[i])\n",
    "    end = str(introns['End'].values[i])\n",
    "    c = 0\n",
    "    \n",
    "    entry=[trans]\n",
    "    seqs=[]\n",
    "    \n",
    "    for line in fasta:\n",
    "        if trans in line:\n",
    "            c+=1  ##counting number of introns\n",
    "            if start+'..'+end in line:  ##\"loc=(start..end)\" skipover host intron information\n",
    "                h = fasta[fasta.index(line)+1] ##host\n",
    "                continue\n",
    "            else:\n",
    "                s = fasta[fasta.index(line)+1]\n",
    "                seqs.append(s)\n",
    "    ##preprend the host sequence to start of list\n",
    "    seqs.insert(0,h)\n",
    "    ##store the number of introns\n",
    "    entry.append(c)\n",
    "    entry.append(seqs) \n",
    "    hosts.append(entry)\n",
    "    continue\n",
    "##very hast"
   ]
  },
  {
   "cell_type": "code",
   "execution_count": 16,
   "metadata": {},
   "outputs": [
    {
     "data": {
      "text/plain": [
       "130"
      ]
     },
     "execution_count": 16,
     "metadata": {},
     "output_type": "execute_result"
    }
   ],
   "source": [
    "len(hosts)"
   ]
  },
  {
   "cell_type": "code",
   "execution_count": 18,
   "metadata": {
    "collapsed": true
   },
   "outputs": [
    {
     "data": {
      "text/plain": [
       "['FBtr0071578',\n",
       " 4,\n",
       " ['GTAAGCACACCACACATTTCAAGCAATTAGCACCGGGTCAGTGATCGAAGTTGCTCATCCTGGTTTTCCCAGCGAGTGGGAACTAGTTTCATGTCGGTGAATCACCATTTACGGGGGTTCCTCGGTCCGCTATGGTGCATTAGCCTAATTACCTGACCACTCGAGAGATAAAGCACATGAACATAGGGAGCCATTAGGCAATTTCGGGCTTGTCCAATCAAGTGGACGCATCCAAAATCCATTCAATATCCTATGAAATATGAGATTTGACTAGTAAAGTTTTTGGTCTCATGTTTGGCGTGCATTTCGACTTGCAGTCGCTTTTGAACTTGTCATGTAATCAATGTGAGTCGTTTGAGAAACAAAACAGAATTGCGAATTATATGGTTGCTACACCAGCATACCTAACCGGTTGCCCGAGAAATCAGGTTCTACGGTTTGTCAAATAAAATCGCATGTAAATTTAAGATCAACAGCAACAGCAGCAGGCCATTTGAAAGCTAAATTCGTTGAACGAAAGTGAATAGCCTTCGGCATCGGCAATAGAATGGGTTGGATTGTGTTTAACCCGAATTCAAAGAACCCAAGAAGCCGAGCCAACGTGACTTGCCAATCTGGTGTTGGGGGAACTCCACCCCCCTCCCCACCACACACACAAGATGCTTGTTGGATTGTTTGTTAGATGGCTCACTGGCTACTTGGCTACTTCTTGGCTTCTTCGCTGGTTGGTCAGGAAACGCACTGAAGCTTTCCGGTCTGTATATTAAGAGCGGTAAAGTGGGTGGGTGTGCGGTGCGGCGGCGGCTTCTATTCAAGGAATGGGAATCTCAAGAGCACATCGTTTAAAACGAGTGTGGCGAAAGCTCACACTCCACAAGAACCATAAGCCCATCCAGTCAAGTCAAGTCAAGTCAACCTCCCCCCAAGACCCGCAACCTCACACACGCACACACACACACAAACACTCGCTAAGCAACCACTTTAGCACTCACAGTCGCTTGAACTTAACATTCAGTATTCAGTTATGCAGCAAATAAATCTAACACGAATTACGCGCGCCATAAATCACGGGTAGCGAAGGAACGCCACTTGAGTAGCTTCGTGGTTGTGGGACATTGGGCGAACTTTTCAATAACGACTCCGTGGCGCAACGGTAGCGCGTCCGACTCCAGATCGGAAGGTTGCGTGTTCAAATCACGTCGGGGTCAGGCGATGATGAATTCCTTTTTCGTACTTTTTTTTTACTACACCATTTCAAATTTTTTTTAATAG',\n",
       "  'GTGAGTTCTCCGGAAGAATGCCACAAACGGGAACTCTTCCTGGTTTGAGAAAAGTGCGTATACGCATAGTGGGATTGTTTTGATGAAGTCAAAATAAATTGGTTGTTAATTAGTTGGTGTAGAAATTCGGTTTCCATTCCAGGCTATAAATTAGTATCTCCCACTTAAGGGACTTTTTGCTTTGTGATTTGAAATCCATATCTTGGATGATTAATTGTCCACAAGTGCACTAGCATCTTTCCATTTCGAAGTTCTTGGAATATAGTTAGTAACGTTTGGTGATCTTCGTCAAGAAGGGGTTTATCCAGAAGCCTACTAAAGTTTGGTAATACCACAAACATGATTCATCCTTATCTGTTTCTGTTACCATTTCATTTCTTCTGAATGCCCGCACAATTTGGTTGAAGAATTCAAAGCTAACCCTTGATAGCCAGTAAACCCGATCTAGTTTCCGGGTAATACAACCCCTTGAACTGGCTAACATCGCGCGCAATGCAATCTGGCTGCCATATTGCATCAGTCATAGGTTAGTTGGGCCGCGATTGAAATTCAATCAAATGCGCATAATGCGAAGATTCCGATTTCCGGCGATGCTGGGCCTCATAAATCCGAGAACATAAACCACAGAGATTCGAGAGCCACGATTTCTGTCCCATATGCAAACCACACGCAGTGCCGGATATCGAGAGTAACTCTTGTTGTGTCCATACCAAACAAAAAAAAATAATAATAATAAAAAAAAAAAAATAAGAGAGCTACTAGCTGTGGCACTGACTGGGCTTATTGACATTGACATTGAAAGATTTGCTCGGTACATGGCACTTGGCTGAACGGATCATATCGGATTGGATTGGATCGGCAGATTCAACGAGAGCTGAATGGAGTTCGGGAACTCTGGGCCATGAGCCAAAGACAAAGACATAAACCCCTTTGGCTTGTGATCCGGTATTTGATTTCGTTTGATTTGGCCAAAACGTAGGGTGGTTAGTTGGAATGGGGGAGGGGGGAATGGGCCTGAACTACTTTTGTGAAGGTTAAAAAAGTGTTTAATTGCGAGTACGGTGCTCCAAACGGTTTCGATTCGTGGGTCTTAGCCACTAGCCACGGTTTCAGTTCAGTTTGAGTTTCAGTTTCTTCGATTGCCCCTCAGTTTTGAGCTGGTGTCTGTCGGCTATGGTGACTAATAGGCCTGGCCGCAGTACTTCACATTTGAGCGATTGCGGTCAATAAAACAAAAAAAAAAAAAAAAAAAAAACAAAGACTGAACAAAGCTGGCTGGCTGAGAGCCGAGGCGATCCAAGCTAATTGAGGCACTTAAAAAATTCTCCGAGCGAATTCTCCCAAGGCGTGGTGGCAACCCTGTCAGCACGGAATCCCCGATCCCGATCCCGATCCACAGACCAACGAATGGGGGGGAATGCATTCCTTATTCAGATCAAATGCCGTAATGGTTAATTGTGCAGCCCAGAGAGCCGGAGACAACACCTGCCCTGTGGAAAATGTTAATGATGCTTTAATTGCACCGCATGAGCATACGGGTCGACCAATCCGGAAGAAACCCATTGGAGCTCAACGATTTGCATTACATCTTTACAAGCGGTTTCAATTCAGACATCCCTCAAGTCATCTTCTTTAAGGGTTGCATGCACATATATAAGTACTAGCGAGGTATCACTGTACCTACGTCACATAATCTGTAACGATAATCTGCAGCTGTCTTATACTTATGTAAACTAAACCAGCCTGTGCTATTCCCAACTGATTTATTCGACCCTAAGCAGCGGTGGAAGGTTTTAATGTGCTTTACATTCCTTGTGGTTTGTACTTTTTTACAAACCCACCAAAATCTATTTCTCAGGACATATATATGTATATACATATATAAAGAATAACCTTCAACTCCATGCCATAAACAAGAAAAGTGCTCGCGATAAACCACGAATACTTTGCATGCAAATAAGATTCCGAATATATGCAGAGAATAATCAAATTTGGCCAGCTGGAGAGACTAGCTACTTTCAATTGAAGCCCCACATGTGGGATGCAGGGTTTCCCGCACAAAATGAGGACACTTCTAAGTGGGGTTAATGCTTTATTGATCGGCGTTATGTGCCAAAAAGCTGCACCCATCCAACCATTCCCTCACATAATGGTCTCCTCCTCCAGCATGTACTCCGTGAGATCGGCTTCGCCCGACAGCATGGTCACCGGCACCCGGTTCATCTGGGCCACCCGTTGACTGGGCCAGACCATCACGTCGCAACAGTTGGTCAACACGACCACATTGGTGCTCGGCGTGTTGGTGCACATCAGGTTGCCGGCCTTCTCCTGGTCGCACTTGTTGAACTTGCGCCGGAAACGGAACTTCACGGGCAACGAGTTGCCCATCACGCTCTCTTCATCGAAGTACGGCGGCAGGGATTTGTTGAAAGCCGGATTTGTGATGGCCGGCTTGGTTAGCTGATAGATGAGTGGAGTAACATCTAAATCACTGAAGCACATTGAATGTACAGATCACTCACCTCTTCGAGAACCACGGAGGTCTTGAGTCGGCGACAGGGATCACAGTAGTCGGAGGCCAATGTGTTCTCCGGTGTCTTGGTAGCACATGGATCCGGCTTGGGTTCGGGCACATTGGATCCCAAACCACTACCATGTGGCCCACTGTCACTGTCACGTTTACCCTTCGGATTCATGGGATCCTGGCCGCGCAATACGCATTCCTGCAGGAACTCTTCCTCGATGTCGATCAGTTTCTTGATGGCACAGTCCCGCTTCAGGAAGTTCTTGATCACGGACAGATTGCGGGGCACGGCGCCGATAACGTCGAAGTCATCGCTACGGAGCTGGAGGCGGTGCGCCATGACTTTGGTTCTCCAAGATGAATGGAGGGGCGGATGGTTGGAAGGGGGTTCGAATTTGGGGGAGTAGCTCGTTTCGAGTGGAATGTTTAAATGAACTACAACTTGACGTCTGGCCCCAAGTTGAGTGGGTTTCAAGGATATGCAAACAATAGTTGAGATTAAGTTGGCGCCAAGGATAAAGTGCACGTTTGAGGGCAAAAGCTTGGTACACTCTATTTAATAATATATATTAAGGGTAAACGCTACACTTATCCCAATAAGGTAGCTTTACTTTCCTAACAAGTAAATTGACCTACCACCCAAAGCTAGTTTTTAACATTTGATGGCACTATTTTCGTGGCTAGTGCTGTAGTTCTATCGCCTCCTGGCCGAGCAACAAGTTCGTGCGCGGTTTTACAGCCACTGGATGCCAAACCGTGGGCCTGCGCTCAGCTCGGTTTAGTTCCGCTCACTTAATCTCCGGCAAGCGAAACTCGGAGCAGAGCTTGCCCGTTGGATGGTCTGTTGGCTATTGATTGGAGCTTTCCGCCGCTCAAAGCTCCGCTCGAGAGGTTCTTATTGCCACCGCTGGCCACAGCAGCCACCAGAAGAGCAGAGCCACCCGAAGCGCCAACACGCGAAGACAAAGTCCGGCAGACAGCAGCGCAAAAAGAGACAGATAGCAGTGAGAAAATCATCGAGGAAAAAAGATTGTGTGCTAGCCGTCAAATTGAGTTCCATTCGAGTGGCAAACAAACCTGAGTAGCCGCACCGCCATGAGCTTTACCCGCCAACTGTCCGAGATGAGTGCCAGCGAGCTGAACGATGCCATCGACGACACCAACTTCCCGCAGGCCCACATCCTTTCGCGCGGACGCAACAACAGCGTCTGCTCAACAAGTAGCACCTCGGGCACCTCCTCGCTGGCGGACAGGCAGCAGAACCAGGCGGAGGAGGCCACTGCCATTGCGGGCACACCCGTCGAGGAGGTGGCGCCAGCTCCTGCTCTCGTCCCGTTGGCCGGCAACCAGAGACCCCGCCTCATCCTGAAGACCAACGGCAGCAGTCCGGATAGTGATGGTACACAACCGAAAACACCACTGACACCGCGTACATCGACAACGCCAGGTAGTGGTGGGTAGTGGTCCAGGACCAGGTCAGGGGATCCAGAGCTATGTTTGCTGCGACCGATTTAGTTAGTCAATGAACTAGGAGGAGGAGGAGTGCTTGACAAACTCTTTTTGAGCATAAACCGTACGCCTATCAGTGGGTTAGTGTTTCGGTTCAGAGGTCAGAAGATGCGCCTCGGAATGGGGAATAGTACTTAGACAGCCACACACAGCCAACGAAGGGGGGCAATGCCTTCCTATCTCGCATGATAACGATTCTCATCATGTTTCCATCCGTATTTCCATTTACAG',\n",
       "  'GTAAGATAAACTTAGTAATGCATATTAGATGATCTTTCATATAATTTGCGATCCCATAG',\n",
       "  'GTAAGTATTAAATATATATACATATATATTTTAAAGAATATTATAGTTTAACGAATGGCTTTCCTCCTATACAG']]"
      ]
     },
     "execution_count": 18,
     "metadata": {},
     "output_type": "execute_result"
    }
   ],
   "source": [
    "hosts[0]"
   ]
  },
  {
   "cell_type": "markdown",
   "metadata": {},
   "source": [
    "## Better to record lengths and GC of all introns"
   ]
  },
  {
   "cell_type": "code",
   "execution_count": 36,
   "metadata": {},
   "outputs": [],
   "source": [
    "def GC_content(seq):\n",
    "    gc = (seq.upper().count('G')/len(seq)) +  (seq.upper().count('C')/len(seq))\n",
    "    return gc"
   ]
  },
  {
   "cell_type": "code",
   "execution_count": 39,
   "metadata": {},
   "outputs": [
    {
     "data": {
      "text/plain": [
       "0.5"
      ]
     },
     "execution_count": 39,
     "metadata": {},
     "output_type": "execute_result"
    }
   ],
   "source": [
    "GC_content('GTAAGC')"
   ]
  },
  {
   "cell_type": "code",
   "execution_count": 41,
   "metadata": {},
   "outputs": [],
   "source": [
    "\n",
    "hosts = []\n",
    "for i in range(introns.shape[0]):\n",
    "    trans = introns['Transcript_ID'].values[i]\n",
    "    start = str(introns['Start'].values[i])\n",
    "    end = str(introns['End'].values[i])\n",
    "    c = 0\n",
    "    \n",
    "    entry=[trans]\n",
    "    seqs=[]\n",
    "    GC = []\n",
    "    \n",
    "    for line in fasta:\n",
    "        if trans in line:\n",
    "            c+=1  ##counting number of introns\n",
    "            if start+'..'+end in line:  ##\"loc=(start..end)\"  host intron position\n",
    "                h = fasta[fasta.index(line)+1] ##host intron\n",
    "                gc_h= GC_content(h)  #compute GC content\n",
    "                h=len(h)\n",
    "                continue\n",
    "            else:\n",
    "                s = fasta[fasta.index(line)+1]\n",
    "                gc_s=GC_content(s)  #compute GC contne\n",
    "                s=len(s)\n",
    "                GC.append(gc_s)\n",
    "                seqs.append(s)\n",
    "                \n",
    "    ##preprend the host sequence and GC to start of list\n",
    "    seqs.insert(0,h)\n",
    "    GC.insert(0,gc_h)\n",
    "    ##store the number of introns\n",
    "    entry.append(c)\n",
    "    entry.append(seqs)\n",
    "    entry.append(GC)\n",
    "    hosts.append(entry)\n",
    "    continue\n",
    "##very fast"
   ]
  },
  {
   "cell_type": "code",
   "execution_count": 42,
   "metadata": {},
   "outputs": [
    {
     "data": {
      "text/plain": [
       "['FBtr0071578',\n",
       " 4,\n",
       " [1272, 4264, 59, 74],\n",
       " [0.46226415094339623,\n",
       "  0.4803001876172608,\n",
       "  0.288135593220339,\n",
       "  0.21621621621621623]]"
      ]
     },
     "execution_count": 42,
     "metadata": {},
     "output_type": "execute_result"
    }
   ],
   "source": [
    "hosts[0]  ##host intron lenght is first entry of the nested list"
   ]
  },
  {
   "cell_type": "code",
   "execution_count": 44,
   "metadata": {
    "scrolled": true
   },
   "outputs": [
    {
     "data": {
      "text/html": [
       "<div>\n",
       "<style scoped>\n",
       "    .dataframe tbody tr th:only-of-type {\n",
       "        vertical-align: middle;\n",
       "    }\n",
       "\n",
       "    .dataframe tbody tr th {\n",
       "        vertical-align: top;\n",
       "    }\n",
       "\n",
       "    .dataframe thead th {\n",
       "        text-align: right;\n",
       "    }\n",
       "</style>\n",
       "<table border=\"1\" class=\"dataframe\">\n",
       "  <thead>\n",
       "    <tr style=\"text-align: right;\">\n",
       "      <th></th>\n",
       "      <th>Host_ID</th>\n",
       "      <th># of introns</th>\n",
       "      <th>Intron lengths</th>\n",
       "      <th>GC-content</th>\n",
       "    </tr>\n",
       "  </thead>\n",
       "  <tbody>\n",
       "    <tr>\n",
       "      <th>0</th>\n",
       "      <td>FBtr0071578</td>\n",
       "      <td>4</td>\n",
       "      <td>[1272, 4264, 59, 74]</td>\n",
       "      <td>[0.46226415094339623, 0.4803001876172608, 0.28...</td>\n",
       "    </tr>\n",
       "    <tr>\n",
       "      <th>1</th>\n",
       "      <td>FBtr0073124</td>\n",
       "      <td>7</td>\n",
       "      <td>[2776, 70, 64, 60, 8929, 62, 60]</td>\n",
       "      <td>[0.3868876080691642, 0.41428571428571426, 0.34...</td>\n",
       "    </tr>\n",
       "    <tr>\n",
       "      <th>2</th>\n",
       "      <td>FBtr0073124</td>\n",
       "      <td>7</td>\n",
       "      <td>[2776, 70, 64, 60, 8929, 62, 60]</td>\n",
       "      <td>[0.3868876080691642, 0.41428571428571426, 0.34...</td>\n",
       "    </tr>\n",
       "    <tr>\n",
       "      <th>3</th>\n",
       "      <td>FBtr0073124</td>\n",
       "      <td>7</td>\n",
       "      <td>[2776, 70, 64, 60, 8929, 62, 60]</td>\n",
       "      <td>[0.3868876080691642, 0.41428571428571426, 0.34...</td>\n",
       "    </tr>\n",
       "    <tr>\n",
       "      <th>4</th>\n",
       "      <td>FBtr0073124</td>\n",
       "      <td>7</td>\n",
       "      <td>[2776, 70, 64, 60, 8929, 62, 60]</td>\n",
       "      <td>[0.3868876080691642, 0.41428571428571426, 0.34...</td>\n",
       "    </tr>\n",
       "  </tbody>\n",
       "</table>\n",
       "</div>"
      ],
      "text/plain": [
       "       Host_ID  # of introns                    Intron lengths  \\\n",
       "0  FBtr0071578             4              [1272, 4264, 59, 74]   \n",
       "1  FBtr0073124             7  [2776, 70, 64, 60, 8929, 62, 60]   \n",
       "2  FBtr0073124             7  [2776, 70, 64, 60, 8929, 62, 60]   \n",
       "3  FBtr0073124             7  [2776, 70, 64, 60, 8929, 62, 60]   \n",
       "4  FBtr0073124             7  [2776, 70, 64, 60, 8929, 62, 60]   \n",
       "\n",
       "                                          GC-content  \n",
       "0  [0.46226415094339623, 0.4803001876172608, 0.28...  \n",
       "1  [0.3868876080691642, 0.41428571428571426, 0.34...  \n",
       "2  [0.3868876080691642, 0.41428571428571426, 0.34...  \n",
       "3  [0.3868876080691642, 0.41428571428571426, 0.34...  \n",
       "4  [0.3868876080691642, 0.41428571428571426, 0.34...  "
      ]
     },
     "execution_count": 44,
     "metadata": {},
     "output_type": "execute_result"
    }
   ],
   "source": [
    "df = pd.DataFrame(hosts)\n",
    "df.columns=['Host_ID','# of introns','Intron lengths', 'GC-content']\n",
    "df.head()"
   ]
  },
  {
   "cell_type": "code",
   "execution_count": 45,
   "metadata": {},
   "outputs": [],
   "source": [
    "df.to_csv('Host_genes_introns_GC.csv',sep=',',index=False)"
   ]
  },
  {
   "cell_type": "code",
   "execution_count": 81,
   "metadata": {},
   "outputs": [
    {
     "data": {
      "text/plain": [
       "count    130.000000\n",
       "mean       7.684615\n",
       "std        3.980640\n",
       "min        1.000000\n",
       "25%        5.000000\n",
       "50%        7.000000\n",
       "75%       10.000000\n",
       "max       21.000000\n",
       "Name: # of introns, dtype: float64"
      ]
     },
     "execution_count": 81,
     "metadata": {},
     "output_type": "execute_result"
    }
   ],
   "source": [
    "df['# of introns'].describe()"
   ]
  },
  {
   "cell_type": "code",
   "execution_count": 46,
   "metadata": {
    "scrolled": false
   },
   "outputs": [
    {
     "data": {
      "image/png": "[encoded data removed]",
      "text/plain": [
       "<matplotlib.figure.Figure at 0x10ef4eb8>"
      ]
     },
     "metadata": {},
     "output_type": "display_data"
    }
   ],
   "source": [
    "df['# of introns'].plot.hist()\n",
    "plt.show()"
   ]
  },
  {
   "cell_type": "markdown",
   "metadata": {},
   "source": [
    "### record if the host is longer than the rest"
   ]
  },
  {
   "cell_type": "code",
   "execution_count": 47,
   "metadata": {},
   "outputs": [],
   "source": [
    "l = []\n",
    "for i in range(df.shape[0]):\n",
    "    sizes = np.asarray(df['Intron lengths'].values[i])\n",
    "    \n",
    "    ##recall host intron size is starts the list\n",
    "    if sizes[0] == np.max(sizes):\n",
    "        l.append('True')\n",
    "    else:\n",
    "        l.append('False')\n"
   ]
  },
  {
   "cell_type": "code",
   "execution_count": 48,
   "metadata": {},
   "outputs": [],
   "source": [
    "df['Host is Longest?']=l"
   ]
  },
  {
   "cell_type": "code",
   "execution_count": 170,
   "metadata": {
    "scrolled": true
   },
   "outputs": [
    {
     "data": {
      "text/plain": [
       "True     77\n",
       "False    53\n",
       "Name: Host is Longest?, dtype: int64"
      ]
     },
     "execution_count": 170,
     "metadata": {},
     "output_type": "execute_result"
    }
   ],
   "source": [
    "df['Host is Longest?'].value_counts()  "
   ]
  },
  {
   "cell_type": "code",
   "execution_count": 175,
   "metadata": {},
   "outputs": [
    {
     "data": {
      "text/plain": [
       "True     43\n",
       "False    22\n",
       "Name: Host is Longest?, dtype: int64"
      ]
     },
     "execution_count": 175,
     "metadata": {},
     "output_type": "execute_result"
    }
   ],
   "source": [
    "##some genes have multiple nested trnas\n",
    "df.drop_duplicates(subset='Host_ID',keep='first')['Host is Longest?'].value_counts()  "
   ]
  },
  {
   "cell_type": "code",
   "execution_count": 181,
   "metadata": {},
   "outputs": [
    {
     "data": {
      "text/plain": [
       "0.6615384615384615"
      ]
     },
     "execution_count": 181,
     "metadata": {},
     "output_type": "execute_result"
    }
   ],
   "source": [
    "43/65"
   ]
  },
  {
   "cell_type": "code",
   "execution_count": 59,
   "metadata": {},
   "outputs": [],
   "source": [
    "##soret both tables so that in same order\n",
    "merged.sort_values(by='Host_Exon_ID',inplace=True)\n",
    "df.sort_values('Host_ID',inplace=True)"
   ]
  },
  {
   "cell_type": "code",
   "execution_count": 55,
   "metadata": {},
   "outputs": [
    {
     "data": {
      "text/html": [
       "<div>\n",
       "<style scoped>\n",
       "    .dataframe tbody tr th:only-of-type {\n",
       "        vertical-align: middle;\n",
       "    }\n",
       "\n",
       "    .dataframe tbody tr th {\n",
       "        vertical-align: top;\n",
       "    }\n",
       "\n",
       "    .dataframe thead th {\n",
       "        text-align: right;\n",
       "    }\n",
       "</style>\n",
       "<table border=\"1\" class=\"dataframe\">\n",
       "  <thead>\n",
       "    <tr style=\"text-align: right;\">\n",
       "      <th></th>\n",
       "      <th>Host_ID</th>\n",
       "      <th># of introns</th>\n",
       "      <th>Intron lengths</th>\n",
       "      <th>GC-content</th>\n",
       "      <th>Host is Longest?</th>\n",
       "    </tr>\n",
       "  </thead>\n",
       "  <tbody>\n",
       "    <tr>\n",
       "      <th>0</th>\n",
       "      <td>FBtr0071578</td>\n",
       "      <td>4</td>\n",
       "      <td>[1272, 4264, 59, 74]</td>\n",
       "      <td>[0.46226415094339623, 0.4803001876172608, 0.28...</td>\n",
       "      <td>False</td>\n",
       "    </tr>\n",
       "    <tr>\n",
       "      <th>1</th>\n",
       "      <td>FBtr0073124</td>\n",
       "      <td>7</td>\n",
       "      <td>[2776, 70, 64, 60, 8929, 62, 60]</td>\n",
       "      <td>[0.3868876080691642, 0.41428571428571426, 0.34...</td>\n",
       "      <td>False</td>\n",
       "    </tr>\n",
       "    <tr>\n",
       "      <th>2</th>\n",
       "      <td>FBtr0073124</td>\n",
       "      <td>7</td>\n",
       "      <td>[2776, 70, 64, 60, 8929, 62, 60]</td>\n",
       "      <td>[0.3868876080691642, 0.41428571428571426, 0.34...</td>\n",
       "      <td>False</td>\n",
       "    </tr>\n",
       "  </tbody>\n",
       "</table>\n",
       "</div>"
      ],
      "text/plain": [
       "       Host_ID  # of introns                    Intron lengths  \\\n",
       "0  FBtr0071578             4              [1272, 4264, 59, 74]   \n",
       "1  FBtr0073124             7  [2776, 70, 64, 60, 8929, 62, 60]   \n",
       "2  FBtr0073124             7  [2776, 70, 64, 60, 8929, 62, 60]   \n",
       "\n",
       "                                          GC-content Host is Longest?  \n",
       "0  [0.46226415094339623, 0.4803001876172608, 0.28...            False  \n",
       "1  [0.3868876080691642, 0.41428571428571426, 0.34...            False  \n",
       "2  [0.3868876080691642, 0.41428571428571426, 0.34...            False  "
      ]
     },
     "execution_count": 55,
     "metadata": {},
     "output_type": "execute_result"
    }
   ],
   "source": [
    "df.head(3)"
   ]
  },
  {
   "cell_type": "code",
   "execution_count": 54,
   "metadata": {
    "scrolled": true
   },
   "outputs": [
    {
     "data": {
      "text/html": [
       "<div>\n",
       "<style scoped>\n",
       "    .dataframe tbody tr th:only-of-type {\n",
       "        vertical-align: middle;\n",
       "    }\n",
       "\n",
       "    .dataframe tbody tr th {\n",
       "        vertical-align: top;\n",
       "    }\n",
       "\n",
       "    .dataframe thead th {\n",
       "        text-align: right;\n",
       "    }\n",
       "</style>\n",
       "<table border=\"1\" class=\"dataframe\">\n",
       "  <thead>\n",
       "    <tr style=\"text-align: right;\">\n",
       "      <th></th>\n",
       "      <th>Chrom</th>\n",
       "      <th>Start</th>\n",
       "      <th>End</th>\n",
       "      <th>Strand</th>\n",
       "      <th>tRNA_ID</th>\n",
       "      <th>tRNA_name</th>\n",
       "      <th>Host_Exon_ID</th>\n",
       "      <th>intron_length</th>\n",
       "      <th>mRNA_length</th>\n",
       "      <th>Host_gene_name</th>\n",
       "      <th>...</th>\n",
       "      <th>Intron_Sequence</th>\n",
       "      <th>A-content</th>\n",
       "      <th>G-content</th>\n",
       "      <th>T-content</th>\n",
       "      <th>C-content</th>\n",
       "      <th>tRNA_Sequence</th>\n",
       "      <th>A-content_trna</th>\n",
       "      <th>G-content_trna</th>\n",
       "      <th>T-content_trna</th>\n",
       "      <th>C-content_trna</th>\n",
       "    </tr>\n",
       "  </thead>\n",
       "  <tbody>\n",
       "    <tr>\n",
       "      <th>128</th>\n",
       "      <td>2R</td>\n",
       "      <td>21181284</td>\n",
       "      <td>21181355</td>\n",
       "      <td>+</td>\n",
       "      <td>FBgn0053539</td>\n",
       "      <td>Trp-CCA-2-5-</td>\n",
       "      <td>FBtr0071578</td>\n",
       "      <td>1272</td>\n",
       "      <td>1625</td>\n",
       "      <td>Pu</td>\n",
       "      <td>...</td>\n",
       "      <td>GTAAGCACACCACACATTTCAAGCAATTAGCACCGGGTCAGTGATC...</td>\n",
       "      <td>0.278302</td>\n",
       "      <td>0.225629</td>\n",
       "      <td>0.259434</td>\n",
       "      <td>0.236635</td>\n",
       "      <td>GACUCCGUGGCGCAACGGUAGCGCGUCCGACUCCAGAUCGGAAGGU...</td>\n",
       "      <td>0.194444</td>\n",
       "      <td>0.333333</td>\n",
       "      <td>0.194444</td>\n",
       "      <td>0.277778</td>\n",
       "    </tr>\n",
       "    <tr>\n",
       "      <th>104</th>\n",
       "      <td>3L</td>\n",
       "      <td>3096369</td>\n",
       "      <td>3096440</td>\n",
       "      <td>+</td>\n",
       "      <td>FBgn0052287</td>\n",
       "      <td>Cys-GCA-1-3-</td>\n",
       "      <td>FBtr0073124</td>\n",
       "      <td>2776</td>\n",
       "      <td>3953</td>\n",
       "      <td>Cht7</td>\n",
       "      <td>...</td>\n",
       "      <td>GTAAGTAAAAAATGTAAAAAGAAATTAAACATGAACAAGTAATTGG...</td>\n",
       "      <td>0.333934</td>\n",
       "      <td>0.195605</td>\n",
       "      <td>0.279179</td>\n",
       "      <td>0.191282</td>\n",
       "      <td>GGGGAUAUAGCUCAGUGGUAGAGCAUUCGACUGCAGAUCGAGAGGU...</td>\n",
       "      <td>0.208333</td>\n",
       "      <td>0.319444</td>\n",
       "      <td>0.208333</td>\n",
       "      <td>0.263889</td>\n",
       "    </tr>\n",
       "    <tr>\n",
       "      <th>103</th>\n",
       "      <td>3L</td>\n",
       "      <td>3097519</td>\n",
       "      <td>3097590</td>\n",
       "      <td>+</td>\n",
       "      <td>FBgn0052286</td>\n",
       "      <td>Cys-GCA-1-4-</td>\n",
       "      <td>FBtr0073124</td>\n",
       "      <td>2776</td>\n",
       "      <td>3953</td>\n",
       "      <td>Cht7</td>\n",
       "      <td>...</td>\n",
       "      <td>GTAAGTAAAAAATGTAAAAAGAAATTAAACATGAACAAGTAATTGG...</td>\n",
       "      <td>0.333934</td>\n",
       "      <td>0.195605</td>\n",
       "      <td>0.279179</td>\n",
       "      <td>0.191282</td>\n",
       "      <td>GGGGAUAUAGCUCAGUGGUAGAGCAUUCGACUGCAGAUCGAGAGGU...</td>\n",
       "      <td>0.208333</td>\n",
       "      <td>0.319444</td>\n",
       "      <td>0.208333</td>\n",
       "      <td>0.263889</td>\n",
       "    </tr>\n",
       "  </tbody>\n",
       "</table>\n",
       "<p>3 rows × 22 columns</p>\n",
       "</div>"
      ],
      "text/plain": [
       "    Chrom     Start       End Strand      tRNA_ID     tRNA_name Host_Exon_ID  \\\n",
       "128    2R  21181284  21181355      +  FBgn0053539  Trp-CCA-2-5-  FBtr0071578   \n",
       "104    3L   3096369   3096440      +  FBgn0052287  Cys-GCA-1-3-  FBtr0073124   \n",
       "103    3L   3097519   3097590      +  FBgn0052286  Cys-GCA-1-4-  FBtr0073124   \n",
       "\n",
       "     intron_length  mRNA_length Host_gene_name       ...        \\\n",
       "128           1272         1625             Pu       ...         \n",
       "104           2776         3953           Cht7       ...         \n",
       "103           2776         3953           Cht7       ...         \n",
       "\n",
       "                                       Intron_Sequence A-content G-content  \\\n",
       "128  GTAAGCACACCACACATTTCAAGCAATTAGCACCGGGTCAGTGATC...  0.278302  0.225629   \n",
       "104  GTAAGTAAAAAATGTAAAAAGAAATTAAACATGAACAAGTAATTGG...  0.333934  0.195605   \n",
       "103  GTAAGTAAAAAATGTAAAAAGAAATTAAACATGAACAAGTAATTGG...  0.333934  0.195605   \n",
       "\n",
       "     T-content  C-content                                      tRNA_Sequence  \\\n",
       "128   0.259434   0.236635  GACUCCGUGGCGCAACGGUAGCGCGUCCGACUCCAGAUCGGAAGGU...   \n",
       "104   0.279179   0.191282  GGGGAUAUAGCUCAGUGGUAGAGCAUUCGACUGCAGAUCGAGAGGU...   \n",
       "103   0.279179   0.191282  GGGGAUAUAGCUCAGUGGUAGAGCAUUCGACUGCAGAUCGAGAGGU...   \n",
       "\n",
       "     A-content_trna G-content_trna  T-content_trna  C-content_trna  \n",
       "128        0.194444       0.333333        0.194444        0.277778  \n",
       "104        0.208333       0.319444        0.208333        0.263889  \n",
       "103        0.208333       0.319444        0.208333        0.263889  \n",
       "\n",
       "[3 rows x 22 columns]"
      ]
     },
     "execution_count": 54,
     "metadata": {},
     "output_type": "execute_result"
    }
   ],
   "source": [
    "merged.head(3)"
   ]
  },
  {
   "cell_type": "code",
   "execution_count": null,
   "metadata": {},
   "outputs": [],
   "source": []
  },
  {
   "cell_type": "markdown",
   "metadata": {},
   "source": [
    "## Do introns hosts tRNAs because they are longer:\n",
    "\n",
    "Check host being the longest intron is related to co-orientation for host genes with more than one intron."
   ]
  },
  {
   "cell_type": "code",
   "execution_count": 60,
   "metadata": {},
   "outputs": [],
   "source": [
    "merged['Longest?']=df['Host is Longest?'].values"
   ]
  },
  {
   "cell_type": "code",
   "execution_count": 82,
   "metadata": {},
   "outputs": [],
   "source": [
    "merged['Number of Introns'] = df['# of introns'].values"
   ]
  },
  {
   "cell_type": "code",
   "execution_count": 83,
   "metadata": {},
   "outputs": [],
   "source": [
    "multi = merged[merged['Number of Introns']>1] ##extract genes with multiple introns"
   ]
  },
  {
   "cell_type": "code",
   "execution_count": 84,
   "metadata": {
    "scrolled": true
   },
   "outputs": [
    {
     "data": {
      "text/plain": [
       "True     33\n",
       "False    18\n",
       "Name: Longest?, dtype: int64"
      ]
     },
     "execution_count": 84,
     "metadata": {},
     "output_type": "execute_result"
    }
   ],
   "source": [
    "multi[multi['Co-orientation']=='Yes']['Longest?'].value_counts()"
   ]
  },
  {
   "cell_type": "code",
   "execution_count": 85,
   "metadata": {
    "scrolled": true
   },
   "outputs": [
    {
     "data": {
      "text/plain": [
       "True     42\n",
       "False    35\n",
       "Name: Longest?, dtype: int64"
      ]
     },
     "execution_count": 85,
     "metadata": {},
     "output_type": "execute_result"
    }
   ],
   "source": [
    "multi[multi['Co-orientation']=='No']['Longest?'].value_counts()"
   ]
  },
  {
   "cell_type": "code",
   "execution_count": 86,
   "metadata": {
    "scrolled": true
   },
   "outputs": [
    {
     "data": {
      "text/html": [
       "<div>\n",
       "<style scoped>\n",
       "    .dataframe tbody tr th:only-of-type {\n",
       "        vertical-align: middle;\n",
       "    }\n",
       "\n",
       "    .dataframe tbody tr th {\n",
       "        vertical-align: top;\n",
       "    }\n",
       "\n",
       "    .dataframe thead th {\n",
       "        text-align: right;\n",
       "    }\n",
       "</style>\n",
       "<table border=\"1\" class=\"dataframe\">\n",
       "  <thead>\n",
       "    <tr style=\"text-align: right;\">\n",
       "      <th></th>\n",
       "      <th>index</th>\n",
       "      <th>Longest?</th>\n",
       "    </tr>\n",
       "  </thead>\n",
       "  <tbody>\n",
       "    <tr>\n",
       "      <th>0</th>\n",
       "      <td>True</td>\n",
       "      <td>33</td>\n",
       "    </tr>\n",
       "    <tr>\n",
       "      <th>1</th>\n",
       "      <td>False</td>\n",
       "      <td>18</td>\n",
       "    </tr>\n",
       "  </tbody>\n",
       "</table>\n",
       "</div>"
      ],
      "text/plain": [
       "   index  Longest?\n",
       "0   True        33\n",
       "1  False        18"
      ]
     },
     "execution_count": 86,
     "metadata": {},
     "output_type": "execute_result"
    }
   ],
   "source": [
    "multi[multi['Co-orientation']=='Yes']['Longest?'].value_counts().to_frame().reset_index()"
   ]
  },
  {
   "cell_type": "code",
   "execution_count": 91,
   "metadata": {
    "scrolled": false
   },
   "outputs": [
    {
     "data": {
      "text/html": [
       "<div>\n",
       "<style scoped>\n",
       "    .dataframe tbody tr th:only-of-type {\n",
       "        vertical-align: middle;\n",
       "    }\n",
       "\n",
       "    .dataframe tbody tr th {\n",
       "        vertical-align: top;\n",
       "    }\n",
       "\n",
       "    .dataframe thead th {\n",
       "        text-align: right;\n",
       "    }\n",
       "</style>\n",
       "<table border=\"1\" class=\"dataframe\">\n",
       "  <thead>\n",
       "    <tr style=\"text-align: right;\">\n",
       "      <th></th>\n",
       "      <th>Longest</th>\n",
       "      <th>Number of Host</th>\n",
       "      <th>Orientation</th>\n",
       "    </tr>\n",
       "  </thead>\n",
       "  <tbody>\n",
       "    <tr>\n",
       "      <th>0</th>\n",
       "      <td>True</td>\n",
       "      <td>33</td>\n",
       "      <td>Sense</td>\n",
       "    </tr>\n",
       "    <tr>\n",
       "      <th>1</th>\n",
       "      <td>False</td>\n",
       "      <td>18</td>\n",
       "      <td>Sense</td>\n",
       "    </tr>\n",
       "    <tr>\n",
       "      <th>0</th>\n",
       "      <td>True</td>\n",
       "      <td>42</td>\n",
       "      <td>Antisense</td>\n",
       "    </tr>\n",
       "    <tr>\n",
       "      <th>1</th>\n",
       "      <td>False</td>\n",
       "      <td>35</td>\n",
       "      <td>Antisense</td>\n",
       "    </tr>\n",
       "  </tbody>\n",
       "</table>\n",
       "</div>"
      ],
      "text/plain": [
       "  Longest  Number of Host Orientation\n",
       "0    True              33       Sense\n",
       "1   False              18       Sense\n",
       "0    True              42   Antisense\n",
       "1   False              35   Antisense"
      ]
     },
     "execution_count": 91,
     "metadata": {},
     "output_type": "execute_result"
    }
   ],
   "source": [
    "s = multi[multi['Co-orientation']=='Yes']['Longest?'].value_counts().to_frame().reset_index()\n",
    "s.columns=['Longest','Number of Host']\n",
    "s['Orientation']='Sense'\n",
    "a = multi[multi['Co-orientation']=='No']['Longest?'].value_counts().reset_index()\n",
    "a.columns=['Longest','Number of Host']\n",
    "a['Orientation']='Antisense'\n",
    "X= pd.concat([s,a],axis=0)\n",
    "X"
   ]
  },
  {
   "cell_type": "markdown",
   "metadata": {},
   "source": [
    "### relatively the host introns that are co-oriented with their nested trnas tend to be the longest introns of multi-exonic genes\n"
   ]
  },
  {
   "cell_type": "code",
   "execution_count": 89,
   "metadata": {
    "scrolled": false
   },
   "outputs": [
    {
     "data": {
      "text/plain": [
       "1.5277777777777777"
      ]
     },
     "execution_count": 89,
     "metadata": {},
     "output_type": "execute_result"
    }
   ],
   "source": [
    "\"compute odds ratio of sense introns being the longest of multiexonic host gene than the antisene\"\n",
    "probs_sense = 33/18 ##number of sense longest introns/number of notlongest sense introns\n",
    "probs_anti = 42/35  ##number of antisense longest introns/number of notlongest antisense introns\n",
    "odds = probs_sense/probs_anti\n",
    "odds"
   ]
  },
  {
   "cell_type": "markdown",
   "metadata": {},
   "source": [
    "or with scipy.stats"
   ]
  },
  {
   "cell_type": "code",
   "execution_count": 105,
   "metadata": {},
   "outputs": [
    {
     "data": {
      "text/html": [
       "<div>\n",
       "<style scoped>\n",
       "    .dataframe tbody tr th:only-of-type {\n",
       "        vertical-align: middle;\n",
       "    }\n",
       "\n",
       "    .dataframe tbody tr th {\n",
       "        vertical-align: top;\n",
       "    }\n",
       "\n",
       "    .dataframe thead tr th {\n",
       "        text-align: left;\n",
       "    }\n",
       "</style>\n",
       "<table border=\"1\" class=\"dataframe\">\n",
       "  <thead>\n",
       "    <tr>\n",
       "      <th></th>\n",
       "      <th colspan=\"3\" halign=\"left\">A</th>\n",
       "      <th colspan=\"3\" halign=\"left\">B</th>\n",
       "    </tr>\n",
       "    <tr>\n",
       "      <th></th>\n",
       "      <th>Longest</th>\n",
       "      <th>Number of Host</th>\n",
       "      <th>Orientation</th>\n",
       "      <th>Longest</th>\n",
       "      <th>Number of Host</th>\n",
       "      <th>Orientation</th>\n",
       "    </tr>\n",
       "  </thead>\n",
       "  <tbody>\n",
       "    <tr>\n",
       "      <th>0</th>\n",
       "      <td>True</td>\n",
       "      <td>33</td>\n",
       "      <td>Sense</td>\n",
       "      <td>True</td>\n",
       "      <td>42</td>\n",
       "      <td>Antisense</td>\n",
       "    </tr>\n",
       "    <tr>\n",
       "      <th>1</th>\n",
       "      <td>False</td>\n",
       "      <td>18</td>\n",
       "      <td>Sense</td>\n",
       "      <td>False</td>\n",
       "      <td>35</td>\n",
       "      <td>Antisense</td>\n",
       "    </tr>\n",
       "  </tbody>\n",
       "</table>\n",
       "</div>"
      ],
      "text/plain": [
       "        A                                  B                           \n",
       "  Longest Number of Host Orientation Longest Number of Host Orientation\n",
       "0    True             33       Sense    True             42   Antisense\n",
       "1   False             18       Sense   False             35   Antisense"
      ]
     },
     "execution_count": 105,
     "metadata": {},
     "output_type": "execute_result"
    }
   ],
   "source": [
    "y = pd.concat([s, a], axis = 1, keys=(list('AB')))\n",
    "y"
   ]
  },
  {
   "cell_type": "code",
   "execution_count": 106,
   "metadata": {
    "scrolled": true
   },
   "outputs": [
    {
     "data": {
      "text/plain": [
       "array([[33, 42],\n",
       "       [18, 35]], dtype=int64)"
      ]
     },
     "execution_count": 106,
     "metadata": {},
     "output_type": "execute_result"
    }
   ],
   "source": [
    "con_table = y.groupby(level=0).sum().values\n",
    "con_table"
   ]
  },
  {
   "cell_type": "code",
   "execution_count": 107,
   "metadata": {},
   "outputs": [
    {
     "name": "stdout",
     "output_type": "stream",
     "text": [
      "OddsR:  1.5277777777777777 p-Value: 0.2763994988606483\n"
     ]
    }
   ],
   "source": [
    "oddsratio, pvalue = stats.fisher_exact(con_table)\n",
    "print(\"OddsR: \", oddsratio, \"p-Value:\", pvalue)"
   ]
  },
  {
   "cell_type": "markdown",
   "metadata": {},
   "source": [
    "Host introns that are sense to their nested tRNAs are 1.5times as likely to be the longest intron within the gene"
   ]
  },
  {
   "cell_type": "code",
   "execution_count": 88,
   "metadata": {
    "scrolled": false
   },
   "outputs": [
    {
     "data": {
      "image/png": "[encoded data removed]",
      "text/plain": [
       "<matplotlib.figure.Figure at 0x1993d3c8>"
      ]
     },
     "metadata": {},
     "output_type": "display_data"
    }
   ],
   "source": [
    "plt.figure(figsize=(8,6))\n",
    "seaborn.barplot(x='Orientation', y='Number of Host', data=X, hue='Longest')\n",
    "plt.ylabel('Number of Host Introns',fontsize=14,fontweight='bold')\n",
    "plt.xlabel('Host Intron is Longest Intron',fontsize=14,fontweight='bold');plt.xticks(fontsize=13.5)\n",
    "plt.show()"
   ]
  },
  {
   "cell_type": "markdown",
   "metadata": {},
   "source": [
    "### Compare GC-content: since the tRNAs are mostly GC-rich, are their host introns more GC rich too\n",
    "- shit I should removed the trna sequences"
   ]
  },
  {
   "cell_type": "code",
   "execution_count": 108,
   "metadata": {
    "scrolled": true
   },
   "outputs": [
    {
     "data": {
      "text/html": [
       "<div>\n",
       "<style scoped>\n",
       "    .dataframe tbody tr th:only-of-type {\n",
       "        vertical-align: middle;\n",
       "    }\n",
       "\n",
       "    .dataframe tbody tr th {\n",
       "        vertical-align: top;\n",
       "    }\n",
       "\n",
       "    .dataframe thead th {\n",
       "        text-align: right;\n",
       "    }\n",
       "</style>\n",
       "<table border=\"1\" class=\"dataframe\">\n",
       "  <thead>\n",
       "    <tr style=\"text-align: right;\">\n",
       "      <th></th>\n",
       "      <th>Host_ID</th>\n",
       "      <th># of introns</th>\n",
       "      <th>Intron lengths</th>\n",
       "      <th>GC-content</th>\n",
       "      <th>Host is Longest?</th>\n",
       "    </tr>\n",
       "  </thead>\n",
       "  <tbody>\n",
       "    <tr>\n",
       "      <th>0</th>\n",
       "      <td>FBtr0071578</td>\n",
       "      <td>4</td>\n",
       "      <td>[1272, 4264, 59, 74]</td>\n",
       "      <td>[0.46226415094339623, 0.4803001876172608, 0.28...</td>\n",
       "      <td>False</td>\n",
       "    </tr>\n",
       "    <tr>\n",
       "      <th>1</th>\n",
       "      <td>FBtr0073124</td>\n",
       "      <td>7</td>\n",
       "      <td>[2776, 70, 64, 60, 8929, 62, 60]</td>\n",
       "      <td>[0.3868876080691642, 0.41428571428571426, 0.34...</td>\n",
       "      <td>False</td>\n",
       "    </tr>\n",
       "    <tr>\n",
       "      <th>2</th>\n",
       "      <td>FBtr0073124</td>\n",
       "      <td>7</td>\n",
       "      <td>[2776, 70, 64, 60, 8929, 62, 60]</td>\n",
       "      <td>[0.3868876080691642, 0.41428571428571426, 0.34...</td>\n",
       "      <td>False</td>\n",
       "    </tr>\n",
       "    <tr>\n",
       "      <th>3</th>\n",
       "      <td>FBtr0073124</td>\n",
       "      <td>7</td>\n",
       "      <td>[2776, 70, 64, 60, 8929, 62, 60]</td>\n",
       "      <td>[0.3868876080691642, 0.41428571428571426, 0.34...</td>\n",
       "      <td>False</td>\n",
       "    </tr>\n",
       "    <tr>\n",
       "      <th>4</th>\n",
       "      <td>FBtr0073124</td>\n",
       "      <td>7</td>\n",
       "      <td>[2776, 70, 64, 60, 8929, 62, 60]</td>\n",
       "      <td>[0.3868876080691642, 0.41428571428571426, 0.34...</td>\n",
       "      <td>False</td>\n",
       "    </tr>\n",
       "  </tbody>\n",
       "</table>\n",
       "</div>"
      ],
      "text/plain": [
       "       Host_ID  # of introns                    Intron lengths  \\\n",
       "0  FBtr0071578             4              [1272, 4264, 59, 74]   \n",
       "1  FBtr0073124             7  [2776, 70, 64, 60, 8929, 62, 60]   \n",
       "2  FBtr0073124             7  [2776, 70, 64, 60, 8929, 62, 60]   \n",
       "3  FBtr0073124             7  [2776, 70, 64, 60, 8929, 62, 60]   \n",
       "4  FBtr0073124             7  [2776, 70, 64, 60, 8929, 62, 60]   \n",
       "\n",
       "                                          GC-content Host is Longest?  \n",
       "0  [0.46226415094339623, 0.4803001876172608, 0.28...            False  \n",
       "1  [0.3868876080691642, 0.41428571428571426, 0.34...            False  \n",
       "2  [0.3868876080691642, 0.41428571428571426, 0.34...            False  \n",
       "3  [0.3868876080691642, 0.41428571428571426, 0.34...            False  \n",
       "4  [0.3868876080691642, 0.41428571428571426, 0.34...            False  "
      ]
     },
     "execution_count": 108,
     "metadata": {},
     "output_type": "execute_result"
    }
   ],
   "source": [
    "df.head()"
   ]
  },
  {
   "cell_type": "code",
   "execution_count": 111,
   "metadata": {},
   "outputs": [],
   "source": [
    "l = []\n",
    "for i in range(df.shape[0]):\n",
    "    sizes = np.asarray(df['GC-content'].values[i])\n",
    "    \n",
    "    ##recall host intron GC is starts the list\n",
    "    if sizes[0] == np.max(sizes):\n",
    "        l.append('True')\n",
    "    else:\n",
    "        l.append('False')\n",
    "df['Host_intron GC highest']=l\n",
    "merged['GC_highest?']=l"
   ]
  },
  {
   "cell_type": "code",
   "execution_count": 113,
   "metadata": {},
   "outputs": [
    {
     "data": {
      "text/html": [
       "<div>\n",
       "<style scoped>\n",
       "    .dataframe tbody tr th:only-of-type {\n",
       "        vertical-align: middle;\n",
       "    }\n",
       "\n",
       "    .dataframe tbody tr th {\n",
       "        vertical-align: top;\n",
       "    }\n",
       "\n",
       "    .dataframe thead th {\n",
       "        text-align: right;\n",
       "    }\n",
       "</style>\n",
       "<table border=\"1\" class=\"dataframe\">\n",
       "  <thead>\n",
       "    <tr style=\"text-align: right;\">\n",
       "      <th></th>\n",
       "      <th>GC_highest</th>\n",
       "      <th>Number of Host</th>\n",
       "      <th>Orientation</th>\n",
       "    </tr>\n",
       "  </thead>\n",
       "  <tbody>\n",
       "    <tr>\n",
       "      <th>0</th>\n",
       "      <td>False</td>\n",
       "      <td>44</td>\n",
       "      <td>Sense</td>\n",
       "    </tr>\n",
       "    <tr>\n",
       "      <th>1</th>\n",
       "      <td>True</td>\n",
       "      <td>7</td>\n",
       "      <td>Sense</td>\n",
       "    </tr>\n",
       "    <tr>\n",
       "      <th>0</th>\n",
       "      <td>False</td>\n",
       "      <td>56</td>\n",
       "      <td>Antisense</td>\n",
       "    </tr>\n",
       "    <tr>\n",
       "      <th>1</th>\n",
       "      <td>True</td>\n",
       "      <td>21</td>\n",
       "      <td>Antisense</td>\n",
       "    </tr>\n",
       "  </tbody>\n",
       "</table>\n",
       "</div>"
      ],
      "text/plain": [
       "  GC_highest  Number of Host Orientation\n",
       "0      False              44       Sense\n",
       "1       True               7       Sense\n",
       "0      False              56   Antisense\n",
       "1       True              21   Antisense"
      ]
     },
     "execution_count": 113,
     "metadata": {},
     "output_type": "execute_result"
    }
   ],
   "source": [
    "multi = merged[merged['Number of Introns']>1] ##extract genes with multiple introns\n",
    "s = multi[multi['Co-orientation']=='Yes']['GC_highest?'].value_counts().to_frame().reset_index()\n",
    "s.columns=['GC_highest','Number of Host']\n",
    "s['Orientation']='Sense'\n",
    "a = multi[multi['Co-orientation']=='No']['GC_highest?'].value_counts().reset_index()\n",
    "a.columns=['GC_highest','Number of Host']\n",
    "a['Orientation']='Antisense'\n",
    "G= pd.concat([s,a],axis=0)\n",
    "G"
   ]
  },
  {
   "cell_type": "code",
   "execution_count": 114,
   "metadata": {},
   "outputs": [
    {
     "name": "stdout",
     "output_type": "stream",
     "text": [
      "OddsR:  2.357142857142857 p-Value: 0.08280668438540337\n"
     ]
    }
   ],
   "source": [
    "##odds ratio again\n",
    "con_table2 = pd.concat([s, a], axis = 1, keys=(list('AB'))).groupby(level=0).sum().values\n",
    "oddsratio, pvalue = stats.fisher_exact(con_table2)\n",
    "print(\"OddsR: \", oddsratio, \"p-Value:\", pvalue)"
   ]
  },
  {
   "cell_type": "code",
   "execution_count": 116,
   "metadata": {
    "scrolled": true
   },
   "outputs": [
    {
     "data": {
      "image/png": "[encoded data removed]",
      "text/plain": [
       "<matplotlib.figure.Figure at 0x11086e80>"
      ]
     },
     "metadata": {},
     "output_type": "display_data"
    }
   ],
   "source": [
    "plt.figure(figsize=(8,6))\n",
    "seaborn.barplot(x='Orientation', y='Number of Host', data=G, hue='GC_highest')\n",
    "plt.ylabel('Number of Host Introns',fontsize=14,fontweight='bold')\n",
    "plt.xlabel('Does Host Intron have highest GC-content',fontsize=14,fontweight='bold');plt.xticks(fontsize=13.5)\n",
    "plt.show()"
   ]
  },
  {
   "cell_type": "code",
   "execution_count": 125,
   "metadata": {},
   "outputs": [],
   "source": [
    "##mean GC content and sd without considering the host intron\n",
    "m = []\n",
    "sd=[]\n",
    "for i in range(df.shape[0]):\n",
    "    sizes = np.asarray(df['GC-content'].values[i][1:])\n",
    "    if len(sizes)==0:\n",
    "        continue\n",
    "    else:\n",
    "        m.append(np.mean(sizes))\n",
    "        sd.append(np.std(sizes))"
   ]
  },
  {
   "cell_type": "code",
   "execution_count": 137,
   "metadata": {},
   "outputs": [],
   "source": [
    "##mean GC content and sd including considering the host intron\n",
    "m2 = []\n",
    "sd2=[]\n",
    "for i in range(df.shape[0]):\n",
    "    sizes = np.asarray(df['GC-content'].values[i])\n",
    "    if len(sizes)==1:\n",
    "        continue\n",
    "    else:\n",
    "        \n",
    "        m2.append(np.mean(sizes))\n",
    "        sd2.append(np.std(sizes))"
   ]
  },
  {
   "cell_type": "code",
   "execution_count": 138,
   "metadata": {
    "scrolled": false
   },
   "outputs": [
    {
     "data": {
      "image/png": "[encoded data removed]",
      "text/plain": [
       "<matplotlib.figure.Figure at 0x19742e48>"
      ]
     },
     "metadata": {},
     "output_type": "display_data"
    }
   ],
   "source": [
    "plt.hist(m) #mean GC without host intron GC contribution\n",
    "plt.hist(m2,color='darkorange')  #mean GC with host intron GC contribution\n",
    "plt.title('Mean GC-content introns')\n",
    "plt.show()"
   ]
  },
  {
   "cell_type": "markdown",
   "metadata": {},
   "source": [
    "either way nested tRNA nucleotide composition doesn't reflect their host introns, nor the neighbouring introns"
   ]
  },
  {
   "cell_type": "code",
   "execution_count": 139,
   "metadata": {},
   "outputs": [
    {
     "data": {
      "image/png": "[encoded data removed]",
      "text/plain": [
       "<matplotlib.figure.Figure at 0x19764e48>"
      ]
     },
     "metadata": {},
     "output_type": "display_data"
    }
   ],
   "source": [
    "plt.hist(sd,alpha=0.4) #std GC without host intron GC contribution\n",
    "plt.hist(sd2,color='darkorange',alpha=0.4)  #std GC with host intron GC contribution\n",
    "plt.title('Mean GC-content introns')\n",
    "plt.show()"
   ]
  },
  {
   "cell_type": "code",
   "execution_count": 135,
   "metadata": {},
   "outputs": [],
   "source": [
    "from scipy.stats import pearsonr"
   ]
  },
  {
   "cell_type": "code",
   "execution_count": 140,
   "metadata": {
    "scrolled": true
   },
   "outputs": [
    {
     "data": {
      "text/plain": [
       "(0.9784580117779015, 3.355793078570785e-88)"
      ]
     },
     "execution_count": 140,
     "metadata": {},
     "output_type": "execute_result"
    }
   ],
   "source": [
    "pearsonr(m,m2)"
   ]
  },
  {
   "cell_type": "code",
   "execution_count": 150,
   "metadata": {},
   "outputs": [],
   "source": [
    "merged['AT-content_trna'] = merged['A-content_trna']+merged['T-content_trna']\n",
    "merged['AT-content_intron']= merged['T-content']+merged['T-content']\n",
    "merged['GC-content_trna'] = merged['G-content_trna']+merged['C-content_trna']\n",
    "merged['GC-content_intron']= merged['G-content']+merged['C-content']"
   ]
  },
  {
   "cell_type": "code",
   "execution_count": 151,
   "metadata": {},
   "outputs": [
    {
     "data": {
      "text/plain": [
       "(128, 29)"
      ]
     },
     "execution_count": 151,
     "metadata": {},
     "output_type": "execute_result"
    }
   ],
   "source": [
    "multi = merged[merged['Number of Introns']>1] ##extract genes with multiple introns\n",
    "multi.shape"
   ]
  },
  {
   "cell_type": "code",
   "execution_count": 155,
   "metadata": {
    "scrolled": false
   },
   "outputs": [
    {
     "name": "stderr",
     "output_type": "stream",
     "text": [
      "c:\\program files\\python36\\lib\\site-packages\\ipykernel_launcher.py:8: SettingWithCopyWarning: \n",
      "A value is trying to be set on a copy of a slice from a DataFrame.\n",
      "Try using .loc[row_indexer,col_indexer] = value instead\n",
      "\n",
      "See the caveats in the documentation: http://pandas.pydata.org/pandas-docs/stable/indexing.html#indexing-view-versus-copy\n",
      "  \n"
     ]
    }
   ],
   "source": [
    "##mean GC content and sd without considering the host intron\n",
    "m = []\n",
    "sd=[]\n",
    "for i in range(df[df['# of introns']>1].shape[0]):\n",
    "    sizes = np.asarray(df['GC-content'].values[i])\n",
    "    m.append(np.mean(sizes))\n",
    "    sd.append(np.std(sizes))\n",
    "multi['Mean_GC_non_host_introns'] = m"
   ]
  },
  {
   "cell_type": "code",
   "execution_count": 153,
   "metadata": {
    "scrolled": true
   },
   "outputs": [
    {
     "data": {
      "text/plain": [
       "Index(['Chrom', 'Start', 'End', 'Strand', 'tRNA_ID', 'tRNA_name',\n",
       "       'Host_Exon_ID', 'intron_length', 'mRNA_length', 'Host_gene_name',\n",
       "       'Host_Gene_Strand', 'Co-orientation', 'Intron_Sequence', 'A-content',\n",
       "       'G-content', 'T-content', 'C-content', 'tRNA_Sequence',\n",
       "       'A-content_trna', 'G-content_trna', 'T-content_trna', 'C-content_trna',\n",
       "       'Longest?', 'Number of Introns', 'GC_highest?', 'AT-content_trna',\n",
       "       'AT-content_intron', 'GC-content_trna', 'GC-content_intron',\n",
       "       'Mean_Intron_gc'],\n",
       "      dtype='object')"
      ]
     },
     "execution_count": 153,
     "metadata": {},
     "output_type": "execute_result"
    }
   ],
   "source": [
    "multi.columns"
   ]
  },
  {
   "cell_type": "code",
   "execution_count": 169,
   "metadata": {
    "scrolled": false
   },
   "outputs": [
    {
     "ename": "TypeError",
     "evalue": "'<' not supported between instances of 'numpy.ndarray' and 'str'",
     "output_type": "error",
     "traceback": [
      "\u001b[1;31m---------------------------------------------------------------------------\u001b[0m",
      "\u001b[1;31mTypeError\u001b[0m                                 Traceback (most recent call last)",
      "\u001b[1;32m<ipython-input-169-8a37f90b2abf>\u001b[0m in \u001b[0;36m<module>\u001b[1;34m()\u001b[0m\n\u001b[0;32m      4\u001b[0m \u001b[1;31m#locs, labels = xticks()\u001b[0m\u001b[1;33m\u001b[0m\u001b[1;33m\u001b[0m\u001b[0m\n\u001b[0;32m      5\u001b[0m plt.xticks(('Mean_GC_non_host_introns','GC-content_host_intron','AT-content_host_intron','GC-content_trna',\n\u001b[1;32m----> 6\u001b[1;33m         'AT-content_trna'))\n\u001b[0m\u001b[0;32m      7\u001b[0m \u001b[0mplt\u001b[0m\u001b[1;33m.\u001b[0m\u001b[0mshow\u001b[0m\u001b[1;33m(\u001b[0m\u001b[1;33m)\u001b[0m\u001b[1;33m\u001b[0m\u001b[0m\n",
      "\u001b[1;32mc:\\program files\\python36\\lib\\site-packages\\matplotlib\\pyplot.py\u001b[0m in \u001b[0;36mxticks\u001b[1;34m(*args, **kwargs)\u001b[0m\n\u001b[0;32m   1677\u001b[0m         \u001b[0mlabels\u001b[0m \u001b[1;33m=\u001b[0m \u001b[0max\u001b[0m\u001b[1;33m.\u001b[0m\u001b[0mget_xticklabels\u001b[0m\u001b[1;33m(\u001b[0m\u001b[1;33m)\u001b[0m\u001b[1;33m\u001b[0m\u001b[0m\n\u001b[0;32m   1678\u001b[0m     \u001b[1;32melif\u001b[0m \u001b[0mlen\u001b[0m\u001b[1;33m(\u001b[0m\u001b[0margs\u001b[0m\u001b[1;33m)\u001b[0m\u001b[1;33m==\u001b[0m\u001b[1;36m1\u001b[0m\u001b[1;33m:\u001b[0m\u001b[1;33m\u001b[0m\u001b[0m\n\u001b[1;32m-> 1679\u001b[1;33m         \u001b[0mlocs\u001b[0m \u001b[1;33m=\u001b[0m \u001b[0max\u001b[0m\u001b[1;33m.\u001b[0m\u001b[0mset_xticks\u001b[0m\u001b[1;33m(\u001b[0m\u001b[0margs\u001b[0m\u001b[1;33m[\u001b[0m\u001b[1;36m0\u001b[0m\u001b[1;33m]\u001b[0m\u001b[1;33m)\u001b[0m\u001b[1;33m\u001b[0m\u001b[0m\n\u001b[0m\u001b[0;32m   1680\u001b[0m         \u001b[0mlabels\u001b[0m \u001b[1;33m=\u001b[0m \u001b[0max\u001b[0m\u001b[1;33m.\u001b[0m\u001b[0mget_xticklabels\u001b[0m\u001b[1;33m(\u001b[0m\u001b[1;33m)\u001b[0m\u001b[1;33m\u001b[0m\u001b[0m\n\u001b[0;32m   1681\u001b[0m     \u001b[1;32melif\u001b[0m \u001b[0mlen\u001b[0m\u001b[1;33m(\u001b[0m\u001b[0margs\u001b[0m\u001b[1;33m)\u001b[0m\u001b[1;33m==\u001b[0m\u001b[1;36m2\u001b[0m\u001b[1;33m:\u001b[0m\u001b[1;33m\u001b[0m\u001b[0m\n",
      "\u001b[1;32mc:\\program files\\python36\\lib\\site-packages\\matplotlib\\axes\\_base.py\u001b[0m in \u001b[0;36mset_xticks\u001b[1;34m(self, ticks, minor)\u001b[0m\n\u001b[0;32m   2843\u001b[0m         \u001b[0mACCEPTS\u001b[0m\u001b[1;33m:\u001b[0m \u001b[0msequence\u001b[0m \u001b[0mof\u001b[0m \u001b[0mfloats\u001b[0m\u001b[1;33m\u001b[0m\u001b[0m\n\u001b[0;32m   2844\u001b[0m         \"\"\"\n\u001b[1;32m-> 2845\u001b[1;33m         \u001b[0mret\u001b[0m \u001b[1;33m=\u001b[0m \u001b[0mself\u001b[0m\u001b[1;33m.\u001b[0m\u001b[0mxaxis\u001b[0m\u001b[1;33m.\u001b[0m\u001b[0mset_ticks\u001b[0m\u001b[1;33m(\u001b[0m\u001b[0mticks\u001b[0m\u001b[1;33m,\u001b[0m \u001b[0mminor\u001b[0m\u001b[1;33m=\u001b[0m\u001b[0mminor\u001b[0m\u001b[1;33m)\u001b[0m\u001b[1;33m\u001b[0m\u001b[0m\n\u001b[0m\u001b[0;32m   2846\u001b[0m         \u001b[0mself\u001b[0m\u001b[1;33m.\u001b[0m\u001b[0mstale\u001b[0m \u001b[1;33m=\u001b[0m \u001b[1;32mTrue\u001b[0m\u001b[1;33m\u001b[0m\u001b[0m\n\u001b[0;32m   2847\u001b[0m         \u001b[1;32mreturn\u001b[0m \u001b[0mret\u001b[0m\u001b[1;33m\u001b[0m\u001b[0m\n",
      "\u001b[1;32mc:\\program files\\python36\\lib\\site-packages\\matplotlib\\axis.py\u001b[0m in \u001b[0;36mset_ticks\u001b[1;34m(self, ticks, minor)\u001b[0m\n\u001b[0;32m   1598\u001b[0m             \u001b[0mxleft\u001b[0m\u001b[1;33m,\u001b[0m \u001b[0mxright\u001b[0m \u001b[1;33m=\u001b[0m \u001b[0mself\u001b[0m\u001b[1;33m.\u001b[0m\u001b[0mget_view_interval\u001b[0m\u001b[1;33m(\u001b[0m\u001b[1;33m)\u001b[0m\u001b[1;33m\u001b[0m\u001b[0m\n\u001b[0;32m   1599\u001b[0m             \u001b[1;32mif\u001b[0m \u001b[0mxright\u001b[0m \u001b[1;33m>\u001b[0m \u001b[0mxleft\u001b[0m\u001b[1;33m:\u001b[0m\u001b[1;33m\u001b[0m\u001b[0m\n\u001b[1;32m-> 1600\u001b[1;33m                 \u001b[0mself\u001b[0m\u001b[1;33m.\u001b[0m\u001b[0mset_view_interval\u001b[0m\u001b[1;33m(\u001b[0m\u001b[0mmin\u001b[0m\u001b[1;33m(\u001b[0m\u001b[0mticks\u001b[0m\u001b[1;33m)\u001b[0m\u001b[1;33m,\u001b[0m \u001b[0mmax\u001b[0m\u001b[1;33m(\u001b[0m\u001b[0mticks\u001b[0m\u001b[1;33m)\u001b[0m\u001b[1;33m)\u001b[0m\u001b[1;33m\u001b[0m\u001b[0m\n\u001b[0m\u001b[0;32m   1601\u001b[0m             \u001b[1;32melse\u001b[0m\u001b[1;33m:\u001b[0m\u001b[1;33m\u001b[0m\u001b[0m\n\u001b[0;32m   1602\u001b[0m                 \u001b[0mself\u001b[0m\u001b[1;33m.\u001b[0m\u001b[0mset_view_interval\u001b[0m\u001b[1;33m(\u001b[0m\u001b[0mmax\u001b[0m\u001b[1;33m(\u001b[0m\u001b[0mticks\u001b[0m\u001b[1;33m)\u001b[0m\u001b[1;33m,\u001b[0m \u001b[0mmin\u001b[0m\u001b[1;33m(\u001b[0m\u001b[0mticks\u001b[0m\u001b[1;33m)\u001b[0m\u001b[1;33m)\u001b[0m\u001b[1;33m\u001b[0m\u001b[0m\n",
      "\u001b[1;32mc:\\program files\\python36\\lib\\site-packages\\matplotlib\\axis.py\u001b[0m in \u001b[0;36mset_view_interval\u001b[1;34m(self, vmin, vmax, ignore)\u001b[0m\n\u001b[0;32m   1929\u001b[0m             \u001b[0mVmin\u001b[0m\u001b[1;33m,\u001b[0m \u001b[0mVmax\u001b[0m \u001b[1;33m=\u001b[0m \u001b[0mself\u001b[0m\u001b[1;33m.\u001b[0m\u001b[0mget_view_interval\u001b[0m\u001b[1;33m(\u001b[0m\u001b[1;33m)\u001b[0m\u001b[1;33m\u001b[0m\u001b[0m\n\u001b[0;32m   1930\u001b[0m             \u001b[1;32mif\u001b[0m \u001b[0mVmin\u001b[0m \u001b[1;33m<\u001b[0m \u001b[0mVmax\u001b[0m\u001b[1;33m:\u001b[0m\u001b[1;33m\u001b[0m\u001b[0m\n\u001b[1;32m-> 1931\u001b[1;33m                 self.axes.viewLim.intervalx = (min(vmin, vmax, Vmin),\n\u001b[0m\u001b[0;32m   1932\u001b[0m                                                max(vmin, vmax, Vmax))\n\u001b[0;32m   1933\u001b[0m             \u001b[1;32melse\u001b[0m\u001b[1;33m:\u001b[0m\u001b[1;33m\u001b[0m\u001b[0m\n",
      "\u001b[1;31mTypeError\u001b[0m: '<' not supported between instances of 'numpy.ndarray' and 'str'"
     ]
    },
    {
     "data": {
      "image/png": "[encoded data removed]",
      "text/plain": [
       "<matplotlib.figure.Figure at 0x19c3b860>"
      ]
     },
     "metadata": {},
     "output_type": "display_data"
    }
   ],
   "source": [
    "plt.figure(figsize=(8,6))\n",
    "multi[['Mean_GC_non_host_introns','GC-content_intron','AT-content_intron','GC-content_trna',\n",
    "        'AT-content_trna']].boxplot(grid=False,fontsize=14,rot=80)\n",
    "#locs, labels = xticks()\n",
    "plt.xticks(('Mean_GC_non_host_introns','GC-content_host_intron','AT-content_host_intron','GC-content_trna',\n",
    "        'AT-content_trna'))\n",
    "plt.show()"
   ]
  },
  {
   "cell_type": "markdown",
   "metadata": {},
   "source": [
    "AGAIN nested tRNA nucleotide composition doesn't reflect their host introns, nor the neighbouring introns. Drosophila melanogaster introns are AT rich"
   ]
  },
  {
   "cell_type": "markdown",
   "metadata": {},
   "source": [
    "### Are there cases where host intron is the shortest among introns?"
   ]
  },
  {
   "cell_type": "code",
   "execution_count": 176,
   "metadata": {},
   "outputs": [],
   "source": [
    "l = []\n",
    "for i in range(df.shape[0]):\n",
    "    sizes = np.asarray(df['Intron lengths'].values[i])\n",
    "    \n",
    "    ##recall host intron size is starts the list\n",
    "    if sizes[0] == np.min(sizes):\n",
    "        l.append('True')\n",
    "    else:\n",
    "        l.append('False')\n",
    "df['Host_intron is shortest']=l"
   ]
  },
  {
   "cell_type": "code",
   "execution_count": 177,
   "metadata": {},
   "outputs": [
    {
     "data": {
      "text/plain": [
       "False    128\n",
       "True       2\n",
       "Name: Host_intron is shortest, dtype: int64"
      ]
     },
     "execution_count": 177,
     "metadata": {},
     "output_type": "execute_result"
    }
   ],
   "source": [
    "df['Host_intron is shortest'].value_counts()  "
   ]
  },
  {
   "cell_type": "code",
   "execution_count": 178,
   "metadata": {},
   "outputs": [
    {
     "data": {
      "text/plain": [
       "False    128\n",
       "Name: Shortest?, dtype: int64"
      ]
     },
     "execution_count": 178,
     "metadata": {},
     "output_type": "execute_result"
    }
   ],
   "source": [
    "###recall that one of the genes has only one intron\n",
    "merged['Shortest?']=df['Host_intron is shortest'].values\n",
    "multi = merged[merged['Number of Introns']>1] ##extract genes with multiple introns\n",
    "multi['Shortest?'].value_counts()"
   ]
  },
  {
   "cell_type": "code",
   "execution_count": null,
   "metadata": {},
   "outputs": [],
   "source": [
    "mult"
   ]
  }
 ],
 "metadata": {
  "kernelspec": {
   "display_name": "Python 3",
   "language": "python",
   "name": "python3"
  },
  "language_info": {
   "codemirror_mode": {
    "name": "ipython",
    "version": 3
   },
   "file_extension": ".py",
   "mimetype": "text/x-python",
   "name": "python",
   "nbconvert_exporter": "python",
   "pygments_lexer": "ipython3",
   "version": "3.7.4"
  }
 },
 "nbformat": 4,
 "nbformat_minor": 2
}
