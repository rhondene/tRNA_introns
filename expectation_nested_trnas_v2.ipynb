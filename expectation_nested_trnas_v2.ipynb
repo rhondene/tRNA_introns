{
 "cells": [
  {
   "cell_type": "markdown",
   "metadata": {},
   "source": [
    "Begin Sep 5 2019  \n",
    "Author: Rhondene Wint \n",
    "# Find the fraction of introns that can host a tRNA and compare to intergenic\n",
    "\n",
    "- Perform a two-sided and one-sided binomial test between intronic tRNAs and intergenic tRNAs. Explicitly, What is the probability that 130/288 tRNA genes are nested within protein-coding genes by random chance\n",
    "\n",
    "#### bear in mind\n",
    "- Intron length in Dmel ranges from 44bp to >70kbp with a strong mode at 58bp. https://pdfs.semanticscholar.org/fe6a/a335e906d93d28a739b854014638b7cfa83e.pdf\n",
    "- The majority (54%) of introns in Drosophila melanogaster is not longer than 81 nucleotides (nt). https://www.ncbi.nlm.nih.gov/pmc/articles/PMC2704441/\n",
    "- About 10% of introns in humans and 5% in Drosophila are >10 kb. An intron in the dyenin of the Y-chromosome of Dmel is 3Mb long (https://www.genetics.org/content/170/2/661)"
   ]
  },
  {
   "cell_type": "code",
   "execution_count": null,
   "metadata": {},
   "outputs": [],
   "source": [
    "from interval import interval, inf, imath\n",
    "import pandas as pd\n",
    "import numpy as np\n",
    "import matplotlib.pyplot as plt\n",
    "import seaborn "
   ]
  },
  {
   "cell_type": "code",
   "execution_count": null,
   "metadata": {},
   "outputs": [],
   "source": [
    "## load intron bed files\n",
    "\"\"\"all_introns.bed is Flybase r6.22, \n",
    "host_introns.bed is a subset of all_introns.bed\" containing introns that contain tRNA regions\"\"\"\n",
    "host_introns = pd.read_table('host_introns_only.bed',sep='\\t') ##custom bed wirh host intron IDs\n",
    "all_introns = pd.read_table('dmel_introns_ensembl.bed', sep='\\t',header=None, names=['Chr','Start','End','ID', 'Phase', 'Strand'])\n"
   ]
  },
  {
   "cell_type": "code",
   "execution_count": null,
   "metadata": {},
   "outputs": [],
   "source": [
    "##split columns to get transcript IDs \n",
    "IDs = []\n",
    "for name in all_introns['ID'].values:\n",
    "    n = name.split('_')[0]\n",
    "    IDs.append(n)\n",
    "all_introns['Transcript_ID']=IDs\n",
    "\n",
    "### compute intron lengths\n",
    "all_introns['Length']= all_introns['End']- all_introns['Start']\n",
    "all_introns.head()\n",
    "\n",
    "all_introns['Length'].describe()\n",
    "### look at the smallest host intron\n",
    "host_introns.head()"
   ]
  },
  {
   "cell_type": "code",
   "execution_count": null,
   "metadata": {},
   "outputs": [],
   "source": [
    "host_introns['Length'].describe()"
   ]
  },
  {
   "cell_type": "code",
   "execution_count": null,
   "metadata": {},
   "outputs": [],
   "source": [
    "##plot distirbutions of host intron length\n",
    "host_introns['Length'].hist()"
   ]
  },
  {
   "cell_type": "markdown",
   "metadata": {},
   "source": [
    "## to get total introns, I will  merge all overlapping introns in the bed file of a transcript then map the transcript ID to the gene IDs"
   ]
  },
  {
   "cell_type": "code",
   "execution_count": null,
   "metadata": {},
   "outputs": [],
   "source": [
    "transc_ids = all_introns['Transcript_ID'].unique()\n",
    "transcripts = all_introns.groupby('Transcript_ID')\n",
    "\n",
    "\"\"\"merge overlapping introons for each gene and compute length\"\"\"\n",
    "merged_regions = dict()\n",
    "## iterate over each gene\n",
    "for ID in transc_ids:\n",
    "    df = transcripts.get_group(ID).sort_values(by='Start', ascending=True) ##sort by ascending order\n",
    "    #set the initial value to start of the earliest intron\n",
    "    consol_region = interval[df['Start'].values[0]] \n",
    "    ##iterate over exons of the gene\n",
    "    for i in range(df.shape[0]):\n",
    "        #create an interval of an individual exon region\n",
    "        intron_size = interval[df['Start'].values[i],df['End'].values[i]] \n",
    "        ##consolidate overlapping the intron region\n",
    "        consol_region= consol_region | intron_size  \n",
    "    ##finally store  a list of non-overlapping intronic intervals of a gene\n",
    "    merged_regions[ID]=consol_region\n",
    "\n",
    "##store total_intron_size for each transcript\n",
    "transc_total_introns=dict()\n",
    "for ID in transc_ids:\n",
    "    consol_region = merged_regions[ID]\n",
    "    total=0\n",
    "    for region in consol_region:\n",
    "        total+= region[1]-region[0]\n",
    "    \n",
    "    transc_total_introns[ID] = total  ##for my own use when I want to look intron sise distbtion"
   ]
  },
  {
   "cell_type": "code",
   "execution_count": null,
   "metadata": {},
   "outputs": [],
   "source": [
    "fb_gtf = pd.read_table('dmel-all-r6.27.gtf',sep='\\t',header=None, \n",
    "                    names=['Chr','Database','Feature','Start','End','?', 'Strand','?.1', 'Attributes'])\n",
    "fb_gtf.head()"
   ]
  },
  {
   "cell_type": "code",
   "execution_count": null,
   "metadata": {},
   "outputs": [],
   "source": [
    "## split column to transcript_ID infromation \n",
    "fb_gtf['Attributes'].values[1]"
   ]
  },
  {
   "cell_type": "code",
   "execution_count": null,
   "metadata": {},
   "outputs": [],
   "source": [
    "##store the total intron lenghts for transcript for each gene in a table\n",
    "total_introns_transc = pd.DataFrame.from_dict(transc_total_introns,orient='index').reset_index()\n",
    "total_introns_transc.columns=['Transcript ID', 'Total Intron Size']"
   ]
  },
  {
   "cell_type": "code",
   "execution_count": null,
   "metadata": {},
   "outputs": [],
   "source": [
    "##select transcript entries for mRNA and ncRNA fromt the gtf file\n",
    "all_transc= fb_gtf.query('Feature!=\"gene\" and Feature!=\"exon\" and Feature!= \"5UTR\" and Feature!=\"3UTR\" and Feature!=\"stop_codon\" and Feature!=\"start_codon\" and Feature!=\"CDS\"')"
   ]
  },
  {
   "cell_type": "code",
   "execution_count": null,
   "metadata": {},
   "outputs": [],
   "source": [
    "##parse Attributes  to obtain transcript IDs\n",
    "trans_id = []\n",
    "for attr in all_transc['Attributes'].values:\n",
    "    ID = attr.split(\";\")[2].split(\" \")[2].replace('\"',\"\")\n",
    "    trans_id.append(ID)\n",
    "all_transc['Transcript ID'] =  trans_id"
   ]
  },
  {
   "cell_type": "code",
   "execution_count": null,
   "metadata": {},
   "outputs": [],
   "source": [
    "## make a dictionary with gene ID: trasncripts\n",
    "genes = all_transc.groupby('Gene ID')\n",
    "gene_ids = all_transc['Gene ID'].unique()\n",
    "\n",
    "gene_dict = dict()\n",
    "for gene in gene_ids:\n",
    "    df = genes.get_group(gene)\n",
    "    transcripts =  list(df['Transcript ID'].values)\n",
    "    gene_dict[gene]=transcripts\n",
    "    \n",
    "\"\"\" the map trancsript IDs to parent gene IDs\"\"\"\n",
    "parent_gene = []\n",
    "for ID in total_introns_transc['Transcript ID']:\n",
    "    for gene in list(gene_dict.keys()):\n",
    "        if ID in gene_dict[gene]:\n",
    "            parent_gene.append(gene)\n",
    "            break\n",
    "        else:\n",
    "            continue    "
   ]
  },
  {
   "cell_type": "code",
   "execution_count": null,
   "metadata": {},
   "outputs": [],
   "source": [
    "len(parent_gene)==total_introns_transc.shape[0]  #should be True but is false \n",
    "total_introns_transc.shape[0] - len(parent_gene) ## "
   ]
  },
  {
   "cell_type": "markdown",
   "metadata": {},
   "source": [
    "#### Okay so 83 transcript ID in the ensembl annotation based on  Flybase release 6.22 is missing in the flybase release 6.27 gtf.\n",
    "those 83 gonna get dropped"
   ]
  },
  {
   "cell_type": "code",
   "execution_count": null,
   "metadata": {},
   "outputs": [],
   "source": [
    "\"\"\" identify missing transcript entries \"\"\"\n",
    "present = []\n",
    "for i in range(total_introns_transc.shape[0]):\n",
    "    transc_id = total_introns_transc['Transcript ID'].values[i]\n",
    "    if transc_id not in all_transc['Transcript ID'].values:\n",
    "        present.append('Missing')\n",
    "    else:\n",
    "        present.append('Yes')\n",
    "total_introns_transc['Present']=present\n",
    "\n",
    "\"\"\" select entries that are present in both annotation, i.e. filter out the 83 transcitps\"\"\"\n",
    "total_introns2 = total_introns_transc.query('Present==\"Yes\"')\n",
    "\n",
    "\"\"\"update the code for mapping transcript ID to gen ID\"\"\"\n",
    "parent_gene = []\n",
    "for ID in total_introns2['Transcript ID'].values:\n",
    "    for gene in list(gene_dict.keys()):\n",
    "        if ID in gene_dict[gene]:\n",
    "            parent_gene.append(gene)\n",
    "            break\n",
    "        else:\n",
    "            continue\n"
   ]
  },
  {
   "cell_type": "code",
   "execution_count": null,
   "metadata": {},
   "outputs": [],
   "source": [
    "\"\"\" compute total intron size\"\"\"\n",
    "parent_genes = total_introns2['Gene ID'].unique()\n",
    "total_intron_size = 0\n",
    "genes =  total_introns2.groupby('Gene ID')\n",
    "\n",
    "for gene in parent_genes:\n",
    "    ##get all transcripts for each gene\n",
    "    df = genes.get_group(gene)\n",
    "    ##update the total genomic intron with the max intron length\n",
    "    total_intron_size+=df['Total Intron Size'].max()\n",
    "total_intron_size"
   ]
  },
  {
   "cell_type": "markdown",
   "metadata": {},
   "source": [
    "## compute net intronic size by subtracting contribution due nestred tRNAs"
   ]
  },
  {
   "cell_type": "code",
   "execution_count": null,
   "metadata": {},
   "outputs": [],
   "source": [
    "##load the trna genes predicted from introns of the longest isoforms\n",
    "tscan_intronic = pd.read_table('tscan_predicted_transc_introns.txt',sep='\\t',skiprows=1).reset_index(drop=True).drop(0,axis=0)\n",
    "tscan_intronic.head()"
   ]
  },
  {
   "cell_type": "code",
   "execution_count": null,
   "metadata": {},
   "outputs": [],
   "source": [
    "tscan_intronic=tscan_intronic[tscan_intronic['Note']!='pseudo'].drop('Note',axis=1)\n",
    "tscan_intronic['Score'] = tscan_intronic['Score'].astype(float)\n",
    "tscan_intronic = tscan_intronic[tscan_intronic['Score']>50]  ##remove low-quality trnas with covariance below 50\n",
    "lengths = tscan_intronic['End'].astype(int) - tscan_intronic['Begin'].astype(int)\n",
    "total_trna = np.sum(np.abs(lengths))\n",
    "total_trna"
   ]
  },
  {
   "cell_type": "code",
   "execution_count": null,
   "metadata": {},
   "outputs": [],
   "source": [
    "#compute net intronic region \n",
    "net_intronic = total_intron_size-  total_trna\n",
    "net_intronic"
   ]
  },
  {
   "cell_type": "markdown",
   "metadata": {},
   "source": [
    "#### recall that by summing the overlapping exons then subtracting it from total genic composition I got total intron size of 65 Mb (see merge_overlapping_exons notebook) and summing the total introns of the longest isoform in Graham's table gave me 57Mb."
   ]
  },
  {
   "cell_type": "markdown",
   "metadata": {},
   "source": [
    "## compute genome size and intergenic size\n",
    "- Intergenic = genome_size - total geneic"
   ]
  },
  {
   "cell_type": "code",
   "execution_count": 1,
   "metadata": {},
   "outputs": [],
   "source": [
    "##total genic\n",
    "genic = fb_gtf.query('Feature==\"gene\"')  ##keep in mind tRNAs are \"gene\" too\n",
    "genic_size = np.sum(genic['End']-genic['Start'])\n",
    "genic_size"
   ]
  },
  {
   "cell_type": "code",
   "execution_count": null,
   "metadata": {},
   "outputs": [],
   "source": [
    "genome_size=0\n",
    "with open('dmel-all-chromosome-r6.27.fasta', 'r') as f:\n",
    "    for line in f:\n",
    "        if line.startswith('>') is True:\n",
    "            continue\n",
    "        else:\n",
    "            genome_size+=len(line)\n",
    "genome_size\n",
    "\"\"\" estimate intergnic as difference between genome size and total genic \"\"\"\n",
    "intergenic = genome_size-genic_size\n",
    "print('Total intronic size {}Mb \\n Total Intergenic size: {}Mb '.format(total_intron_size/1e6, intergenic))\n",
    "print(\"Log Intergenic size: {} \\n Log Intronic size {}\".format(np.log(intergenic), np.log(total_intron_size)))"
   ]
  },
  {
   "cell_type": "markdown",
   "metadata": {},
   "source": [
    "## Compute binomial test"
   ]
  },
  {
   "cell_type": "code",
   "execution_count": 2,
   "metadata": {},
   "outputs": [],
   "source": [
    "from scipy.stats import chisquare, binom_test"
   ]
  },
  {
   "cell_type": "code",
   "execution_count": null,
   "metadata": {},
   "outputs": [],
   "source": [
    "net_intronic/genome_size"
   ]
  },
  {
   "cell_type": "code",
   "execution_count": null,
   "metadata": {},
   "outputs": [],
   "source": [
    "#since total intron size is 46% of genome what is the expectation of nesting 130 trna? \n",
    "binom_test(x=130,n=290,p=0.46,alternative='two-sided' )   "
   ]
  },
  {
   "cell_type": "markdown",
   "metadata": {},
   "source": [
    "### Repeat test by choosing only total intron size based on introns atleast 200nt"
   ]
  },
  {
   "cell_type": "code",
   "execution_count": null,
   "metadata": {},
   "outputs": [],
   "source": [
    "above_200 = all_introns[all_introns['Length']>=200]\n",
    "above_200.shape\n",
    "##merge overlapping introns of transcripts\n",
    "transc_ids = above_200['Transcript_ID'].unique()\n",
    "transcripts = above_200.groupby('Transcript_ID')\n",
    "\n",
    "\"\"\"merge overlapping introons for each gene and compute length\"\"\"\n",
    "merged_regions = dict()\n",
    "## iterate over each gene\n",
    "for ID in transc_ids:\n",
    "    df = transcripts.get_group(ID).sort_values(by='Start', ascending=True) ##sort by ascending order\n",
    "    #set the initial value to start of the earliest intron\n",
    "    consol_region = interval[df['Start'].values[0]] \n",
    "    ##iterate over exons of the gene\n",
    "    for i in range(df.shape[0]):\n",
    "        #create an interval of an individual intronicregion\n",
    "        intron_size = interval[df['Start'].values[i],df['End'].values[i]] \n",
    "        ##consolidate overlapping the intron region\n",
    "        consol_region= consol_region | intron_size  \n",
    "    ##finally store  a list of non-overlapping intronicc intervals of a gene\n",
    "    merged_regions[ID]=consol_region\n",
    "\n",
    "##computed total_intron_size for drosophila\n",
    "transc_total_introns=dict()\n",
    "total_intron_length=0\n",
    "for ID in transc_ids:\n",
    "    consol_region = merged_regions[ID]\n",
    "    total=0\n",
    "    for region in consol_region:\n",
    "        total+= region[1]-region[0]\n",
    "    \n",
    "##computed total_intron_size for drosophila\n",
    "transc_total_introns=dict()\n",
    "for ID in transc_ids:\n",
    "    consol_region = merged_regions[ID]\n",
    "    total=0\n",
    "    for region in consol_region:\n",
    "        total+= region[1]-region[0]\n",
    "    \n",
    "    transc_total_introns[ID] = total  ##for my own use when I want to look intron sise distbtion\n",
    "above_200_totals = pd.DataFrame.from_dict(transc_total_introns,orient='index').reset_index()\n",
    "above_200_totals.columns=['Transcript ID', 'Total Intron Size']"
   ]
  },
  {
   "cell_type": "markdown",
   "metadata": {},
   "source": [
    "#### aaah i just remembered I can use flybase feature mapper to map transcript ID to gene ID but not gonna. I'll maintiain the same approach"
   ]
  },
  {
   "cell_type": "code",
   "execution_count": null,
   "metadata": {},
   "outputs": [],
   "source": [
    "present = []\n",
    "for i in range(above_200_totals.shape[0]):\n",
    "    transc_id = above_200_totals['Transcript ID'].values[i]\n",
    "    if transc_id not in all_transc['Transcript ID'].values:\n",
    "        present.append('Missing')\n",
    "    else:\n",
    "        present.append('Yes')\n",
    "above_200_totals['Present']=present  ##34 transcripts will be absent from calculations\n",
    "\n",
    "above_200_totals2= above_200_totals.query('Present==\"Yes\"')\n",
    "\n",
    "\"\"\"mapping transcript ID to gen ID\"\"\"\n",
    "parent_gene = []\n",
    "for ID in above_200_totals2['Transcript ID'].values:\n",
    "    for gene in list(gene_dict.keys()):\n",
    "        if ID in gene_dict[gene]:\n",
    "            parent_gene.append(gene)\n",
    "            break\n",
    "        else:\n",
    "            continue\n",
    "above_200_totals2['Gene ID']= parent_gene\n",
    "above_200_totals2.to_csv('introns_above_200nt.csv',index=False, sep=',')\n",
    "parent_genes = above_200_totals2['Gene ID'].unique()\n",
    "total_intron_size = 0\n",
    "genes =  above_200_totals2.groupby('Gene ID')\n",
    "\n",
    "for gene in parent_genes:\n",
    "    ##get all transcripts for each gene\n",
    "    df = genes.get_group(gene)\n",
    "    ##update the total genomic intron with the max intron length\n",
    "    total_intron_size+=df['Total Intron Size'].max()\n",
    "total_intron_size"
   ]
  },
  {
   "cell_type": "code",
   "execution_count": null,
   "metadata": {},
   "outputs": [],
   "source": [
    "net_intronic/genome_size\n",
    "## in intronic is \n",
    "binom_test(x=130,n=290,p=0.46,alternative='two-sided')   \n",
    "## in intronic is \n",
    "binom_test(x=130,n=290,p=0.46,alternative='greater')   "
   ]
  },
  {
   "cell_type": "markdown",
   "metadata": {},
   "source": [
    "## 5 tRNAS were in the 3'UTR"
   ]
  },
  {
   "cell_type": "code",
   "execution_count": null,
   "metadata": {},
   "outputs": [],
   "source": [
    "##total size of 3UTR trnas\n",
    "trnas_UTR = np.sum(np.abs(tscan_3UTR['End '].astype(int)- tscan_3UTR['Begin'].astype(int)))\n",
    "trnas_UTR\n",
    "total_3UTR/genome_size  ##5% of genome is 3UTR\n",
    "binom_test(x=130,n=290,p=0.46,alternative='two-sided')   \n",
    "\n",
    "len(fb_gtf[fb_gtf['Feature']=='mRNA']['Gene ID'].unique())\n",
    "len(fb_gtf[fb_gtf['Feature']=='3UTR']['Gene ID'].unique())\n",
    "len(fb_gtf[fb_gtf['Feature']=='mRNA']['Gene ID'].unique())-len(fb_gtf[fb_gtf['Feature']=='3UTR']['Gene ID'].unique()) \n",
    "##445 3'utr missing\n",
    "\n",
    "UTR_3= fb_gtf[fb_gtf['Feature']=='3UTR']\n",
    "\n",
    "UTR_3['Length']= UTR_3['End']-UTR_3['Start']\n",
    "UTR_3['Length'].describe()\n",
    "\n",
    "total_3UTR/genome_size  ##5% of genome is 3UTR\n",
    "\n",
    "binom_test(x=5,n=290,p=0.06,alternative='two-sided')   ##p-val still == 0.00073\n",
    "binom_test(x=5,n=290,p=0.06,alternative='two-sided')   ##p-val still < 0.05\n"
   ]
  },
  {
   "cell_type": "markdown",
   "metadata": {},
   "source": [
    "### In conclusion:\n",
    "- Nested intronic tRNAs do not occur more than random\n",
    "-   3'UTR trnas occur more than expected random. "
   ]
  }
 ],
 "metadata": {
  "kernelspec": {
   "display_name": "Python 3",
   "language": "python",
   "name": "python3"
  },
  "language_info": {
   "codemirror_mode": {
    "name": "ipython",
    "version": 3
   },
   "file_extension": ".py",
   "mimetype": "text/x-python",
   "name": "python",
   "nbconvert_exporter": "python",
   "pygments_lexer": "ipython3",
   "version": "3.7.4"
  }
 },
 "nbformat": 4,
 "nbformat_minor": 2
}
