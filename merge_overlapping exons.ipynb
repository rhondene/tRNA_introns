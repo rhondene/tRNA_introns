{
 "cells": [
  {
   "cell_type": "code",
   "execution_count": 1,
   "metadata": {},
   "outputs": [],
   "source": [
    "from interval import interval, inf, imath\n",
    "import pandas as pd\n",
    "import numpy as np"
   ]
  },
  {
   "cell_type": "code",
   "execution_count": 2,
   "metadata": {
    "scrolled": true
   },
   "outputs": [
    {
     "data": {
      "text/html": [
       "<div>\n",
       "<style scoped>\n",
       "    .dataframe tbody tr th:only-of-type {\n",
       "        vertical-align: middle;\n",
       "    }\n",
       "\n",
       "    .dataframe tbody tr th {\n",
       "        vertical-align: top;\n",
       "    }\n",
       "\n",
       "    .dataframe thead th {\n",
       "        text-align: right;\n",
       "    }\n",
       "</style>\n",
       "<table border=\"1\" class=\"dataframe\">\n",
       "  <thead>\n",
       "    <tr style=\"text-align: right;\">\n",
       "      <th></th>\n",
       "      <th>Chr</th>\n",
       "      <th>Database</th>\n",
       "      <th>Feature</th>\n",
       "      <th>Start</th>\n",
       "      <th>End</th>\n",
       "      <th>?</th>\n",
       "      <th>Strand</th>\n",
       "      <th>?.1</th>\n",
       "      <th>Attributes</th>\n",
       "    </tr>\n",
       "  </thead>\n",
       "  <tbody>\n",
       "    <tr>\n",
       "      <td>0</td>\n",
       "      <td>X</td>\n",
       "      <td>FlyBase</td>\n",
       "      <td>gene</td>\n",
       "      <td>19961297</td>\n",
       "      <td>19969323</td>\n",
       "      <td>.</td>\n",
       "      <td>+</td>\n",
       "      <td>.</td>\n",
       "      <td>gene_id \"FBgn0031081\"; gene_symbol \"Nep3\";</td>\n",
       "    </tr>\n",
       "    <tr>\n",
       "      <td>1</td>\n",
       "      <td>X</td>\n",
       "      <td>FlyBase</td>\n",
       "      <td>mRNA</td>\n",
       "      <td>19961689</td>\n",
       "      <td>19968479</td>\n",
       "      <td>.</td>\n",
       "      <td>+</td>\n",
       "      <td>.</td>\n",
       "      <td>gene_id \"FBgn0031081\"; gene_symbol \"Nep3\"; tra...</td>\n",
       "    </tr>\n",
       "    <tr>\n",
       "      <td>2</td>\n",
       "      <td>X</td>\n",
       "      <td>FlyBase</td>\n",
       "      <td>5UTR</td>\n",
       "      <td>19961689</td>\n",
       "      <td>19961845</td>\n",
       "      <td>.</td>\n",
       "      <td>+</td>\n",
       "      <td>.</td>\n",
       "      <td>gene_id \"FBgn0031081\"; gene_symbol \"Nep3\"; tra...</td>\n",
       "    </tr>\n",
       "    <tr>\n",
       "      <td>3</td>\n",
       "      <td>X</td>\n",
       "      <td>FlyBase</td>\n",
       "      <td>exon</td>\n",
       "      <td>19961689</td>\n",
       "      <td>19961845</td>\n",
       "      <td>.</td>\n",
       "      <td>+</td>\n",
       "      <td>.</td>\n",
       "      <td>gene_id \"FBgn0031081\"; gene_symbol \"Nep3\"; tra...</td>\n",
       "    </tr>\n",
       "    <tr>\n",
       "      <td>4</td>\n",
       "      <td>X</td>\n",
       "      <td>FlyBase</td>\n",
       "      <td>exon</td>\n",
       "      <td>19963955</td>\n",
       "      <td>19964071</td>\n",
       "      <td>.</td>\n",
       "      <td>+</td>\n",
       "      <td>.</td>\n",
       "      <td>gene_id \"FBgn0031081\"; gene_symbol \"Nep3\"; tra...</td>\n",
       "    </tr>\n",
       "  </tbody>\n",
       "</table>\n",
       "</div>"
      ],
      "text/plain": [
       "  Chr Database Feature     Start       End  ? Strand ?.1  \\\n",
       "0   X  FlyBase    gene  19961297  19969323  .      +   .   \n",
       "1   X  FlyBase    mRNA  19961689  19968479  .      +   .   \n",
       "2   X  FlyBase    5UTR  19961689  19961845  .      +   .   \n",
       "3   X  FlyBase    exon  19961689  19961845  .      +   .   \n",
       "4   X  FlyBase    exon  19963955  19964071  .      +   .   \n",
       "\n",
       "                                          Attributes  \n",
       "0         gene_id \"FBgn0031081\"; gene_symbol \"Nep3\";  \n",
       "1  gene_id \"FBgn0031081\"; gene_symbol \"Nep3\"; tra...  \n",
       "2  gene_id \"FBgn0031081\"; gene_symbol \"Nep3\"; tra...  \n",
       "3  gene_id \"FBgn0031081\"; gene_symbol \"Nep3\"; tra...  \n",
       "4  gene_id \"FBgn0031081\"; gene_symbol \"Nep3\"; tra...  "
      ]
     },
     "execution_count": 2,
     "metadata": {},
     "output_type": "execute_result"
    }
   ],
   "source": [
    "fb_gtf = pd.read_table('dmel-all-r6.27.gtf',sep='\\t',header=None, \n",
    "                    names=['Chr','Database','Feature','Start','End','?', 'Strand','?.1', 'Attributes'])\n",
    "fb_gtf.head()"
   ]
  },
  {
   "cell_type": "code",
   "execution_count": 3,
   "metadata": {},
   "outputs": [],
   "source": [
    "ids = []\n",
    "for attr in fb_gtf['Attributes'].values:\n",
    "    a =attr.split(\" \")\n",
    "    ids.append((a[1]).replace('\"',\"\").replace(\";\",\"\"))\n",
    "ids[:3]\n",
    "fb_gtf['Gene ID'] = ids\n"
   ]
  },
  {
   "cell_type": "code",
   "execution_count": 4,
   "metadata": {},
   "outputs": [
    {
     "data": {
      "text/plain": [
       "543554"
      ]
     },
     "execution_count": 4,
     "metadata": {},
     "output_type": "execute_result"
    }
   ],
   "source": [
    "len(ids)"
   ]
  },
  {
   "cell_type": "code",
   "execution_count": 5,
   "metadata": {},
   "outputs": [],
   "source": [
    "exons = fb_gtf[fb_gtf['Feature']=='exon']\n",
    "genes = exons.groupby('Gene ID')\n",
    "gene_ids = exons['Gene ID'].unique()"
   ]
  },
  {
   "cell_type": "code",
   "execution_count": 6,
   "metadata": {},
   "outputs": [
    {
     "data": {
      "text/plain": [
       "(187818, 10)"
      ]
     },
     "execution_count": 6,
     "metadata": {},
     "output_type": "execute_result"
    }
   ],
   "source": [
    "exons.shape"
   ]
  },
  {
   "cell_type": "code",
   "execution_count": 7,
   "metadata": {
    "scrolled": true
   },
   "outputs": [
    {
     "data": {
      "text/plain": [
       "17529"
      ]
     },
     "execution_count": 7,
     "metadata": {},
     "output_type": "execute_result"
    }
   ],
   "source": [
    "len(gene_ids)"
   ]
  },
  {
   "cell_type": "code",
   "execution_count": 8,
   "metadata": {},
   "outputs": [
    {
     "data": {
      "text/html": [
       "<div>\n",
       "<style scoped>\n",
       "    .dataframe tbody tr th:only-of-type {\n",
       "        vertical-align: middle;\n",
       "    }\n",
       "\n",
       "    .dataframe tbody tr th {\n",
       "        vertical-align: top;\n",
       "    }\n",
       "\n",
       "    .dataframe thead th {\n",
       "        text-align: right;\n",
       "    }\n",
       "</style>\n",
       "<table border=\"1\" class=\"dataframe\">\n",
       "  <thead>\n",
       "    <tr style=\"text-align: right;\">\n",
       "      <th></th>\n",
       "      <th>Chr</th>\n",
       "      <th>Database</th>\n",
       "      <th>Feature</th>\n",
       "      <th>Start</th>\n",
       "      <th>End</th>\n",
       "      <th>?</th>\n",
       "      <th>Strand</th>\n",
       "      <th>?.1</th>\n",
       "      <th>Attributes</th>\n",
       "      <th>Gene ID</th>\n",
       "    </tr>\n",
       "  </thead>\n",
       "  <tbody>\n",
       "    <tr>\n",
       "      <td>3</td>\n",
       "      <td>X</td>\n",
       "      <td>FlyBase</td>\n",
       "      <td>exon</td>\n",
       "      <td>19961689</td>\n",
       "      <td>19961845</td>\n",
       "      <td>.</td>\n",
       "      <td>+</td>\n",
       "      <td>.</td>\n",
       "      <td>gene_id \"FBgn0031081\"; gene_symbol \"Nep3\"; tra...</td>\n",
       "      <td>FBgn0031081</td>\n",
       "    </tr>\n",
       "    <tr>\n",
       "      <td>4</td>\n",
       "      <td>X</td>\n",
       "      <td>FlyBase</td>\n",
       "      <td>exon</td>\n",
       "      <td>19963955</td>\n",
       "      <td>19964071</td>\n",
       "      <td>.</td>\n",
       "      <td>+</td>\n",
       "      <td>.</td>\n",
       "      <td>gene_id \"FBgn0031081\"; gene_symbol \"Nep3\"; tra...</td>\n",
       "      <td>FBgn0031081</td>\n",
       "    </tr>\n",
       "    <tr>\n",
       "      <td>5</td>\n",
       "      <td>X</td>\n",
       "      <td>FlyBase</td>\n",
       "      <td>exon</td>\n",
       "      <td>19964782</td>\n",
       "      <td>19964944</td>\n",
       "      <td>.</td>\n",
       "      <td>+</td>\n",
       "      <td>.</td>\n",
       "      <td>gene_id \"FBgn0031081\"; gene_symbol \"Nep3\"; tra...</td>\n",
       "      <td>FBgn0031081</td>\n",
       "    </tr>\n",
       "    <tr>\n",
       "      <td>6</td>\n",
       "      <td>X</td>\n",
       "      <td>FlyBase</td>\n",
       "      <td>exon</td>\n",
       "      <td>19965006</td>\n",
       "      <td>19965126</td>\n",
       "      <td>.</td>\n",
       "      <td>+</td>\n",
       "      <td>.</td>\n",
       "      <td>gene_id \"FBgn0031081\"; gene_symbol \"Nep3\"; tra...</td>\n",
       "      <td>FBgn0031081</td>\n",
       "    </tr>\n",
       "    <tr>\n",
       "      <td>7</td>\n",
       "      <td>X</td>\n",
       "      <td>FlyBase</td>\n",
       "      <td>exon</td>\n",
       "      <td>19965197</td>\n",
       "      <td>19965511</td>\n",
       "      <td>.</td>\n",
       "      <td>+</td>\n",
       "      <td>.</td>\n",
       "      <td>gene_id \"FBgn0031081\"; gene_symbol \"Nep3\"; tra...</td>\n",
       "      <td>FBgn0031081</td>\n",
       "    </tr>\n",
       "  </tbody>\n",
       "</table>\n",
       "</div>"
      ],
      "text/plain": [
       "  Chr Database Feature     Start       End  ? Strand ?.1  \\\n",
       "3   X  FlyBase    exon  19961689  19961845  .      +   .   \n",
       "4   X  FlyBase    exon  19963955  19964071  .      +   .   \n",
       "5   X  FlyBase    exon  19964782  19964944  .      +   .   \n",
       "6   X  FlyBase    exon  19965006  19965126  .      +   .   \n",
       "7   X  FlyBase    exon  19965197  19965511  .      +   .   \n",
       "\n",
       "                                          Attributes      Gene ID  \n",
       "3  gene_id \"FBgn0031081\"; gene_symbol \"Nep3\"; tra...  FBgn0031081  \n",
       "4  gene_id \"FBgn0031081\"; gene_symbol \"Nep3\"; tra...  FBgn0031081  \n",
       "5  gene_id \"FBgn0031081\"; gene_symbol \"Nep3\"; tra...  FBgn0031081  \n",
       "6  gene_id \"FBgn0031081\"; gene_symbol \"Nep3\"; tra...  FBgn0031081  \n",
       "7  gene_id \"FBgn0031081\"; gene_symbol \"Nep3\"; tra...  FBgn0031081  "
      ]
     },
     "execution_count": 8,
     "metadata": {},
     "output_type": "execute_result"
    }
   ],
   "source": [
    "exons.head()"
   ]
  },
  {
   "cell_type": "code",
   "execution_count": 9,
   "metadata": {},
   "outputs": [
    {
     "data": {
      "text/plain": [
       "interval([4.0, 13.0])"
      ]
     },
     "execution_count": 9,
     "metadata": {},
     "output_type": "execute_result"
    }
   ],
   "source": [
    "interval[1,8]\n",
    "interval[4,13]"
   ]
  },
  {
   "cell_type": "code",
   "execution_count": 10,
   "metadata": {
    "scrolled": false
   },
   "outputs": [
    {
     "data": {
      "text/plain": [
       "interval([1.0, 13.0])"
      ]
     },
     "execution_count": 10,
     "metadata": {},
     "output_type": "execute_result"
    }
   ],
   "source": [
    "##merge overlapping\n",
    "interval[1,8]|interval[4,13]"
   ]
  },
  {
   "cell_type": "markdown",
   "metadata": {},
   "source": [
    "so based on this the total exon length would be 7+7 = 14\n",
    "or 13+1 = 14"
   ]
  },
  {
   "cell_type": "code",
   "execution_count": 12,
   "metadata": {},
   "outputs": [
    {
     "data": {
      "text/plain": [
       "interval([6.0, 15.0])"
      ]
     },
     "execution_count": 12,
     "metadata": {},
     "output_type": "execute_result"
    }
   ],
   "source": [
    "interval[6,15]|interval[9,13] ##9,13 is a subset of 6,15"
   ]
  },
  {
   "cell_type": "code",
   "execution_count": 11,
   "metadata": {},
   "outputs": [
    {
     "data": {
      "text/plain": [
       "interval([1.0, 3.0], [4.0, 13.0])"
      ]
     },
     "execution_count": 11,
     "metadata": {},
     "output_type": "execute_result"
    }
   ],
   "source": [
    "##merge non-overlapping\n",
    "interval[1,3]|interval[4,13]"
   ]
  },
  {
   "cell_type": "code",
   "execution_count": 12,
   "metadata": {},
   "outputs": [
    {
     "data": {
      "text/plain": [
       "interval([1.0, 13.0])"
      ]
     },
     "execution_count": 12,
     "metadata": {},
     "output_type": "execute_result"
    }
   ],
   "source": [
    "interval[1]|interval[1,13]"
   ]
  },
  {
   "cell_type": "code",
   "execution_count": 20,
   "metadata": {},
   "outputs": [
    {
     "data": {
      "text/plain": [
       "'FBgn0031081'"
      ]
     },
     "execution_count": 20,
     "metadata": {},
     "output_type": "execute_result"
    }
   ],
   "source": [
    "gene_ids[0]"
   ]
  },
  {
   "cell_type": "code",
   "execution_count": 13,
   "metadata": {},
   "outputs": [],
   "source": [
    "\"\"\"merge overlapping exons for each gene and compute length\"\"\"\n",
    "merged_regions = []\n",
    "## iterate over each gene\n",
    "for ID in gene_ids[:1]:\n",
    "    \n",
    "    df = genes.get_group(ID).sort_values(by='Start', ascending=True) ##sort by ascending order\n",
    "    \n",
    "    ##make interval then merge \n",
    "    consol_region = interval[df['Start'].values[0]] #set the initial value to start of the earliest exon\n",
    "    \n",
    "    ##iterate over each exon of a gene\n",
    "    for i in range(df.shape[0]):\n",
    "        #create an interval of an individual exon\n",
    "        exon_size = interval[df['Start'].values[i],df['End'].values[i]] \n",
    "        consol_region= consol_region | exon_size  ##merge the exonsizes\n",
    "    \n",
    "    \n",
    "    ##store region--process merged regions or make a dict by gene id to keep track\n",
    "    merged_regions.append(consol_region)"
   ]
  },
  {
   "cell_type": "code",
   "execution_count": 14,
   "metadata": {},
   "outputs": [
    {
     "data": {
      "text/plain": [
       "(27, 10)"
      ]
     },
     "execution_count": 14,
     "metadata": {},
     "output_type": "execute_result"
    }
   ],
   "source": [
    "df.shape"
   ]
  },
  {
   "cell_type": "code",
   "execution_count": 17,
   "metadata": {},
   "outputs": [
    {
     "data": {
      "text/plain": [
       "interval([19961297.0, 19961600.0], [19961689.0, 19961845.0], [19963176.0, 19963341.0], [19963955.0, 19964071.0], [19964782.0, 19964944.0], [19965006.0, 19965126.0], [19965197.0, 19965511.0], [19965577.0, 19966071.0], [19966183.0, 19967012.0], [19967081.0, 19967223.0], [19967284.0, 19969323.0])"
      ]
     },
     "execution_count": 17,
     "metadata": {},
     "output_type": "execute_result"
    }
   ],
   "source": [
    "consol_region"
   ]
  },
  {
   "cell_type": "code",
   "execution_count": 20,
   "metadata": {},
   "outputs": [
    {
     "name": "stdout",
     "output_type": "stream",
     "text": [
      "(19961297.0, 19961600.0)\n",
      "19961297.0\n"
     ]
    }
   ],
   "source": [
    "print(consol_region[0])\n",
    "print(consol_region[0][0])"
   ]
  },
  {
   "cell_type": "markdown",
   "metadata": {},
   "source": [
    "#### show that consol_region is correctly updating each time "
   ]
  },
  {
   "cell_type": "code",
   "execution_count": 24,
   "metadata": {},
   "outputs": [
    {
     "data": {
      "text/plain": [
       "interval([6.0, 15.0])"
      ]
     },
     "execution_count": 24,
     "metadata": {},
     "output_type": "execute_result"
    }
   ],
   "source": [
    "a = interval[6,15]|interval[9,13]\n",
    "a"
   ]
  },
  {
   "cell_type": "code",
   "execution_count": 25,
   "metadata": {},
   "outputs": [
    {
     "data": {
      "text/plain": [
       "interval([1.0, 3.0], [4.0, 13.0])"
      ]
     },
     "execution_count": 25,
     "metadata": {},
     "output_type": "execute_result"
    }
   ],
   "source": [
    "b= interval[1,3]|interval[4,13]\n",
    "b"
   ]
  },
  {
   "cell_type": "code",
   "execution_count": 32,
   "metadata": {
    "scrolled": true
   },
   "outputs": [
    {
     "data": {
      "text/plain": [
       "interval([1.0, 3.0], [4.0, 15.0])"
      ]
     },
     "execution_count": 32,
     "metadata": {},
     "output_type": "execute_result"
    }
   ],
   "source": [
    "a|b"
   ]
  },
  {
   "cell_type": "markdown",
   "metadata": {},
   "source": [
    "#### interval a is a subset of interval b so the consol_region will be updated each each time to reflect that, pyinterval is so convenient"
   ]
  },
  {
   "cell_type": "code",
   "execution_count": 30,
   "metadata": {},
   "outputs": [
    {
     "data": {
      "text/plain": [
       "4840.0"
      ]
     },
     "execution_count": 30,
     "metadata": {},
     "output_type": "execute_result"
    }
   ],
   "source": [
    "total_exon_length=0\n",
    "for region in consol_region:\n",
    "    total_exon_length+= region[1]-region[0]\n",
    "total_exon_length    "
   ]
  },
  {
   "cell_type": "code",
   "execution_count": 35,
   "metadata": {
    "scrolled": true
   },
   "outputs": [
    {
     "data": {
      "text/html": [
       "<div>\n",
       "<style scoped>\n",
       "    .dataframe tbody tr th:only-of-type {\n",
       "        vertical-align: middle;\n",
       "    }\n",
       "\n",
       "    .dataframe tbody tr th {\n",
       "        vertical-align: top;\n",
       "    }\n",
       "\n",
       "    .dataframe thead th {\n",
       "        text-align: right;\n",
       "    }\n",
       "</style>\n",
       "<table border=\"1\" class=\"dataframe\">\n",
       "  <thead>\n",
       "    <tr style=\"text-align: right;\">\n",
       "      <th></th>\n",
       "      <th>Chr</th>\n",
       "      <th>Database</th>\n",
       "      <th>Feature</th>\n",
       "      <th>Start</th>\n",
       "      <th>End</th>\n",
       "      <th>?</th>\n",
       "      <th>Strand</th>\n",
       "      <th>?.1</th>\n",
       "      <th>Attributes</th>\n",
       "      <th>Gene ID</th>\n",
       "    </tr>\n",
       "  </thead>\n",
       "  <tbody>\n",
       "    <tr>\n",
       "      <td>0</td>\n",
       "      <td>X</td>\n",
       "      <td>FlyBase</td>\n",
       "      <td>gene</td>\n",
       "      <td>19961297</td>\n",
       "      <td>19969323</td>\n",
       "      <td>.</td>\n",
       "      <td>+</td>\n",
       "      <td>.</td>\n",
       "      <td>gene_id \"FBgn0031081\"; gene_symbol \"Nep3\";</td>\n",
       "      <td>FBgn0031081</td>\n",
       "    </tr>\n",
       "  </tbody>\n",
       "</table>\n",
       "</div>"
      ],
      "text/plain": [
       "  Chr Database Feature     Start       End  ? Strand ?.1  \\\n",
       "0   X  FlyBase    gene  19961297  19969323  .      +   .   \n",
       "\n",
       "                                   Attributes      Gene ID  \n",
       "0  gene_id \"FBgn0031081\"; gene_symbol \"Nep3\";  FBgn0031081  "
      ]
     },
     "execution_count": 35,
     "metadata": {},
     "output_type": "execute_result"
    }
   ],
   "source": [
    "## load gene of nep3, exon lenght should exceed or even equal total gene lengtrh\n",
    "nep3 = fb_gtf[fb_gtf['Gene ID']=='FBgn0031081'].query('Feature==\"gene\"')\n",
    "nep3"
   ]
  },
  {
   "cell_type": "code",
   "execution_count": 75,
   "metadata": {},
   "outputs": [
    {
     "data": {
      "text/plain": [
       "0    8026\n",
       "dtype: int64"
      ]
     },
     "execution_count": 75,
     "metadata": {},
     "output_type": "execute_result"
    }
   ],
   "source": [
    "nep3['End']-nep3['Start']"
   ]
  },
  {
   "cell_type": "markdown",
   "metadata": {},
   "source": [
    "### now merge overlapping exons for eahc gene"
   ]
  },
  {
   "cell_type": "code",
   "execution_count": 41,
   "metadata": {},
   "outputs": [],
   "source": [
    "\"\"\"merge overlapping exons for each gene and compute length\"\"\"\n",
    "merged_regions = dict()\n",
    "## iterate over each gene\n",
    "for ID in gene_ids:\n",
    "    df = genes.get_group(ID).sort_values(by='Start', ascending=True) ##sort by ascending order\n",
    "    #set the initial value to start of the earliest exon\n",
    "    consol_region = interval[df['Start'].values[0]] \n",
    "    ##iterate over exons of the gene\n",
    "    for i in range(df.shape[0]):\n",
    "        #create an interval of an individual exon region\n",
    "        exon_size = interval[df['Start'].values[i],df['End'].values[i]] \n",
    "        ##consolidate overlapping the exon region\n",
    "        consol_region= consol_region | exon_size  \n",
    "    ##finally store  a list of non-overlapping exonic intervals of a gene\n",
    "    merged_regions[ID]=consol_region\n",
    "\"\"\"took 1.5minutes\"\"\""
   ]
  },
  {
   "cell_type": "code",
   "execution_count": 50,
   "metadata": {},
   "outputs": [
    {
     "data": {
      "text/plain": [
       "37338572.0"
      ]
     },
     "execution_count": 50,
     "metadata": {},
     "output_type": "execute_result"
    }
   ],
   "source": [
    "##computed total_exon_size for drosophila\n",
    "genes_total_exons=dict()\n",
    "total_exon_length=0\n",
    "for ID in gene_ids:\n",
    "    consol_region = merged_regions[ID]\n",
    "    total=0\n",
    "    for region in consol_region:\n",
    "        total+= region[1]-region[0]\n",
    "    \n",
    "    genes_total_exons[ID] = total  ##for my own use when I want to look exon sise distbtion\n",
    "    total_exon_length +=total\n",
    "total_exon_length"
   ]
  },
  {
   "cell_type": "code",
   "execution_count": 44,
   "metadata": {
    "scrolled": true
   },
   "outputs": [
    {
     "data": {
      "text/plain": [
       "37.338572"
      ]
     },
     "execution_count": 44,
     "metadata": {},
     "output_type": "execute_result"
    }
   ],
   "source": [
    "total_exon_length/1e6  ##YAASSS close to the reported 38.9Mb by the 2007 Assembly paper"
   ]
  },
  {
   "cell_type": "code",
   "execution_count": 51,
   "metadata": {},
   "outputs": [
    {
     "data": {
      "text/html": [
       "<div>\n",
       "<style scoped>\n",
       "    .dataframe tbody tr th:only-of-type {\n",
       "        vertical-align: middle;\n",
       "    }\n",
       "\n",
       "    .dataframe tbody tr th {\n",
       "        vertical-align: top;\n",
       "    }\n",
       "\n",
       "    .dataframe thead th {\n",
       "        text-align: right;\n",
       "    }\n",
       "</style>\n",
       "<table border=\"1\" class=\"dataframe\">\n",
       "  <thead>\n",
       "    <tr style=\"text-align: right;\">\n",
       "      <th></th>\n",
       "      <th>0</th>\n",
       "    </tr>\n",
       "  </thead>\n",
       "  <tbody>\n",
       "    <tr>\n",
       "      <td>count</td>\n",
       "      <td>17529.000000</td>\n",
       "    </tr>\n",
       "    <tr>\n",
       "      <td>mean</td>\n",
       "      <td>2130.102801</td>\n",
       "    </tr>\n",
       "    <tr>\n",
       "      <td>std</td>\n",
       "      <td>2482.923607</td>\n",
       "    </tr>\n",
       "    <tr>\n",
       "      <td>min</td>\n",
       "      <td>29.000000</td>\n",
       "    </tr>\n",
       "    <tr>\n",
       "      <td>25%</td>\n",
       "      <td>745.000000</td>\n",
       "    </tr>\n",
       "    <tr>\n",
       "      <td>50%</td>\n",
       "      <td>1424.000000</td>\n",
       "    </tr>\n",
       "    <tr>\n",
       "      <td>75%</td>\n",
       "      <td>2618.000000</td>\n",
       "    </tr>\n",
       "    <tr>\n",
       "      <td>max</td>\n",
       "      <td>71735.000000</td>\n",
       "    </tr>\n",
       "  </tbody>\n",
       "</table>\n",
       "</div>"
      ],
      "text/plain": [
       "                  0\n",
       "count  17529.000000\n",
       "mean    2130.102801\n",
       "std     2482.923607\n",
       "min       29.000000\n",
       "25%      745.000000\n",
       "50%     1424.000000\n",
       "75%     2618.000000\n",
       "max    71735.000000"
      ]
     },
     "execution_count": 51,
     "metadata": {},
     "output_type": "execute_result"
    }
   ],
   "source": [
    "pd.DataFrame.from_dict(genes_total_exons,orient='index').reset_index().describe()"
   ]
  },
  {
   "cell_type": "code",
   "execution_count": 52,
   "metadata": {},
   "outputs": [
    {
     "data": {
      "image/png": "[encoded data removed]",
      "text/plain": [
       "<Figure size 432x288 with 1 Axes>"
      ]
     },
     "metadata": {
      "needs_background": "light"
     },
     "output_type": "display_data"
    }
   ],
   "source": [
    "import matplotlib.pyplot as plt\n",
    "pd.DataFrame.from_dict(genes_total_exons,orient='index').reset_index().plot.hist()\n",
    "plt.show()"
   ]
  },
  {
   "cell_type": "markdown",
   "metadata": {},
   "source": [
    "## I can re-use code to compute total UTR and Intron lengths"
   ]
  },
  {
   "cell_type": "markdown",
   "metadata": {},
   "source": [
    "## Total 3'Prime UTR"
   ]
  },
  {
   "cell_type": "code",
   "execution_count": 53,
   "metadata": {
    "scrolled": true
   },
   "outputs": [
    {
     "name": "stdout",
     "output_type": "stream",
     "text": [
      "13494\n"
     ]
    }
   ],
   "source": [
    "three_prime_utr = fb_gtf[fb_gtf['Feature']=='3UTR']\n",
    "genes = three_prime_utr.groupby('Gene ID')\n",
    "gene_ids = three_prime_utr['Gene ID'].unique()\n",
    "print(len(gene_ids))"
   ]
  },
  {
   "cell_type": "code",
   "execution_count": 54,
   "metadata": {},
   "outputs": [],
   "source": [
    "import time"
   ]
  },
  {
   "cell_type": "code",
   "execution_count": 57,
   "metadata": {},
   "outputs": [
    {
     "name": "stdout",
     "output_type": "stream",
     "text": [
      "Took 0.3438450853029887 minutes\n"
     ]
    }
   ],
   "source": [
    "s = time.time()\n",
    "merged_regions = dict()\n",
    "## iterate over each gene\n",
    "for ID in gene_ids:\n",
    "    df = genes.get_group(ID).sort_values(by='Start', ascending=True) ##sort by ascending order\n",
    "    #set the initial value to start of the earliest three_prime_utr\n",
    "    consol_region = interval[df['Start'].values[0]] \n",
    "    ##iterate over three_prime_UTR of the gene\n",
    "    for i in range(df.shape[0]):\n",
    "        #create an interval of an individual three_prime_utr region\n",
    "        three_prime_utr_size = interval[df['Start'].values[i],df['End'].values[i]] \n",
    "        ##consolidate overlapping the three_prime_utr region\n",
    "        consol_region= consol_region | three_prime_utr_size  \n",
    "    ##store merged regions gene id to keep track\n",
    "    merged_regions[ID]=consol_region\n",
    "e = time.time()\n",
    "print(\"Took {} minutes\".format((e-s)/60.0))"
   ]
  },
  {
   "cell_type": "code",
   "execution_count": 58,
   "metadata": {},
   "outputs": [
    {
     "data": {
      "text/plain": [
       "7905198.0"
      ]
     },
     "execution_count": 58,
     "metadata": {},
     "output_type": "execute_result"
    }
   ],
   "source": [
    "genes_total_threeUTRs=dict()\n",
    "total_threeUTR_length=0\n",
    "for ID in gene_ids:\n",
    "    consol_region = merged_regions[ID]\n",
    "    total=0\n",
    "    for region in consol_region:\n",
    "        total+= region[1]-region[0]\n",
    "    \n",
    "    genes_total_threeUTRs[ID] = total  ##for my own use when I want to look threeUTR sise distbtion\n",
    "    total_threeUTR_length +=total\n",
    "total_threeUTR_length"
   ]
  },
  {
   "cell_type": "markdown",
   "metadata": {},
   "source": [
    "### compute total genic, intergenic  total intron length\n",
    "\n",
    "- gene_total - total_exons  \n",
    "\"\" for flybase annotations UTRs are children of exons so exons lengths already include UTR\"\""
   ]
  },
  {
   "cell_type": "code",
   "execution_count": 59,
   "metadata": {},
   "outputs": [],
   "source": [
    "genic = fb_gtf.query('Feature==\"gene\"')  ##keep in mind tRNAs are \"gene\" too"
   ]
  },
  {
   "cell_type": "code",
   "execution_count": 61,
   "metadata": {
    "scrolled": true
   },
   "outputs": [
    {
     "data": {
      "text/plain": [
       "102174809"
      ]
     },
     "execution_count": 61,
     "metadata": {},
     "output_type": "execute_result"
    }
   ],
   "source": [
    "genic = fb_gtf.query('Feature==\"gene\"')  ##keep in mind tRNAs are \"gene\" too\n",
    "genic_size = np.sum(genic['End']-genic['Start'])\n",
    "genic_size"
   ]
  },
  {
   "cell_type": "code",
   "execution_count": null,
   "metadata": {},
   "outputs": [],
   "source": [
    "genome_size=0\n",
    "with open('./genomic_annotations_filer27/dmel-all-chromosome-r6.27.fasta', 'r') as f:\n",
    "    for line in f:\n",
    "        if line.startswith('>') is True:\n",
    "            continue\n",
    "        else:\n",
    "            genome_size+=len(line)\n"
   ]
  },
  {
   "cell_type": "code",
   "execution_count": 63,
   "metadata": {
    "scrolled": true
   },
   "outputs": [
    {
     "data": {
      "text/plain": [
       "145523521"
      ]
     },
     "execution_count": 63,
     "metadata": {},
     "output_type": "execute_result"
    }
   ],
   "source": [
    "genome_size"
   ]
  },
  {
   "cell_type": "code",
   "execution_count": 27,
   "metadata": {},
   "outputs": [
    {
     "data": {
      "text/plain": [
       "43348712"
      ]
     },
     "execution_count": 27,
     "metadata": {},
     "output_type": "execute_result"
    }
   ],
   "source": [
    "145523521 - 102174809"
   ]
  },
  {
   "cell_type": "code",
   "execution_count": 66,
   "metadata": {},
   "outputs": [
    {
     "data": {
      "text/plain": [
       "43.348712"
      ]
     },
     "execution_count": 66,
     "metadata": {},
     "output_type": "execute_result"
    }
   ],
   "source": [
    "intergenic =genome_size-genic_size\n",
    "intergenic/1e6"
   ]
  },
  {
   "cell_type": "code",
   "execution_count": 67,
   "metadata": {
    "scrolled": true
   },
   "outputs": [
    {
     "data": {
      "text/plain": [
       "64.836237"
      ]
     },
     "execution_count": 67,
     "metadata": {},
     "output_type": "execute_result"
    }
   ],
   "source": [
    "intronic = genic_size - total_exon_length\n",
    "intronic/1e6   ##according to "
   ]
  },
  {
   "cell_type": "markdown",
   "metadata": {},
   "source": [
    "so introns account for greater genome occupancy than intergenic?  \n",
    "The 2007 assembly paper reported 38.9Mb CDS to 21Mb of introns\n",
    "\n",
    "According to Genome Biol. Evol. 1582–1598 doi:10.1093/gbe/evx103 model animals including drosophila have a 1:1 intronic:intergenic ratio"
   ]
  },
  {
   "cell_type": "code",
   "execution_count": 68,
   "metadata": {
    "scrolled": true
   },
   "outputs": [
    {
     "data": {
      "text/plain": [
       "6.01014"
      ]
     },
     "execution_count": 68,
     "metadata": {},
     "output_type": "execute_result"
    }
   ],
   "source": [
    "##intronic = intergenic - exonic ??\n",
    "(intergenic - total_exon_length)/1e6"
   ]
  },
  {
   "cell_type": "markdown",
   "metadata": {},
   "source": [
    "### look at graham's result\n",
    "- His tool finds introns based on the longest isoform of each gene \n",
    "### Graham's email \n",
    "I think for your purposes (if you just care about total intronic fraction), the simple approach of calculating the total exon/intron lengths is probably the least-fraught method\n",
    "\n",
    "The first line of the file is a header with column descriptions, most of which are probably self-explanatory but here's a summary:\n",
    "\n",
    "- name - custom naming scheme describing various attributes of the intron (gene, transcript, ordinal number, total, etc)\n",
    "- region - chromosome/genomic location\n",
    "- start - start coordinate (1-indexed)\n",
    "- stop - stop coordinate (1-indexed)\n",
    "- strand\n",
    "- gene\n",
    "- transcript\n",
    "- length\n",
    "- phase - where the intron occurs in the context of codons (only applies to introns defined by CDS features); phase 0 is between codons, phase 1 is after the first base of a codon, phase 2 is after the second\n",
    "- index - ordinal position in the transcript, e.g. intron 4 of 5\n",
    "- family_size - total number of introns in the parent transcript\n",
    "- transcript_length - calculated using CDS features only when CDS features are present; if a transcript has only exons, then this reflects the total exonic sequence length\n",
    "- fractional_position - the fractional position of the intron into the exonic sequence, e.g. an intron starting at base 200 of a transcript with 800 bp of exons would have a fractional position of 25.0\n",
    "defined_by - feature used to define the intron. For example, this will be \"exon\" for any introns annotated in the - UTR of a given protein-coding transcript, but \"cds\" for the remaining introns.\n",
    "dinucleotides - first and nt pairs of the intronic sequence\n",
    "sequence_sha1 - a hash of the full intronic sequence (can be used to filter for duplicate intron sequences)\n",
    "- unique_coords - whether the intron has identical coordinates to an intron in the longest isoform of each gene; introns from shorter isoforms will have this set to \"N\", as the longest isoform is prioritized when identifying introns"
   ]
  },
  {
   "cell_type": "code",
   "execution_count": 8,
   "metadata": {
    "scrolled": false
   },
   "outputs": [
    {
     "data": {
      "text/html": [
       "<div>\n",
       "<style scoped>\n",
       "    .dataframe tbody tr th:only-of-type {\n",
       "        vertical-align: middle;\n",
       "    }\n",
       "\n",
       "    .dataframe tbody tr th {\n",
       "        vertical-align: top;\n",
       "    }\n",
       "\n",
       "    .dataframe thead th {\n",
       "        text-align: right;\n",
       "    }\n",
       "</style>\n",
       "<table border=\"1\" class=\"dataframe\">\n",
       "  <thead>\n",
       "    <tr style=\"text-align: right;\">\n",
       "      <th></th>\n",
       "      <th>#name</th>\n",
       "      <th>region</th>\n",
       "      <th>start</th>\n",
       "      <th>stop</th>\n",
       "      <th>strand</th>\n",
       "      <th>gene</th>\n",
       "      <th>transcript</th>\n",
       "      <th>length</th>\n",
       "      <th>phase</th>\n",
       "      <th>index</th>\n",
       "      <th>family_size</th>\n",
       "      <th>transcript_length</th>\n",
       "      <th>fractional_position</th>\n",
       "      <th>defined_by</th>\n",
       "      <th>dinucleotides</th>\n",
       "      <th>sequence_sha1</th>\n",
       "      <th>unique_coords</th>\n",
       "    </tr>\n",
       "  </thead>\n",
       "  <tbody>\n",
       "    <tr>\n",
       "      <td>0</td>\n",
       "      <td>DroMel-FBtr0308947@FBtr0308947-intron_1(1);[e]</td>\n",
       "      <td>211000022278449</td>\n",
       "      <td>1188</td>\n",
       "      <td>1244</td>\n",
       "      <td>-</td>\n",
       "      <td>FBtr0308947</td>\n",
       "      <td>FBtr0308947</td>\n",
       "      <td>57</td>\n",
       "      <td>.</td>\n",
       "      <td>1</td>\n",
       "      <td>1</td>\n",
       "      <td>1051</td>\n",
       "      <td>37.203</td>\n",
       "      <td>exon</td>\n",
       "      <td>GC-AG</td>\n",
       "      <td>2c41b92f827989fcb42a9bd0a818a9b9dbbb0bb0</td>\n",
       "      <td>Y</td>\n",
       "    </tr>\n",
       "    <tr>\n",
       "      <td>1</td>\n",
       "      <td>DroMel-FBgn0085506@FBtr0302344-intron_1(1)</td>\n",
       "      <td>211000022278760</td>\n",
       "      <td>815</td>\n",
       "      <td>868</td>\n",
       "      <td>-</td>\n",
       "      <td>FBgn0085506</td>\n",
       "      <td>FBtr0302344</td>\n",
       "      <td>54</td>\n",
       "      <td>2</td>\n",
       "      <td>1</td>\n",
       "      <td>1</td>\n",
       "      <td>261</td>\n",
       "      <td>4.215</td>\n",
       "      <td>cds</td>\n",
       "      <td>GT-AG</td>\n",
       "      <td>3f1bab12fd3f1c85fa1f20a463be3476ae78875b</td>\n",
       "      <td>Y</td>\n",
       "    </tr>\n",
       "    <tr>\n",
       "      <td>2</td>\n",
       "      <td>DroMel-FBgn0259817@FBtr0300105-intron_1(2)</td>\n",
       "      <td>211000022279188</td>\n",
       "      <td>1490</td>\n",
       "      <td>1546</td>\n",
       "      <td>+</td>\n",
       "      <td>FBgn0259817</td>\n",
       "      <td>FBtr0300105</td>\n",
       "      <td>57</td>\n",
       "      <td>2</td>\n",
       "      <td>1</td>\n",
       "      <td>2</td>\n",
       "      <td>516</td>\n",
       "      <td>2.132</td>\n",
       "      <td>cds</td>\n",
       "      <td>GT-AG</td>\n",
       "      <td>d2eecacadbf7b7ea58ccffc1f03ba6ac81e3917f</td>\n",
       "      <td>Y</td>\n",
       "    </tr>\n",
       "    <tr>\n",
       "      <td>3</td>\n",
       "      <td>DroMel-FBgn0259817@FBtr0300105-intron_2(2)</td>\n",
       "      <td>211000022279188</td>\n",
       "      <td>2048</td>\n",
       "      <td>2107</td>\n",
       "      <td>+</td>\n",
       "      <td>FBgn0259817</td>\n",
       "      <td>FBtr0300105</td>\n",
       "      <td>60</td>\n",
       "      <td>2</td>\n",
       "      <td>2</td>\n",
       "      <td>2</td>\n",
       "      <td>516</td>\n",
       "      <td>99.225</td>\n",
       "      <td>cds</td>\n",
       "      <td>GT-AG</td>\n",
       "      <td>1dc30099b86d20937e653892e90cad1488b007c9</td>\n",
       "      <td>Y</td>\n",
       "    </tr>\n",
       "    <tr>\n",
       "      <td>4</td>\n",
       "      <td>DroMel-FBgn0085692@FBtr0347010-intron_1(3)</td>\n",
       "      <td>211000022280328</td>\n",
       "      <td>9381</td>\n",
       "      <td>9434</td>\n",
       "      <td>-</td>\n",
       "      <td>FBgn0085692</td>\n",
       "      <td>FBtr0347010</td>\n",
       "      <td>54</td>\n",
       "      <td>2</td>\n",
       "      <td>1</td>\n",
       "      <td>3</td>\n",
       "      <td>1317</td>\n",
       "      <td>3.341</td>\n",
       "      <td>cds</td>\n",
       "      <td>GT-AG</td>\n",
       "      <td>f418ded53d31752f8bddc4b512bc1fbbd05d96df</td>\n",
       "      <td>Y</td>\n",
       "    </tr>\n",
       "  </tbody>\n",
       "</table>\n",
       "</div>"
      ],
      "text/plain": [
       "                                            #name           region  start  \\\n",
       "0  DroMel-FBtr0308947@FBtr0308947-intron_1(1);[e]  211000022278449   1188   \n",
       "1      DroMel-FBgn0085506@FBtr0302344-intron_1(1)  211000022278760    815   \n",
       "2      DroMel-FBgn0259817@FBtr0300105-intron_1(2)  211000022279188   1490   \n",
       "3      DroMel-FBgn0259817@FBtr0300105-intron_2(2)  211000022279188   2048   \n",
       "4      DroMel-FBgn0085692@FBtr0347010-intron_1(3)  211000022280328   9381   \n",
       "\n",
       "   stop strand         gene   transcript  length phase  index  family_size  \\\n",
       "0  1244      -  FBtr0308947  FBtr0308947      57     .      1            1   \n",
       "1   868      -  FBgn0085506  FBtr0302344      54     2      1            1   \n",
       "2  1546      +  FBgn0259817  FBtr0300105      57     2      1            2   \n",
       "3  2107      +  FBgn0259817  FBtr0300105      60     2      2            2   \n",
       "4  9434      -  FBgn0085692  FBtr0347010      54     2      1            3   \n",
       "\n",
       "   transcript_length  fractional_position defined_by dinucleotides  \\\n",
       "0               1051               37.203       exon         GC-AG   \n",
       "1                261                4.215        cds         GT-AG   \n",
       "2                516                2.132        cds         GT-AG   \n",
       "3                516               99.225        cds         GT-AG   \n",
       "4               1317                3.341        cds         GT-AG   \n",
       "\n",
       "                              sequence_sha1 unique_coords  \n",
       "0  2c41b92f827989fcb42a9bd0a818a9b9dbbb0bb0             Y  \n",
       "1  3f1bab12fd3f1c85fa1f20a463be3476ae78875b             Y  \n",
       "2  d2eecacadbf7b7ea58ccffc1f03ba6ac81e3917f             Y  \n",
       "3  1dc30099b86d20937e653892e90cad1488b007c9             Y  \n",
       "4  f418ded53d31752f8bddc4b512bc1fbbd05d96df             Y  "
      ]
     },
     "execution_count": 8,
     "metadata": {},
     "output_type": "execute_result"
    }
   ],
   "source": [
    "GL_data = pd.read_table('GL_drosophila_melanogaster.r6.27.info.iic', sep='\\t')\n",
    "GL_data.head()"
   ]
  },
  {
   "cell_type": "code",
   "execution_count": 72,
   "metadata": {},
   "outputs": [
    {
     "data": {
      "text/html": [
       "<div>\n",
       "<style scoped>\n",
       "    .dataframe tbody tr th:only-of-type {\n",
       "        vertical-align: middle;\n",
       "    }\n",
       "\n",
       "    .dataframe tbody tr th {\n",
       "        vertical-align: top;\n",
       "    }\n",
       "\n",
       "    .dataframe thead th {\n",
       "        text-align: right;\n",
       "    }\n",
       "</style>\n",
       "<table border=\"1\" class=\"dataframe\">\n",
       "  <thead>\n",
       "    <tr style=\"text-align: right;\">\n",
       "      <th></th>\n",
       "      <th>start</th>\n",
       "      <th>stop</th>\n",
       "      <th>length</th>\n",
       "      <th>index</th>\n",
       "      <th>family_size</th>\n",
       "      <th>transcript_length</th>\n",
       "      <th>fractional_position</th>\n",
       "    </tr>\n",
       "  </thead>\n",
       "  <tbody>\n",
       "    <tr>\n",
       "      <td>count</td>\n",
       "      <td>1.531820e+05</td>\n",
       "      <td>1.531820e+05</td>\n",
       "      <td>153182.000000</td>\n",
       "      <td>153182.000000</td>\n",
       "      <td>153182.000000</td>\n",
       "      <td>153182.000000</td>\n",
       "      <td>153182.000000</td>\n",
       "    </tr>\n",
       "    <tr>\n",
       "      <td>mean</td>\n",
       "      <td>1.308743e+07</td>\n",
       "      <td>1.308905e+07</td>\n",
       "      <td>1614.178363</td>\n",
       "      <td>5.630949</td>\n",
       "      <td>10.261898</td>\n",
       "      <td>3757.540357</td>\n",
       "      <td>45.815775</td>\n",
       "    </tr>\n",
       "    <tr>\n",
       "      <td>std</td>\n",
       "      <td>7.569702e+06</td>\n",
       "      <td>7.569665e+06</td>\n",
       "      <td>5803.018266</td>\n",
       "      <td>5.982248</td>\n",
       "      <td>9.015823</td>\n",
       "      <td>6079.585860</td>\n",
       "      <td>29.693552</td>\n",
       "    </tr>\n",
       "    <tr>\n",
       "      <td>min</td>\n",
       "      <td>8.150000e+02</td>\n",
       "      <td>8.680000e+02</td>\n",
       "      <td>2.000000</td>\n",
       "      <td>1.000000</td>\n",
       "      <td>1.000000</td>\n",
       "      <td>45.000000</td>\n",
       "      <td>0.031000</td>\n",
       "    </tr>\n",
       "    <tr>\n",
       "      <td>25%</td>\n",
       "      <td>7.232781e+06</td>\n",
       "      <td>7.234526e+06</td>\n",
       "      <td>63.000000</td>\n",
       "      <td>2.000000</td>\n",
       "      <td>5.000000</td>\n",
       "      <td>1374.000000</td>\n",
       "      <td>18.661250</td>\n",
       "    </tr>\n",
       "    <tr>\n",
       "      <td>50%</td>\n",
       "      <td>1.265479e+07</td>\n",
       "      <td>1.265517e+07</td>\n",
       "      <td>103.000000</td>\n",
       "      <td>4.000000</td>\n",
       "      <td>8.000000</td>\n",
       "      <td>2355.000000</td>\n",
       "      <td>43.563500</td>\n",
       "    </tr>\n",
       "    <tr>\n",
       "      <td>75%</td>\n",
       "      <td>1.876958e+07</td>\n",
       "      <td>1.877174e+07</td>\n",
       "      <td>747.000000</td>\n",
       "      <td>7.000000</td>\n",
       "      <td>13.000000</td>\n",
       "      <td>4098.000000</td>\n",
       "      <td>72.176500</td>\n",
       "    </tr>\n",
       "    <tr>\n",
       "      <td>max</td>\n",
       "      <td>3.206151e+07</td>\n",
       "      <td>3.206633e+07</td>\n",
       "      <td>268107.000000</td>\n",
       "      <td>81.000000</td>\n",
       "      <td>81.000000</td>\n",
       "      <td>68847.000000</td>\n",
       "      <td>99.981000</td>\n",
       "    </tr>\n",
       "  </tbody>\n",
       "</table>\n",
       "</div>"
      ],
      "text/plain": [
       "              start          stop         length          index  \\\n",
       "count  1.531820e+05  1.531820e+05  153182.000000  153182.000000   \n",
       "mean   1.308743e+07  1.308905e+07    1614.178363       5.630949   \n",
       "std    7.569702e+06  7.569665e+06    5803.018266       5.982248   \n",
       "min    8.150000e+02  8.680000e+02       2.000000       1.000000   \n",
       "25%    7.232781e+06  7.234526e+06      63.000000       2.000000   \n",
       "50%    1.265479e+07  1.265517e+07     103.000000       4.000000   \n",
       "75%    1.876958e+07  1.877174e+07     747.000000       7.000000   \n",
       "max    3.206151e+07  3.206633e+07  268107.000000      81.000000   \n",
       "\n",
       "         family_size  transcript_length  fractional_position  \n",
       "count  153182.000000      153182.000000        153182.000000  \n",
       "mean       10.261898        3757.540357            45.815775  \n",
       "std         9.015823        6079.585860            29.693552  \n",
       "min         1.000000          45.000000             0.031000  \n",
       "25%         5.000000        1374.000000            18.661250  \n",
       "50%         8.000000        2355.000000            43.563500  \n",
       "75%        13.000000        4098.000000            72.176500  \n",
       "max        81.000000       68847.000000            99.981000  "
      ]
     },
     "execution_count": 72,
     "metadata": {},
     "output_type": "execute_result"
    }
   ],
   "source": [
    "GL_data.describe()"
   ]
  },
  {
   "cell_type": "code",
   "execution_count": 79,
   "metadata": {
    "scrolled": false
   },
   "outputs": [
    {
     "data": {
      "text/plain": [
       "247.26307"
      ]
     },
     "execution_count": 79,
     "metadata": {},
     "output_type": "execute_result"
    }
   ],
   "source": [
    "\"\"\"based on Graham's description I can sum the Length to get total intron size according to longest isoform\"\"\"\n",
    "GL_data['length'].sum() / 1e6  "
   ]
  },
  {
   "cell_type": "code",
   "execution_count": 80,
   "metadata": {
    "scrolled": false
   },
   "outputs": [
    {
     "data": {
      "text/plain": [
       "1000000.0"
      ]
     },
     "execution_count": 80,
     "metadata": {},
     "output_type": "execute_result"
    }
   ],
   "source": [
    "1e6"
   ]
  },
  {
   "cell_type": "markdown",
   "metadata": {},
   "source": [
    "### Whaaat! 240 Mb exceedes the total Dmel genome size\n",
    "\n",
    "Graham:  \n",
    "That's because that file includes redundant introns across multiple isoforms.\n",
    "\n",
    "If you consider only those introns with \"Y\" in the last column, is that better?"
   ]
  },
  {
   "cell_type": "code",
   "execution_count": 94,
   "metadata": {
    "scrolled": false
   },
   "outputs": [
    {
     "data": {
      "text/plain": [
       "103.069162"
      ]
     },
     "execution_count": 94,
     "metadata": {},
     "output_type": "execute_result"
    }
   ],
   "source": [
    "GL_data.query('unique_coords== \"Y\"' )['length'].sum() / 1e6  "
   ]
  },
  {
   "cell_type": "code",
   "execution_count": 97,
   "metadata": {},
   "outputs": [
    {
     "data": {
      "text/plain": [
       "108184949.0"
      ]
     },
     "execution_count": 97,
     "metadata": {},
     "output_type": "execute_result"
    }
   ],
   "source": [
    "intergenic+intronic  ##based on my calculations"
   ]
  },
  {
   "cell_type": "code",
   "execution_count": 96,
   "metadata": {
    "scrolled": true
   },
   "outputs": [
    {
     "data": {
      "text/plain": [
       "140.407734"
      ]
     },
     "execution_count": 96,
     "metadata": {},
     "output_type": "execute_result"
    }
   ],
   "source": [
    "103.069162+total_exon_length/1e6  ##essentially the genome size"
   ]
  },
  {
   "cell_type": "markdown",
   "metadata": {},
   "source": [
    "#### Sept 5 2019   \n",
    "Graham and I met. \n",
    "- Graham says introns label [i] are not longest isoform.    \n",
    "- Graham thinks my method of overlapping exons is biasing toward short introns which means this would bias toward the alternative hypothesis of non-random occurence of nested tRNAs in introns. I need to show that it isn't. \n",
    "- Also, Graham's tool may be finding \"new\" introns that are not annotated. I want to take the most conservative approach for defining intronic regions while being as as consistent as possible by sticking with the official reference genome annotation because my aim isn't intron discovery. \n",
    "### Proof of principle: I am going to make test intervals representing isoforms of the same gene and compare the final intron length"
   ]
  },
  {
   "cell_type": "code",
   "execution_count": 4,
   "metadata": {},
   "outputs": [
    {
     "data": {
      "text/plain": [
       "interval([0.0, 20.0], [42.0, 65.0])"
      ]
     },
     "execution_count": 4,
     "metadata": {},
     "output_type": "execute_result"
    }
   ],
   "source": [
    "## Make a gene that is 65nt long with two isoforms\n",
    "iso1 = interval([0,20],[42,59]) ## the intron lenght is 22 (range 20 to 42)\n",
    "iso2= interval([0,20],[52,65]) ##  intron length is 31nt (range 20 to 52)\n",
    "##according to Graham my approach biasing toward the smaller intron length of 22nt isoform 1. Lets see\n",
    "iso1 | iso2"
   ]
  },
  {
   "cell_type": "code",
   "execution_count": 5,
   "metadata": {},
   "outputs": [
    {
     "data": {
      "text/plain": [
       "43.0"
      ]
     },
     "execution_count": 5,
     "metadata": {},
     "output_type": "execute_result"
    }
   ],
   "source": [
    "##compute intron size\n",
    "consol = (iso1 | iso2)\n",
    "exon_len = 0\n",
    "for region in consol:\n",
    "    exon_len+= region[1]-region[0]\n",
    "exon_len"
   ]
  },
  {
   "cell_type": "code",
   "execution_count": 7,
   "metadata": {
    "scrolled": true
   },
   "outputs": [
    {
     "data": {
      "text/plain": [
       "22.0"
      ]
     },
     "execution_count": 7,
     "metadata": {},
     "output_type": "execute_result"
    }
   ],
   "source": [
    "65-exon_len"
   ]
  },
  {
   "cell_type": "markdown",
   "metadata": {},
   "source": [
    "I stand corrected. So how can I modify my code to bias it toward longer intron but this comes at a trade-off of underestimating exons. I suppose since no tRNAs were found or predicted in coding sequence then it is excusable"
   ]
  },
  {
   "cell_type": "code",
   "execution_count": 9,
   "metadata": {
    "scrolled": true
   },
   "outputs": [
    {
     "data": {
      "text/plain": [
       "103.069162"
      ]
     },
     "execution_count": 9,
     "metadata": {},
     "output_type": "execute_result"
    }
   ],
   "source": [
    "GL_data.query('unique_coords== \"Y\"' )['length'].sum() / 1e6  "
   ]
  },
  {
   "cell_type": "markdown",
   "metadata": {},
   "source": [
    "Graham says introns label [i] are not longest isoform. Let's filter out them all"
   ]
  },
  {
   "cell_type": "code",
   "execution_count": 13,
   "metadata": {},
   "outputs": [
    {
     "data": {
      "text/plain": [
       "'[e]'"
      ]
     },
     "execution_count": 13,
     "metadata": {},
     "output_type": "execute_result"
    }
   ],
   "source": [
    "GL_data['#name'].values[0].split(';')[1]"
   ]
  },
  {
   "cell_type": "code",
   "execution_count": 22,
   "metadata": {},
   "outputs": [],
   "source": [
    "not_long = [] ##stores indxies of not longest isoform\n",
    "for i in range(GL_data.shape[0]):\n",
    "    name =  GL_data['#name'].values[i]\n",
    "    if '[i]' in name.split(';'):\n",
    "        ##store the index to drop them later\n",
    "        not_long.append(i)"
   ]
  },
  {
   "cell_type": "code",
   "execution_count": 23,
   "metadata": {
    "scrolled": true
   },
   "outputs": [
    {
     "data": {
      "text/plain": [
       "104907"
      ]
     },
     "execution_count": 23,
     "metadata": {},
     "output_type": "execute_result"
    }
   ],
   "source": [
    "len(not_long)"
   ]
  },
  {
   "cell_type": "code",
   "execution_count": 25,
   "metadata": {},
   "outputs": [
    {
     "data": {
      "text/plain": [
       "(48275, 17)"
      ]
     },
     "execution_count": 25,
     "metadata": {},
     "output_type": "execute_result"
    }
   ],
   "source": [
    "##drop all the introns that do not belong to longest isoform\n",
    "GL2 = GL_data.drop(not_long,axis=0)\n",
    "GL2.shape  #48K seems about right"
   ]
  },
  {
   "cell_type": "code",
   "execution_count": 29,
   "metadata": {},
   "outputs": [
    {
     "data": {
      "text/plain": [
       "59387873"
      ]
     },
     "execution_count": 29,
     "metadata": {},
     "output_type": "execute_result"
    }
   ],
   "source": [
    "##recompute introns\n",
    "GL2.query('unique_coords== \"Y\"' )['length'].sum() "
   ]
  },
  {
   "cell_type": "markdown",
   "metadata": {},
   "source": [
    "#### okay computing the total introns based on longest isoform is  this 59.38Mb looks reasonable for Dmel. I got 64b with my exon overlapping approach. However I trust the Flybase gtf annotation more"
   ]
  },
  {
   "cell_type": "code",
   "execution_count": 28,
   "metadata": {
    "scrolled": false
   },
   "outputs": [
    {
     "data": {
      "text/plain": [
       "43348712"
      ]
     },
     "execution_count": 28,
     "metadata": {},
     "output_type": "execute_result"
    }
   ],
   "source": [
    "145523521 - 102174809 #total intergenic"
   ]
  },
  {
   "cell_type": "code",
   "execution_count": 31,
   "metadata": {
    "scrolled": true
   },
   "outputs": [
    {
     "data": {
      "text/plain": [
       "64836237.0"
      ]
     },
     "execution_count": 31,
     "metadata": {},
     "output_type": "execute_result"
    }
   ],
   "source": [
    "102174809-37338572.0  #total intronic"
   ]
  },
  {
   "cell_type": "code",
   "execution_count": 36,
   "metadata": {},
   "outputs": [],
   "source": [
    "genome = 145523521\n",
    "intergenic = 43348712"
   ]
  },
  {
   "cell_type": "code",
   "execution_count": 30,
   "metadata": {},
   "outputs": [
    {
     "data": {
      "text/plain": [
       "17.58478754910006"
      ]
     },
     "execution_count": 30,
     "metadata": {},
     "output_type": "execute_result"
    }
   ],
   "source": [
    "np.log(43348712)"
   ]
  },
  {
   "cell_type": "code",
   "execution_count": null,
   "metadata": {},
   "outputs": [],
   "source": [
    "np.log(43348712) "
   ]
  },
  {
   "cell_type": "code",
   "execution_count": 32,
   "metadata": {},
   "outputs": [
    {
     "data": {
      "text/plain": [
       "17.987375217984166"
      ]
     },
     "execution_count": 32,
     "metadata": {},
     "output_type": "execute_result"
    }
   ],
   "source": [
    "np.log(64836237.0)"
   ]
  },
  {
   "cell_type": "markdown",
   "metadata": {},
   "source": [
    "Similar to Woerhide that found 1:1 intron to intergeni ratio"
   ]
  },
  {
   "cell_type": "code",
   "execution_count": 34,
   "metadata": {
    "scrolled": true
   },
   "outputs": [
    {
     "data": {
      "text/plain": [
       "0.6685877220172417"
      ]
     },
     "execution_count": 34,
     "metadata": {},
     "output_type": "execute_result"
    }
   ],
   "source": [
    "43348712.0/64836237.0"
   ]
  },
  {
   "cell_type": "code",
   "execution_count": null,
   "metadata": {},
   "outputs": [],
   "source": []
  },
  {
   "cell_type": "markdown",
   "metadata": {},
   "source": [
    "### load the trnascan predicted from each region \n",
    "#### 1. 3'UTR region and  5'UTR region \n",
    "- Given the small number I was able to visually inspect and verify their location using flybase's genome browswer\n",
    "- as expected the 3UTR - on avergae longer - has more nested trnas than 5'UTR. 5UTR predicted a single low scoring pseudogene"
   ]
  },
  {
   "cell_type": "code",
   "execution_count": 100,
   "metadata": {
    "scrolled": false
   },
   "outputs": [
    {
     "data": {
      "text/html": [
       "<div>\n",
       "<style scoped>\n",
       "    .dataframe tbody tr th:only-of-type {\n",
       "        vertical-align: middle;\n",
       "    }\n",
       "\n",
       "    .dataframe tbody tr th {\n",
       "        vertical-align: top;\n",
       "    }\n",
       "\n",
       "    .dataframe thead th {\n",
       "        text-align: right;\n",
       "    }\n",
       "</style>\n",
       "<table border=\"1\" class=\"dataframe\">\n",
       "  <thead>\n",
       "    <tr style=\"text-align: right;\">\n",
       "      <th></th>\n",
       "      <th>Name</th>\n",
       "      <th>tRNA #</th>\n",
       "      <th>Begin</th>\n",
       "      <th>End</th>\n",
       "      <th>Type</th>\n",
       "      <th>Codon</th>\n",
       "      <th>Begin.1</th>\n",
       "      <th>End.1</th>\n",
       "      <th>Score</th>\n",
       "      <th>Note</th>\n",
       "    </tr>\n",
       "  </thead>\n",
       "  <tbody>\n",
       "    <tr>\n",
       "      <td>1</td>\n",
       "      <td>FBtr0345466</td>\n",
       "      <td>1</td>\n",
       "      <td>2226</td>\n",
       "      <td>2299</td>\n",
       "      <td>Thr</td>\n",
       "      <td>AGT</td>\n",
       "      <td>0</td>\n",
       "      <td>0</td>\n",
       "      <td>71.9</td>\n",
       "      <td>NaN</td>\n",
       "    </tr>\n",
       "    <tr>\n",
       "      <td>2</td>\n",
       "      <td>FBtr0301496</td>\n",
       "      <td>1</td>\n",
       "      <td>1212</td>\n",
       "      <td>1283</td>\n",
       "      <td>Pro</td>\n",
       "      <td>AGG</td>\n",
       "      <td>0</td>\n",
       "      <td>0</td>\n",
       "      <td>68.0</td>\n",
       "      <td>NaN</td>\n",
       "    </tr>\n",
       "    <tr>\n",
       "      <td>3</td>\n",
       "      <td>FBtr0301496</td>\n",
       "      <td>2</td>\n",
       "      <td>1005</td>\n",
       "      <td>934</td>\n",
       "      <td>Pro</td>\n",
       "      <td>AGG</td>\n",
       "      <td>0</td>\n",
       "      <td>0</td>\n",
       "      <td>68.0</td>\n",
       "      <td>NaN</td>\n",
       "    </tr>\n",
       "    <tr>\n",
       "      <td>4</td>\n",
       "      <td>FBtr0339901</td>\n",
       "      <td>1</td>\n",
       "      <td>97</td>\n",
       "      <td>168</td>\n",
       "      <td>Glu</td>\n",
       "      <td>CTC</td>\n",
       "      <td>0</td>\n",
       "      <td>0</td>\n",
       "      <td>72.7</td>\n",
       "      <td>NaN</td>\n",
       "    </tr>\n",
       "    <tr>\n",
       "      <td>5</td>\n",
       "      <td>FBtr0346438</td>\n",
       "      <td>1</td>\n",
       "      <td>775</td>\n",
       "      <td>704</td>\n",
       "      <td>Pro</td>\n",
       "      <td>CGG</td>\n",
       "      <td>0</td>\n",
       "      <td>0</td>\n",
       "      <td>69.5</td>\n",
       "      <td>NaN</td>\n",
       "    </tr>\n",
       "  </tbody>\n",
       "</table>\n",
       "</div>"
      ],
      "text/plain": [
       "   Name         tRNA # Begin  End  Type Codon Begin.1 End.1 Score Note\n",
       "1  FBtr0345466       1  2226  2299  Thr   AGT       0     0  71.9  NaN\n",
       "2  FBtr0301496       1  1212  1283  Pro   AGG       0     0  68.0  NaN\n",
       "3  FBtr0301496       2  1005  934   Pro   AGG       0     0  68.0  NaN\n",
       "4  FBtr0339901       1  97    168   Glu   CTC       0     0  72.7  NaN\n",
       "5  FBtr0346438       1  775   704   Pro   CGG       0     0  69.5  NaN"
      ]
     },
     "execution_count": 100,
     "metadata": {},
     "output_type": "execute_result"
    }
   ],
   "source": [
    "tscan_3UTR = pd.read_table('./tse_output/dmel-all-three_prime_UTR-r6.27.fasta.tse.out',sep='\\t',skiprows=1).reset_index(drop=True).drop(0,axis=0)\n",
    "tscan_3UTR"
   ]
  },
  {
   "cell_type": "code",
   "execution_count": 102,
   "metadata": {},
   "outputs": [
    {
     "data": {
      "text/plain": [
       "357"
      ]
     },
     "execution_count": 102,
     "metadata": {},
     "output_type": "execute_result"
    }
   ],
   "source": [
    "##total size of 3UTR trnas\n",
    "trnas_UTR = np.sum(np.abs(tscan_3UTR['End '].astype(int)- tscan_3UTR['Begin'].astype(int)))\n",
    "trnas_UTR"
   ]
  },
  {
   "cell_type": "code",
   "execution_count": 103,
   "metadata": {},
   "outputs": [
    {
     "data": {
      "text/html": [
       "<div>\n",
       "<style scoped>\n",
       "    .dataframe tbody tr th:only-of-type {\n",
       "        vertical-align: middle;\n",
       "    }\n",
       "\n",
       "    .dataframe tbody tr th {\n",
       "        vertical-align: top;\n",
       "    }\n",
       "\n",
       "    .dataframe thead th {\n",
       "        text-align: right;\n",
       "    }\n",
       "</style>\n",
       "<table border=\"1\" class=\"dataframe\">\n",
       "  <thead>\n",
       "    <tr style=\"text-align: right;\">\n",
       "      <th></th>\n",
       "      <th>Name</th>\n",
       "      <th>tRNA #</th>\n",
       "      <th>Begin</th>\n",
       "      <th>End</th>\n",
       "      <th>Type</th>\n",
       "      <th>Codon</th>\n",
       "      <th>Begin.1</th>\n",
       "      <th>End.1</th>\n",
       "      <th>Score</th>\n",
       "      <th>CM</th>\n",
       "      <th>Score.1</th>\n",
       "      <th>Note</th>\n",
       "    </tr>\n",
       "  </thead>\n",
       "  <tbody>\n",
       "    <tr>\n",
       "      <td>1</td>\n",
       "      <td>FBgn0262867_intron_FBgn0262867:12_FBgn0262867:11</td>\n",
       "      <td>1</td>\n",
       "      <td>5450</td>\n",
       "      <td>5523</td>\n",
       "      <td>Asn</td>\n",
       "      <td>GTT</td>\n",
       "      <td>0</td>\n",
       "      <td>0</td>\n",
       "      <td>84.7</td>\n",
       "      <td>Asn</td>\n",
       "      <td>118.8</td>\n",
       "      <td>NaN</td>\n",
       "    </tr>\n",
       "    <tr>\n",
       "      <td>2</td>\n",
       "      <td>FBgn0262867_intron_FBgn0262867:12_FBgn0262867:11</td>\n",
       "      <td>2</td>\n",
       "      <td>5280</td>\n",
       "      <td>5207</td>\n",
       "      <td>Asn</td>\n",
       "      <td>GTT</td>\n",
       "      <td>0</td>\n",
       "      <td>0</td>\n",
       "      <td>84.7</td>\n",
       "      <td>Asn</td>\n",
       "      <td>118.8</td>\n",
       "      <td>NaN</td>\n",
       "    </tr>\n",
       "    <tr>\n",
       "      <td>3</td>\n",
       "      <td>FBgn0003716_intron_FBgn0003716:4_FBgn0003716:2</td>\n",
       "      <td>1</td>\n",
       "      <td>192</td>\n",
       "      <td>263</td>\n",
       "      <td>Asp</td>\n",
       "      <td>GTC</td>\n",
       "      <td>0</td>\n",
       "      <td>0</td>\n",
       "      <td>66.7</td>\n",
       "      <td>Asp</td>\n",
       "      <td>112.1</td>\n",
       "      <td>NaN</td>\n",
       "    </tr>\n",
       "    <tr>\n",
       "      <td>4</td>\n",
       "      <td>FBgn0003716_intron_FBgn0003716:4_FBgn0003716:2</td>\n",
       "      <td>2</td>\n",
       "      <td>603</td>\n",
       "      <td>532</td>\n",
       "      <td>Asp</td>\n",
       "      <td>GTC</td>\n",
       "      <td>0</td>\n",
       "      <td>0</td>\n",
       "      <td>56.7</td>\n",
       "      <td>Asp</td>\n",
       "      <td>102.9</td>\n",
       "      <td>NaN</td>\n",
       "    </tr>\n",
       "    <tr>\n",
       "      <td>5</td>\n",
       "      <td>FBgn0044020_intron_FBgn0044020:3_FBgn0044020:1</td>\n",
       "      <td>1</td>\n",
       "      <td>17571</td>\n",
       "      <td>17643</td>\n",
       "      <td>Met</td>\n",
       "      <td>CAT</td>\n",
       "      <td>0</td>\n",
       "      <td>0</td>\n",
       "      <td>82.4</td>\n",
       "      <td>Met</td>\n",
       "      <td>115.4</td>\n",
       "      <td>NaN</td>\n",
       "    </tr>\n",
       "  </tbody>\n",
       "</table>\n",
       "</div>"
      ],
      "text/plain": [
       "   Name                                              tRNA #  Begin    End  \\\n",
       "1  FBgn0262867_intron_FBgn0262867:12_FBgn0262867:11       1   5450   5523   \n",
       "2  FBgn0262867_intron_FBgn0262867:12_FBgn0262867:11       2   5280   5207   \n",
       "3  FBgn0003716_intron_FBgn0003716:4_FBgn0003716:2         1   192    263    \n",
       "4  FBgn0003716_intron_FBgn0003716:4_FBgn0003716:2         2   603    532    \n",
       "5  FBgn0044020_intron_FBgn0044020:3_FBgn0044020:1         1  17571  17643   \n",
       "\n",
       "  Type Codon Begin.1 End.1 Score   CM Score.1 Note  \n",
       "1  Asn   GTT       0     0  84.7  Asn   118.8  NaN  \n",
       "2  Asn   GTT       0     0  84.7  Asn   118.8  NaN  \n",
       "3  Asp   GTC       0     0  66.7  Asp   112.1  NaN  \n",
       "4  Asp   GTC       0     0  56.7  Asp   102.9  NaN  \n",
       "5  Met   CAT       0     0  82.4  Met   115.4  NaN  "
      ]
     },
     "execution_count": 103,
     "metadata": {},
     "output_type": "execute_result"
    }
   ],
   "source": [
    "##load the trna genes predicted from introns of the longest isoforms\n",
    "tscan_intronic = pd.read_table('tscan_predicted_transc_introns.txt',sep='\\t',skiprows=1).reset_index(drop=True).drop(0,axis=0)\n",
    "tscan_intronic.head()"
   ]
  },
  {
   "cell_type": "code",
   "execution_count": 86,
   "metadata": {
    "scrolled": true
   },
   "outputs": [
    {
     "data": {
      "text/html": [
       "<div>\n",
       "<style scoped>\n",
       "    .dataframe tbody tr th:only-of-type {\n",
       "        vertical-align: middle;\n",
       "    }\n",
       "\n",
       "    .dataframe tbody tr th {\n",
       "        vertical-align: top;\n",
       "    }\n",
       "\n",
       "    .dataframe thead th {\n",
       "        text-align: right;\n",
       "    }\n",
       "</style>\n",
       "<table border=\"1\" class=\"dataframe\">\n",
       "  <thead>\n",
       "    <tr style=\"text-align: right;\">\n",
       "      <th></th>\n",
       "      <th>Score</th>\n",
       "    </tr>\n",
       "  </thead>\n",
       "  <tbody>\n",
       "    <tr>\n",
       "      <td>count</td>\n",
       "      <td>130.000000</td>\n",
       "    </tr>\n",
       "    <tr>\n",
       "      <td>mean</td>\n",
       "      <td>75.312308</td>\n",
       "    </tr>\n",
       "    <tr>\n",
       "      <td>std</td>\n",
       "      <td>8.331271</td>\n",
       "    </tr>\n",
       "    <tr>\n",
       "      <td>min</td>\n",
       "      <td>56.000000</td>\n",
       "    </tr>\n",
       "    <tr>\n",
       "      <td>25%</td>\n",
       "      <td>70.200000</td>\n",
       "    </tr>\n",
       "    <tr>\n",
       "      <td>50%</td>\n",
       "      <td>74.900000</td>\n",
       "    </tr>\n",
       "    <tr>\n",
       "      <td>75%</td>\n",
       "      <td>81.700000</td>\n",
       "    </tr>\n",
       "    <tr>\n",
       "      <td>max</td>\n",
       "      <td>88.800000</td>\n",
       "    </tr>\n",
       "  </tbody>\n",
       "</table>\n",
       "</div>"
      ],
      "text/plain": [
       "            Score\n",
       "count  130.000000\n",
       "mean    75.312308\n",
       "std      8.331271\n",
       "min     56.000000\n",
       "25%     70.200000\n",
       "50%     74.900000\n",
       "75%     81.700000\n",
       "max     88.800000"
      ]
     },
     "execution_count": 86,
     "metadata": {},
     "output_type": "execute_result"
    }
   ],
   "source": [
    "tscan_intronic=tscan_intronic[tscan_intronic['Note']!='pseudo'].drop('Note',axis=1)\n",
    "tscan_intronic['Score'] = tscan_intronic['Score'].astype(float)\n",
    "tscan_intronic = tscan_intronic[tscan_intronic['Score']>50]  ##remove low-quality trnas with covariance below 50\n",
    "tscan_intronic.describe()"
   ]
  },
  {
   "cell_type": "code",
   "execution_count": 88,
   "metadata": {},
   "outputs": [
    {
     "data": {
      "text/plain": [
       "9740"
      ]
     },
     "execution_count": 88,
     "metadata": {},
     "output_type": "execute_result"
    }
   ],
   "source": [
    "lengths = tscan_intronic['End'].astype(int) - tscan_intronic['Begin'].astype(int)\n",
    "total_trna = np.sum(np.abs(lengths))\n",
    "total_trna"
   ]
  },
  {
   "cell_type": "code",
   "execution_count": 35,
   "metadata": {},
   "outputs": [],
   "source": [
    "from scipy.stats import chisquare, binom_test"
   ]
  },
  {
   "cell_type": "code",
   "execution_count": 90,
   "metadata": {},
   "outputs": [
    {
     "data": {
      "text/plain": [
       "64826497.0"
      ]
     },
     "execution_count": 90,
     "metadata": {},
     "output_type": "execute_result"
    }
   ],
   "source": [
    "#compute net intronic region \n",
    "net_intronic = intronic -  total_trna\n",
    "net_intronic"
   ]
  },
  {
   "cell_type": "code",
   "execution_count": 93,
   "metadata": {
    "scrolled": true
   },
   "outputs": [
    {
     "data": {
      "text/plain": [
       "0.44547092150141143"
      ]
     },
     "execution_count": 93,
     "metadata": {},
     "output_type": "execute_result"
    }
   ],
   "source": [
    "net_intronic/genome_size"
   ]
  },
  {
   "cell_type": "code",
   "execution_count": 37,
   "metadata": {},
   "outputs": [
    {
     "data": {
      "text/plain": [
       "0.297881137716562"
      ]
     },
     "execution_count": 37,
     "metadata": {},
     "output_type": "execute_result"
    }
   ],
   "source": [
    "intergenic/genome_size"
   ]
  },
  {
   "cell_type": "code",
   "execution_count": null,
   "metadata": {},
   "outputs": [],
   "source": [
    "# intergenic is 2/3 the size of intronic "
   ]
  },
  {
   "cell_type": "code",
   "execution_count": 39,
   "metadata": {},
   "outputs": [
    {
     "data": {
      "text/plain": [
       "1.0"
      ]
     },
     "execution_count": 39,
     "metadata": {},
     "output_type": "execute_result"
    }
   ],
   "source": [
    "## in intronic is \n",
    "binom_test(x=130,n=290,p=0.45)   \n",
    "#since total intron size is 44% of genome what is the expectation of nestinga trna?"
   ]
  },
  {
   "cell_type": "markdown",
   "metadata": {},
   "source": [
    "### maybe better to l0ok at what fraction of introns are long enoguh to accomodate tRNAs since median and modal intron szie is 56nt ?\n",
    "###based on my previous analysis the smallest intron hosting a trna was around 324nt"
   ]
  },
  {
   "cell_type": "code",
   "execution_count": 40,
   "metadata": {
    "scrolled": true
   },
   "outputs": [
    {
     "data": {
      "text/plain": [
       "count     47118.000000\n",
       "mean       1260.407339\n",
       "std        5841.731936\n",
       "min           2.000000\n",
       "25%          60.000000\n",
       "50%          72.000000\n",
       "75%         373.000000\n",
       "max      268107.000000\n",
       "Name: length, dtype: float64"
      ]
     },
     "execution_count": 40,
     "metadata": {},
     "output_type": "execute_result"
    }
   ],
   "source": [
    "GL2.query('unique_coords== \"Y\"' )['length'].describe() "
   ]
  },
  {
   "cell_type": "code",
   "execution_count": 43,
   "metadata": {},
   "outputs": [
    {
     "data": {
      "text/plain": [
       "56473680"
      ]
     },
     "execution_count": 43,
     "metadata": {},
     "output_type": "execute_result"
    }
   ],
   "source": [
    "sum_long_introns = GL2.query('unique_coords== \"Y\"' ).query('length >=300')['length'].sum()\n",
    "sum_long_introns"
   ]
  },
  {
   "cell_type": "code",
   "execution_count": 44,
   "metadata": {},
   "outputs": [
    {
     "data": {
      "text/plain": [
       "0.3880725233414329"
      ]
     },
     "execution_count": 44,
     "metadata": {},
     "output_type": "execute_result"
    }
   ],
   "source": [
    "sum_long_introns/genome"
   ]
  },
  {
   "cell_type": "code",
   "execution_count": 45,
   "metadata": {},
   "outputs": [
    {
     "data": {
      "text/plain": [
       "0.04679886211566328"
      ]
     },
     "execution_count": 45,
     "metadata": {},
     "output_type": "execute_result"
    }
   ],
   "source": [
    "binom_test(x=130,n=290,p=0.39)   "
   ]
  },
  {
   "cell_type": "markdown",
   "metadata": {},
   "source": [
    "#### use the intronic bed file from ensemble, store the longest intron for each transcript per gene\n",
    "#### then eliminate intron sizes below 300nt"
   ]
  },
  {
   "cell_type": "code",
   "execution_count": null,
   "metadata": {},
   "outputs": [],
   "source": []
  }
 ],
 "metadata": {
  "kernelspec": {
   "display_name": "Python 3",
   "language": "python",
   "name": "python3"
  },
  "language_info": {
   "codemirror_mode": {
    "name": "ipython",
    "version": 3
   },
   "file_extension": ".py",
   "mimetype": "text/x-python",
   "name": "python",
   "nbconvert_exporter": "python",
   "pygments_lexer": "ipython3",
   "version": "3.6.7"
  }
 },
 "nbformat": 4,
 "nbformat_minor": 2
}
