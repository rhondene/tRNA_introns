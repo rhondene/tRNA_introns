{
 "cells": [
  {
   "cell_type": "code",
   "execution_count": 1,
   "metadata": {},
   "outputs": [],
   "source": [
    "import numpy as np\n",
    "import scipy.stats\n",
    "import matplotlib.pyplot as plt"
   ]
  },
  {
   "cell_type": "markdown",
   "metadata": {},
   "source": [
    "### geneerate a multinomial random variable"
   ]
  },
  {
   "cell_type": "code",
   "execution_count": 3,
   "metadata": {
    "scrolled": true
   },
   "outputs": [
    {
     "data": {
      "text/plain": [
       "3.628772511669589"
      ]
     },
     "execution_count": 3,
     "metadata": {},
     "output_type": "execute_result"
    }
   ],
   "source": [
    "a = np.random.uniform(0,10)\n",
    "a"
   ]
  },
  {
   "cell_type": "markdown",
   "metadata": {},
   "source": [
    "#### modellling where in a host gene trnas are located \n",
    "a gene X has 3 introns with the following lengths\n",
    "- intron1 = 8 #0-7 == 8/16\n",
    "- intron2= 12 # 9-12 ==4/16\n",
    "- intron3: 16 #12-15 = 4/16\n",
    "sample from a uniform distribution based on the proportion of each intron"
   ]
  },
  {
   "cell_type": "code",
   "execution_count": 6,
   "metadata": {},
   "outputs": [],
   "source": [
    "def intron_loc(in1,in2,):\n",
    "    \"\"\"inputs: upper bound of each intron\"\"\"\n",
    "    trna = np.random.uniform(0,1)\n",
    "    if trna <in1: \n",
    "        return('1st_intron')\n",
    "    if trna <in1+in2: \n",
    "        return('2nd_intron')\n",
    "    else: return('3rd_intron')"
   ]
  },
  {
   "cell_type": "code",
   "execution_count": 9,
   "metadata": {},
   "outputs": [],
   "source": [
    "locs = []\n",
    "for i in range(10000):\n",
    "    locs.append(intron_loc(0.5,0.25))"
   ]
  },
  {
   "cell_type": "code",
   "execution_count": 11,
   "metadata": {},
   "outputs": [
    {
     "data": {
      "text/plain": [
       "4974"
      ]
     },
     "execution_count": 11,
     "metadata": {},
     "output_type": "execute_result"
    }
   ],
   "source": [
    "locs.count('1st_intron')"
   ]
  },
  {
   "cell_type": "code",
   "execution_count": 12,
   "metadata": {},
   "outputs": [
    {
     "data": {
      "text/plain": [
       "2462"
      ]
     },
     "execution_count": 12,
     "metadata": {},
     "output_type": "execute_result"
    }
   ],
   "source": [
    "locs.count('2nd_intron')"
   ]
  },
  {
   "cell_type": "code",
   "execution_count": 13,
   "metadata": {},
   "outputs": [
    {
     "data": {
      "text/plain": [
       "2564"
      ]
     },
     "execution_count": 13,
     "metadata": {},
     "output_type": "execute_result"
    }
   ],
   "source": [
    "locs.count('3rd_intron')"
   ]
  },
  {
   "cell_type": "code",
   "execution_count": 16,
   "metadata": {
    "scrolled": false
   },
   "outputs": [
    {
     "data": {
      "image/png": "[encoded data removed]",
      "text/plain": [
       "<Figure size 432x288 with 1 Axes>"
      ]
     },
     "metadata": {
      "needs_background": "light"
     },
     "output_type": "display_data"
    }
   ],
   "source": [
    "plt.bar(['1st_intron','2nd_intron','3rd_intron'],[locs.count('1st_intron'),locs.count('2nd_intron'), locs.count('3rd_intron')])\n",
    "plt.show()"
   ]
  },
  {
   "cell_type": "markdown",
   "metadata": {},
   "source": [
    "## poisson now for modelling dist within introns\n",
    "if a gene has 16 introns, 13 trnas what is the probability of single intron hosting 5 trnas"
   ]
  },
  {
   "cell_type": "code",
   "execution_count": 17,
   "metadata": {},
   "outputs": [],
   "source": [
    "from scipy.stats import poisson "
   ]
  },
  {
   "cell_type": "code",
   "execution_count": 18,
   "metadata": {},
   "outputs": [
    {
     "data": {
      "text/plain": [
       "0.0013093969822083672"
      ]
     },
     "execution_count": 18,
     "metadata": {},
     "output_type": "execute_result"
    }
   ],
   "source": [
    "poisson.pmf(5,(13/16))"
   ]
  },
  {
   "cell_type": "code",
   "execution_count": 19,
   "metadata": {},
   "outputs": [
    {
     "data": {
      "text/plain": [
       "13"
      ]
     },
     "execution_count": 19,
     "metadata": {},
     "output_type": "execute_result"
    }
   ],
   "source": [
    "##plot the probs of trna occruence\n",
    "probs = []\n",
    "for i in range(13):\n",
    "    probs.append(poisson.pmf(i,(13/16)))\n",
    "len(probs)"
   ]
  },
  {
   "cell_type": "code",
   "execution_count": 26,
   "metadata": {
    "scrolled": true
   },
   "outputs": [
    {
     "data": {
      "image/png": "[encoded data removed]",
      "text/plain": [
       "<Figure size 432x288 with 1 Axes>"
      ]
     },
     "metadata": {
      "needs_background": "light"
     },
     "output_type": "display_data"
    }
   ],
   "source": [
    "plt.bar(np.arange(13),probs)\n",
    "plt.plot(np.arange(13),probs,color='red')\n",
    "plt.title('Poisson expected tRNA count in an intron')\n",
    "plt.xlabel('# of tRNAs'); plt.ylabel('Probability')\n",
    "plt.show()"
   ]
  },
  {
   "cell_type": "markdown",
   "metadata": {},
   "source": [
    "deviation of trnas from expected count values under uniform or even proportional dist is evidence that trnas arise by tandem duplication not de novo\n",
    "- extract all introns for the longest isoform for ECR:\n",
    "- add the legnths\n",
    "- then find their portion\n"
   ]
  },
  {
   "cell_type": "code",
   "execution_count": 29,
   "metadata": {},
   "outputs": [],
   "source": [
    "## recycle old code to extracting introns\n",
    "##previously I calculated the total intron size for each transcript\n",
    "import pandas as pd\n",
    "total_introns = pd.read_table('total_introns_transc_genes.csv', sep=',')##total introns for all transcripts \n",
    "nested_trnas = pd.read_table('trna_host_genes_merged.csv',sep=',')"
   ]
  },
  {
   "cell_type": "code",
   "execution_count": 30,
   "metadata": {
    "scrolled": true
   },
   "outputs": [
    {
     "data": {
      "text/html": [
       "<div>\n",
       "<style scoped>\n",
       "    .dataframe tbody tr th:only-of-type {\n",
       "        vertical-align: middle;\n",
       "    }\n",
       "\n",
       "    .dataframe tbody tr th {\n",
       "        vertical-align: top;\n",
       "    }\n",
       "\n",
       "    .dataframe thead th {\n",
       "        text-align: right;\n",
       "    }\n",
       "</style>\n",
       "<table border=\"1\" class=\"dataframe\">\n",
       "  <thead>\n",
       "    <tr style=\"text-align: right;\">\n",
       "      <th></th>\n",
       "      <th>Chrom</th>\n",
       "      <th>Start</th>\n",
       "      <th>End</th>\n",
       "      <th>Strand</th>\n",
       "      <th>tRNA_ID</th>\n",
       "      <th>tRNA_name</th>\n",
       "      <th>Host_Exon_ID</th>\n",
       "      <th>intron_length</th>\n",
       "      <th>mRNA_length</th>\n",
       "      <th>Host_gene_name</th>\n",
       "      <th>...</th>\n",
       "      <th>Intron_Sequence</th>\n",
       "      <th>A-content</th>\n",
       "      <th>G-content</th>\n",
       "      <th>T-content</th>\n",
       "      <th>C-content</th>\n",
       "      <th>tRNA_Sequence</th>\n",
       "      <th>A-content_trna</th>\n",
       "      <th>G-content_trna</th>\n",
       "      <th>T-content_trna</th>\n",
       "      <th>C-content_trna</th>\n",
       "    </tr>\n",
       "  </thead>\n",
       "  <tbody>\n",
       "    <tr>\n",
       "      <td>0</td>\n",
       "      <td>3L</td>\n",
       "      <td>13249547</td>\n",
       "      <td>13249618</td>\n",
       "      <td>+</td>\n",
       "      <td>FBgn0011844</td>\n",
       "      <td>sp-GTC-1-10-</td>\n",
       "      <td>FBtr0305480</td>\n",
       "      <td>12439</td>\n",
       "      <td>4841</td>\n",
       "      <td>caps</td>\n",
       "      <td>...</td>\n",
       "      <td>GTAAGTTCAGACCCGATACTCAATTCCACTCCAATTCCCAGCCATC...</td>\n",
       "      <td>0.282901</td>\n",
       "      <td>0.208779</td>\n",
       "      <td>0.291181</td>\n",
       "      <td>0.217140</td>\n",
       "      <td>UCCUCGAUAGUAUAGUGGUUAGUAUCCCCGCCUGUCACGCGGGAGA...</td>\n",
       "      <td>0.166667</td>\n",
       "      <td>0.319444</td>\n",
       "      <td>0.236111</td>\n",
       "      <td>0.277778</td>\n",
       "    </tr>\n",
       "    <tr>\n",
       "      <td>1</td>\n",
       "      <td>3R</td>\n",
       "      <td>24555302</td>\n",
       "      <td>24555373</td>\n",
       "      <td>+</td>\n",
       "      <td>FBgn0011845</td>\n",
       "      <td>sp-GTC-1-11-</td>\n",
       "      <td>FBtr0084647</td>\n",
       "      <td>325</td>\n",
       "      <td>3120</td>\n",
       "      <td>Esyt2</td>\n",
       "      <td>...</td>\n",
       "      <td>GTGAGTTCAGTTTTCCACAACTCAACGATAAACTTGCAGAATTACG...</td>\n",
       "      <td>0.286154</td>\n",
       "      <td>0.172308</td>\n",
       "      <td>0.350769</td>\n",
       "      <td>0.190769</td>\n",
       "      <td>UCCUCGAUAGUAUAGUGGUUAGUAUCCCCGCCUGUCACGCGGGAGA...</td>\n",
       "      <td>0.166667</td>\n",
       "      <td>0.319444</td>\n",
       "      <td>0.236111</td>\n",
       "      <td>0.277778</td>\n",
       "    </tr>\n",
       "    <tr>\n",
       "      <td>2</td>\n",
       "      <td>3L</td>\n",
       "      <td>1397695</td>\n",
       "      <td>1397766</td>\n",
       "      <td>+</td>\n",
       "      <td>FBgn0011851</td>\n",
       "      <td>Glu-CTC-3-4-</td>\n",
       "      <td>FBtr0310161</td>\n",
       "      <td>126467</td>\n",
       "      <td>5167</td>\n",
       "      <td>Ptp61F</td>\n",
       "      <td>...</td>\n",
       "      <td>GTAAGTGAGCAAGCAATGTTATAGTTATAGCCGGGCTAATCTGATT...</td>\n",
       "      <td>0.268979</td>\n",
       "      <td>0.226012</td>\n",
       "      <td>0.280136</td>\n",
       "      <td>0.224873</td>\n",
       "      <td>UCCCAUAUUGUCUAGUGGUUAGGAUAUCCGGCUCUCACCCGGAAGG...</td>\n",
       "      <td>0.194444</td>\n",
       "      <td>0.277778</td>\n",
       "      <td>0.263889</td>\n",
       "      <td>0.263889</td>\n",
       "    </tr>\n",
       "    <tr>\n",
       "      <td>3</td>\n",
       "      <td>3L</td>\n",
       "      <td>1397932</td>\n",
       "      <td>1398003</td>\n",
       "      <td>+</td>\n",
       "      <td>FBgn0011852</td>\n",
       "      <td>Glu-CTC-3-5-</td>\n",
       "      <td>FBtr0310161</td>\n",
       "      <td>126467</td>\n",
       "      <td>5167</td>\n",
       "      <td>Ptp61F</td>\n",
       "      <td>...</td>\n",
       "      <td>GTAAGTGAGCAAGCAATGTTATAGTTATAGCCGGGCTAATCTGATT...</td>\n",
       "      <td>0.268979</td>\n",
       "      <td>0.226012</td>\n",
       "      <td>0.280136</td>\n",
       "      <td>0.224873</td>\n",
       "      <td>UCCCAUAUUGUCUAGUGGUUAGGAUAUCCGGCUCUCACCCGGAAGG...</td>\n",
       "      <td>0.194444</td>\n",
       "      <td>0.277778</td>\n",
       "      <td>0.263889</td>\n",
       "      <td>0.263889</td>\n",
       "    </tr>\n",
       "    <tr>\n",
       "      <td>4</td>\n",
       "      <td>3L</td>\n",
       "      <td>1398169</td>\n",
       "      <td>1398240</td>\n",
       "      <td>+</td>\n",
       "      <td>FBgn0011853</td>\n",
       "      <td>Glu-CTC-3-6-</td>\n",
       "      <td>FBtr0310161</td>\n",
       "      <td>126467</td>\n",
       "      <td>5167</td>\n",
       "      <td>Ptp61F</td>\n",
       "      <td>...</td>\n",
       "      <td>GTAAGTGAGCAAGCAATGTTATAGTTATAGCCGGGCTAATCTGATT...</td>\n",
       "      <td>0.268979</td>\n",
       "      <td>0.226012</td>\n",
       "      <td>0.280136</td>\n",
       "      <td>0.224873</td>\n",
       "      <td>UCCCAUAUUGUCUAGUGGUUAGGAUAUCCGGCUCUCACCCGGAAGG...</td>\n",
       "      <td>0.194444</td>\n",
       "      <td>0.277778</td>\n",
       "      <td>0.263889</td>\n",
       "      <td>0.263889</td>\n",
       "    </tr>\n",
       "  </tbody>\n",
       "</table>\n",
       "<p>5 rows × 22 columns</p>\n",
       "</div>"
      ],
      "text/plain": [
       "  Chrom     Start       End Strand      tRNA_ID     tRNA_name Host_Exon_ID  \\\n",
       "0    3L  13249547  13249618      +  FBgn0011844  sp-GTC-1-10-  FBtr0305480   \n",
       "1    3R  24555302  24555373      +  FBgn0011845  sp-GTC-1-11-  FBtr0084647   \n",
       "2    3L   1397695   1397766      +  FBgn0011851  Glu-CTC-3-4-  FBtr0310161   \n",
       "3    3L   1397932   1398003      +  FBgn0011852  Glu-CTC-3-5-  FBtr0310161   \n",
       "4    3L   1398169   1398240      +  FBgn0011853  Glu-CTC-3-6-  FBtr0310161   \n",
       "\n",
       "   intron_length  mRNA_length Host_gene_name  ...  \\\n",
       "0          12439         4841           caps  ...   \n",
       "1            325         3120          Esyt2  ...   \n",
       "2         126467         5167         Ptp61F  ...   \n",
       "3         126467         5167         Ptp61F  ...   \n",
       "4         126467         5167         Ptp61F  ...   \n",
       "\n",
       "                                     Intron_Sequence A-content G-content  \\\n",
       "0  GTAAGTTCAGACCCGATACTCAATTCCACTCCAATTCCCAGCCATC...  0.282901  0.208779   \n",
       "1  GTGAGTTCAGTTTTCCACAACTCAACGATAAACTTGCAGAATTACG...  0.286154  0.172308   \n",
       "2  GTAAGTGAGCAAGCAATGTTATAGTTATAGCCGGGCTAATCTGATT...  0.268979  0.226012   \n",
       "3  GTAAGTGAGCAAGCAATGTTATAGTTATAGCCGGGCTAATCTGATT...  0.268979  0.226012   \n",
       "4  GTAAGTGAGCAAGCAATGTTATAGTTATAGCCGGGCTAATCTGATT...  0.268979  0.226012   \n",
       "\n",
       "   T-content  C-content                                      tRNA_Sequence  \\\n",
       "0   0.291181   0.217140  UCCUCGAUAGUAUAGUGGUUAGUAUCCCCGCCUGUCACGCGGGAGA...   \n",
       "1   0.350769   0.190769  UCCUCGAUAGUAUAGUGGUUAGUAUCCCCGCCUGUCACGCGGGAGA...   \n",
       "2   0.280136   0.224873  UCCCAUAUUGUCUAGUGGUUAGGAUAUCCGGCUCUCACCCGGAAGG...   \n",
       "3   0.280136   0.224873  UCCCAUAUUGUCUAGUGGUUAGGAUAUCCGGCUCUCACCCGGAAGG...   \n",
       "4   0.280136   0.224873  UCCCAUAUUGUCUAGUGGUUAGGAUAUCCGGCUCUCACCCGGAAGG...   \n",
       "\n",
       "   A-content_trna G-content_trna  T-content_trna  C-content_trna  \n",
       "0        0.166667       0.319444        0.236111        0.277778  \n",
       "1        0.166667       0.319444        0.236111        0.277778  \n",
       "2        0.194444       0.277778        0.263889        0.263889  \n",
       "3        0.194444       0.277778        0.263889        0.263889  \n",
       "4        0.194444       0.277778        0.263889        0.263889  \n",
       "\n",
       "[5 rows x 22 columns]"
      ]
     },
     "execution_count": 30,
     "metadata": {},
     "output_type": "execute_result"
    }
   ],
   "source": [
    "nested_trnas.head()"
   ]
  },
  {
   "cell_type": "code",
   "execution_count": 32,
   "metadata": {
    "scrolled": false
   },
   "outputs": [
    {
     "name": "stdout",
     "output_type": "stream",
     "text": [
      "<class 'pandas.core.frame.DataFrame'>\n",
      "RangeIndex: 28953 entries, 0 to 28952\n",
      "Data columns (total 4 columns):\n",
      "Transcript ID        28953 non-null object\n",
      "Total Intron Size    28953 non-null float64\n",
      "Present              28953 non-null object\n",
      "Gene ID              28953 non-null object\n",
      "dtypes: float64(1), object(3)\n",
      "memory usage: 904.9+ KB\n"
     ]
    }
   ],
   "source": [
    "total_introns.info() "
   ]
  },
  {
   "cell_type": "code",
   "execution_count": 313,
   "metadata": {
    "scrolled": true
   },
   "outputs": [
    {
     "data": {
      "text/html": [
       "<div>\n",
       "<style scoped>\n",
       "    .dataframe tbody tr th:only-of-type {\n",
       "        vertical-align: middle;\n",
       "    }\n",
       "\n",
       "    .dataframe tbody tr th {\n",
       "        vertical-align: top;\n",
       "    }\n",
       "\n",
       "    .dataframe thead th {\n",
       "        text-align: right;\n",
       "    }\n",
       "</style>\n",
       "<table border=\"1\" class=\"dataframe\">\n",
       "  <thead>\n",
       "    <tr style=\"text-align: right;\">\n",
       "      <th></th>\n",
       "      <th># submitted_id</th>\n",
       "      <th>current_id</th>\n",
       "      <th>converted_id</th>\n",
       "      <th>current_symbol</th>\n",
       "    </tr>\n",
       "  </thead>\n",
       "  <tbody>\n",
       "    <tr>\n",
       "      <td>0</td>\n",
       "      <td>FBgn0011225</td>\n",
       "      <td>FBgn0011225</td>\n",
       "      <td>FBgn0011225</td>\n",
       "      <td>jar</td>\n",
       "    </tr>\n",
       "    <tr>\n",
       "      <td>1</td>\n",
       "      <td>FBgn0014135</td>\n",
       "      <td>FBgn0014135</td>\n",
       "      <td>FBgn0014135</td>\n",
       "      <td>bnl</td>\n",
       "    </tr>\n",
       "    <tr>\n",
       "      <td>2</td>\n",
       "      <td>FBgn0044020</td>\n",
       "      <td>FBgn0044020</td>\n",
       "      <td>FBgn0044020</td>\n",
       "      <td>Roc2</td>\n",
       "    </tr>\n",
       "    <tr>\n",
       "      <td>3</td>\n",
       "      <td>FBgn0000542</td>\n",
       "      <td>FBgn0000542</td>\n",
       "      <td>FBgn0000542</td>\n",
       "      <td>ec</td>\n",
       "    </tr>\n",
       "    <tr>\n",
       "      <td>4</td>\n",
       "      <td>FBgn0051248</td>\n",
       "      <td>FBgn0051248</td>\n",
       "      <td>FBgn0051248</td>\n",
       "      <td>CG31248</td>\n",
       "    </tr>\n",
       "  </tbody>\n",
       "</table>\n",
       "</div>"
      ],
      "text/plain": [
       "  # submitted_id   current_id converted_id current_symbol\n",
       "0    FBgn0011225  FBgn0011225  FBgn0011225            jar\n",
       "1    FBgn0014135  FBgn0014135  FBgn0014135            bnl\n",
       "2    FBgn0044020  FBgn0044020  FBgn0044020           Roc2\n",
       "3    FBgn0000542  FBgn0000542  FBgn0000542             ec\n",
       "4    FBgn0051248  FBgn0051248  FBgn0051248        CG31248"
      ]
     },
     "execution_count": 313,
     "metadata": {},
     "output_type": "execute_result"
    }
   ],
   "source": [
    "##load table with id of host genes\n",
    "host_info = pd.read_table('paren_gene)ds.txt',sep='\\t')\n",
    "host_info.head()"
   ]
  },
  {
   "cell_type": "code",
   "execution_count": 36,
   "metadata": {},
   "outputs": [
    {
     "data": {
      "text/plain": [
       "'FBgn0000546'"
      ]
     },
     "execution_count": 36,
     "metadata": {},
     "output_type": "execute_result"
    }
   ],
   "source": [
    "##load the ecdysone receptor gene id\n",
    "ecr = host_info[host_info['# submitted_id']=='EcR']['current_id'].values[0]\n",
    "ecr"
   ]
  },
  {
   "cell_type": "code",
   "execution_count": 33,
   "metadata": {
    "scrolled": true
   },
   "outputs": [
    {
     "data": {
      "text/html": [
       "<div>\n",
       "<style scoped>\n",
       "    .dataframe tbody tr th:only-of-type {\n",
       "        vertical-align: middle;\n",
       "    }\n",
       "\n",
       "    .dataframe tbody tr th {\n",
       "        vertical-align: top;\n",
       "    }\n",
       "\n",
       "    .dataframe thead th {\n",
       "        text-align: right;\n",
       "    }\n",
       "</style>\n",
       "<table border=\"1\" class=\"dataframe\">\n",
       "  <thead>\n",
       "    <tr style=\"text-align: right;\">\n",
       "      <th></th>\n",
       "      <th>Transcript ID</th>\n",
       "      <th>Total Intron Size</th>\n",
       "      <th>Present</th>\n",
       "      <th>Gene ID</th>\n",
       "    </tr>\n",
       "  </thead>\n",
       "  <tbody>\n",
       "    <tr>\n",
       "      <td>0</td>\n",
       "      <td>FBtr0333673</td>\n",
       "      <td>14681.0</td>\n",
       "      <td>Yes</td>\n",
       "      <td>FBgn0264607</td>\n",
       "    </tr>\n",
       "    <tr>\n",
       "      <td>1</td>\n",
       "      <td>FBtr0300378</td>\n",
       "      <td>12316.0</td>\n",
       "      <td>Yes</td>\n",
       "      <td>FBgn0264607</td>\n",
       "    </tr>\n",
       "    <tr>\n",
       "      <td>2</td>\n",
       "      <td>FBtr0089217</td>\n",
       "      <td>14657.0</td>\n",
       "      <td>Yes</td>\n",
       "      <td>FBgn0264607</td>\n",
       "    </tr>\n",
       "    <tr>\n",
       "      <td>3</td>\n",
       "      <td>FBtr0100146</td>\n",
       "      <td>14537.0</td>\n",
       "      <td>Yes</td>\n",
       "      <td>FBgn0264607</td>\n",
       "    </tr>\n",
       "    <tr>\n",
       "      <td>4</td>\n",
       "      <td>FBtr0100148</td>\n",
       "      <td>14579.0</td>\n",
       "      <td>Yes</td>\n",
       "      <td>FBgn0264607</td>\n",
       "    </tr>\n",
       "  </tbody>\n",
       "</table>\n",
       "</div>"
      ],
      "text/plain": [
       "  Transcript ID  Total Intron Size Present      Gene ID\n",
       "0   FBtr0333673            14681.0     Yes  FBgn0264607\n",
       "1   FBtr0300378            12316.0     Yes  FBgn0264607\n",
       "2   FBtr0089217            14657.0     Yes  FBgn0264607\n",
       "3   FBtr0100146            14537.0     Yes  FBgn0264607\n",
       "4   FBtr0100148            14579.0     Yes  FBgn0264607"
      ]
     },
     "execution_count": 33,
     "metadata": {},
     "output_type": "execute_result"
    }
   ],
   "source": [
    "total_introns.head()"
   ]
  },
  {
   "cell_type": "code",
   "execution_count": 38,
   "metadata": {
    "scrolled": true
   },
   "outputs": [
    {
     "data": {
      "text/html": [
       "<div>\n",
       "<style scoped>\n",
       "    .dataframe tbody tr th:only-of-type {\n",
       "        vertical-align: middle;\n",
       "    }\n",
       "\n",
       "    .dataframe tbody tr th {\n",
       "        vertical-align: top;\n",
       "    }\n",
       "\n",
       "    .dataframe thead th {\n",
       "        text-align: right;\n",
       "    }\n",
       "</style>\n",
       "<table border=\"1\" class=\"dataframe\">\n",
       "  <thead>\n",
       "    <tr style=\"text-align: right;\">\n",
       "      <th></th>\n",
       "      <th>Transcript ID</th>\n",
       "      <th>Total Intron Size</th>\n",
       "      <th>Present</th>\n",
       "      <th>Gene ID</th>\n",
       "    </tr>\n",
       "  </thead>\n",
       "  <tbody>\n",
       "    <tr>\n",
       "      <td>10991</td>\n",
       "      <td>FBtr0086008</td>\n",
       "      <td>73561.0</td>\n",
       "      <td>Yes</td>\n",
       "      <td>FBgn0000546</td>\n",
       "    </tr>\n",
       "    <tr>\n",
       "      <td>11540</td>\n",
       "      <td>FBtr0086009</td>\n",
       "      <td>61524.0</td>\n",
       "      <td>Yes</td>\n",
       "      <td>FBgn0000546</td>\n",
       "    </tr>\n",
       "    <tr>\n",
       "      <td>11538</td>\n",
       "      <td>FBtr0086010</td>\n",
       "      <td>61478.0</td>\n",
       "      <td>Yes</td>\n",
       "      <td>FBgn0000546</td>\n",
       "    </tr>\n",
       "    <tr>\n",
       "      <td>11539</td>\n",
       "      <td>FBtr0086012</td>\n",
       "      <td>36520.0</td>\n",
       "      <td>Yes</td>\n",
       "      <td>FBgn0000546</td>\n",
       "    </tr>\n",
       "    <tr>\n",
       "      <td>11537</td>\n",
       "      <td>FBtr0302439</td>\n",
       "      <td>35554.0</td>\n",
       "      <td>Yes</td>\n",
       "      <td>FBgn0000546</td>\n",
       "    </tr>\n",
       "    <tr>\n",
       "      <td>11541</td>\n",
       "      <td>FBtr0086011</td>\n",
       "      <td>35554.0</td>\n",
       "      <td>Yes</td>\n",
       "      <td>FBgn0000546</td>\n",
       "    </tr>\n",
       "  </tbody>\n",
       "</table>\n",
       "</div>"
      ],
      "text/plain": [
       "      Transcript ID  Total Intron Size Present      Gene ID\n",
       "10991   FBtr0086008            73561.0     Yes  FBgn0000546\n",
       "11540   FBtr0086009            61524.0     Yes  FBgn0000546\n",
       "11538   FBtr0086010            61478.0     Yes  FBgn0000546\n",
       "11539   FBtr0086012            36520.0     Yes  FBgn0000546\n",
       "11537   FBtr0302439            35554.0     Yes  FBgn0000546\n",
       "11541   FBtr0086011            35554.0     Yes  FBgn0000546"
      ]
     },
     "execution_count": 38,
     "metadata": {},
     "output_type": "execute_result"
    }
   ],
   "source": [
    "##get ecr transcript with highest intron composion \n",
    "total_introns[total_introns['Gene ID']==ecr].sort_values(by='Total Intron Size', ascending=False)"
   ]
  },
  {
   "cell_type": "code",
   "execution_count": 40,
   "metadata": {},
   "outputs": [
    {
     "data": {
      "text/plain": [
       "'FBtr0086008'"
      ]
     },
     "execution_count": 40,
     "metadata": {},
     "output_type": "execute_result"
    }
   ],
   "source": [
    "trans_id = total_introns[total_introns['Gene ID']==ecr].sort_values(by='Total Intron Size', ascending=False)['Transcript ID'].values[0]\n",
    "trans_id"
   ]
  },
  {
   "cell_type": "code",
   "execution_count": 42,
   "metadata": {
    "scrolled": true
   },
   "outputs": [
    {
     "data": {
      "text/html": [
       "<div>\n",
       "<style scoped>\n",
       "    .dataframe tbody tr th:only-of-type {\n",
       "        vertical-align: middle;\n",
       "    }\n",
       "\n",
       "    .dataframe tbody tr th {\n",
       "        vertical-align: top;\n",
       "    }\n",
       "\n",
       "    .dataframe thead th {\n",
       "        text-align: right;\n",
       "    }\n",
       "</style>\n",
       "<table border=\"1\" class=\"dataframe\">\n",
       "  <thead>\n",
       "    <tr style=\"text-align: right;\">\n",
       "      <th></th>\n",
       "      <th>Chrom</th>\n",
       "      <th>Start</th>\n",
       "      <th>End</th>\n",
       "      <th>ID</th>\n",
       "      <th>Phase</th>\n",
       "      <th>Strand</th>\n",
       "    </tr>\n",
       "  </thead>\n",
       "  <tbody>\n",
       "    <tr>\n",
       "      <td>0</td>\n",
       "      <td>chr4</td>\n",
       "      <td>1037422</td>\n",
       "      <td>1037475</td>\n",
       "      <td>FBtr0333673_intron_0_0_chr4_1037423_r</td>\n",
       "      <td>0</td>\n",
       "      <td>-</td>\n",
       "    </tr>\n",
       "    <tr>\n",
       "      <td>1</td>\n",
       "      <td>chr4</td>\n",
       "      <td>1037569</td>\n",
       "      <td>1037645</td>\n",
       "      <td>FBtr0333673_intron_1_0_chr4_1037570_r</td>\n",
       "      <td>0</td>\n",
       "      <td>-</td>\n",
       "    </tr>\n",
       "    <tr>\n",
       "      <td>2</td>\n",
       "      <td>chr4</td>\n",
       "      <td>1037740</td>\n",
       "      <td>1038358</td>\n",
       "      <td>FBtr0333673_intron_2_0_chr4_1037741_r</td>\n",
       "      <td>0</td>\n",
       "      <td>-</td>\n",
       "    </tr>\n",
       "    <tr>\n",
       "      <td>3</td>\n",
       "      <td>chr4</td>\n",
       "      <td>1038434</td>\n",
       "      <td>1045155</td>\n",
       "      <td>FBtr0333673_intron_3_0_chr4_1038435_r</td>\n",
       "      <td>0</td>\n",
       "      <td>-</td>\n",
       "    </tr>\n",
       "    <tr>\n",
       "      <td>4</td>\n",
       "      <td>chr4</td>\n",
       "      <td>1045248</td>\n",
       "      <td>1047263</td>\n",
       "      <td>FBtr0333673_intron_4_0_chr4_1045249_r</td>\n",
       "      <td>0</td>\n",
       "      <td>-</td>\n",
       "    </tr>\n",
       "  </tbody>\n",
       "</table>\n",
       "</div>"
      ],
      "text/plain": [
       "  Chrom    Start      End                                     ID  Phase Strand\n",
       "0  chr4  1037422  1037475  FBtr0333673_intron_0_0_chr4_1037423_r      0      -\n",
       "1  chr4  1037569  1037645  FBtr0333673_intron_1_0_chr4_1037570_r      0      -\n",
       "2  chr4  1037740  1038358  FBtr0333673_intron_2_0_chr4_1037741_r      0      -\n",
       "3  chr4  1038434  1045155  FBtr0333673_intron_3_0_chr4_1038435_r      0      -\n",
       "4  chr4  1045248  1047263  FBtr0333673_intron_4_0_chr4_1045249_r      0      -"
      ]
     },
     "execution_count": 42,
     "metadata": {},
     "output_type": "execute_result"
    }
   ],
   "source": [
    "all_introns = pd.read_table('dmel_introns_ensembl.bed', sep='\\t', header=None, names=['Chrom','Start','End','ID','Phase','Strand'])\n",
    "all_introns.head()"
   ]
  },
  {
   "cell_type": "code",
   "execution_count": 48,
   "metadata": {
    "scrolled": false
   },
   "outputs": [
    {
     "data": {
      "text/html": [
       "<div>\n",
       "<style scoped>\n",
       "    .dataframe tbody tr th:only-of-type {\n",
       "        vertical-align: middle;\n",
       "    }\n",
       "\n",
       "    .dataframe tbody tr th {\n",
       "        vertical-align: top;\n",
       "    }\n",
       "\n",
       "    .dataframe thead th {\n",
       "        text-align: right;\n",
       "    }\n",
       "</style>\n",
       "<table border=\"1\" class=\"dataframe\">\n",
       "  <thead>\n",
       "    <tr style=\"text-align: right;\">\n",
       "      <th></th>\n",
       "      <th>Chrom</th>\n",
       "      <th>Start</th>\n",
       "      <th>End</th>\n",
       "      <th>ID</th>\n",
       "      <th>Phase</th>\n",
       "      <th>Strand</th>\n",
       "      <th>Transcript ID</th>\n",
       "    </tr>\n",
       "  </thead>\n",
       "  <tbody>\n",
       "    <tr>\n",
       "      <td>0</td>\n",
       "      <td>chr4</td>\n",
       "      <td>1037422</td>\n",
       "      <td>1037475</td>\n",
       "      <td>FBtr0333673_intron_0_0_chr4_1037423_r</td>\n",
       "      <td>0</td>\n",
       "      <td>-</td>\n",
       "      <td>FBtr0333673</td>\n",
       "    </tr>\n",
       "    <tr>\n",
       "      <td>1</td>\n",
       "      <td>chr4</td>\n",
       "      <td>1037569</td>\n",
       "      <td>1037645</td>\n",
       "      <td>FBtr0333673_intron_1_0_chr4_1037570_r</td>\n",
       "      <td>0</td>\n",
       "      <td>-</td>\n",
       "      <td>FBtr0333673</td>\n",
       "    </tr>\n",
       "    <tr>\n",
       "      <td>2</td>\n",
       "      <td>chr4</td>\n",
       "      <td>1037740</td>\n",
       "      <td>1038358</td>\n",
       "      <td>FBtr0333673_intron_2_0_chr4_1037741_r</td>\n",
       "      <td>0</td>\n",
       "      <td>-</td>\n",
       "      <td>FBtr0333673</td>\n",
       "    </tr>\n",
       "    <tr>\n",
       "      <td>3</td>\n",
       "      <td>chr4</td>\n",
       "      <td>1038434</td>\n",
       "      <td>1045155</td>\n",
       "      <td>FBtr0333673_intron_3_0_chr4_1038435_r</td>\n",
       "      <td>0</td>\n",
       "      <td>-</td>\n",
       "      <td>FBtr0333673</td>\n",
       "    </tr>\n",
       "    <tr>\n",
       "      <td>4</td>\n",
       "      <td>chr4</td>\n",
       "      <td>1045248</td>\n",
       "      <td>1047263</td>\n",
       "      <td>FBtr0333673_intron_4_0_chr4_1045249_r</td>\n",
       "      <td>0</td>\n",
       "      <td>-</td>\n",
       "      <td>FBtr0333673</td>\n",
       "    </tr>\n",
       "  </tbody>\n",
       "</table>\n",
       "</div>"
      ],
      "text/plain": [
       "  Chrom    Start      End                                     ID  Phase  \\\n",
       "0  chr4  1037422  1037475  FBtr0333673_intron_0_0_chr4_1037423_r      0   \n",
       "1  chr4  1037569  1037645  FBtr0333673_intron_1_0_chr4_1037570_r      0   \n",
       "2  chr4  1037740  1038358  FBtr0333673_intron_2_0_chr4_1037741_r      0   \n",
       "3  chr4  1038434  1045155  FBtr0333673_intron_3_0_chr4_1038435_r      0   \n",
       "4  chr4  1045248  1047263  FBtr0333673_intron_4_0_chr4_1045249_r      0   \n",
       "\n",
       "  Strand Transcript ID  \n",
       "0      -   FBtr0333673  \n",
       "1      -   FBtr0333673  \n",
       "2      -   FBtr0333673  \n",
       "3      -   FBtr0333673  \n",
       "4      -   FBtr0333673  "
      ]
     },
     "execution_count": 48,
     "metadata": {},
     "output_type": "execute_result"
    }
   ],
   "source": [
    "##parse to get transcript id\n",
    "ids = []\n",
    "for ID in all_introns['ID'].values:\n",
    "    ids.append(ID.split('_')[0])\n",
    "all_introns['Transcript ID']=ids\n",
    "all_introns.head()"
   ]
  },
  {
   "cell_type": "code",
   "execution_count": 51,
   "metadata": {},
   "outputs": [
    {
     "data": {
      "text/plain": [
       "'0'"
      ]
     },
     "execution_count": 51,
     "metadata": {},
     "output_type": "execute_result"
    }
   ],
   "source": [
    "ID.split('_')[2]"
   ]
  },
  {
   "cell_type": "code",
   "execution_count": 52,
   "metadata": {},
   "outputs": [
    {
     "data": {
      "text/html": [
       "<div>\n",
       "<style scoped>\n",
       "    .dataframe tbody tr th:only-of-type {\n",
       "        vertical-align: middle;\n",
       "    }\n",
       "\n",
       "    .dataframe tbody tr th {\n",
       "        vertical-align: top;\n",
       "    }\n",
       "\n",
       "    .dataframe thead th {\n",
       "        text-align: right;\n",
       "    }\n",
       "</style>\n",
       "<table border=\"1\" class=\"dataframe\">\n",
       "  <thead>\n",
       "    <tr style=\"text-align: right;\">\n",
       "      <th></th>\n",
       "      <th>Chrom</th>\n",
       "      <th>Start</th>\n",
       "      <th>End</th>\n",
       "      <th>ID</th>\n",
       "      <th>Phase</th>\n",
       "      <th>Strand</th>\n",
       "      <th>Transcript ID</th>\n",
       "      <th>Intron_Rank</th>\n",
       "      <th>Length</th>\n",
       "    </tr>\n",
       "  </thead>\n",
       "  <tbody>\n",
       "    <tr>\n",
       "      <td>0</td>\n",
       "      <td>chr4</td>\n",
       "      <td>1037422</td>\n",
       "      <td>1037475</td>\n",
       "      <td>FBtr0333673_intron_0_0_chr4_1037423_r</td>\n",
       "      <td>0</td>\n",
       "      <td>-</td>\n",
       "      <td>FBtr0333673</td>\n",
       "      <td>0</td>\n",
       "      <td>53</td>\n",
       "    </tr>\n",
       "    <tr>\n",
       "      <td>1</td>\n",
       "      <td>chr4</td>\n",
       "      <td>1037569</td>\n",
       "      <td>1037645</td>\n",
       "      <td>FBtr0333673_intron_1_0_chr4_1037570_r</td>\n",
       "      <td>0</td>\n",
       "      <td>-</td>\n",
       "      <td>FBtr0333673</td>\n",
       "      <td>1</td>\n",
       "      <td>76</td>\n",
       "    </tr>\n",
       "    <tr>\n",
       "      <td>2</td>\n",
       "      <td>chr4</td>\n",
       "      <td>1037740</td>\n",
       "      <td>1038358</td>\n",
       "      <td>FBtr0333673_intron_2_0_chr4_1037741_r</td>\n",
       "      <td>0</td>\n",
       "      <td>-</td>\n",
       "      <td>FBtr0333673</td>\n",
       "      <td>2</td>\n",
       "      <td>618</td>\n",
       "    </tr>\n",
       "    <tr>\n",
       "      <td>3</td>\n",
       "      <td>chr4</td>\n",
       "      <td>1038434</td>\n",
       "      <td>1045155</td>\n",
       "      <td>FBtr0333673_intron_3_0_chr4_1038435_r</td>\n",
       "      <td>0</td>\n",
       "      <td>-</td>\n",
       "      <td>FBtr0333673</td>\n",
       "      <td>3</td>\n",
       "      <td>6721</td>\n",
       "    </tr>\n",
       "    <tr>\n",
       "      <td>4</td>\n",
       "      <td>chr4</td>\n",
       "      <td>1045248</td>\n",
       "      <td>1047263</td>\n",
       "      <td>FBtr0333673_intron_4_0_chr4_1045249_r</td>\n",
       "      <td>0</td>\n",
       "      <td>-</td>\n",
       "      <td>FBtr0333673</td>\n",
       "      <td>4</td>\n",
       "      <td>2015</td>\n",
       "    </tr>\n",
       "  </tbody>\n",
       "</table>\n",
       "</div>"
      ],
      "text/plain": [
       "  Chrom    Start      End                                     ID  Phase  \\\n",
       "0  chr4  1037422  1037475  FBtr0333673_intron_0_0_chr4_1037423_r      0   \n",
       "1  chr4  1037569  1037645  FBtr0333673_intron_1_0_chr4_1037570_r      0   \n",
       "2  chr4  1037740  1038358  FBtr0333673_intron_2_0_chr4_1037741_r      0   \n",
       "3  chr4  1038434  1045155  FBtr0333673_intron_3_0_chr4_1038435_r      0   \n",
       "4  chr4  1045248  1047263  FBtr0333673_intron_4_0_chr4_1045249_r      0   \n",
       "\n",
       "  Strand Transcript ID Intron_Rank  Length  \n",
       "0      -   FBtr0333673           0      53  \n",
       "1      -   FBtr0333673           1      76  \n",
       "2      -   FBtr0333673           2     618  \n",
       "3      -   FBtr0333673           3    6721  \n",
       "4      -   FBtr0333673           4    2015  "
      ]
     },
     "execution_count": 52,
     "metadata": {},
     "output_type": "execute_result"
    }
   ],
   "source": [
    "## also intron rank to bed file and length\n",
    "rank = []\n",
    "for ID in all_introns['ID'].values:\n",
    "    rank.append(ID.split('_')[2])\n",
    "all_introns['Intron_Rank']=rank\n",
    "all_introns['Length']= np.abs(all_introns['End']- all_introns['Start'])\n",
    "all_introns.head()"
   ]
  },
  {
   "cell_type": "code",
   "execution_count": 53,
   "metadata": {
    "scrolled": true
   },
   "outputs": [
    {
     "data": {
      "text/html": [
       "<div>\n",
       "<style scoped>\n",
       "    .dataframe tbody tr th:only-of-type {\n",
       "        vertical-align: middle;\n",
       "    }\n",
       "\n",
       "    .dataframe tbody tr th {\n",
       "        vertical-align: top;\n",
       "    }\n",
       "\n",
       "    .dataframe thead th {\n",
       "        text-align: right;\n",
       "    }\n",
       "</style>\n",
       "<table border=\"1\" class=\"dataframe\">\n",
       "  <thead>\n",
       "    <tr style=\"text-align: right;\">\n",
       "      <th></th>\n",
       "      <th>Chrom</th>\n",
       "      <th>Start</th>\n",
       "      <th>End</th>\n",
       "      <th>ID</th>\n",
       "      <th>Phase</th>\n",
       "      <th>Strand</th>\n",
       "      <th>Transcript ID</th>\n",
       "      <th>Intron_Rank</th>\n",
       "      <th>Length</th>\n",
       "    </tr>\n",
       "  </thead>\n",
       "  <tbody>\n",
       "    <tr>\n",
       "      <td>60061</td>\n",
       "      <td>chr2R</td>\n",
       "      <td>6093733</td>\n",
       "      <td>6093796</td>\n",
       "      <td>FBtr0086008_intron_0_0_chr2R_6093734_r</td>\n",
       "      <td>0</td>\n",
       "      <td>-</td>\n",
       "      <td>FBtr0086008</td>\n",
       "      <td>0</td>\n",
       "      <td>63</td>\n",
       "    </tr>\n",
       "    <tr>\n",
       "      <td>60062</td>\n",
       "      <td>chr2R</td>\n",
       "      <td>6093949</td>\n",
       "      <td>6094009</td>\n",
       "      <td>FBtr0086008_intron_1_0_chr2R_6093950_r</td>\n",
       "      <td>0</td>\n",
       "      <td>-</td>\n",
       "      <td>FBtr0086008</td>\n",
       "      <td>1</td>\n",
       "      <td>60</td>\n",
       "    </tr>\n",
       "    <tr>\n",
       "      <td>60063</td>\n",
       "      <td>chr2R</td>\n",
       "      <td>6094153</td>\n",
       "      <td>6094556</td>\n",
       "      <td>FBtr0086008_intron_2_0_chr2R_6094154_r</td>\n",
       "      <td>0</td>\n",
       "      <td>-</td>\n",
       "      <td>FBtr0086008</td>\n",
       "      <td>2</td>\n",
       "      <td>403</td>\n",
       "    </tr>\n",
       "    <tr>\n",
       "      <td>60064</td>\n",
       "      <td>chr2R</td>\n",
       "      <td>6095071</td>\n",
       "      <td>6151829</td>\n",
       "      <td>FBtr0086008_intron_3_0_chr2R_6095072_r</td>\n",
       "      <td>0</td>\n",
       "      <td>-</td>\n",
       "      <td>FBtr0086008</td>\n",
       "      <td>3</td>\n",
       "      <td>56758</td>\n",
       "    </tr>\n",
       "    <tr>\n",
       "      <td>60065</td>\n",
       "      <td>chr2R</td>\n",
       "      <td>6151996</td>\n",
       "      <td>6152068</td>\n",
       "      <td>FBtr0086008_intron_4_0_chr2R_6151997_r</td>\n",
       "      <td>0</td>\n",
       "      <td>-</td>\n",
       "      <td>FBtr0086008</td>\n",
       "      <td>4</td>\n",
       "      <td>72</td>\n",
       "    </tr>\n",
       "    <tr>\n",
       "      <td>60066</td>\n",
       "      <td>chr2R</td>\n",
       "      <td>6152550</td>\n",
       "      <td>6168755</td>\n",
       "      <td>FBtr0086008_intron_5_0_chr2R_6152551_r</td>\n",
       "      <td>0</td>\n",
       "      <td>-</td>\n",
       "      <td>FBtr0086008</td>\n",
       "      <td>5</td>\n",
       "      <td>16205</td>\n",
       "    </tr>\n",
       "  </tbody>\n",
       "</table>\n",
       "</div>"
      ],
      "text/plain": [
       "       Chrom    Start      End                                      ID  Phase  \\\n",
       "60061  chr2R  6093733  6093796  FBtr0086008_intron_0_0_chr2R_6093734_r      0   \n",
       "60062  chr2R  6093949  6094009  FBtr0086008_intron_1_0_chr2R_6093950_r      0   \n",
       "60063  chr2R  6094153  6094556  FBtr0086008_intron_2_0_chr2R_6094154_r      0   \n",
       "60064  chr2R  6095071  6151829  FBtr0086008_intron_3_0_chr2R_6095072_r      0   \n",
       "60065  chr2R  6151996  6152068  FBtr0086008_intron_4_0_chr2R_6151997_r      0   \n",
       "60066  chr2R  6152550  6168755  FBtr0086008_intron_5_0_chr2R_6152551_r      0   \n",
       "\n",
       "      Strand Transcript ID Intron_Rank  Length  \n",
       "60061      -   FBtr0086008           0      63  \n",
       "60062      -   FBtr0086008           1      60  \n",
       "60063      -   FBtr0086008           2     403  \n",
       "60064      -   FBtr0086008           3   56758  \n",
       "60065      -   FBtr0086008           4      72  \n",
       "60066      -   FBtr0086008           5   16205  "
      ]
     },
     "execution_count": 53,
     "metadata": {},
     "output_type": "execute_result"
    }
   ],
   "source": [
    "## then get all introns for that trancript\n",
    "ecr_introns = all_introns[all_introns['Transcript ID']==trans_id]\n",
    "ecr_introns"
   ]
  },
  {
   "cell_type": "code",
   "execution_count": 56,
   "metadata": {
    "scrolled": false
   },
   "outputs": [
    {
     "name": "stderr",
     "output_type": "stream",
     "text": [
      "c:\\users\\rwint\\appdata\\local\\programs\\python\\python37\\lib\\site-packages\\ipykernel_launcher.py:2: SettingWithCopyWarning: \n",
      "A value is trying to be set on a copy of a slice from a DataFrame.\n",
      "Try using .loc[row_indexer,col_indexer] = value instead\n",
      "\n",
      "See the caveats in the documentation: http://pandas.pydata.org/pandas-docs/stable/user_guide/indexing.html#returning-a-view-versus-a-copy\n",
      "  \n"
     ]
    },
    {
     "data": {
      "text/html": [
       "<div>\n",
       "<style scoped>\n",
       "    .dataframe tbody tr th:only-of-type {\n",
       "        vertical-align: middle;\n",
       "    }\n",
       "\n",
       "    .dataframe tbody tr th {\n",
       "        vertical-align: top;\n",
       "    }\n",
       "\n",
       "    .dataframe thead th {\n",
       "        text-align: right;\n",
       "    }\n",
       "</style>\n",
       "<table border=\"1\" class=\"dataframe\">\n",
       "  <thead>\n",
       "    <tr style=\"text-align: right;\">\n",
       "      <th></th>\n",
       "      <th>Chrom</th>\n",
       "      <th>Start</th>\n",
       "      <th>End</th>\n",
       "      <th>ID</th>\n",
       "      <th>Phase</th>\n",
       "      <th>Strand</th>\n",
       "      <th>Transcript ID</th>\n",
       "      <th>Intron_Rank</th>\n",
       "      <th>Length</th>\n",
       "      <th>Relative_length</th>\n",
       "    </tr>\n",
       "  </thead>\n",
       "  <tbody>\n",
       "    <tr>\n",
       "      <td>60061</td>\n",
       "      <td>chr2R</td>\n",
       "      <td>6093733</td>\n",
       "      <td>6093796</td>\n",
       "      <td>FBtr0086008_intron_0_0_chr2R_6093734_r</td>\n",
       "      <td>0</td>\n",
       "      <td>-</td>\n",
       "      <td>FBtr0086008</td>\n",
       "      <td>0</td>\n",
       "      <td>63</td>\n",
       "      <td>0.000856</td>\n",
       "    </tr>\n",
       "    <tr>\n",
       "      <td>60062</td>\n",
       "      <td>chr2R</td>\n",
       "      <td>6093949</td>\n",
       "      <td>6094009</td>\n",
       "      <td>FBtr0086008_intron_1_0_chr2R_6093950_r</td>\n",
       "      <td>0</td>\n",
       "      <td>-</td>\n",
       "      <td>FBtr0086008</td>\n",
       "      <td>1</td>\n",
       "      <td>60</td>\n",
       "      <td>0.000816</td>\n",
       "    </tr>\n",
       "    <tr>\n",
       "      <td>60063</td>\n",
       "      <td>chr2R</td>\n",
       "      <td>6094153</td>\n",
       "      <td>6094556</td>\n",
       "      <td>FBtr0086008_intron_2_0_chr2R_6094154_r</td>\n",
       "      <td>0</td>\n",
       "      <td>-</td>\n",
       "      <td>FBtr0086008</td>\n",
       "      <td>2</td>\n",
       "      <td>403</td>\n",
       "      <td>0.005478</td>\n",
       "    </tr>\n",
       "    <tr>\n",
       "      <td>60064</td>\n",
       "      <td>chr2R</td>\n",
       "      <td>6095071</td>\n",
       "      <td>6151829</td>\n",
       "      <td>FBtr0086008_intron_3_0_chr2R_6095072_r</td>\n",
       "      <td>0</td>\n",
       "      <td>-</td>\n",
       "      <td>FBtr0086008</td>\n",
       "      <td>3</td>\n",
       "      <td>56758</td>\n",
       "      <td>0.771577</td>\n",
       "    </tr>\n",
       "    <tr>\n",
       "      <td>60065</td>\n",
       "      <td>chr2R</td>\n",
       "      <td>6151996</td>\n",
       "      <td>6152068</td>\n",
       "      <td>FBtr0086008_intron_4_0_chr2R_6151997_r</td>\n",
       "      <td>0</td>\n",
       "      <td>-</td>\n",
       "      <td>FBtr0086008</td>\n",
       "      <td>4</td>\n",
       "      <td>72</td>\n",
       "      <td>0.000979</td>\n",
       "    </tr>\n",
       "    <tr>\n",
       "      <td>60066</td>\n",
       "      <td>chr2R</td>\n",
       "      <td>6152550</td>\n",
       "      <td>6168755</td>\n",
       "      <td>FBtr0086008_intron_5_0_chr2R_6152551_r</td>\n",
       "      <td>0</td>\n",
       "      <td>-</td>\n",
       "      <td>FBtr0086008</td>\n",
       "      <td>5</td>\n",
       "      <td>16205</td>\n",
       "      <td>0.220293</td>\n",
       "    </tr>\n",
       "  </tbody>\n",
       "</table>\n",
       "</div>"
      ],
      "text/plain": [
       "       Chrom    Start      End                                      ID  Phase  \\\n",
       "60061  chr2R  6093733  6093796  FBtr0086008_intron_0_0_chr2R_6093734_r      0   \n",
       "60062  chr2R  6093949  6094009  FBtr0086008_intron_1_0_chr2R_6093950_r      0   \n",
       "60063  chr2R  6094153  6094556  FBtr0086008_intron_2_0_chr2R_6094154_r      0   \n",
       "60064  chr2R  6095071  6151829  FBtr0086008_intron_3_0_chr2R_6095072_r      0   \n",
       "60065  chr2R  6151996  6152068  FBtr0086008_intron_4_0_chr2R_6151997_r      0   \n",
       "60066  chr2R  6152550  6168755  FBtr0086008_intron_5_0_chr2R_6152551_r      0   \n",
       "\n",
       "      Strand Transcript ID Intron_Rank  Length  Relative_length  \n",
       "60061      -   FBtr0086008           0      63         0.000856  \n",
       "60062      -   FBtr0086008           1      60         0.000816  \n",
       "60063      -   FBtr0086008           2     403         0.005478  \n",
       "60064      -   FBtr0086008           3   56758         0.771577  \n",
       "60065      -   FBtr0086008           4      72         0.000979  \n",
       "60066      -   FBtr0086008           5   16205         0.220293  "
      ]
     },
     "execution_count": 56,
     "metadata": {},
     "output_type": "execute_result"
    }
   ],
   "source": [
    "##add their relative intron proportion which will be their prob under uniform assumption\n",
    "ecr_introns['Relative_length'] = ecr_introns['Length']/ecr_introns['Length'].sum()\n",
    "ecr_introns"
   ]
  },
  {
   "cell_type": "code",
   "execution_count": 167,
   "metadata": {},
   "outputs": [],
   "source": [
    "all_introns.to_csv('dmel_all_introns_ensembl_updated.bed',sep='\\t',index=False)"
   ]
  },
  {
   "cell_type": "markdown",
   "metadata": {},
   "source": [
    "### now I need to get the empirical dist of the trnas inside these introns "
   ]
  },
  {
   "cell_type": "code",
   "execution_count": 57,
   "metadata": {
    "scrolled": false
   },
   "outputs": [
    {
     "data": {
      "text/html": [
       "<div>\n",
       "<style scoped>\n",
       "    .dataframe tbody tr th:only-of-type {\n",
       "        vertical-align: middle;\n",
       "    }\n",
       "\n",
       "    .dataframe tbody tr th {\n",
       "        vertical-align: top;\n",
       "    }\n",
       "\n",
       "    .dataframe thead th {\n",
       "        text-align: right;\n",
       "    }\n",
       "</style>\n",
       "<table border=\"1\" class=\"dataframe\">\n",
       "  <thead>\n",
       "    <tr style=\"text-align: right;\">\n",
       "      <th></th>\n",
       "      <th>Chrom</th>\n",
       "      <th>Start</th>\n",
       "      <th>End</th>\n",
       "      <th>Strand</th>\n",
       "      <th>tRNA_ID</th>\n",
       "      <th>tRNA_name</th>\n",
       "      <th>Host_Exon_ID</th>\n",
       "      <th>intron_length</th>\n",
       "      <th>mRNA_length</th>\n",
       "      <th>Host_gene_name</th>\n",
       "      <th>...</th>\n",
       "      <th>Intron_Sequence</th>\n",
       "      <th>A-content</th>\n",
       "      <th>G-content</th>\n",
       "      <th>T-content</th>\n",
       "      <th>C-content</th>\n",
       "      <th>tRNA_Sequence</th>\n",
       "      <th>A-content_trna</th>\n",
       "      <th>G-content_trna</th>\n",
       "      <th>T-content_trna</th>\n",
       "      <th>C-content_trna</th>\n",
       "    </tr>\n",
       "  </thead>\n",
       "  <tbody>\n",
       "    <tr>\n",
       "      <td>0</td>\n",
       "      <td>3L</td>\n",
       "      <td>13249547</td>\n",
       "      <td>13249618</td>\n",
       "      <td>+</td>\n",
       "      <td>FBgn0011844</td>\n",
       "      <td>sp-GTC-1-10-</td>\n",
       "      <td>FBtr0305480</td>\n",
       "      <td>12439</td>\n",
       "      <td>4841</td>\n",
       "      <td>caps</td>\n",
       "      <td>...</td>\n",
       "      <td>GTAAGTTCAGACCCGATACTCAATTCCACTCCAATTCCCAGCCATC...</td>\n",
       "      <td>0.282901</td>\n",
       "      <td>0.208779</td>\n",
       "      <td>0.291181</td>\n",
       "      <td>0.217140</td>\n",
       "      <td>UCCUCGAUAGUAUAGUGGUUAGUAUCCCCGCCUGUCACGCGGGAGA...</td>\n",
       "      <td>0.166667</td>\n",
       "      <td>0.319444</td>\n",
       "      <td>0.236111</td>\n",
       "      <td>0.277778</td>\n",
       "    </tr>\n",
       "    <tr>\n",
       "      <td>1</td>\n",
       "      <td>3R</td>\n",
       "      <td>24555302</td>\n",
       "      <td>24555373</td>\n",
       "      <td>+</td>\n",
       "      <td>FBgn0011845</td>\n",
       "      <td>sp-GTC-1-11-</td>\n",
       "      <td>FBtr0084647</td>\n",
       "      <td>325</td>\n",
       "      <td>3120</td>\n",
       "      <td>Esyt2</td>\n",
       "      <td>...</td>\n",
       "      <td>GTGAGTTCAGTTTTCCACAACTCAACGATAAACTTGCAGAATTACG...</td>\n",
       "      <td>0.286154</td>\n",
       "      <td>0.172308</td>\n",
       "      <td>0.350769</td>\n",
       "      <td>0.190769</td>\n",
       "      <td>UCCUCGAUAGUAUAGUGGUUAGUAUCCCCGCCUGUCACGCGGGAGA...</td>\n",
       "      <td>0.166667</td>\n",
       "      <td>0.319444</td>\n",
       "      <td>0.236111</td>\n",
       "      <td>0.277778</td>\n",
       "    </tr>\n",
       "    <tr>\n",
       "      <td>2</td>\n",
       "      <td>3L</td>\n",
       "      <td>1397695</td>\n",
       "      <td>1397766</td>\n",
       "      <td>+</td>\n",
       "      <td>FBgn0011851</td>\n",
       "      <td>Glu-CTC-3-4-</td>\n",
       "      <td>FBtr0310161</td>\n",
       "      <td>126467</td>\n",
       "      <td>5167</td>\n",
       "      <td>Ptp61F</td>\n",
       "      <td>...</td>\n",
       "      <td>GTAAGTGAGCAAGCAATGTTATAGTTATAGCCGGGCTAATCTGATT...</td>\n",
       "      <td>0.268979</td>\n",
       "      <td>0.226012</td>\n",
       "      <td>0.280136</td>\n",
       "      <td>0.224873</td>\n",
       "      <td>UCCCAUAUUGUCUAGUGGUUAGGAUAUCCGGCUCUCACCCGGAAGG...</td>\n",
       "      <td>0.194444</td>\n",
       "      <td>0.277778</td>\n",
       "      <td>0.263889</td>\n",
       "      <td>0.263889</td>\n",
       "    </tr>\n",
       "    <tr>\n",
       "      <td>3</td>\n",
       "      <td>3L</td>\n",
       "      <td>1397932</td>\n",
       "      <td>1398003</td>\n",
       "      <td>+</td>\n",
       "      <td>FBgn0011852</td>\n",
       "      <td>Glu-CTC-3-5-</td>\n",
       "      <td>FBtr0310161</td>\n",
       "      <td>126467</td>\n",
       "      <td>5167</td>\n",
       "      <td>Ptp61F</td>\n",
       "      <td>...</td>\n",
       "      <td>GTAAGTGAGCAAGCAATGTTATAGTTATAGCCGGGCTAATCTGATT...</td>\n",
       "      <td>0.268979</td>\n",
       "      <td>0.226012</td>\n",
       "      <td>0.280136</td>\n",
       "      <td>0.224873</td>\n",
       "      <td>UCCCAUAUUGUCUAGUGGUUAGGAUAUCCGGCUCUCACCCGGAAGG...</td>\n",
       "      <td>0.194444</td>\n",
       "      <td>0.277778</td>\n",
       "      <td>0.263889</td>\n",
       "      <td>0.263889</td>\n",
       "    </tr>\n",
       "    <tr>\n",
       "      <td>4</td>\n",
       "      <td>3L</td>\n",
       "      <td>1398169</td>\n",
       "      <td>1398240</td>\n",
       "      <td>+</td>\n",
       "      <td>FBgn0011853</td>\n",
       "      <td>Glu-CTC-3-6-</td>\n",
       "      <td>FBtr0310161</td>\n",
       "      <td>126467</td>\n",
       "      <td>5167</td>\n",
       "      <td>Ptp61F</td>\n",
       "      <td>...</td>\n",
       "      <td>GTAAGTGAGCAAGCAATGTTATAGTTATAGCCGGGCTAATCTGATT...</td>\n",
       "      <td>0.268979</td>\n",
       "      <td>0.226012</td>\n",
       "      <td>0.280136</td>\n",
       "      <td>0.224873</td>\n",
       "      <td>UCCCAUAUUGUCUAGUGGUUAGGAUAUCCGGCUCUCACCCGGAAGG...</td>\n",
       "      <td>0.194444</td>\n",
       "      <td>0.277778</td>\n",
       "      <td>0.263889</td>\n",
       "      <td>0.263889</td>\n",
       "    </tr>\n",
       "  </tbody>\n",
       "</table>\n",
       "<p>5 rows × 22 columns</p>\n",
       "</div>"
      ],
      "text/plain": [
       "  Chrom     Start       End Strand      tRNA_ID     tRNA_name Host_Exon_ID  \\\n",
       "0    3L  13249547  13249618      +  FBgn0011844  sp-GTC-1-10-  FBtr0305480   \n",
       "1    3R  24555302  24555373      +  FBgn0011845  sp-GTC-1-11-  FBtr0084647   \n",
       "2    3L   1397695   1397766      +  FBgn0011851  Glu-CTC-3-4-  FBtr0310161   \n",
       "3    3L   1397932   1398003      +  FBgn0011852  Glu-CTC-3-5-  FBtr0310161   \n",
       "4    3L   1398169   1398240      +  FBgn0011853  Glu-CTC-3-6-  FBtr0310161   \n",
       "\n",
       "   intron_length  mRNA_length Host_gene_name  ...  \\\n",
       "0          12439         4841           caps  ...   \n",
       "1            325         3120          Esyt2  ...   \n",
       "2         126467         5167         Ptp61F  ...   \n",
       "3         126467         5167         Ptp61F  ...   \n",
       "4         126467         5167         Ptp61F  ...   \n",
       "\n",
       "                                     Intron_Sequence A-content G-content  \\\n",
       "0  GTAAGTTCAGACCCGATACTCAATTCCACTCCAATTCCCAGCCATC...  0.282901  0.208779   \n",
       "1  GTGAGTTCAGTTTTCCACAACTCAACGATAAACTTGCAGAATTACG...  0.286154  0.172308   \n",
       "2  GTAAGTGAGCAAGCAATGTTATAGTTATAGCCGGGCTAATCTGATT...  0.268979  0.226012   \n",
       "3  GTAAGTGAGCAAGCAATGTTATAGTTATAGCCGGGCTAATCTGATT...  0.268979  0.226012   \n",
       "4  GTAAGTGAGCAAGCAATGTTATAGTTATAGCCGGGCTAATCTGATT...  0.268979  0.226012   \n",
       "\n",
       "   T-content  C-content                                      tRNA_Sequence  \\\n",
       "0   0.291181   0.217140  UCCUCGAUAGUAUAGUGGUUAGUAUCCCCGCCUGUCACGCGGGAGA...   \n",
       "1   0.350769   0.190769  UCCUCGAUAGUAUAGUGGUUAGUAUCCCCGCCUGUCACGCGGGAGA...   \n",
       "2   0.280136   0.224873  UCCCAUAUUGUCUAGUGGUUAGGAUAUCCGGCUCUCACCCGGAAGG...   \n",
       "3   0.280136   0.224873  UCCCAUAUUGUCUAGUGGUUAGGAUAUCCGGCUCUCACCCGGAAGG...   \n",
       "4   0.280136   0.224873  UCCCAUAUUGUCUAGUGGUUAGGAUAUCCGGCUCUCACCCGGAAGG...   \n",
       "\n",
       "   A-content_trna G-content_trna  T-content_trna  C-content_trna  \n",
       "0        0.166667       0.319444        0.236111        0.277778  \n",
       "1        0.166667       0.319444        0.236111        0.277778  \n",
       "2        0.194444       0.277778        0.263889        0.263889  \n",
       "3        0.194444       0.277778        0.263889        0.263889  \n",
       "4        0.194444       0.277778        0.263889        0.263889  \n",
       "\n",
       "[5 rows x 22 columns]"
      ]
     },
     "execution_count": 57,
     "metadata": {},
     "output_type": "execute_result"
    }
   ],
   "source": [
    "nested_trnas = pd.read_table('trna_host_genes_merged.csv',sep=',')\n",
    "nested_trnas.head()"
   ]
  },
  {
   "cell_type": "code",
   "execution_count": 62,
   "metadata": {},
   "outputs": [
    {
     "data": {
      "text/plain": [
       "214"
      ]
     },
     "execution_count": 62,
     "metadata": {},
     "output_type": "execute_result"
    }
   ],
   "source": [
    "##smallest possible host intron isze\n",
    "nested_trnas['intron_length'].min()"
   ]
  },
  {
   "cell_type": "code",
   "execution_count": 58,
   "metadata": {
    "scrolled": false
   },
   "outputs": [
    {
     "data": {
      "text/html": [
       "<div>\n",
       "<style scoped>\n",
       "    .dataframe tbody tr th:only-of-type {\n",
       "        vertical-align: middle;\n",
       "    }\n",
       "\n",
       "    .dataframe tbody tr th {\n",
       "        vertical-align: top;\n",
       "    }\n",
       "\n",
       "    .dataframe thead th {\n",
       "        text-align: right;\n",
       "    }\n",
       "</style>\n",
       "<table border=\"1\" class=\"dataframe\">\n",
       "  <thead>\n",
       "    <tr style=\"text-align: right;\">\n",
       "      <th></th>\n",
       "      <th>Chrom</th>\n",
       "      <th>Start</th>\n",
       "      <th>End</th>\n",
       "      <th>Strand</th>\n",
       "      <th>tRNA_ID</th>\n",
       "      <th>tRNA_name</th>\n",
       "      <th>Host_Exon_ID</th>\n",
       "      <th>intron_length</th>\n",
       "      <th>mRNA_length</th>\n",
       "      <th>Host_gene_name</th>\n",
       "      <th>...</th>\n",
       "      <th>Intron_Sequence</th>\n",
       "      <th>A-content</th>\n",
       "      <th>G-content</th>\n",
       "      <th>T-content</th>\n",
       "      <th>C-content</th>\n",
       "      <th>tRNA_Sequence</th>\n",
       "      <th>A-content_trna</th>\n",
       "      <th>G-content_trna</th>\n",
       "      <th>T-content_trna</th>\n",
       "      <th>C-content_trna</th>\n",
       "    </tr>\n",
       "  </thead>\n",
       "  <tbody>\n",
       "    <tr>\n",
       "      <td>10</td>\n",
       "      <td>2R</td>\n",
       "      <td>6166151</td>\n",
       "      <td>6166224</td>\n",
       "      <td>+</td>\n",
       "      <td>FBgn0011880</td>\n",
       "      <td>Ile-AAT-1-1-</td>\n",
       "      <td>FBtr0086008</td>\n",
       "      <td>16205</td>\n",
       "      <td>5108</td>\n",
       "      <td>EcR</td>\n",
       "      <td>...</td>\n",
       "      <td>GTATCCGACTTATTTGAATCCTAGCCGTTTTACCTCTTTTTCCCTC...</td>\n",
       "      <td>0.321444</td>\n",
       "      <td>0.186177</td>\n",
       "      <td>0.311571</td>\n",
       "      <td>0.180808</td>\n",
       "      <td>GGCCCAUUAGCUCAGUUGGUUAGAGCGUCGUGCUAAUAACGCGAAG...</td>\n",
       "      <td>0.189189</td>\n",
       "      <td>0.310811</td>\n",
       "      <td>0.229730</td>\n",
       "      <td>0.270270</td>\n",
       "    </tr>\n",
       "    <tr>\n",
       "      <td>16</td>\n",
       "      <td>2R</td>\n",
       "      <td>6165984</td>\n",
       "      <td>6166056</td>\n",
       "      <td>+</td>\n",
       "      <td>FBgn0011887</td>\n",
       "      <td>Lys-CTT-1-4-</td>\n",
       "      <td>FBtr0086008</td>\n",
       "      <td>16205</td>\n",
       "      <td>5108</td>\n",
       "      <td>EcR</td>\n",
       "      <td>...</td>\n",
       "      <td>GTATCCGACTTATTTGAATCCTAGCCGTTTTACCTCTTTTTCCCTC...</td>\n",
       "      <td>0.321444</td>\n",
       "      <td>0.186177</td>\n",
       "      <td>0.311571</td>\n",
       "      <td>0.180808</td>\n",
       "      <td>GCCCGGCUAGCUCAGUCGGUAGAGCAUGAGACUCUUAAUCUCAGGG...</td>\n",
       "      <td>0.164384</td>\n",
       "      <td>0.342466</td>\n",
       "      <td>0.219178</td>\n",
       "      <td>0.273973</td>\n",
       "    </tr>\n",
       "    <tr>\n",
       "      <td>17</td>\n",
       "      <td>2R</td>\n",
       "      <td>6164876</td>\n",
       "      <td>6164948</td>\n",
       "      <td>-</td>\n",
       "      <td>FBgn0011888</td>\n",
       "      <td>Lys-CTT-1-3-</td>\n",
       "      <td>FBtr0086008</td>\n",
       "      <td>16205</td>\n",
       "      <td>5108</td>\n",
       "      <td>EcR</td>\n",
       "      <td>...</td>\n",
       "      <td>GTATCCGACTTATTTGAATCCTAGCCGTTTTACCTCTTTTTCCCTC...</td>\n",
       "      <td>0.321444</td>\n",
       "      <td>0.186177</td>\n",
       "      <td>0.311571</td>\n",
       "      <td>0.180808</td>\n",
       "      <td>GCCCGGCUAGCUCAGUCGGUAGAGCAUGAGACUCUUAAUCUCAGGG...</td>\n",
       "      <td>0.164384</td>\n",
       "      <td>0.342466</td>\n",
       "      <td>0.219178</td>\n",
       "      <td>0.273973</td>\n",
       "    </tr>\n",
       "    <tr>\n",
       "      <td>18</td>\n",
       "      <td>2R</td>\n",
       "      <td>6162681</td>\n",
       "      <td>6162753</td>\n",
       "      <td>-</td>\n",
       "      <td>FBgn0011889</td>\n",
       "      <td>Lys-CTT-1-2-</td>\n",
       "      <td>FBtr0086008</td>\n",
       "      <td>16205</td>\n",
       "      <td>5108</td>\n",
       "      <td>EcR</td>\n",
       "      <td>...</td>\n",
       "      <td>GTATCCGACTTATTTGAATCCTAGCCGTTTTACCTCTTTTTCCCTC...</td>\n",
       "      <td>0.321444</td>\n",
       "      <td>0.186177</td>\n",
       "      <td>0.311571</td>\n",
       "      <td>0.180808</td>\n",
       "      <td>GCCCGGCUAGCUCAGUCGGUAGAGCAUGAGACUCUUAAUCUCAGGG...</td>\n",
       "      <td>0.164384</td>\n",
       "      <td>0.342466</td>\n",
       "      <td>0.219178</td>\n",
       "      <td>0.273973</td>\n",
       "    </tr>\n",
       "    <tr>\n",
       "      <td>19</td>\n",
       "      <td>2R</td>\n",
       "      <td>6142372</td>\n",
       "      <td>6142444</td>\n",
       "      <td>-</td>\n",
       "      <td>FBgn0011891</td>\n",
       "      <td>Lys-CTT-1-1-</td>\n",
       "      <td>FBtr0086008</td>\n",
       "      <td>16205</td>\n",
       "      <td>5108</td>\n",
       "      <td>EcR</td>\n",
       "      <td>...</td>\n",
       "      <td>GTATCCGACTTATTTGAATCCTAGCCGTTTTACCTCTTTTTCCCTC...</td>\n",
       "      <td>0.321444</td>\n",
       "      <td>0.186177</td>\n",
       "      <td>0.311571</td>\n",
       "      <td>0.180808</td>\n",
       "      <td>GCCCGGCUAGCUCAGUCGGUAGAGCAUGAGACUCUUAAUCUCAGGG...</td>\n",
       "      <td>0.164384</td>\n",
       "      <td>0.342466</td>\n",
       "      <td>0.219178</td>\n",
       "      <td>0.273973</td>\n",
       "    </tr>\n",
       "    <tr>\n",
       "      <td>31</td>\n",
       "      <td>2R</td>\n",
       "      <td>6162519</td>\n",
       "      <td>6162592</td>\n",
       "      <td>+</td>\n",
       "      <td>FBgn0011931</td>\n",
       "      <td>sn-GTT-1-6-</td>\n",
       "      <td>FBtr0086008</td>\n",
       "      <td>16205</td>\n",
       "      <td>5108</td>\n",
       "      <td>EcR</td>\n",
       "      <td>...</td>\n",
       "      <td>GTATCCGACTTATTTGAATCCTAGCCGTTTTACCTCTTTTTCCCTC...</td>\n",
       "      <td>0.321444</td>\n",
       "      <td>0.186177</td>\n",
       "      <td>0.311571</td>\n",
       "      <td>0.180808</td>\n",
       "      <td>GCCUCCGUGGCGCAAUUGGUUAGCGCGUUCGGCUGUUAACCGAAAG...</td>\n",
       "      <td>0.135135</td>\n",
       "      <td>0.378378</td>\n",
       "      <td>0.229730</td>\n",
       "      <td>0.256757</td>\n",
       "    </tr>\n",
       "    <tr>\n",
       "      <td>32</td>\n",
       "      <td>2R</td>\n",
       "      <td>6162197</td>\n",
       "      <td>6162270</td>\n",
       "      <td>+</td>\n",
       "      <td>FBgn0011932</td>\n",
       "      <td>sn-GTT-1-5-</td>\n",
       "      <td>FBtr0086008</td>\n",
       "      <td>56758</td>\n",
       "      <td>5108</td>\n",
       "      <td>EcR</td>\n",
       "      <td>...</td>\n",
       "      <td>GTGAGTTGAAGAATACATTTTTAAGTACAATCGGTTTAAATTTTAC...</td>\n",
       "      <td>0.285792</td>\n",
       "      <td>0.210561</td>\n",
       "      <td>0.297086</td>\n",
       "      <td>0.206561</td>\n",
       "      <td>GCCUCCGUGGCGCAAUUGGUUAGCGCGUUCGGCUGUUAACCGAAAG...</td>\n",
       "      <td>0.135135</td>\n",
       "      <td>0.378378</td>\n",
       "      <td>0.229730</td>\n",
       "      <td>0.256757</td>\n",
       "    </tr>\n",
       "    <tr>\n",
       "      <td>33</td>\n",
       "      <td>2R</td>\n",
       "      <td>6162023</td>\n",
       "      <td>6162096</td>\n",
       "      <td>-</td>\n",
       "      <td>FBgn0011933</td>\n",
       "      <td>sn-GTT-1-4-</td>\n",
       "      <td>FBtr0086008</td>\n",
       "      <td>16205</td>\n",
       "      <td>5108</td>\n",
       "      <td>EcR</td>\n",
       "      <td>...</td>\n",
       "      <td>GTATCCGACTTATTTGAATCCTAGCCGTTTTACCTCTTTTTCCCTC...</td>\n",
       "      <td>0.321444</td>\n",
       "      <td>0.186177</td>\n",
       "      <td>0.311571</td>\n",
       "      <td>0.180808</td>\n",
       "      <td>GCCUCCGUGGCGCAAUUGGUUAGCGCGUUCGGCUGUUAACCGAAAG...</td>\n",
       "      <td>0.135135</td>\n",
       "      <td>0.378378</td>\n",
       "      <td>0.229730</td>\n",
       "      <td>0.256757</td>\n",
       "    </tr>\n",
       "    <tr>\n",
       "      <td>36</td>\n",
       "      <td>2R</td>\n",
       "      <td>6153506</td>\n",
       "      <td>6153579</td>\n",
       "      <td>-</td>\n",
       "      <td>FBgn0011936</td>\n",
       "      <td>sn-GTT-1-3-</td>\n",
       "      <td>FBtr0086008</td>\n",
       "      <td>16205</td>\n",
       "      <td>5108</td>\n",
       "      <td>EcR</td>\n",
       "      <td>...</td>\n",
       "      <td>GTATCCGACTTATTTGAATCCTAGCCGTTTTACCTCTTTTTCCCTC...</td>\n",
       "      <td>0.321444</td>\n",
       "      <td>0.186177</td>\n",
       "      <td>0.311571</td>\n",
       "      <td>0.180808</td>\n",
       "      <td>GCCUCCGUGGCGCAAUUGGUUAGCGCGUUCGGCUGUUAACCGAAAG...</td>\n",
       "      <td>0.135135</td>\n",
       "      <td>0.378378</td>\n",
       "      <td>0.229730</td>\n",
       "      <td>0.256757</td>\n",
       "    </tr>\n",
       "    <tr>\n",
       "      <td>37</td>\n",
       "      <td>2R</td>\n",
       "      <td>6153186</td>\n",
       "      <td>6153259</td>\n",
       "      <td>+</td>\n",
       "      <td>FBgn0011937</td>\n",
       "      <td>sn-GTT-1-2-</td>\n",
       "      <td>FBtr0086008</td>\n",
       "      <td>16205</td>\n",
       "      <td>5108</td>\n",
       "      <td>EcR</td>\n",
       "      <td>...</td>\n",
       "      <td>GTATCCGACTTATTTGAATCCTAGCCGTTTTACCTCTTTTTCCCTC...</td>\n",
       "      <td>0.321444</td>\n",
       "      <td>0.186177</td>\n",
       "      <td>0.311571</td>\n",
       "      <td>0.180808</td>\n",
       "      <td>GCCUCCGUGGCGCAAUUGGUUAGCGCGUUCGGCUGUUAACCGAAAG...</td>\n",
       "      <td>0.135135</td>\n",
       "      <td>0.378378</td>\n",
       "      <td>0.229730</td>\n",
       "      <td>0.256757</td>\n",
       "    </tr>\n",
       "    <tr>\n",
       "      <td>38</td>\n",
       "      <td>2R</td>\n",
       "      <td>6152603</td>\n",
       "      <td>6152676</td>\n",
       "      <td>-</td>\n",
       "      <td>FBgn0011938</td>\n",
       "      <td>sn-GTT-1-1-</td>\n",
       "      <td>FBtr0086008</td>\n",
       "      <td>16205</td>\n",
       "      <td>5108</td>\n",
       "      <td>EcR</td>\n",
       "      <td>...</td>\n",
       "      <td>GTATCCGACTTATTTGAATCCTAGCCGTTTTACCTCTTTTTCCCTC...</td>\n",
       "      <td>0.321444</td>\n",
       "      <td>0.186177</td>\n",
       "      <td>0.311571</td>\n",
       "      <td>0.180808</td>\n",
       "      <td>GCCUCCGUGGCGCAAUUGGUUAGCGCGUUCGGCUGUUAACCGAAAG...</td>\n",
       "      <td>0.135135</td>\n",
       "      <td>0.378378</td>\n",
       "      <td>0.229730</td>\n",
       "      <td>0.256757</td>\n",
       "    </tr>\n",
       "    <tr>\n",
       "      <td>40</td>\n",
       "      <td>2R</td>\n",
       "      <td>6161535</td>\n",
       "      <td>6161607</td>\n",
       "      <td>+</td>\n",
       "      <td>FBgn0011957</td>\n",
       "      <td>rg-ACG-1-2-</td>\n",
       "      <td>FBtr0086008</td>\n",
       "      <td>56758</td>\n",
       "      <td>5108</td>\n",
       "      <td>EcR</td>\n",
       "      <td>...</td>\n",
       "      <td>GTGAGTTGAAGAATACATTTTTAAGTACAATCGGTTTAAATTTTAC...</td>\n",
       "      <td>0.285792</td>\n",
       "      <td>0.210561</td>\n",
       "      <td>0.297086</td>\n",
       "      <td>0.206561</td>\n",
       "      <td>GGUCCUGUGGCGCAAUGGAUAACGCGUCUGACUACGGAUCAGAAGA...</td>\n",
       "      <td>0.219178</td>\n",
       "      <td>0.315068</td>\n",
       "      <td>0.219178</td>\n",
       "      <td>0.246575</td>\n",
       "    </tr>\n",
       "    <tr>\n",
       "      <td>41</td>\n",
       "      <td>2R</td>\n",
       "      <td>6142165</td>\n",
       "      <td>6142237</td>\n",
       "      <td>+</td>\n",
       "      <td>FBgn0011958</td>\n",
       "      <td>rg-ACG-1-1-</td>\n",
       "      <td>FBtr0086008</td>\n",
       "      <td>16205</td>\n",
       "      <td>5108</td>\n",
       "      <td>EcR</td>\n",
       "      <td>...</td>\n",
       "      <td>GTATCCGACTTATTTGAATCCTAGCCGTTTTACCTCTTTTTCCCTC...</td>\n",
       "      <td>0.321444</td>\n",
       "      <td>0.186177</td>\n",
       "      <td>0.311571</td>\n",
       "      <td>0.180808</td>\n",
       "      <td>GGUCCUGUGGCGCAAUGGAUAACGCGUCUGACUACGGAUCAGAAGA...</td>\n",
       "      <td>0.219178</td>\n",
       "      <td>0.315068</td>\n",
       "      <td>0.219178</td>\n",
       "      <td>0.246575</td>\n",
       "    </tr>\n",
       "  </tbody>\n",
       "</table>\n",
       "<p>13 rows × 22 columns</p>\n",
       "</div>"
      ],
      "text/plain": [
       "   Chrom    Start      End Strand      tRNA_ID     tRNA_name Host_Exon_ID  \\\n",
       "10    2R  6166151  6166224      +  FBgn0011880  Ile-AAT-1-1-  FBtr0086008   \n",
       "16    2R  6165984  6166056      +  FBgn0011887  Lys-CTT-1-4-  FBtr0086008   \n",
       "17    2R  6164876  6164948      -  FBgn0011888  Lys-CTT-1-3-  FBtr0086008   \n",
       "18    2R  6162681  6162753      -  FBgn0011889  Lys-CTT-1-2-  FBtr0086008   \n",
       "19    2R  6142372  6142444      -  FBgn0011891  Lys-CTT-1-1-  FBtr0086008   \n",
       "31    2R  6162519  6162592      +  FBgn0011931   sn-GTT-1-6-  FBtr0086008   \n",
       "32    2R  6162197  6162270      +  FBgn0011932   sn-GTT-1-5-  FBtr0086008   \n",
       "33    2R  6162023  6162096      -  FBgn0011933   sn-GTT-1-4-  FBtr0086008   \n",
       "36    2R  6153506  6153579      -  FBgn0011936   sn-GTT-1-3-  FBtr0086008   \n",
       "37    2R  6153186  6153259      +  FBgn0011937   sn-GTT-1-2-  FBtr0086008   \n",
       "38    2R  6152603  6152676      -  FBgn0011938   sn-GTT-1-1-  FBtr0086008   \n",
       "40    2R  6161535  6161607      +  FBgn0011957   rg-ACG-1-2-  FBtr0086008   \n",
       "41    2R  6142165  6142237      +  FBgn0011958   rg-ACG-1-1-  FBtr0086008   \n",
       "\n",
       "    intron_length  mRNA_length Host_gene_name  ...  \\\n",
       "10          16205         5108            EcR  ...   \n",
       "16          16205         5108            EcR  ...   \n",
       "17          16205         5108            EcR  ...   \n",
       "18          16205         5108            EcR  ...   \n",
       "19          16205         5108            EcR  ...   \n",
       "31          16205         5108            EcR  ...   \n",
       "32          56758         5108            EcR  ...   \n",
       "33          16205         5108            EcR  ...   \n",
       "36          16205         5108            EcR  ...   \n",
       "37          16205         5108            EcR  ...   \n",
       "38          16205         5108            EcR  ...   \n",
       "40          56758         5108            EcR  ...   \n",
       "41          16205         5108            EcR  ...   \n",
       "\n",
       "                                      Intron_Sequence A-content G-content  \\\n",
       "10  GTATCCGACTTATTTGAATCCTAGCCGTTTTACCTCTTTTTCCCTC...  0.321444  0.186177   \n",
       "16  GTATCCGACTTATTTGAATCCTAGCCGTTTTACCTCTTTTTCCCTC...  0.321444  0.186177   \n",
       "17  GTATCCGACTTATTTGAATCCTAGCCGTTTTACCTCTTTTTCCCTC...  0.321444  0.186177   \n",
       "18  GTATCCGACTTATTTGAATCCTAGCCGTTTTACCTCTTTTTCCCTC...  0.321444  0.186177   \n",
       "19  GTATCCGACTTATTTGAATCCTAGCCGTTTTACCTCTTTTTCCCTC...  0.321444  0.186177   \n",
       "31  GTATCCGACTTATTTGAATCCTAGCCGTTTTACCTCTTTTTCCCTC...  0.321444  0.186177   \n",
       "32  GTGAGTTGAAGAATACATTTTTAAGTACAATCGGTTTAAATTTTAC...  0.285792  0.210561   \n",
       "33  GTATCCGACTTATTTGAATCCTAGCCGTTTTACCTCTTTTTCCCTC...  0.321444  0.186177   \n",
       "36  GTATCCGACTTATTTGAATCCTAGCCGTTTTACCTCTTTTTCCCTC...  0.321444  0.186177   \n",
       "37  GTATCCGACTTATTTGAATCCTAGCCGTTTTACCTCTTTTTCCCTC...  0.321444  0.186177   \n",
       "38  GTATCCGACTTATTTGAATCCTAGCCGTTTTACCTCTTTTTCCCTC...  0.321444  0.186177   \n",
       "40  GTGAGTTGAAGAATACATTTTTAAGTACAATCGGTTTAAATTTTAC...  0.285792  0.210561   \n",
       "41  GTATCCGACTTATTTGAATCCTAGCCGTTTTACCTCTTTTTCCCTC...  0.321444  0.186177   \n",
       "\n",
       "    T-content  C-content                                      tRNA_Sequence  \\\n",
       "10   0.311571   0.180808  GGCCCAUUAGCUCAGUUGGUUAGAGCGUCGUGCUAAUAACGCGAAG...   \n",
       "16   0.311571   0.180808  GCCCGGCUAGCUCAGUCGGUAGAGCAUGAGACUCUUAAUCUCAGGG...   \n",
       "17   0.311571   0.180808  GCCCGGCUAGCUCAGUCGGUAGAGCAUGAGACUCUUAAUCUCAGGG...   \n",
       "18   0.311571   0.180808  GCCCGGCUAGCUCAGUCGGUAGAGCAUGAGACUCUUAAUCUCAGGG...   \n",
       "19   0.311571   0.180808  GCCCGGCUAGCUCAGUCGGUAGAGCAUGAGACUCUUAAUCUCAGGG...   \n",
       "31   0.311571   0.180808  GCCUCCGUGGCGCAAUUGGUUAGCGCGUUCGGCUGUUAACCGAAAG...   \n",
       "32   0.297086   0.206561  GCCUCCGUGGCGCAAUUGGUUAGCGCGUUCGGCUGUUAACCGAAAG...   \n",
       "33   0.311571   0.180808  GCCUCCGUGGCGCAAUUGGUUAGCGCGUUCGGCUGUUAACCGAAAG...   \n",
       "36   0.311571   0.180808  GCCUCCGUGGCGCAAUUGGUUAGCGCGUUCGGCUGUUAACCGAAAG...   \n",
       "37   0.311571   0.180808  GCCUCCGUGGCGCAAUUGGUUAGCGCGUUCGGCUGUUAACCGAAAG...   \n",
       "38   0.311571   0.180808  GCCUCCGUGGCGCAAUUGGUUAGCGCGUUCGGCUGUUAACCGAAAG...   \n",
       "40   0.297086   0.206561  GGUCCUGUGGCGCAAUGGAUAACGCGUCUGACUACGGAUCAGAAGA...   \n",
       "41   0.311571   0.180808  GGUCCUGUGGCGCAAUGGAUAACGCGUCUGACUACGGAUCAGAAGA...   \n",
       "\n",
       "    A-content_trna G-content_trna  T-content_trna  C-content_trna  \n",
       "10        0.189189       0.310811        0.229730        0.270270  \n",
       "16        0.164384       0.342466        0.219178        0.273973  \n",
       "17        0.164384       0.342466        0.219178        0.273973  \n",
       "18        0.164384       0.342466        0.219178        0.273973  \n",
       "19        0.164384       0.342466        0.219178        0.273973  \n",
       "31        0.135135       0.378378        0.229730        0.256757  \n",
       "32        0.135135       0.378378        0.229730        0.256757  \n",
       "33        0.135135       0.378378        0.229730        0.256757  \n",
       "36        0.135135       0.378378        0.229730        0.256757  \n",
       "37        0.135135       0.378378        0.229730        0.256757  \n",
       "38        0.135135       0.378378        0.229730        0.256757  \n",
       "40        0.219178       0.315068        0.219178        0.246575  \n",
       "41        0.219178       0.315068        0.219178        0.246575  \n",
       "\n",
       "[13 rows x 22 columns]"
      ]
     },
     "execution_count": 58,
     "metadata": {},
     "output_type": "execute_result"
    }
   ],
   "source": [
    "ecr_trnas=nested_trnas[nested_trnas['Host_gene_name']=='EcR']\n",
    "ecr_trnas"
   ]
  },
  {
   "cell_type": "markdown",
   "metadata": {},
   "source": [
    "#### looking at both tables, we see that the trnas are nested in only 2 of the 6 introns\n",
    "### Model the distribution of trnas under prob of uniform distribution "
   ]
  },
  {
   "cell_type": "code",
   "execution_count": 70,
   "metadata": {
    "scrolled": true
   },
   "outputs": [
    {
     "data": {
      "text/plain": [
       "16205    11\n",
       "56758     2\n",
       "Name: intron_length, dtype: int64"
      ]
     },
     "execution_count": 70,
     "metadata": {},
     "output_type": "execute_result"
    }
   ],
   "source": [
    "ecr_trnas['intron_length'].value_counts()"
   ]
  },
  {
   "cell_type": "code",
   "execution_count": 67,
   "metadata": {},
   "outputs": [
    {
     "data": {
      "text/plain": [
       "array([0.00547845, 0.77157733, 0.22029336])"
      ]
     },
     "execution_count": 67,
     "metadata": {},
     "output_type": "execute_result"
    }
   ],
   "source": [
    "##since 3 out of 6 introns is less than a trna size I will omit those and modify the exiting probs\n",
    "probs_introns = ecr_introns[ecr_introns['Length']>200]['Relative_length'].values ###214 was the smallest intron sie to host trna\n",
    "intron_rank = ecr_introns[ecr_introns['Length']>200]['Intron_Rank'].values\n",
    "probs_introns"
   ]
  },
  {
   "cell_type": "code",
   "execution_count": 98,
   "metadata": {},
   "outputs": [
    {
     "data": {
      "text/plain": [
       "1.0"
      ]
     },
     "execution_count": 98,
     "metadata": {},
     "output_type": "execute_result"
    }
   ],
   "source": [
    "##round to 2dp\n",
    "sum(probs_introns.round(2))"
   ]
  },
  {
   "cell_type": "code",
   "execution_count": 99,
   "metadata": {},
   "outputs": [],
   "source": [
    "probs_introns = probs_introns.round(2)"
   ]
  },
  {
   "cell_type": "code",
   "execution_count": 143,
   "metadata": {},
   "outputs": [],
   "source": [
    "##start with modelling tRNA origin in introns as a uniform multinomial variable\n",
    "## actually this is a (very similar to a poisson)\n",
    "\n",
    "def random_trna_loc(intron_probs):\n",
    "    \"\"\"Input:\n",
    "    intron_probs: list of fraction of each intron\n",
    "    Output:\n",
    "    location or intron rank of each trna\"\"\"\n",
    "    pmass = intron_probs\n",
    "    loc=0  ##0 is the first intron\n",
    "    intron= pmass[0]\n",
    "    trna = np.random.uniform(0,1)\n",
    "    ##enter while if the trna location is greater than the intron size\n",
    "    while(trna>intron):\n",
    "        loc = loc+1\n",
    "        intron = intron+pmass[loc]\n",
    "    return loc #the location of the intron, 1st intron, 2nd intron, 3rd intron..."
   ]
  },
  {
   "cell_type": "code",
   "execution_count": 158,
   "metadata": {
    "scrolled": true
   },
   "outputs": [
    {
     "data": {
      "image/png": "[encoded data removed]",
      "text/plain": [
       "<Figure size 432x288 with 1 Axes>"
      ]
     },
     "metadata": {
      "needs_background": "light"
     },
     "output_type": "display_data"
    }
   ],
   "source": [
    "##empirical distribution of trnas\n",
    "ecr_trnas['intron_length'].value_counts();\n",
    "plt.bar(['2nd_intron','3rd_intron','5th_intron'],[0,2,11],color='maroon')\n",
    "plt.ylabel('number of nested tRNAs',fontweight='bold',fontsize=14)\n",
    "plt.xlabel('Host Intron Rank',fontweight='bold',fontsize=16)\n",
    "plt.title('Observed distribution of tRNAs in EcR Introns',fontweight='bold',fontsize=16)\n",
    "plt.xticks(fontsize=16);plt.yticks(fontsize=16)\n",
    "plt.show()"
   ]
  },
  {
   "cell_type": "code",
   "execution_count": 168,
   "metadata": {
    "scrolled": true
   },
   "outputs": [
    {
     "data": {
      "image/png": "[encoded data removed]",
      "text/plain": [
       "<Figure size 432x288 with 1 Axes>"
      ]
     },
     "metadata": {
      "needs_background": "light"
     },
     "output_type": "display_data"
    }
   ],
   "source": [
    "locs = []\n",
    "for i in range(13): \n",
    "    locs.append(random_trna_loc(probs_introns))\n",
    "\n",
    "plt.bar(intron_rank,\n",
    "        np.asarray([locs.count(0),locs.count(1), locs.count(2)]))\n",
    "plt.title('Expected Distribution of 13 tRNAs among EcR introns')\n",
    "plt.xlabel('Intron rank'); plt.ylabel('Freequency of Occurence')\n",
    "plt.show()"
   ]
  },
  {
   "cell_type": "code",
   "execution_count": 94,
   "metadata": {
    "scrolled": true
   },
   "outputs": [
    {
     "data": {
      "text/plain": [
       "[1, 1, 2, 1, 1, 2, 1, 2, 0, 1, 2, 1, 1]"
      ]
     },
     "execution_count": 94,
     "metadata": {},
     "output_type": "execute_result"
    }
   ],
   "source": [
    "locs"
   ]
  },
  {
   "cell_type": "code",
   "execution_count": 111,
   "metadata": {},
   "outputs": [],
   "source": [
    "## do a 1000 simulations of assigning 13 trnas then take the mean\n",
    "sim = []\n",
    "for j in range(1000):\n",
    "    locs = []\n",
    "    for i in range(13): \n",
    "        locs.append(random_trna_loc(probs_introns))\n",
    "    ##c\n",
    "    sim.append(np.asarray([locs.count(0),locs.count(1), locs.count(2)]))"
   ]
  },
  {
   "cell_type": "code",
   "execution_count": 112,
   "metadata": {
    "scrolled": true
   },
   "outputs": [
    {
     "data": {
      "text/plain": [
       "array([ 0.132, 10.057,  2.811])"
      ]
     },
     "execution_count": 112,
     "metadata": {},
     "output_type": "execute_result"
    }
   ],
   "source": [
    "##take the mean trna counts for each of the 3 introns\n",
    "np.mean(sim,axis=0)"
   ]
  },
  {
   "cell_type": "code",
   "execution_count": 120,
   "metadata": {
    "scrolled": true
   },
   "outputs": [
    {
     "data": {
      "image/png": "[encoded data removed]",
      "text/plain": [
       "<Figure size 432x288 with 1 Axes>"
      ]
     },
     "metadata": {
      "needs_background": "light"
     },
     "output_type": "display_data"
    }
   ],
   "source": [
    "plt.bar(['2nd_intron','3rd_intron','5th_intron'],\n",
    "        np.mean(sim,axis=0),color='teal')\n",
    "plt.ylabel('Number of nested tRNAs',fontweight='bold');plt.xlabel('Host Intron Rank',fontweight='bold')\n",
    "plt.title('Expected dist. of tRNAs in EcR Introns',fontweight='bold')\n",
    "plt.xticks(fontsize=14);plt.yticks(fontsize=14)\n",
    "plt.show()"
   ]
  },
  {
   "cell_type": "code",
   "execution_count": 122,
   "metadata": {},
   "outputs": [],
   "source": [
    "##pearson's chi square test of significance\n",
    "from scipy.stats import chisquare"
   ]
  },
  {
   "cell_type": "code",
   "execution_count": 124,
   "metadata": {},
   "outputs": [
    {
     "data": {
      "text/plain": [
       "Power_divergenceResult(statistic=30.442912573712263, pvalue=2.451351154324782e-07)"
      ]
     },
     "execution_count": 124,
     "metadata": {},
     "output_type": "execute_result"
    }
   ],
   "source": [
    "expected = np.mean(sim,axis=0)\n",
    "chisquare(f_obs=[0,2,11],f_exp=expected) "
   ]
  },
  {
   "cell_type": "markdown",
   "metadata": {},
   "source": [
    "### try poisson spatial point analysis approach"
   ]
  },
  {
   "cell_type": "code",
   "execution_count": 125,
   "metadata": {},
   "outputs": [],
   "source": [
    "from scipy.stats import poisson"
   ]
  },
  {
   "cell_type": "code",
   "execution_count": 127,
   "metadata": {},
   "outputs": [
    {
     "data": {
      "text/plain": [
       "73561"
      ]
     },
     "execution_count": 127,
     "metadata": {},
     "output_type": "execute_result"
    }
   ],
   "source": [
    "##total intron size of ecr\n",
    "tot = ecr_introns['Length'].sum()  #73kb, lets per 200b\n",
    "tot"
   ]
  },
  {
   "cell_type": "code",
   "execution_count": 147,
   "metadata": {},
   "outputs": [
    {
     "data": {
      "text/plain": [
       "367.805"
      ]
     },
     "execution_count": 147,
     "metadata": {},
     "output_type": "execute_result"
    }
   ],
   "source": [
    "#lets window this total intron area into per 200b\n",
    "tot/200\n"
   ]
  },
  {
   "cell_type": "code",
   "execution_count": 148,
   "metadata": {
    "scrolled": true
   },
   "outputs": [
    {
     "data": {
      "text/plain": [
       "0.035344815867103495"
      ]
     },
     "execution_count": 148,
     "metadata": {},
     "output_type": "execute_result"
    }
   ],
   "source": [
    "##average rate or intensity of intron counts per 200b\n",
    "lam = 13/(tot/200)\n",
    "lam"
   ]
  },
  {
   "cell_type": "markdown",
   "metadata": {},
   "source": [
    "#### expected numbr of trnas in a region = Pois(lam*scaled_intron_size)\n",
    "- expected for 11 trnas in intron size of 16kb\n",
    "- expected for 2 trnas in 53Kb"
   ]
  },
  {
   "cell_type": "code",
   "execution_count": 130,
   "metadata": {
    "scrolled": true
   },
   "outputs": [
    {
     "data": {
      "text/plain": [
       "16205    11\n",
       "56758     2\n",
       "Name: intron_length, dtype: int64"
      ]
     },
     "execution_count": 130,
     "metadata": {},
     "output_type": "execute_result"
    }
   ],
   "source": [
    "ecr_trnas['intron_length'].value_counts()"
   ]
  },
  {
   "cell_type": "code",
   "execution_count": 140,
   "metadata": {
    "scrolled": false
   },
   "outputs": [
    {
     "data": {
      "text/plain": [
       "81.025"
      ]
     },
     "execution_count": 140,
     "metadata": {},
     "output_type": "execute_result"
    }
   ],
   "source": [
    "16205/200"
   ]
  },
  {
   "cell_type": "code",
   "execution_count": 141,
   "metadata": {},
   "outputs": [
    {
     "data": {
      "text/plain": [
       "283.79"
      ]
     },
     "execution_count": 141,
     "metadata": {},
     "output_type": "execute_result"
    }
   ],
   "source": [
    "56758/200"
   ]
  },
  {
   "cell_type": "code",
   "execution_count": 144,
   "metadata": {
    "scrolled": true
   },
   "outputs": [
    {
     "data": {
      "text/plain": [
       "2"
      ]
     },
     "execution_count": 144,
     "metadata": {},
     "output_type": "execute_result"
    }
   ],
   "source": [
    "##the expected number of trnas in 81 windows, i.e. a 16Kb intron assumping complete spatail randomness\n",
    "np.random.poisson(lam*81) ##"
   ]
  },
  {
   "cell_type": "code",
   "execution_count": 145,
   "metadata": {},
   "outputs": [
    {
     "data": {
      "text/plain": [
       "8"
      ]
     },
     "execution_count": 145,
     "metadata": {},
     "output_type": "execute_result"
    }
   ],
   "source": [
    "np.random.poisson(lam*283) ##"
   ]
  },
  {
   "cell_type": "code",
   "execution_count": null,
   "metadata": {},
   "outputs": [],
   "source": [
    "np.random.poisson(lam*(400/200) ##"
   ]
  },
  {
   "cell_type": "code",
   "execution_count": 149,
   "metadata": {},
   "outputs": [],
   "source": [
    "##1000 simulations\n",
    "sim = []\n",
    "for j in range(1000):\n",
    "    in_5 = np.random.poisson(lam*(16205/200))\n",
    "    in_3= np.random.poisson(lam*(56758/200))\n",
    "    in_2 = np.random.poisson(lam*(400/200))\n",
    "    sim.append([in_2,in_3,in_5])               "
   ]
  },
  {
   "cell_type": "code",
   "execution_count": 151,
   "metadata": {},
   "outputs": [
    {
     "data": {
      "text/plain": [
       "array([ 0.063, 10.036,  2.854])"
      ]
     },
     "execution_count": 151,
     "metadata": {},
     "output_type": "execute_result"
    }
   ],
   "source": [
    "np.mean(sim,axis=0)"
   ]
  },
  {
   "cell_type": "code",
   "execution_count": 156,
   "metadata": {
    "scrolled": true
   },
   "outputs": [
    {
     "data": {
      "image/png": "[encoded data removed]",
      "text/plain": [
       "<Figure size 432x288 with 1 Axes>"
      ]
     },
     "metadata": {
      "needs_background": "light"
     },
     "output_type": "display_data"
    }
   ],
   "source": [
    "plt.bar(['2nd_intron','3rd_intron','5th_intron'],\n",
    "        np.mean(sim,axis=0),color='teal')\n",
    "plt.ylabel('Number of nested tRNAs',fontweight='bold',fontsize=16);plt.xlabel('Host Intron Rank',fontweight='bold',fontsize=16)\n",
    "plt.title('Expected dist. of tRNAs in EcR Introns',fontweight='bold',fontsize=16)\n",
    "plt.xticks(fontsize=16);plt.yticks(fontsize=16)\n",
    "plt.show()"
   ]
  },
  {
   "cell_type": "markdown",
   "metadata": {},
   "source": [
    "distribution of trnas among EcR introns is not random. I.e. does not follow an independent or complete spatial random process. This is expected because tRNAs cluster.\n",
    "- use a inhomogenous poisson to model or thomas point process to model trnas?"
   ]
  },
  {
   "cell_type": "markdown",
   "metadata": {},
   "source": [
    "### lets do for all host genes\n",
    "``` for each host gene:\n",
    "          get transcript with highest intron\n",
    "          extract all introns for transcript above 200nt\n",
    "          plot observed trna distribution\n",
    "          generate expected trna distribution under a complete spatial randomness\n",
    "          compute pearson's chisquare test statistic and same\n",
    "          \n",
    "    "
   ]
  },
  {
   "cell_type": "code",
   "execution_count": 166,
   "metadata": {
    "scrolled": true
   },
   "outputs": [],
   "source": [
    "host_names = host_info.drop_duplicates('# submitted_id')['current_symbol'].values"
   ]
  },
  {
   "cell_type": "code",
   "execution_count": 352,
   "metadata": {
    "scrolled": true
   },
   "outputs": [
    {
     "data": {
      "text/plain": [
       "(66, 4)"
      ]
     },
     "execution_count": 352,
     "metadata": {},
     "output_type": "execute_result"
    }
   ],
   "source": [
    "host_info.shape"
   ]
  },
  {
   "cell_type": "code",
   "execution_count": 380,
   "metadata": {},
   "outputs": [
    {
     "data": {
      "text/plain": [
       "array(['jar', 'bnl', 'Roc2', 'ec', 'CG31248', 'lncRNA:CR44999', 'sprt',\n",
       "       'ABCA', 'mrj', 'hts', 'mub', 'kkv', 'Lrt', 'CG11044', 'Dbx',\n",
       "       'CG10713', 'CG31279', 'CG43175', 'Dop2R', 'CG32521', 'tai', 'erm',\n",
       "       'Pu', 'hng3', 'Mmp2', 'CG42340', 'Golgin104', 'caps', 'Sema1a',\n",
       "       'prominin-like', 'tkv', 'd', 'CG4238', 'Ptp61F', 'pcs', 'Wdr62',\n",
       "       'bon', 'Mctp', 'EcR', 'sm', 'Nuak1', 'nmo', 'Bx', 'CG14322', 'ome',\n",
       "       'gol', 'qin', 'CG9287', 'bs', 'Naam', 'TrpA1', 'Ntl', 'CG15431',\n",
       "       'Sulf1', 'Cht7', 'Esyt2', 'Btk29A', 'Ptr', 'mim', 'ATP8A', 'PIG-S',\n",
       "       'Ect4', 'CG9289', 'p', 'pyd', 'sr'], dtype=object)"
      ]
     },
     "execution_count": 380,
     "metadata": {},
     "output_type": "execute_result"
    }
   ],
   "source": [
    "host_info['current_symbol'].unique()"
   ]
  },
  {
   "cell_type": "code",
   "execution_count": null,
   "metadata": {},
   "outputs": [],
   "source": []
  },
  {
   "cell_type": "code",
   "execution_count": null,
   "metadata": {
    "scrolled": true
   },
   "outputs": [],
   "source": [
    "summary_dict = dict()\n",
    "for host in host_names:\n",
    "    host_id = host_info[host_info['current_symbol']==host]['current_id'].values[0]\n",
    "    ##get the transcript with longest intron\n",
    "    trans_id = total_introns[total_introns['Gene ID']==host_id].sort_values(by='Total Intron Size', ascending=False)['Transcript ID'].values[0]\n",
    "    ## then get all introns for that trancript\n",
    "    trans_introns = all_introns[all_introns['Transcript ID']==trans_id]\n",
    "    ##add their relative intron proportion which will be their prob under uniform assumption\n",
    "    trans_introns['Relative_length'] = trans_introns['Length']/trans_introns['Length'].sum()\n",
    "    \n",
    "    trans_trnas=nested_trnas[nested_trnas['Host_gene_name']==host]\n",
    "    \n",
    "    probs_introns = trans_introns[trans_introns['Length']>200]['Relative_length'].values.round(2) ###214 was the smallest intron sie to host trna\n",
    "    intron_rank = trans_introns[trans_introns['Length']>200]['Intron_Rank'].values\n",
    "    \n",
    "    ##get the observed trna counts\n",
    "    trna_counts = trans_trnas['intron_length'].value_counts().to_frame().reset_index()\n",
    "    trna_counts.columns=['intron_length','number of trnas']\n",
    "    \n",
    "    lengths = trans_introns[trans_introns['Length']>200]['Length'].values\n",
    "    counts = []\n",
    "    rank = []\n",
    "    for l in lengths:\n",
    "        ##append rank_intron_length\n",
    "        rank.append('['+trans_introns[trans_introns['Length']==l]['Intron_Rank'].values[0]+']'+'\\n'+str(l)+'nt')\n",
    "        \n",
    "        trnas = trna_counts[trna_counts['intron_length']==l]['number of trnas'].values\n",
    "        if trnas:\n",
    "            counts.append(trnas[0])\n",
    "        else:\n",
    "            counts.append(0)  ##doesnt have a trna\n",
    "    \n",
    "    ###plot the empirical distribution \n",
    "    plt.bar(rank,counts,color='maroon')\n",
    "    plt.ylabel('number of nested tRNAs',fontweight='bold',fontsize=14)\n",
    "    plt.xlabel('Position of Intron',fontweight='bold',fontsize=16)\n",
    "    plt.title('Observed dist. of tRNAs in {} introns'.format(host),fontweight='bold',fontsize=16)\n",
    "    plt.xticks(fontsize=16);plt.yticks(fontsize=16)\n",
    "    plt.savefig('./expected_trna_dist/{}_trnas_obs.png'.format(host),bbox_inches='tight',dpi=200)\n",
    "    plt.show()\n",
    "    \n",
    "    \"\"\"##simulate the expected trna dist as a poisson spatial process\"\"\"\n",
    "    ##average rate or intensity of trna counts per 200b\n",
    "    tot = trans_introns['Length'].sum()\n",
    "    window_size = 200 ##smallest intron with a trna is 214nt\n",
    "    lam = sum(counts)/(tot/window_size)\n",
    "    \n",
    "    ##1000 simulations for expected trnas per intron\n",
    "    sim = [] # lenghts x num_sim \n",
    "    for l in lengths:\n",
    "        s = []\n",
    "        for j in range(1000):\n",
    "             s.append(np.random.poisson(lam*(l/window_size)))  \n",
    "        sim.append(s)    \n",
    "    \n",
    "    ##plot expected\n",
    "    exp_counts = np.mean(sim,axis=1)\n",
    "    plt.bar(rank,exp_counts,color='teal')\n",
    "    plt.ylabel('number of nested tRNAs',fontweight='bold',fontsize=14)\n",
    "    plt.xlabel('Position of Intron',fontweight='bold',fontsize=16)\n",
    "    plt.title('Expected dist. of tRNAs in {} introns'.format(host),fontweight='bold',fontsize=16)\n",
    "    plt.xticks(fontsize=16);plt.yticks(fontsize=16)\n",
    "    plt.savefig('./expected_trna_dist/{}_trnas_expected.png'.format(host),bbox_inches='tight',dpi=200)\n",
    "    plt.show()\n",
    "    \n",
    "    ##compute chi_squre\n",
    "    summary_dict[host]= chisquare(f_obs=counts,f_exp=exp_counts)\n"
   ]
  },
  {
   "cell_type": "code",
   "execution_count": 384,
   "metadata": {},
   "outputs": [
    {
     "data": {
      "text/html": [
       "<div>\n",
       "<style scoped>\n",
       "    .dataframe tbody tr th:only-of-type {\n",
       "        vertical-align: middle;\n",
       "    }\n",
       "\n",
       "    .dataframe tbody tr th {\n",
       "        vertical-align: top;\n",
       "    }\n",
       "\n",
       "    .dataframe thead th {\n",
       "        text-align: right;\n",
       "    }\n",
       "</style>\n",
       "<table border=\"1\" class=\"dataframe\">\n",
       "  <thead>\n",
       "    <tr style=\"text-align: right;\">\n",
       "      <th></th>\n",
       "      <th>intron_length</th>\n",
       "      <th>number of trnas</th>\n",
       "    </tr>\n",
       "  </thead>\n",
       "  <tbody>\n",
       "    <tr>\n",
       "      <td>0</td>\n",
       "      <td>15043</td>\n",
       "      <td>4</td>\n",
       "    </tr>\n",
       "  </tbody>\n",
       "</table>\n",
       "</div>"
      ],
      "text/plain": [
       "   intron_length  number of trnas\n",
       "0          15043                4"
      ]
     },
     "execution_count": 384,
     "metadata": {},
     "output_type": "execute_result"
    }
   ],
   "source": [
    "trna_counts"
   ]
  },
  {
   "cell_type": "code",
   "execution_count": 381,
   "metadata": {
    "scrolled": false
   },
   "outputs": [
    {
     "name": "stderr",
     "output_type": "stream",
     "text": [
      "c:\\users\\rwint\\appdata\\local\\programs\\python\\python37\\lib\\site-packages\\ipykernel_launcher.py:8: SettingWithCopyWarning: \n",
      "A value is trying to be set on a copy of a slice from a DataFrame.\n",
      "Try using .loc[row_indexer,col_indexer] = value instead\n",
      "\n",
      "See the caveats in the documentation: http://pandas.pydata.org/pandas-docs/stable/user_guide/indexing.html#returning-a-view-versus-a-copy\n",
      "  \n",
      "c:\\users\\rwint\\appdata\\local\\programs\\python\\python37\\lib\\site-packages\\ipykernel_launcher.py:27: DeprecationWarning: The truth value of an empty array is ambiguous. Returning False, but in future this will result in an error. Use `array.size > 0` to check that an array is not empty.\n"
     ]
    },
    {
     "data": {
      "image/png": "[encoded data removed]",
      "text/plain": [
       "<Figure size 576x432 with 1 Axes>"
      ]
     },
     "metadata": {
      "needs_background": "light"
     },
     "output_type": "display_data"
    },
    {
     "data": {
      "image/png": "[encoded data removed]",
      "text/plain": [
       "<Figure size 576x432 with 1 Axes>"
      ]
     },
     "metadata": {
      "needs_background": "light"
     },
     "output_type": "display_data"
    }
   ],
   "source": [
    "host='mrj'\n",
    "host_id = host_info[host_info['current_symbol']==host]['current_id'].values[0]\n",
    "##get the transcript with longest intron\n",
    "trans_id = total_introns[total_introns['Gene ID']==host_id].sort_values(by='Total Intron Size', ascending=False)['Transcript ID'].values[0]\n",
    "## then get all introns for that trancript\n",
    "trans_introns = all_introns[all_introns['Transcript ID']==trans_id]\n",
    "##add their relative intron proportion which will be their prob under uniform assumption\n",
    "trans_introns['Relative_length'] = trans_introns['Length']/trans_introns['Length'].sum()\n",
    "\n",
    "trans_trnas=nested_trnas[nested_trnas['Host_gene_name']==host]\n",
    "\n",
    "probs_introns = trans_introns[trans_introns['Length']>200]['Relative_length'].values.round(2) ###214 was the smallest intron sie to host trna\n",
    "intron_rank = trans_introns[trans_introns['Length']>200]['Intron_Rank'].values\n",
    "\n",
    "##get the observed trna counts\n",
    "trna_counts = trans_trnas['intron_length'].value_counts().to_frame().reset_index()\n",
    "trna_counts.columns=['intron_length','number of trnas']\n",
    "\n",
    "lengths = trans_introns[trans_introns['Length']>200]['Length'].values\n",
    "counts = []\n",
    "rank = []\n",
    "for l in lengths:\n",
    "    ##append rank_intron_length\n",
    "    rank.append('['+trans_introns[trans_introns['Length']==l]['Intron_Rank'].values[0]+']'+'\\n'+str(l)+'nt')\n",
    "\n",
    "    trnas = trna_counts[trna_counts['intron_length']==l]['number of trnas'].values\n",
    "    if trnas:\n",
    "        counts.append(trnas[0])\n",
    "    else:\n",
    "        counts.append(0)  ##doesnt have a trna\n",
    "\n",
    "###plot the empirical distribution \n",
    "figsize=(8,6)\n",
    "plt.figure(figsize=(figsize))\n",
    "plt.bar(rank,counts,color='maroon')\n",
    "plt.ylabel('number of nested tRNAs',fontweight='bold',fontsize=16)\n",
    "plt.xlabel('Position of Intron',fontweight='bold',fontsize=16)\n",
    "plt.title('Observed dist. of tRNAs in {} introns'.format(host),fontweight='bold',fontsize=16)\n",
    "plt.xticks(fontsize=14,rotation=45);plt.yticks(fontsize=16)\n",
    "plt.savefig('./expected_trna_dist/{}_trnas_obs.png'.format(host),bbox_inches='tight',dpi=200)\n",
    "plt.show()\n",
    "\n",
    "\"\"\"##simulate the expected trna dist as a poisson spatial process\"\"\"\n",
    "##average rate or intensity of trna counts per 200b\n",
    "tot = trans_introns['Length'].sum()\n",
    "window_size = 200 ##smallest intron with a trna is 214nt\n",
    "lam = sum(counts)/(tot/window_size)\n",
    "\n",
    "##1000 simulations for expected trnas per intron\n",
    "sim = [] # lenghts x num_sim \n",
    "for l in lengths:\n",
    "    s = []\n",
    "    for j in range(10000):\n",
    "         s.append(np.random.poisson(lam*(l/window_size)))  \n",
    "    sim.append(s)    \n",
    "\n",
    "##plot expected\n",
    "exp_counts = np.mean(sim,axis=1)\n",
    "plt.figure(figsize=(figsize))\n",
    "plt.bar(rank,exp_counts,color='teal')\n",
    "plt.ylabel('number of nested tRNAs',fontweight='bold',fontsize=16)\n",
    "plt.xlabel('Position of Intron',fontweight='bold',fontsize=16)\n",
    "plt.title('Expected dist. of tRNAs in {} introns'.format(host),fontweight='bold',fontsize=16)\n",
    "plt.xticks(fontsize=14, rotation=45);plt.yticks(fontsize=16)\n",
    "plt.savefig('./expected_trna_dist/{}_trnas_expected.png'.format(host),bbox_inches='tight',dpi=200)\n",
    "plt.show()"
   ]
  },
  {
   "cell_type": "code",
   "execution_count": 386,
   "metadata": {
    "scrolled": true
   },
   "outputs": [
    {
     "name": "stdout",
     "output_type": "stream",
     "text": [
      "0.9747485446569781\n",
      "3.2534518753488447e-07\n",
      "0.4226935446899248\n",
      "0.9276817209461774\n"
     ]
    }
   ],
   "source": [
    "##find out how many gene diverged from significance fo rgenes with 4 ore more\n",
    "four_plus = ['Ptp61F', 'EcR', 'ATP8A', 'mim']\n",
    "for host in four_plus:\n",
    "    print(summary_dict[host][1])\n"
   ]
  },
  {
   "cell_type": "code",
   "execution_count": 388,
   "metadata": {
    "scrolled": true
   },
   "outputs": [
    {
     "name": "stdout",
     "output_type": "stream",
     "text": [
      "6.9413519668715585e-06\n",
      "1.9106353434008546e-13\n",
      "3.2534518753488447e-07\n",
      "3.2322176590685563e-06\n"
     ]
    }
   ],
   "source": [
    "for host in list(summary_dict.keys()):\n",
    "    pval = summary_dict[host][1]\n",
    "    if pval<0.05:\n",
    "        print(pval)"
   ]
  },
  {
   "cell_type": "code",
   "execution_count": null,
   "metadata": {},
   "outputs": [],
   "source": []
  },
  {
   "cell_type": "code",
   "execution_count": 372,
   "metadata": {},
   "outputs": [
    {
     "data": {
      "text/plain": [
       "Power_divergenceResult(statistic=3.0932242204949523, pvalue=0.9283716143693224)"
      ]
     },
     "execution_count": 372,
     "metadata": {},
     "output_type": "execute_result"
    }
   ],
   "source": [
    "chisquare(f_obs=counts,f_exp=exp_counts)"
   ]
  },
  {
   "cell_type": "code",
   "execution_count": 227,
   "metadata": {},
   "outputs": [],
   "source": [
    "trans_ids = []\n",
    "for host in host_names:\n",
    "    host_id = host_info[host_info['# submitted_id']==host]['current_id'].values[0]\n",
    "    ##get the transcript with longest intron\n",
    "    trans_ids.append(total_introns[total_introns['Gene ID']==host_id].sort_values(by='Total Intron Size', ascending=False)['Transcript ID'].values[0])\n"
   ]
  },
  {
   "cell_type": "code",
   "execution_count": 233,
   "metadata": {},
   "outputs": [
    {
     "data": {
      "text/plain": [
       "36"
      ]
     },
     "execution_count": 233,
     "metadata": {},
     "output_type": "execute_result"
    }
   ],
   "source": [
    "len(host_names)"
   ]
  },
  {
   "cell_type": "code",
   "execution_count": 232,
   "metadata": {
    "scrolled": true
   },
   "outputs": [
    {
     "data": {
      "text/plain": [
       "36"
      ]
     },
     "execution_count": 232,
     "metadata": {},
     "output_type": "execute_result"
    }
   ],
   "source": [
    "len(trans_ids)"
   ]
  },
  {
   "cell_type": "code",
   "execution_count": 317,
   "metadata": {},
   "outputs": [
    {
     "data": {
      "text/html": [
       "<div>\n",
       "<style scoped>\n",
       "    .dataframe tbody tr th:only-of-type {\n",
       "        vertical-align: middle;\n",
       "    }\n",
       "\n",
       "    .dataframe tbody tr th {\n",
       "        vertical-align: top;\n",
       "    }\n",
       "\n",
       "    .dataframe thead th {\n",
       "        text-align: right;\n",
       "    }\n",
       "</style>\n",
       "<table border=\"1\" class=\"dataframe\">\n",
       "  <thead>\n",
       "    <tr style=\"text-align: right;\">\n",
       "      <th></th>\n",
       "      <th># submitted_id</th>\n",
       "      <th>current_id</th>\n",
       "      <th>converted_id</th>\n",
       "      <th>current_symbol</th>\n",
       "    </tr>\n",
       "  </thead>\n",
       "  <tbody>\n",
       "    <tr>\n",
       "      <td>0</td>\n",
       "      <td>FBgn0011225</td>\n",
       "      <td>FBgn0011225</td>\n",
       "      <td>FBgn0011225</td>\n",
       "      <td>jar</td>\n",
       "    </tr>\n",
       "    <tr>\n",
       "      <td>1</td>\n",
       "      <td>FBgn0014135</td>\n",
       "      <td>FBgn0014135</td>\n",
       "      <td>FBgn0014135</td>\n",
       "      <td>bnl</td>\n",
       "    </tr>\n",
       "    <tr>\n",
       "      <td>2</td>\n",
       "      <td>FBgn0044020</td>\n",
       "      <td>FBgn0044020</td>\n",
       "      <td>FBgn0044020</td>\n",
       "      <td>Roc2</td>\n",
       "    </tr>\n",
       "    <tr>\n",
       "      <td>3</td>\n",
       "      <td>FBgn0000542</td>\n",
       "      <td>FBgn0000542</td>\n",
       "      <td>FBgn0000542</td>\n",
       "      <td>ec</td>\n",
       "    </tr>\n",
       "    <tr>\n",
       "      <td>4</td>\n",
       "      <td>FBgn0051248</td>\n",
       "      <td>FBgn0051248</td>\n",
       "      <td>FBgn0051248</td>\n",
       "      <td>CG31248</td>\n",
       "    </tr>\n",
       "    <tr>\n",
       "      <td>...</td>\n",
       "      <td>...</td>\n",
       "      <td>...</td>\n",
       "      <td>...</td>\n",
       "      <td>...</td>\n",
       "    </tr>\n",
       "    <tr>\n",
       "      <td>61</td>\n",
       "      <td>FBgn0262579</td>\n",
       "      <td>FBgn0262579</td>\n",
       "      <td>FBgn0262579</td>\n",
       "      <td>Ect4</td>\n",
       "    </tr>\n",
       "    <tr>\n",
       "      <td>62</td>\n",
       "      <td>FBgn0032058</td>\n",
       "      <td>FBgn0032058</td>\n",
       "      <td>FBgn0032058</td>\n",
       "      <td>CG9289</td>\n",
       "    </tr>\n",
       "    <tr>\n",
       "      <td>63</td>\n",
       "      <td>FBgn0086679</td>\n",
       "      <td>FBgn0086679</td>\n",
       "      <td>FBgn0086679</td>\n",
       "      <td>p</td>\n",
       "    </tr>\n",
       "    <tr>\n",
       "      <td>64</td>\n",
       "      <td>FBgn0262614</td>\n",
       "      <td>FBgn0262614</td>\n",
       "      <td>FBgn0262614</td>\n",
       "      <td>pyd</td>\n",
       "    </tr>\n",
       "    <tr>\n",
       "      <td>65</td>\n",
       "      <td>FBgn0003499</td>\n",
       "      <td>FBgn0003499</td>\n",
       "      <td>FBgn0003499</td>\n",
       "      <td>sr</td>\n",
       "    </tr>\n",
       "  </tbody>\n",
       "</table>\n",
       "<p>66 rows × 4 columns</p>\n",
       "</div>"
      ],
      "text/plain": [
       "   # submitted_id   current_id converted_id current_symbol\n",
       "0     FBgn0011225  FBgn0011225  FBgn0011225            jar\n",
       "1     FBgn0014135  FBgn0014135  FBgn0014135            bnl\n",
       "2     FBgn0044020  FBgn0044020  FBgn0044020           Roc2\n",
       "3     FBgn0000542  FBgn0000542  FBgn0000542             ec\n",
       "4     FBgn0051248  FBgn0051248  FBgn0051248        CG31248\n",
       "..            ...          ...          ...            ...\n",
       "61    FBgn0262579  FBgn0262579  FBgn0262579           Ect4\n",
       "62    FBgn0032058  FBgn0032058  FBgn0032058         CG9289\n",
       "63    FBgn0086679  FBgn0086679  FBgn0086679              p\n",
       "64    FBgn0262614  FBgn0262614  FBgn0262614            pyd\n",
       "65    FBgn0003499  FBgn0003499  FBgn0003499             sr\n",
       "\n",
       "[66 rows x 4 columns]"
      ]
     },
     "execution_count": 317,
     "metadata": {},
     "output_type": "execute_result"
    }
   ],
   "source": [
    "host_info"
   ]
  },
  {
   "cell_type": "markdown",
   "metadata": {},
   "source": [
    "### compare length of host introns to rest of introns"
   ]
  },
  {
   "cell_type": "code",
   "execution_count": 323,
   "metadata": {},
   "outputs": [
    {
     "data": {
      "text/plain": [
       "array(['caps', 'Esyt2', 'Ptp61F', 'Sulf1', 'Wdr62', 'CG11044', 'EcR',\n",
       "       'ATP8A', 'mim', 'Btk29A', 'Roc2', 'Mmp2', 'ome', 'Ptr', 'CG32521',\n",
       "       'kkv', 'pyd', 'CG43143', 'Naam', 'CG10713', 'Ntl', 'p', 'ec',\n",
       "       'hts', 'Lrt', 'gol', 'Mctp', 'mrj', 'pcs', 'sprt', 'jar', 'qin',\n",
       "       'sr', 'CG31279', 'PIG-S', 'bnl', 'CG31248', 'bon', 'CG43175',\n",
       "       'CG14322', 'Sema1a', 'CG4238', 'tai', 'CG9289', 'CG9287', 'd',\n",
       "       'tkv', 'erm', 'CG15431', 'Cht7', 'prominin-like', 'Dbx',\n",
       "       'Golgin104', 'Ect4', 'nmo', 'mub', 'hng3', 'lncRNA:CR44999',\n",
       "       'ABCA', 'Bx', 'CG42340', 'Dop2R', 'sm', 'bs', 'Pu'], dtype=object)"
      ]
     },
     "execution_count": 323,
     "metadata": {},
     "output_type": "execute_result"
    }
   ],
   "source": [
    "nested_trnas['Host_gene_name'].unique()"
   ]
  },
  {
   "cell_type": "code",
   "execution_count": 335,
   "metadata": {
    "scrolled": true
   },
   "outputs": [
    {
     "name": "stderr",
     "output_type": "stream",
     "text": [
      "c:\\users\\rwint\\appdata\\local\\programs\\python\\python37\\lib\\site-packages\\ipykernel_launcher.py:10: SettingWithCopyWarning: \n",
      "A value is trying to be set on a copy of a slice from a DataFrame.\n",
      "Try using .loc[row_indexer,col_indexer] = value instead\n",
      "\n",
      "See the caveats in the documentation: http://pandas.pydata.org/pandas-docs/stable/user_guide/indexing.html#returning-a-view-versus-a-copy\n",
      "  # Remove the CWD from sys.path while we load stuff.\n",
      "c:\\users\\rwint\\appdata\\local\\programs\\python\\python37\\lib\\site-packages\\ipykernel_launcher.py:26: SettingWithCopyWarning: \n",
      "A value is trying to be set on a copy of a slice from a DataFrame.\n",
      "Try using .loc[row_indexer,col_indexer] = value instead\n",
      "\n",
      "See the caveats in the documentation: http://pandas.pydata.org/pandas-docs/stable/user_guide/indexing.html#returning-a-view-versus-a-copy\n"
     ]
    }
   ],
   "source": [
    "longest = []\n",
    "host_dict = dict()\n",
    "for host in host_info['current_symbol'].unique():\n",
    "    host_id = host_info[host_info['current_symbol']==host]['current_id'].values[0]\n",
    "    ##get the transcript with longest intron\n",
    "    trans_id = total_introns[total_introns['Gene ID']==host_id].sort_values(by='Total Intron Size', ascending=False)['Transcript ID'].values[0]\n",
    "    ## then get all introns for that trancript\n",
    "    trans_introns = all_introns[all_introns['Transcript ID']==trans_id]\n",
    "    ##add their relative intron proportion which will be their prob under uniform assumption\n",
    "    trans_introns['Relative_length'] = trans_introns['Length']/trans_introns['Length'].sum()\n",
    "    \n",
    "    trans_trnas=nested_trnas[nested_trnas['Host_gene_name']==host]\n",
    "    \n",
    "    trna_counts = trans_trnas['intron_length'].value_counts().to_frame().reset_index()\n",
    "    trna_counts.columns=['intron_length','number of trnas']\n",
    "    \n",
    "    ##assign host or no host intron\n",
    "    lengths =trans_introns['Length'].values\n",
    "    label = []\n",
    "    for l in lengths:\n",
    "        trnas = trna_counts[trna_counts['intron_length']==l]['number of trnas'].values\n",
    "        if trnas.shape[0]>0:\n",
    "            label.append('Host')\n",
    "        else:\n",
    "            label.append('No Host')\n",
    "    trans_introns['Host_status'] = label\n",
    "    \n",
    "    ##count number times host intron is largest\n",
    "    max_in = trans_introns['Length'].max()\n",
    "    if trans_introns[trans_introns['Length']==max_in]['Host_status'].values[0]=='Host':\n",
    "        longest.append('True')\n",
    "    else:\n",
    "        longest.append('False')\n",
    "    host_dict[host]=trans_introns"
   ]
  },
  {
   "cell_type": "code",
   "execution_count": 336,
   "metadata": {
    "scrolled": true
   },
   "outputs": [
    {
     "data": {
      "text/plain": [
       "40"
      ]
     },
     "execution_count": 336,
     "metadata": {},
     "output_type": "execute_result"
    }
   ],
   "source": [
    "longest.count('True')"
   ]
  },
  {
   "cell_type": "code",
   "execution_count": 337,
   "metadata": {},
   "outputs": [
    {
     "data": {
      "text/plain": [
       "0.6060606060606061"
      ]
     },
     "execution_count": 337,
     "metadata": {},
     "output_type": "execute_result"
    }
   ],
   "source": [
    "40/66 "
   ]
  },
  {
   "cell_type": "markdown",
   "metadata": {},
   "source": [
    "## compute RSCU from these transcript cds as per sharp 1986\n",
    "1. Compute RSCU which is codon frequency/average frequency for a give aa\n",
    "1. Compute the relative adaptive weights <b> w<sub>ij</sub></b> for each codon:   <b> w<sub>ij</sub> = RSCU<sub>ij</sub>/ RSCU<sub>imax</sub> </b> where RSCU<sub>imax</sub> is the optimal codon for the amino acid i.  \n",
    "- CAI =  Geometric Mean(<b> w<sub>ij</sub>)\n",
    "    \n",
    "   #### copy from fungal notebook"
   ]
  },
  {
   "cell_type": "code",
   "execution_count": 210,
   "metadata": {},
   "outputs": [],
   "source": [
    "\"\"\" map the amino acid to the codon\"\"\"\n",
    "\n",
    "codon_aa = {\"UUU\":\"F\", \"UUC\":\"F\", \"UUA\":\"L\", \"UUG\":\"L\",\n",
    "    \"UCU\":\"S\", \"UCC\":\"s\", \"UCA\":\"S\", \"UCG\":\"S\",\n",
    "    \"UAU\":\"Y\", \"UAC\":\"Y\", \"UAA\":\"STOP\", \"UAG\":\"STOP\",\n",
    "    \"UGU\":\"C\", \"UGC\":\"C\", \"UGA\":\"STOP\", \"UGG\":\"W\",\n",
    "    \"CUU\":\"L\", \"CUC\":\"L\", \"CUA\":\"L\", \"CUG\":\"L\",\n",
    "    \"CCU\":\"P\", \"CCC\":\"P\", \"CCA\":\"P\", \"CCG\":\"P\",\n",
    "    \"CAU\":\"H\", \"CAC\":\"H\", \"CAA\":\"Q\", \"CAG\":\"Q\",\n",
    "    \"CGU\":\"R\", \"CGC\":\"R\", \"CGA\":\"R\", \"CGG\":\"R\",\n",
    "    \"AUU\":\"I\", \"AUC\":\"I\", \"AUA\":\"I\", \"AUG\":\"M\",\n",
    "    \"ACU\":\"T\", \"ACC\":\"T\", \"ACA\":\"T\", \"ACG\":\"T\",\n",
    "    \"AAU\":\"N\", \"AAC\":\"N\", \"AAA\":\"K\", \"AAG\":\"K\",\n",
    "    \"AGU\":\"S\", \"AGC\":\"S\", \"AGA\":\"R\", \"AGG\":\"R\",\n",
    "    \"GUU\":\"V\", \"GUC\":\"V\", \"GUA\":\"V\", \"GUG\":\"V\",\n",
    "    \"GCU\":\"A\", \"GCC\":\"A\", \"GCA\":\"A\", \"GCG\":\"A\",\n",
    "    \"GAU\":\"D\", \"GAC\":\"D\", \"GAA\":\"E\", \"GAG\":\"E\",\n",
    "    \"GGU\":\"G\", \"GGC\":\"G\", \"GGA\":\"G\", \"GGG\":\"G\",}"
   ]
  },
  {
   "cell_type": "code",
   "execution_count": 212,
   "metadata": {
    "scrolled": true
   },
   "outputs": [
    {
     "name": "stderr",
     "output_type": "stream",
     "text": [
      "'head' is not recognized as an internal or external command,\n",
      "operable program or batch file.\n"
     ]
    }
   ],
   "source": [
    "! head -5 host_transc_cds.fasta"
   ]
  },
  {
   "cell_type": "code",
   "execution_count": 235,
   "metadata": {
    "collapsed": true
   },
   "outputs": [
    {
     "data": {
      "text/plain": [
       "['>FBpp0085349 EcR-PA type=CDS; loc=2R:complement(join(6092588..6093733,6093797..6093949,6094010..6094153,6094557..6095071,6151830..6151996,6152069..6152493)); name=EcR-RA; dbxref=FlyBase:FBpp0085349,FlyBase_Annotation_IDs:CG1765-PA,REFSEQ:NP_724456,GB_protein:AAF57278,UniProt/TrEMBL:A4UZ51,FlyMine:FBpp0085349,modMine:FBpp0085349; MD5=f492414f9ae06c98a14d97f1a40c63aa; length=2550; parent=FBgn0000546,FBtr0086008; release=r6.29; species=Dmel;',\n",
       " 'ATGTTGACGACGAGTGGACAACAACAGTCAAAGCAAAAGCTGTCGACCTTACCTAGCCATATTTTGCTACAACAACAATTAGCTGCCTCTGCAGGCCCATCTTCCTCAGTATCCCTATCCCCATCTTCTTCTGCCGCCCTGACCCTGCATGTAGCCAGTGCTAATGGCGGTGCAAGAGAAACAACTTCTGCAGCCGCAGTCAAGGATAAACTAAGGCCGACACCCACAGCCATTAAAATTGAGCCCATGCCGGACGTCATTTCCGTAGGCACGGTGGCCGGAGGATCTAGCGTAGCTACTGTTGTTGCTCCCGCAGCAACCACAACTTCCAATAAGCCAAATTCTACAGCGGCGCCCTCGACGTCGGCTGCAGCTGCAAATGGTCATTTGGTGCTTGTGCCGAACAAAAGACCGCGACTTGATGTTACCGAGGACTGGATGTCCACTCCTAGTCCAGGCAGCGTGCCCAGCTCTGCGCCGCCACTTTCGCCTTCCCCCGGCTCGCAGAATCACAGCTACAACATGTCCAACGGCTATGCATCCCCCATGTCCGCCGGAAGCTATGATCCTTACAGTCCTACCGGCAAAACAGGTCGCGATGATCTCTCGCCTTCGAGCAGCTTGAACGGATACTCGGCGAACGAAAGCTGCGATGCGAAGAAGAGCAAGAAGGGACCTGCGCCACGGGTGCAAGAGGAGCTGTGCCTGGTTTGCGGCGACAGGGCCTCCGGCTACCACTACAACGCCCTCACCTGTGAGGGCTGCAAGGGGTTCTTTCGACGCAGCGTTACGAAGAGCGCCGTCTACTGCTGCAAGTTCGGGCGCGCCTGCGAAATGGACATGTACATGAGGCGAAAGTGTCAGGAGTGCCGCCTGAAAAAGTGCCTGGCCGTGGGTATGCGGCCGGAATGCGTCGTCCCGGAGAACCAATGTGCGATGAAGCGGCGCGAAAAGAAGGCCCAGAAGGAGAAGGACAAAATGACCACTTCGCCGAGCTCTCAGCATGGCGGCAATGGCAGCTTGGCCTCTGGTGGCGGCCAAGACTTTGTTAAGAAGGAGATTCTTGACCTTATGACATGCGAGCCGCCCCAGCATGCCACTATTCCGCTACTACCTGATGAAATATTGGCCAAGTGTCAAGCGCGCAATATACCTTCCTTAACGTACAATCAGTTGGCCGTTATATACAAGTTAATTTGGTACCAGGATGGCTATGAGCAGCCATCTGAAGAGGATCTCAGGCGTATAATGAGTCAACCCGATGAGAACGAGAGCCAAACGGACGTCAGCTTTCGGCATATAACCGAGATAACCATACTCACGGTCCAGTTGATTGTTGAGTTTGCTAAAGGTCTACCAGCGTTTACAAAGATACCCCAGGAGGACCAGATCACGTTACTAAAGGCCTGCTCGTCGGAGGTGATGATGCTGCGTATGGCACGACGCTATGACCACAGCTCGGACTCAATATTCTTCGCGAATAATAGATCATATACGCGGGATTCTTACAAAATGGCCGGAATGGCTGATAACATTGAAGACCTGCTGCATTTCTGCCGCCAAATGTTCTCGATGAAGGTGGACAACGTCGAATACGCGCTTCTCACTGCCATTGTGATCTTCTCGGACCGGCCGGGCCTGGAGAAGGCCCAACTAGTCGAAGCGATCCAGAGCTACTACATCGACACGCTACGCATTTATATACTCAACCGCCACTGCGGCGACTCAATGAGCCTCGTCTTCTACGCAAAGCTGCTCTCGATCCTCACCGAGCTGCGTACGCTGGGCAACCAGAACGCCGAGATGTGTTTCTCACTAAAGCTCAAAAACCGCAAACTGCCCAAGTTCCTCGAGGAGATCTGGGACGTTCATGCCATCCCGCCATCGGTCCAGTCGCACCTTCAGATTACCCAGGAGGAGAACGAGCGTCTCGAGCGGGCTGAGCGTATGCGGGCATCGGTTGGGGGCGCCATTACCGCCGGCATTGATTGCGACTCTGCCTCCACTTCGGCGGCGGCAGCCGCGGCCCAGCATCAGCCTCAGCCTCAGCCCCAGCCCCAACCCTCCTCCCTGACCCAGAACGATTCCCAGCACCAGACACAGCCGCAGCTACAACCTCAGCTACCACCTCAGCTGCAAGGTCAACTGCAACCCCAGCTCCAACCACAGCTTCAGACGCAACTCCAGCCACAGATTCAACCACAGCCACAGCTCCTTCCCGTCTCCGCTCCCGTGCCCGCCTCCGTAACCGCACCTGGTTCCTTGTCCGCGGTCAGTACGAGCAGCGAATACATGGGCGGAAGTGCGGCCATAGGACCCATCACGCCGGCAACCACCAGCAGTATCACGGCTGCCGTTACCGCTAGCTCCACCACATCAGCGGTACCGATGGGCAACGGAGTTGGAGTCGGTGTTGGGGTGGGCGGCAACGTCAGCATGTATGCGAACGCCCAGACGGCGATGGCCTTGATGGGTGTAGCCCTGCATTCGCACCAAGAGCAGCTTATCGGGGGAGTGGCGGTTAAGTCGGAGCACTCGACGACTGCATAG']"
      ]
     },
     "execution_count": 235,
     "metadata": {},
     "output_type": "execute_result"
    }
   ],
   "source": [
    "##for parsing flybase flies that has a newline within sequences\n",
    "fasta = []\n",
    "file=[]\n",
    "with open('host_transc_cds.fasta', 'r') as f:\n",
    "    for line in f:\n",
    "        file.append(line.strip())\n",
    "            \n",
    "    for i in range(len(file)):\n",
    "        line = file[i]\n",
    "        if line.startswith('>') is True:\n",
    "            header =(line.rstrip())\n",
    "            seq = \"\"\n",
    "            j=i  #the index for the sequence\n",
    "            while True:\n",
    "                j+=1  #the sequence is one position right of the header line\n",
    "                if j==len(file):\n",
    "                    break\n",
    "                if file[j].startswith('>') is True:\n",
    "                    break  #when it encounters another header\n",
    "                else:\n",
    "                    s = file[j]\n",
    "                    seq+=s\n",
    "            fasta.append(header)\n",
    "            fasta.append(seq)\n",
    "        else:\n",
    "            continue\n",
    "fasta[0:2]"
   ]
  },
  {
   "cell_type": "code",
   "execution_count": 236,
   "metadata": {},
   "outputs": [],
   "source": [
    "with open('host_transc_cds_V2.fasta', 'w') as f:\n",
    "    for line in fasta:\n",
    "        f.write(line+'\\n')"
   ]
  },
  {
   "cell_type": "code",
   "execution_count": 237,
   "metadata": {},
   "outputs": [
    {
     "data": {
      "text/plain": [
       "False"
      ]
     },
     "execution_count": 237,
     "metadata": {},
     "output_type": "execute_result"
    }
   ],
   "source": [
    "head = []\n",
    "seqs = []\n",
    "with open('host_transc_cds_V2.fasta', 'w') as f:\n",
    "    for line in fasta:\n",
    "        if line.startswith('>'):  #get the gene name only\n",
    "            header = line.rstrip()[1:].split(';')[2].replace('name=',\"\").replace('-RA',\"\")\n",
    "            head.append(header)\n",
    "        else:\n",
    "            seqs.append(line.rstrip())\n",
    "len(seq)==len(head)"
   ]
  },
  {
   "cell_type": "code",
   "execution_count": 238,
   "metadata": {},
   "outputs": [
    {
     "data": {
      "text/plain": [
       "65"
      ]
     },
     "execution_count": 238,
     "metadata": {},
     "output_type": "execute_result"
    }
   ],
   "source": [
    "len(head)"
   ]
  },
  {
   "cell_type": "code",
   "execution_count": 239,
   "metadata": {
    "scrolled": true
   },
   "outputs": [
    {
     "data": {
      "text/plain": [
       "65"
      ]
     },
     "execution_count": 239,
     "metadata": {},
     "output_type": "execute_result"
    }
   ],
   "source": [
    "len(seqs)"
   ]
  },
  {
   "cell_type": "code",
   "execution_count": 245,
   "metadata": {},
   "outputs": [
    {
     "data": {
      "text/html": [
       "<div>\n",
       "<style scoped>\n",
       "    .dataframe tbody tr th:only-of-type {\n",
       "        vertical-align: middle;\n",
       "    }\n",
       "\n",
       "    .dataframe tbody tr th {\n",
       "        vertical-align: top;\n",
       "    }\n",
       "\n",
       "    .dataframe thead th {\n",
       "        text-align: right;\n",
       "    }\n",
       "</style>\n",
       "<table border=\"1\" class=\"dataframe\">\n",
       "  <thead>\n",
       "    <tr style=\"text-align: right;\">\n",
       "      <th></th>\n",
       "      <th>Host_gene</th>\n",
       "      <th>CDS</th>\n",
       "    </tr>\n",
       "  </thead>\n",
       "  <tbody>\n",
       "    <tr>\n",
       "      <td>0</td>\n",
       "      <td>EcR</td>\n",
       "      <td>ATGTTGACGACGAGTGGACAACAACAGTCAAAGCAAAAGCTGTCGA...</td>\n",
       "    </tr>\n",
       "    <tr>\n",
       "      <td>1</td>\n",
       "      <td>kkv-RC</td>\n",
       "      <td>ATGTCTGCGATGCGGCATCGCCCGATGGCCCCTCCGGGCCAAGGAC...</td>\n",
       "    </tr>\n",
       "    <tr>\n",
       "      <td>2</td>\n",
       "      <td>CG15431</td>\n",
       "      <td>ATGGCCAAACTTTCACGACGTGCCTCGTCGTCTGCAGCAACGCCCT...</td>\n",
       "    </tr>\n",
       "    <tr>\n",
       "      <td>3</td>\n",
       "      <td>Nuak1-RF</td>\n",
       "      <td>ATGGTGATAAGCAAACCCGATGGAACGGCGCCCAATGGAGCGGCGG...</td>\n",
       "    </tr>\n",
       "    <tr>\n",
       "      <td>4</td>\n",
       "      <td>Naam</td>\n",
       "      <td>ATGGATTCACCTACACCGCCAATTGTCATCGAAGATTCAAACGGAT...</td>\n",
       "    </tr>\n",
       "  </tbody>\n",
       "</table>\n",
       "</div>"
      ],
      "text/plain": [
       "   Host_gene                                                CDS\n",
       "0        EcR  ATGTTGACGACGAGTGGACAACAACAGTCAAAGCAAAAGCTGTCGA...\n",
       "1     kkv-RC  ATGTCTGCGATGCGGCATCGCCCGATGGCCCCTCCGGGCCAAGGAC...\n",
       "2    CG15431  ATGGCCAAACTTTCACGACGTGCCTCGTCGTCTGCAGCAACGCCCT...\n",
       "3   Nuak1-RF  ATGGTGATAAGCAAACCCGATGGAACGGCGCCCAATGGAGCGGCGG...\n",
       "4       Naam  ATGGATTCACCTACACCGCCAATTGTCATCGAAGATTCAAACGGAT..."
      ]
     },
     "execution_count": 245,
     "metadata": {},
     "output_type": "execute_result"
    }
   ],
   "source": [
    "refset = pd.DataFrame([head,seqs]).T\n",
    "refset.columns=['Host_gene','CDS']\n",
    "refset.head()"
   ]
  },
  {
   "cell_type": "code",
   "execution_count": 255,
   "metadata": {},
   "outputs": [],
   "source": [
    "##helper functions\n",
    "\n",
    "def get_cod_freq(cds):\n",
    "    codon_count=dict() \n",
    "    \n",
    "    for codon in list(codon_aa.keys()):\n",
    "        codon_count[codon]=0\n",
    "\n",
    "    \n",
    "        cds = cds.upper().replace('T','U')\n",
    "        codons = []\n",
    "        ##make a list of codons\n",
    "        for c in range(0,len(cds),3):\n",
    "            #assert len(cds)%3 ==0\n",
    "            codons.append(cds[c:c+3])\n",
    "\n",
    "        for c in list(codon_count.keys()):\n",
    "            codon_count[c]+= codons.count(c)\n",
    "    \n",
    "    df_rscu=pd.DataFrame(list(codon_count.items()) )\n",
    "    df_rscu.columns=['Codon', 'Obs_Freq']\n",
    "    df_rscu['Amino_Acid'] = [codon_aa[codon] for codon in df_rscu['Codon'].values]\n",
    "    \n",
    "    return df_rscu"
   ]
  },
  {
   "cell_type": "code",
   "execution_count": 250,
   "metadata": {},
   "outputs": [],
   "source": [
    "def compute_rscu_weights(df_rscu):\n",
    "    \"\"\" wij = RSCUij/ RSCU i,max\"\"\"\n",
    "    aa_groups = df_rscu.groupby('Amino_Acid')\n",
    "    aa =  df_rscu['Amino_Acid'].unique()  #make a list of all amino acids to iterate over\n",
    "    df_list = []\n",
    "    for a in aa:\n",
    "        d=aa_groups.get_group(a)\n",
    "        d['RSCU'] = d['Obs_Freq'].values/d['Obs_Freq'].mean() #obs/expected freq \n",
    "        d['Relative_Adaptive_Weights'] = d['RSCU'].values/d['RSCU'].max() \n",
    "        d['optimal'] = [True if rscu==d['RSCU'].max() else False for rscu in d['RSCU'].values] #marks optimal codon\n",
    "        d['Host_gene'] =  gene\n",
    "        df_list.append(d)\n",
    "    return pd.concat(df_list)"
   ]
  },
  {
   "cell_type": "code",
   "execution_count": 252,
   "metadata": {
    "scrolled": true
   },
   "outputs": [
    {
     "data": {
      "text/html": [
       "<div>\n",
       "<style scoped>\n",
       "    .dataframe tbody tr th:only-of-type {\n",
       "        vertical-align: middle;\n",
       "    }\n",
       "\n",
       "    .dataframe tbody tr th {\n",
       "        vertical-align: top;\n",
       "    }\n",
       "\n",
       "    .dataframe thead th {\n",
       "        text-align: right;\n",
       "    }\n",
       "</style>\n",
       "<table border=\"1\" class=\"dataframe\">\n",
       "  <thead>\n",
       "    <tr style=\"text-align: right;\">\n",
       "      <th></th>\n",
       "      <th>Codon</th>\n",
       "      <th>Obs_Freq</th>\n",
       "      <th>Amino_Acid</th>\n",
       "    </tr>\n",
       "  </thead>\n",
       "  <tbody>\n",
       "    <tr>\n",
       "      <td>0</td>\n",
       "      <td>UUU</td>\n",
       "      <td>325</td>\n",
       "      <td>F</td>\n",
       "    </tr>\n",
       "    <tr>\n",
       "      <td>1</td>\n",
       "      <td>UUC</td>\n",
       "      <td>650</td>\n",
       "      <td>F</td>\n",
       "    </tr>\n",
       "    <tr>\n",
       "      <td>2</td>\n",
       "      <td>UUA</td>\n",
       "      <td>325</td>\n",
       "      <td>L</td>\n",
       "    </tr>\n",
       "    <tr>\n",
       "      <td>3</td>\n",
       "      <td>UUG</td>\n",
       "      <td>650</td>\n",
       "      <td>L</td>\n",
       "    </tr>\n",
       "    <tr>\n",
       "      <td>4</td>\n",
       "      <td>UCU</td>\n",
       "      <td>910</td>\n",
       "      <td>S</td>\n",
       "    </tr>\n",
       "  </tbody>\n",
       "</table>\n",
       "</div>"
      ],
      "text/plain": [
       "  Codon  Obs_Freq Amino_Acid\n",
       "0   UUU       325          F\n",
       "1   UUC       650          F\n",
       "2   UUA       325          L\n",
       "3   UUG       650          L\n",
       "4   UCU       910          S"
      ]
     },
     "execution_count": 252,
     "metadata": {},
     "output_type": "execute_result"
    }
   ],
   "source": [
    "df_rscu.head()"
   ]
  },
  {
   "cell_type": "code",
   "execution_count": 253,
   "metadata": {
    "scrolled": true
   },
   "outputs": [
    {
     "data": {
      "text/plain": [
       "(64, 3)"
      ]
     },
     "execution_count": 253,
     "metadata": {},
     "output_type": "execute_result"
    }
   ],
   "source": [
    "df_rscu.shape"
   ]
  },
  {
   "cell_type": "code",
   "execution_count": 254,
   "metadata": {},
   "outputs": [
    {
     "data": {
      "text/plain": [
       "(65, 2)"
      ]
     },
     "execution_count": 254,
     "metadata": {},
     "output_type": "execute_result"
    }
   ],
   "source": [
    "refset.shape"
   ]
  },
  {
   "cell_type": "code",
   "execution_count": 258,
   "metadata": {},
   "outputs": [
    {
     "name": "stderr",
     "output_type": "stream",
     "text": [
      "c:\\users\\rwint\\appdata\\local\\programs\\python\\python37\\lib\\site-packages\\ipykernel_launcher.py:8: SettingWithCopyWarning: \n",
      "A value is trying to be set on a copy of a slice from a DataFrame.\n",
      "Try using .loc[row_indexer,col_indexer] = value instead\n",
      "\n",
      "See the caveats in the documentation: http://pandas.pydata.org/pandas-docs/stable/user_guide/indexing.html#returning-a-view-versus-a-copy\n",
      "  \n",
      "c:\\users\\rwint\\appdata\\local\\programs\\python\\python37\\lib\\site-packages\\ipykernel_launcher.py:9: SettingWithCopyWarning: \n",
      "A value is trying to be set on a copy of a slice from a DataFrame.\n",
      "Try using .loc[row_indexer,col_indexer] = value instead\n",
      "\n",
      "See the caveats in the documentation: http://pandas.pydata.org/pandas-docs/stable/user_guide/indexing.html#returning-a-view-versus-a-copy\n",
      "  if __name__ == '__main__':\n",
      "c:\\users\\rwint\\appdata\\local\\programs\\python\\python37\\lib\\site-packages\\ipykernel_launcher.py:10: SettingWithCopyWarning: \n",
      "A value is trying to be set on a copy of a slice from a DataFrame.\n",
      "Try using .loc[row_indexer,col_indexer] = value instead\n",
      "\n",
      "See the caveats in the documentation: http://pandas.pydata.org/pandas-docs/stable/user_guide/indexing.html#returning-a-view-versus-a-copy\n",
      "  # Remove the CWD from sys.path while we load stuff.\n",
      "c:\\users\\rwint\\appdata\\local\\programs\\python\\python37\\lib\\site-packages\\ipykernel_launcher.py:8: RuntimeWarning: invalid value encountered in true_divide\n",
      "  \n"
     ]
    }
   ],
   "source": [
    "##compute rscu of each gene\n",
    "comb = []\n",
    "for host in refset['Host_gene'].values:\n",
    "    cds = refset[refset['Host_gene']==host]['CDS'].values[0]\n",
    "    df_rscu = get_cod_freq(cds)\n",
    "    rscu = compute_rscu_weights(df_rscu)\n",
    "    rscu['Host_gene']=host\n",
    "    comb.append(rscu)"
   ]
  },
  {
   "cell_type": "code",
   "execution_count": 259,
   "metadata": {
    "scrolled": true
   },
   "outputs": [
    {
     "data": {
      "text/html": [
       "<div>\n",
       "<style scoped>\n",
       "    .dataframe tbody tr th:only-of-type {\n",
       "        vertical-align: middle;\n",
       "    }\n",
       "\n",
       "    .dataframe tbody tr th {\n",
       "        vertical-align: top;\n",
       "    }\n",
       "\n",
       "    .dataframe thead th {\n",
       "        text-align: right;\n",
       "    }\n",
       "</style>\n",
       "<table border=\"1\" class=\"dataframe\">\n",
       "  <thead>\n",
       "    <tr style=\"text-align: right;\">\n",
       "      <th></th>\n",
       "      <th>Codon</th>\n",
       "      <th>Obs_Freq</th>\n",
       "      <th>Amino_Acid</th>\n",
       "      <th>RSCU</th>\n",
       "      <th>Relative_Adaptive_Weights</th>\n",
       "      <th>optimal</th>\n",
       "      <th>Host_gene</th>\n",
       "    </tr>\n",
       "  </thead>\n",
       "  <tbody>\n",
       "    <tr>\n",
       "      <td>0</td>\n",
       "      <td>UUU</td>\n",
       "      <td>832</td>\n",
       "      <td>F</td>\n",
       "      <td>0.597487</td>\n",
       "      <td>0.426011</td>\n",
       "      <td>False</td>\n",
       "      <td>Cht7</td>\n",
       "    </tr>\n",
       "    <tr>\n",
       "      <td>1</td>\n",
       "      <td>UUC</td>\n",
       "      <td>1953</td>\n",
       "      <td>F</td>\n",
       "      <td>1.402513</td>\n",
       "      <td>1.000000</td>\n",
       "      <td>True</td>\n",
       "      <td>Cht7</td>\n",
       "    </tr>\n",
       "    <tr>\n",
       "      <td>2</td>\n",
       "      <td>UUA</td>\n",
       "      <td>124</td>\n",
       "      <td>L</td>\n",
       "      <td>0.186233</td>\n",
       "      <td>0.072515</td>\n",
       "      <td>False</td>\n",
       "      <td>Cht7</td>\n",
       "    </tr>\n",
       "    <tr>\n",
       "      <td>3</td>\n",
       "      <td>UUG</td>\n",
       "      <td>793</td>\n",
       "      <td>L</td>\n",
       "      <td>1.190989</td>\n",
       "      <td>0.463743</td>\n",
       "      <td>False</td>\n",
       "      <td>Cht7</td>\n",
       "    </tr>\n",
       "    <tr>\n",
       "      <td>16</td>\n",
       "      <td>CUU</td>\n",
       "      <td>528</td>\n",
       "      <td>L</td>\n",
       "      <td>0.792991</td>\n",
       "      <td>0.308772</td>\n",
       "      <td>False</td>\n",
       "      <td>Cht7</td>\n",
       "    </tr>\n",
       "  </tbody>\n",
       "</table>\n",
       "</div>"
      ],
      "text/plain": [
       "   Codon  Obs_Freq Amino_Acid      RSCU  Relative_Adaptive_Weights  optimal  \\\n",
       "0    UUU       832          F  0.597487                   0.426011    False   \n",
       "1    UUC      1953          F  1.402513                   1.000000     True   \n",
       "2    UUA       124          L  0.186233                   0.072515    False   \n",
       "3    UUG       793          L  1.190989                   0.463743    False   \n",
       "16   CUU       528          L  0.792991                   0.308772    False   \n",
       "\n",
       "   Host_gene  \n",
       "0       Cht7  \n",
       "1       Cht7  \n",
       "2       Cht7  \n",
       "3       Cht7  \n",
       "16      Cht7  "
      ]
     },
     "execution_count": 259,
     "metadata": {},
     "output_type": "execute_result"
    }
   ],
   "source": [
    "rscu.head()"
   ]
  },
  {
   "cell_type": "code",
   "execution_count": 261,
   "metadata": {},
   "outputs": [],
   "source": [
    "comb_rscu = pd.concat(comb,axis=0)\n",
    "comb_rscu.to_csv('RSCU_hosts.csv')"
   ]
  },
  {
   "cell_type": "code",
   "execution_count": 262,
   "metadata": {
    "scrolled": true
   },
   "outputs": [
    {
     "data": {
      "text/html": [
       "<div>\n",
       "<style scoped>\n",
       "    .dataframe tbody tr th:only-of-type {\n",
       "        vertical-align: middle;\n",
       "    }\n",
       "\n",
       "    .dataframe tbody tr th {\n",
       "        vertical-align: top;\n",
       "    }\n",
       "\n",
       "    .dataframe thead th {\n",
       "        text-align: right;\n",
       "    }\n",
       "</style>\n",
       "<table border=\"1\" class=\"dataframe\">\n",
       "  <thead>\n",
       "    <tr style=\"text-align: right;\">\n",
       "      <th></th>\n",
       "      <th>Codon</th>\n",
       "      <th>Obs_Freq</th>\n",
       "      <th>Amino_Acid</th>\n",
       "      <th>RSCU</th>\n",
       "      <th>Relative_Adaptive_Weights</th>\n",
       "      <th>optimal</th>\n",
       "      <th>Host_gene</th>\n",
       "    </tr>\n",
       "  </thead>\n",
       "  <tbody>\n",
       "    <tr>\n",
       "      <td>0</td>\n",
       "      <td>UUU</td>\n",
       "      <td>320</td>\n",
       "      <td>F</td>\n",
       "      <td>0.673684</td>\n",
       "      <td>0.507937</td>\n",
       "      <td>False</td>\n",
       "      <td>EcR</td>\n",
       "    </tr>\n",
       "    <tr>\n",
       "      <td>1</td>\n",
       "      <td>UUC</td>\n",
       "      <td>630</td>\n",
       "      <td>F</td>\n",
       "      <td>1.326316</td>\n",
       "      <td>1.000000</td>\n",
       "      <td>True</td>\n",
       "      <td>EcR</td>\n",
       "    </tr>\n",
       "    <tr>\n",
       "      <td>2</td>\n",
       "      <td>UUA</td>\n",
       "      <td>310</td>\n",
       "      <td>L</td>\n",
       "      <td>0.529613</td>\n",
       "      <td>0.362573</td>\n",
       "      <td>False</td>\n",
       "      <td>EcR</td>\n",
       "    </tr>\n",
       "    <tr>\n",
       "      <td>3</td>\n",
       "      <td>UUG</td>\n",
       "      <td>610</td>\n",
       "      <td>L</td>\n",
       "      <td>1.042141</td>\n",
       "      <td>0.713450</td>\n",
       "      <td>False</td>\n",
       "      <td>EcR</td>\n",
       "    </tr>\n",
       "    <tr>\n",
       "      <td>16</td>\n",
       "      <td>CUU</td>\n",
       "      <td>480</td>\n",
       "      <td>L</td>\n",
       "      <td>0.820046</td>\n",
       "      <td>0.561404</td>\n",
       "      <td>False</td>\n",
       "      <td>EcR</td>\n",
       "    </tr>\n",
       "  </tbody>\n",
       "</table>\n",
       "</div>"
      ],
      "text/plain": [
       "   Codon  Obs_Freq Amino_Acid      RSCU  Relative_Adaptive_Weights  optimal  \\\n",
       "0    UUU       320          F  0.673684                   0.507937    False   \n",
       "1    UUC       630          F  1.326316                   1.000000     True   \n",
       "2    UUA       310          L  0.529613                   0.362573    False   \n",
       "3    UUG       610          L  1.042141                   0.713450    False   \n",
       "16   CUU       480          L  0.820046                   0.561404    False   \n",
       "\n",
       "   Host_gene  \n",
       "0        EcR  \n",
       "1        EcR  \n",
       "2        EcR  \n",
       "3        EcR  \n",
       "16       EcR  "
      ]
     },
     "execution_count": 262,
     "metadata": {},
     "output_type": "execute_result"
    }
   ],
   "source": [
    "comb_rscu.head()"
   ]
  },
  {
   "cell_type": "code",
   "execution_count": 264,
   "metadata": {
    "scrolled": false
   },
   "outputs": [
    {
     "data": {
      "text/plain": [
       "array(['Ile-AAT-1-1-', 'Lys-CTT-1-4-', 'Lys-CTT-1-3-', 'Lys-CTT-1-2-',\n",
       "       'Lys-CTT-1-1-', 'sn-GTT-1-6-', 'sn-GTT-1-5-', 'sn-GTT-1-4-',\n",
       "       'sn-GTT-1-3-', 'sn-GTT-1-2-', 'sn-GTT-1-1-', 'rg-ACG-1-2-',\n",
       "       'rg-ACG-1-1-'], dtype=object)"
      ]
     },
     "execution_count": 264,
     "metadata": {},
     "output_type": "execute_result"
    }
   ],
   "source": [
    "### then map trnas to codons\n",
    "nested_trnas[nested_trnas['Host_gene_name']=='EcR']['tRNA_name'].values"
   ]
  },
  {
   "cell_type": "code",
   "execution_count": 269,
   "metadata": {},
   "outputs": [
    {
     "data": {
      "text/plain": [
       "'GTT'"
      ]
     },
     "execution_count": 269,
     "metadata": {},
     "output_type": "execute_result"
    }
   ],
   "source": [
    "'sn-GTT-1-3-'[-8:-5]"
   ]
  },
  {
   "cell_type": "code",
   "execution_count": 272,
   "metadata": {
    "scrolled": true
   },
   "outputs": [
    {
     "data": {
      "text/html": [
       "<div>\n",
       "<style scoped>\n",
       "    .dataframe tbody tr th:only-of-type {\n",
       "        vertical-align: middle;\n",
       "    }\n",
       "\n",
       "    .dataframe tbody tr th {\n",
       "        vertical-align: top;\n",
       "    }\n",
       "\n",
       "    .dataframe thead th {\n",
       "        text-align: right;\n",
       "    }\n",
       "</style>\n",
       "<table border=\"1\" class=\"dataframe\">\n",
       "  <thead>\n",
       "    <tr style=\"text-align: right;\">\n",
       "      <th></th>\n",
       "      <th>Chrom</th>\n",
       "      <th>Start</th>\n",
       "      <th>End</th>\n",
       "      <th>Strand</th>\n",
       "      <th>tRNA_ID</th>\n",
       "      <th>tRNA_name</th>\n",
       "      <th>Host_Exon_ID</th>\n",
       "      <th>intron_length</th>\n",
       "      <th>mRNA_length</th>\n",
       "      <th>Host_gene_name</th>\n",
       "      <th>...</th>\n",
       "      <th>A-content</th>\n",
       "      <th>G-content</th>\n",
       "      <th>T-content</th>\n",
       "      <th>C-content</th>\n",
       "      <th>tRNA_Sequence</th>\n",
       "      <th>A-content_trna</th>\n",
       "      <th>G-content_trna</th>\n",
       "      <th>T-content_trna</th>\n",
       "      <th>C-content_trna</th>\n",
       "      <th>Anticodon</th>\n",
       "    </tr>\n",
       "  </thead>\n",
       "  <tbody>\n",
       "    <tr>\n",
       "      <td>0</td>\n",
       "      <td>3L</td>\n",
       "      <td>13249547</td>\n",
       "      <td>13249618</td>\n",
       "      <td>+</td>\n",
       "      <td>FBgn0011844</td>\n",
       "      <td>Asp-GTC-1-10-</td>\n",
       "      <td>FBtr0305480</td>\n",
       "      <td>12439</td>\n",
       "      <td>4841</td>\n",
       "      <td>caps</td>\n",
       "      <td>...</td>\n",
       "      <td>0.282901</td>\n",
       "      <td>0.208779</td>\n",
       "      <td>0.291181</td>\n",
       "      <td>0.217140</td>\n",
       "      <td>UCCUCGAUAGUAUAGUGGUUAGUAUCCCCGCCUGUCACGCGGGAGA...</td>\n",
       "      <td>0.166667</td>\n",
       "      <td>0.319444</td>\n",
       "      <td>0.236111</td>\n",
       "      <td>0.277778</td>\n",
       "      <td>GTC</td>\n",
       "    </tr>\n",
       "    <tr>\n",
       "      <td>1</td>\n",
       "      <td>3R</td>\n",
       "      <td>24555302</td>\n",
       "      <td>24555373</td>\n",
       "      <td>+</td>\n",
       "      <td>FBgn0011845</td>\n",
       "      <td>Asp-GTC-1-11-</td>\n",
       "      <td>FBtr0084647</td>\n",
       "      <td>325</td>\n",
       "      <td>3120</td>\n",
       "      <td>Esyt2</td>\n",
       "      <td>...</td>\n",
       "      <td>0.286154</td>\n",
       "      <td>0.172308</td>\n",
       "      <td>0.350769</td>\n",
       "      <td>0.190769</td>\n",
       "      <td>UCCUCGAUAGUAUAGUGGUUAGUAUCCCCGCCUGUCACGCGGGAGA...</td>\n",
       "      <td>0.166667</td>\n",
       "      <td>0.319444</td>\n",
       "      <td>0.236111</td>\n",
       "      <td>0.277778</td>\n",
       "      <td>GTC</td>\n",
       "    </tr>\n",
       "    <tr>\n",
       "      <td>2</td>\n",
       "      <td>3L</td>\n",
       "      <td>1397695</td>\n",
       "      <td>1397766</td>\n",
       "      <td>+</td>\n",
       "      <td>FBgn0011851</td>\n",
       "      <td>Glu-CTC-3-4-</td>\n",
       "      <td>FBtr0310161</td>\n",
       "      <td>126467</td>\n",
       "      <td>5167</td>\n",
       "      <td>Ptp61F</td>\n",
       "      <td>...</td>\n",
       "      <td>0.268979</td>\n",
       "      <td>0.226012</td>\n",
       "      <td>0.280136</td>\n",
       "      <td>0.224873</td>\n",
       "      <td>UCCCAUAUUGUCUAGUGGUUAGGAUAUCCGGCUCUCACCCGGAAGG...</td>\n",
       "      <td>0.194444</td>\n",
       "      <td>0.277778</td>\n",
       "      <td>0.263889</td>\n",
       "      <td>0.263889</td>\n",
       "      <td>CTC</td>\n",
       "    </tr>\n",
       "    <tr>\n",
       "      <td>3</td>\n",
       "      <td>3L</td>\n",
       "      <td>1397932</td>\n",
       "      <td>1398003</td>\n",
       "      <td>+</td>\n",
       "      <td>FBgn0011852</td>\n",
       "      <td>Glu-CTC-3-5-</td>\n",
       "      <td>FBtr0310161</td>\n",
       "      <td>126467</td>\n",
       "      <td>5167</td>\n",
       "      <td>Ptp61F</td>\n",
       "      <td>...</td>\n",
       "      <td>0.268979</td>\n",
       "      <td>0.226012</td>\n",
       "      <td>0.280136</td>\n",
       "      <td>0.224873</td>\n",
       "      <td>UCCCAUAUUGUCUAGUGGUUAGGAUAUCCGGCUCUCACCCGGAAGG...</td>\n",
       "      <td>0.194444</td>\n",
       "      <td>0.277778</td>\n",
       "      <td>0.263889</td>\n",
       "      <td>0.263889</td>\n",
       "      <td>CTC</td>\n",
       "    </tr>\n",
       "    <tr>\n",
       "      <td>4</td>\n",
       "      <td>3L</td>\n",
       "      <td>1398169</td>\n",
       "      <td>1398240</td>\n",
       "      <td>+</td>\n",
       "      <td>FBgn0011853</td>\n",
       "      <td>Glu-CTC-3-6-</td>\n",
       "      <td>FBtr0310161</td>\n",
       "      <td>126467</td>\n",
       "      <td>5167</td>\n",
       "      <td>Ptp61F</td>\n",
       "      <td>...</td>\n",
       "      <td>0.268979</td>\n",
       "      <td>0.226012</td>\n",
       "      <td>0.280136</td>\n",
       "      <td>0.224873</td>\n",
       "      <td>UCCCAUAUUGUCUAGUGGUUAGGAUAUCCGGCUCUCACCCGGAAGG...</td>\n",
       "      <td>0.194444</td>\n",
       "      <td>0.277778</td>\n",
       "      <td>0.263889</td>\n",
       "      <td>0.263889</td>\n",
       "      <td>CTC</td>\n",
       "    </tr>\n",
       "  </tbody>\n",
       "</table>\n",
       "<p>5 rows × 23 columns</p>\n",
       "</div>"
      ],
      "text/plain": [
       "  Chrom     Start       End Strand      tRNA_ID      tRNA_name Host_Exon_ID  \\\n",
       "0    3L  13249547  13249618      +  FBgn0011844  Asp-GTC-1-10-  FBtr0305480   \n",
       "1    3R  24555302  24555373      +  FBgn0011845  Asp-GTC-1-11-  FBtr0084647   \n",
       "2    3L   1397695   1397766      +  FBgn0011851   Glu-CTC-3-4-  FBtr0310161   \n",
       "3    3L   1397932   1398003      +  FBgn0011852   Glu-CTC-3-5-  FBtr0310161   \n",
       "4    3L   1398169   1398240      +  FBgn0011853   Glu-CTC-3-6-  FBtr0310161   \n",
       "\n",
       "   intron_length  mRNA_length Host_gene_name  ... A-content G-content  \\\n",
       "0          12439         4841           caps  ...  0.282901  0.208779   \n",
       "1            325         3120          Esyt2  ...  0.286154  0.172308   \n",
       "2         126467         5167         Ptp61F  ...  0.268979  0.226012   \n",
       "3         126467         5167         Ptp61F  ...  0.268979  0.226012   \n",
       "4         126467         5167         Ptp61F  ...  0.268979  0.226012   \n",
       "\n",
       "  T-content  C-content                                      tRNA_Sequence  \\\n",
       "0  0.291181   0.217140  UCCUCGAUAGUAUAGUGGUUAGUAUCCCCGCCUGUCACGCGGGAGA...   \n",
       "1  0.350769   0.190769  UCCUCGAUAGUAUAGUGGUUAGUAUCCCCGCCUGUCACGCGGGAGA...   \n",
       "2  0.280136   0.224873  UCCCAUAUUGUCUAGUGGUUAGGAUAUCCGGCUCUCACCCGGAAGG...   \n",
       "3  0.280136   0.224873  UCCCAUAUUGUCUAGUGGUUAGGAUAUCCGGCUCUCACCCGGAAGG...   \n",
       "4  0.280136   0.224873  UCCCAUAUUGUCUAGUGGUUAGGAUAUCCGGCUCUCACCCGGAAGG...   \n",
       "\n",
       "   A-content_trna  G-content_trna T-content_trna  C-content_trna  Anticodon  \n",
       "0        0.166667        0.319444       0.236111        0.277778        GTC  \n",
       "1        0.166667        0.319444       0.236111        0.277778        GTC  \n",
       "2        0.194444        0.277778       0.263889        0.263889        CTC  \n",
       "3        0.194444        0.277778       0.263889        0.263889        CTC  \n",
       "4        0.194444        0.277778       0.263889        0.263889        CTC  \n",
       "\n",
       "[5 rows x 23 columns]"
      ]
     },
     "execution_count": 272,
     "metadata": {},
     "output_type": "execute_result"
    }
   ],
   "source": [
    "trnas = []\n",
    "anticodons=[]\n",
    "for anti in nested_trnas['tRNA_name'].values:\n",
    "    if anti[:2]=='sn' or anti[:2]=='rg' or anti[:2]=='la'or anti[:2]=='sp':\n",
    "        anti='A'+anti\n",
    "    anticodons.append(anti[4:7])\n",
    "    trnas.append(anti)\n",
    "nested_trnas['tRNA_name']=trnas\n",
    "nested_trnas['Anticodon'] = anticodons\n",
    "nested_trnas.head()"
   ]
  },
  {
   "cell_type": "code",
   "execution_count": 273,
   "metadata": {},
   "outputs": [],
   "source": [
    "nested_trnas.to_csv('trna_host_genes_merged.csv',sep=',',index=False)"
   ]
  },
  {
   "cell_type": "code",
   "execution_count": 274,
   "metadata": {
    "scrolled": true
   },
   "outputs": [
    {
     "data": {
      "text/html": [
       "<div>\n",
       "<style scoped>\n",
       "    .dataframe tbody tr th:only-of-type {\n",
       "        vertical-align: middle;\n",
       "    }\n",
       "\n",
       "    .dataframe tbody tr th {\n",
       "        vertical-align: top;\n",
       "    }\n",
       "\n",
       "    .dataframe thead th {\n",
       "        text-align: right;\n",
       "    }\n",
       "</style>\n",
       "<table border=\"1\" class=\"dataframe\">\n",
       "  <thead>\n",
       "    <tr style=\"text-align: right;\">\n",
       "      <th></th>\n",
       "      <th>Host_gene_name</th>\n",
       "      <th>tRNA_name</th>\n",
       "      <th>Anticodon</th>\n",
       "    </tr>\n",
       "  </thead>\n",
       "  <tbody>\n",
       "    <tr>\n",
       "      <td>0</td>\n",
       "      <td>caps</td>\n",
       "      <td>Asp-GTC-1-10-</td>\n",
       "      <td>GTC</td>\n",
       "    </tr>\n",
       "    <tr>\n",
       "      <td>1</td>\n",
       "      <td>Esyt2</td>\n",
       "      <td>Asp-GTC-1-11-</td>\n",
       "      <td>GTC</td>\n",
       "    </tr>\n",
       "    <tr>\n",
       "      <td>2</td>\n",
       "      <td>Ptp61F</td>\n",
       "      <td>Glu-CTC-3-4-</td>\n",
       "      <td>CTC</td>\n",
       "    </tr>\n",
       "    <tr>\n",
       "      <td>3</td>\n",
       "      <td>Ptp61F</td>\n",
       "      <td>Glu-CTC-3-5-</td>\n",
       "      <td>CTC</td>\n",
       "    </tr>\n",
       "    <tr>\n",
       "      <td>4</td>\n",
       "      <td>Ptp61F</td>\n",
       "      <td>Glu-CTC-3-6-</td>\n",
       "      <td>CTC</td>\n",
       "    </tr>\n",
       "  </tbody>\n",
       "</table>\n",
       "</div>"
      ],
      "text/plain": [
       "  Host_gene_name      tRNA_name Anticodon\n",
       "0           caps  Asp-GTC-1-10-       GTC\n",
       "1          Esyt2  Asp-GTC-1-11-       GTC\n",
       "2         Ptp61F   Glu-CTC-3-4-       CTC\n",
       "3         Ptp61F   Glu-CTC-3-5-       CTC\n",
       "4         Ptp61F   Glu-CTC-3-6-       CTC"
      ]
     },
     "execution_count": 274,
     "metadata": {},
     "output_type": "execute_result"
    }
   ],
   "source": [
    "nest=nested_trnas[['Host_gene_name','tRNA_name','Anticodon']]\n",
    "nest.head()"
   ]
  },
  {
   "cell_type": "code",
   "execution_count": 293,
   "metadata": {},
   "outputs": [],
   "source": [
    "nest.to_csv('trna_hosts_truncated.csv',sep=',',index=False)"
   ]
  },
  {
   "cell_type": "code",
   "execution_count": 277,
   "metadata": {
    "scrolled": false
   },
   "outputs": [
    {
     "data": {
      "text/plain": [
       "GTT    6\n",
       "CTT    4\n",
       "ACG    2\n",
       "AAT    1\n",
       "Name: Anticodon, dtype: int64"
      ]
     },
     "execution_count": 277,
     "metadata": {},
     "output_type": "execute_result"
    }
   ],
   "source": [
    "nest[nest['Host_gene_name']=='EcR']['Anticodon'].value_counts()"
   ]
  },
  {
   "cell_type": "code",
   "execution_count": 279,
   "metadata": {
    "scrolled": false
   },
   "outputs": [
    {
     "data": {
      "text/plain": [
       "array([' EcR', ' kkv-RC', ' CG15431', ' Nuak1-RF', ' Naam', ' Golgin104',\n",
       "       ' CG14322', ' bnl', ' hng3-RB', ' CG11044', ' Mctp', ' Ntl',\n",
       "       ' Wdr62', ' mrj-RH', ' nmo-RB', ' prominin-like-RD', ' CG31279-RD',\n",
       "       ' bon-RD', ' TrpA1-RH', ' d-RE', ' Roc2-RB', ' sprt', ' CG4238-RH',\n",
       "       ' CG10713', ' Mmp2-RB', ' ec-RB', ' pyd-RJ', ' Dop2R-RF',\n",
       "       ' tai-RD', ' Sema1a-RE', ' pcs-RB', ' Ect4-RI', ' CG32521-RG',\n",
       "       ' sm-RU', ' CG43175-RB', ' caps-RD', ' qin-RB', ' Btk29A-RE',\n",
       "       ' Pu-RB', ' Dbx-RC', ' PIG-S-RC', ' p-RB', ' CG42340-RD', ' sr-RD',\n",
       "       ' ome-RE', ' erm-RB', ' Lrt-RB', ' CG31248', ' Bx-RF', ' CG9287',\n",
       "       ' CG9289', ' mim-RL', ' jar-RG', ' ABCA-RB', ' bs-RC', ' gol-RD',\n",
       "       ' Esyt2', ' Ptp61F-RE', ' ATP8A-RE', ' mub-RF', ' Sulf1-RB',\n",
       "       ' tkv', ' hts-RO', ' Ptr', ' Cht7'], dtype=object)"
      ]
     },
     "execution_count": 279,
     "metadata": {},
     "output_type": "execute_result"
    }
   ],
   "source": [
    "comb_rscu['Host_gene'].unique()"
   ]
  },
  {
   "cell_type": "code",
   "execution_count": 281,
   "metadata": {},
   "outputs": [],
   "source": [
    "##fix names\n",
    "names = []\n",
    "for n in comb_rscu['Host_gene'].values:\n",
    "    names.append(n.replace(\" \",\"\"))\n",
    "comb_rscu['Host_gene']=names"
   ]
  },
  {
   "cell_type": "code",
   "execution_count": 340,
   "metadata": {},
   "outputs": [],
   "source": [
    "names = []\n",
    "for n in comb_rscu['Host_gene'].values:\n",
    "    n = n.replace(\"-RB\",\"\").replace(\"-RE\",\"\").replace(\"-RB\",\"\").replace(\"-RD\",\"\").replace(\"-RI\",\"\").replace(\"-RJ\",\"\")\n",
    "    n = n.replace(\"-RL\",\"\").replace(\"-RC\",\"\").replace(\"-RG\",\"\").replace(\"-RU\",\"\").replace(\"-RH\",\"\").replace(\"-RF\",\"\").replace(\"-RO\",\"\")\n",
    "    names.append(n)\n",
    "comb_rscu['Host_gene']=names"
   ]
  },
  {
   "cell_type": "code",
   "execution_count": 341,
   "metadata": {},
   "outputs": [
    {
     "data": {
      "text/plain": [
       "array(['EcR', 'kkv', 'CG15431', 'Nuak1', 'Naam', 'Golgin104', 'CG14322',\n",
       "       'bnl', 'hng3', 'CG11044', 'Mctp', 'Ntl', 'Wdr62', 'mrj', 'nmo',\n",
       "       'prominin-like', 'CG31279', 'bon', 'TrpA1', 'd', 'Roc2', 'sprt',\n",
       "       'CG4238', 'CG10713', 'Mmp2', 'ec', 'pyd', 'Dop2R', 'tai', 'Sema1a',\n",
       "       'pcs', 'Ect4', 'CG32521', 'sm', 'CG43175', 'caps', 'qin', 'Btk29A',\n",
       "       'Pu', 'Dbx', 'PIG-S', 'p', 'CG42340', 'sr', 'ome', 'erm', 'Lrt',\n",
       "       'CG31248', 'Bx', 'CG9287', 'CG9289', 'mim', 'jar', 'ABCA', 'bs',\n",
       "       'gol', 'Esyt2', 'Ptp61F', 'ATP8A', 'mub', 'Sulf1', 'tkv', 'hts',\n",
       "       'Ptr', 'Cht7'], dtype=object)"
      ]
     },
     "execution_count": 341,
     "metadata": {},
     "output_type": "execute_result"
    }
   ],
   "source": [
    "comb_rscu['Host_gene'].unique()"
   ]
  },
  {
   "cell_type": "code",
   "execution_count": 342,
   "metadata": {},
   "outputs": [],
   "source": [
    "comb_rscu.to_csv('RSCU_hosts.csv')"
   ]
  },
  {
   "cell_type": "code",
   "execution_count": 286,
   "metadata": {
    "scrolled": true
   },
   "outputs": [
    {
     "data": {
      "text/plain": [
       "array(['UUC', 'CUG', 'UCG', 'UCC', 'UAC', 'UAG', 'UGC', 'UGG', 'CCC',\n",
       "       'CAU', 'CAG', 'CGC', 'AUU', 'AUG', 'ACC', 'AAC', 'AAG', 'GUC',\n",
       "       'GCC', 'GAC', 'GAG', 'GGC'], dtype=object)"
      ]
     },
     "execution_count": 286,
     "metadata": {},
     "output_type": "execute_result"
    }
   ],
   "source": [
    "comb_rscu[comb_rscu['Host_gene']=='EcR'].query('optimal==True')['Codon'].values"
   ]
  },
  {
   "cell_type": "code",
   "execution_count": 287,
   "metadata": {},
   "outputs": [],
   "source": [
    "##add antiocon\n",
    "def anticodon_to_codon(anticodon):\n",
    "    ##make a complementary dictionary\n",
    "    comp_dict={'A':'T','T':'A','G':'C','C':'G'}\n",
    "    \n",
    "    codon = \"\"\n",
    "    for i in anticodon[::-1]:  #this code reverse the order\n",
    "        codon+= \"\".join(comp_dict[i])\n",
    "    return codon"
   ]
  },
  {
   "cell_type": "code",
   "execution_count": 290,
   "metadata": {
    "scrolled": true
   },
   "outputs": [
    {
     "data": {
      "text/plain": [
       "array(['GTC', 'CTC', 'GAA', 'GCC', 'AAT', 'CTT', 'TTT', 'CAA', 'CAT',\n",
       "       '-CA', 'GTT', 'TCG', 'ACG', 'GCT', 'CAC', 'AAC', 'GTA', 'CGG',\n",
       "       'CGA', 'CCA', 'CGC', 'AAG', 'CTG', 'TTC', 'TGT', 'TAA', 'TGG',\n",
       "       'TCC', 'AGT', 'AGC', 'TCT', 'GCA', 'CAG', 'TTG'], dtype=object)"
      ]
     },
     "execution_count": 290,
     "metadata": {},
     "output_type": "execute_result"
    }
   ],
   "source": [
    "nest['Anticodon'].unique()"
   ]
  },
  {
   "cell_type": "code",
   "execution_count": 291,
   "metadata": {},
   "outputs": [
    {
     "name": "stderr",
     "output_type": "stream",
     "text": [
      "c:\\users\\rwint\\appdata\\local\\programs\\python\\python37\\lib\\site-packages\\ipykernel_launcher.py:1: SettingWithCopyWarning: \n",
      "A value is trying to be set on a copy of a slice from a DataFrame.\n",
      "Try using .loc[row_indexer,col_indexer] = value instead\n",
      "\n",
      "See the caveats in the documentation: http://pandas.pydata.org/pandas-docs/stable/user_guide/indexing.html#returning-a-view-versus-a-copy\n",
      "  \"\"\"Entry point for launching an IPython kernel.\n"
     ]
    }
   ],
   "source": [
    "nest['Anticodon'] = nest['Anticodon'].replace('-CA','CAT')"
   ]
  },
  {
   "cell_type": "code",
   "execution_count": 292,
   "metadata": {
    "scrolled": true
   },
   "outputs": [
    {
     "name": "stderr",
     "output_type": "stream",
     "text": [
      "c:\\users\\rwint\\appdata\\local\\programs\\python\\python37\\lib\\site-packages\\ipykernel_launcher.py:1: SettingWithCopyWarning: \n",
      "A value is trying to be set on a copy of a slice from a DataFrame.\n",
      "Try using .loc[row_indexer,col_indexer] = value instead\n",
      "\n",
      "See the caveats in the documentation: http://pandas.pydata.org/pandas-docs/stable/user_guide/indexing.html#returning-a-view-versus-a-copy\n",
      "  \"\"\"Entry point for launching an IPython kernel.\n"
     ]
    },
    {
     "data": {
      "text/html": [
       "<div>\n",
       "<style scoped>\n",
       "    .dataframe tbody tr th:only-of-type {\n",
       "        vertical-align: middle;\n",
       "    }\n",
       "\n",
       "    .dataframe tbody tr th {\n",
       "        vertical-align: top;\n",
       "    }\n",
       "\n",
       "    .dataframe thead th {\n",
       "        text-align: right;\n",
       "    }\n",
       "</style>\n",
       "<table border=\"1\" class=\"dataframe\">\n",
       "  <thead>\n",
       "    <tr style=\"text-align: right;\">\n",
       "      <th></th>\n",
       "      <th>Host_gene_name</th>\n",
       "      <th>tRNA_name</th>\n",
       "      <th>Anticodon</th>\n",
       "      <th>Codon</th>\n",
       "    </tr>\n",
       "  </thead>\n",
       "  <tbody>\n",
       "    <tr>\n",
       "      <td>0</td>\n",
       "      <td>caps</td>\n",
       "      <td>Asp-GTC-1-10-</td>\n",
       "      <td>GTC</td>\n",
       "      <td>GAC</td>\n",
       "    </tr>\n",
       "    <tr>\n",
       "      <td>1</td>\n",
       "      <td>Esyt2</td>\n",
       "      <td>Asp-GTC-1-11-</td>\n",
       "      <td>GTC</td>\n",
       "      <td>GAC</td>\n",
       "    </tr>\n",
       "    <tr>\n",
       "      <td>2</td>\n",
       "      <td>Ptp61F</td>\n",
       "      <td>Glu-CTC-3-4-</td>\n",
       "      <td>CTC</td>\n",
       "      <td>GAG</td>\n",
       "    </tr>\n",
       "    <tr>\n",
       "      <td>3</td>\n",
       "      <td>Ptp61F</td>\n",
       "      <td>Glu-CTC-3-5-</td>\n",
       "      <td>CTC</td>\n",
       "      <td>GAG</td>\n",
       "    </tr>\n",
       "    <tr>\n",
       "      <td>4</td>\n",
       "      <td>Ptp61F</td>\n",
       "      <td>Glu-CTC-3-6-</td>\n",
       "      <td>CTC</td>\n",
       "      <td>GAG</td>\n",
       "    </tr>\n",
       "  </tbody>\n",
       "</table>\n",
       "</div>"
      ],
      "text/plain": [
       "  Host_gene_name      tRNA_name Anticodon Codon\n",
       "0           caps  Asp-GTC-1-10-       GTC   GAC\n",
       "1          Esyt2  Asp-GTC-1-11-       GTC   GAC\n",
       "2         Ptp61F   Glu-CTC-3-4-       CTC   GAG\n",
       "3         Ptp61F   Glu-CTC-3-5-       CTC   GAG\n",
       "4         Ptp61F   Glu-CTC-3-6-       CTC   GAG"
      ]
     },
     "execution_count": 292,
     "metadata": {},
     "output_type": "execute_result"
    }
   ],
   "source": [
    "nest['Codon']=nest['Anticodon'].apply(anticodon_to_codon)\n",
    "nest.head()"
   ]
  },
  {
   "cell_type": "code",
   "execution_count": 294,
   "metadata": {
    "scrolled": false
   },
   "outputs": [
    {
     "data": {
      "text/plain": [
       "array(['UUC', 'CUG', 'UCG', 'UCC', 'UAC', 'UAG', 'UGC', 'UGG', 'CCC',\n",
       "       'CAU', 'CAG', 'CGC', 'AUU', 'AUG', 'ACC', 'AAC', 'AAG', 'GUC',\n",
       "       'GCC', 'GAC', 'GAG', 'GGC'], dtype=object)"
      ]
     },
     "execution_count": 294,
     "metadata": {},
     "output_type": "execute_result"
    }
   ],
   "source": [
    "comb_rscu[comb_rscu['Host_gene']=='EcR'].query('optimal==True')['Codon'].values"
   ]
  },
  {
   "cell_type": "code",
   "execution_count": 296,
   "metadata": {},
   "outputs": [
    {
     "data": {
      "text/plain": [
       "array(['UUC', 'CUG', 'UCG', 'UCC', 'UAC', 'UAG', 'UGC', 'UGG', 'CCC',\n",
       "       'CAU', 'CAG', 'CGC', 'AUU', 'AUG', 'ACC', 'AAC', 'AAG', 'GUC',\n",
       "       'GCC', 'GAC', 'GAG', 'GGC'], dtype=object)"
      ]
     },
     "execution_count": 296,
     "metadata": {},
     "output_type": "execute_result"
    }
   ],
   "source": [
    "comb_rscu['Codon']= comb_rscu['Codon'].replace('U','T')\n",
    "comb_rscu[comb_rscu['Host_gene']=='EcR'].query('optimal==True')['Codon'].values"
   ]
  },
  {
   "cell_type": "code",
   "execution_count": 297,
   "metadata": {},
   "outputs": [
    {
     "data": {
      "text/plain": [
       "array(['TTC', 'CTG', 'TCG', 'TCC', 'TAC', 'TAG', 'TGC', 'TGG', 'CCC',\n",
       "       'CAT', 'CAG', 'CGC', 'ATT', 'ATG', 'ACC', 'AAC', 'AAG', 'GTC',\n",
       "       'GCC', 'GAC', 'GAG', 'GGC'], dtype=object)"
      ]
     },
     "execution_count": 297,
     "metadata": {},
     "output_type": "execute_result"
    }
   ],
   "source": [
    "##LONG WAY\n",
    "cod=[]\n",
    "for c in comb_rscu['Codon'].values:\n",
    "    cod.append(c.replace('U','T'))\n",
    "comb_rscu['Codon']=cod\n",
    "comb_rscu[comb_rscu['Host_gene']=='EcR'].query('optimal==True')['Codon'].values"
   ]
  },
  {
   "cell_type": "code",
   "execution_count": 295,
   "metadata": {
    "scrolled": false
   },
   "outputs": [
    {
     "data": {
      "text/plain": [
       "AAC    6\n",
       "AAG    4\n",
       "CGT    2\n",
       "ATT    1\n",
       "Name: Codon, dtype: int64"
      ]
     },
     "execution_count": 295,
     "metadata": {},
     "output_type": "execute_result"
    }
   ],
   "source": [
    "nest[nest['Host_gene_name']=='EcR']['Codon'].value_counts()"
   ]
  },
  {
   "cell_type": "code",
   "execution_count": 301,
   "metadata": {
    "scrolled": true
   },
   "outputs": [
    {
     "data": {
      "text/html": [
       "<div>\n",
       "<style scoped>\n",
       "    .dataframe tbody tr th:only-of-type {\n",
       "        vertical-align: middle;\n",
       "    }\n",
       "\n",
       "    .dataframe tbody tr th {\n",
       "        vertical-align: top;\n",
       "    }\n",
       "\n",
       "    .dataframe thead th {\n",
       "        text-align: right;\n",
       "    }\n",
       "</style>\n",
       "<table border=\"1\" class=\"dataframe\">\n",
       "  <thead>\n",
       "    <tr style=\"text-align: right;\">\n",
       "      <th></th>\n",
       "      <th>Codon_trna</th>\n",
       "      <th>Frequency</th>\n",
       "    </tr>\n",
       "  </thead>\n",
       "  <tbody>\n",
       "    <tr>\n",
       "      <td>0</td>\n",
       "      <td>AAC</td>\n",
       "      <td>6</td>\n",
       "    </tr>\n",
       "    <tr>\n",
       "      <td>1</td>\n",
       "      <td>AAG</td>\n",
       "      <td>4</td>\n",
       "    </tr>\n",
       "    <tr>\n",
       "      <td>2</td>\n",
       "      <td>CGT</td>\n",
       "      <td>2</td>\n",
       "    </tr>\n",
       "    <tr>\n",
       "      <td>3</td>\n",
       "      <td>ATT</td>\n",
       "      <td>1</td>\n",
       "    </tr>\n",
       "  </tbody>\n",
       "</table>\n",
       "</div>"
      ],
      "text/plain": [
       "  Codon_trna  Frequency\n",
       "0        AAC          6\n",
       "1        AAG          4\n",
       "2        CGT          2\n",
       "3        ATT          1"
      ]
     },
     "execution_count": 301,
     "metadata": {},
     "output_type": "execute_result"
    }
   ],
   "source": [
    "##add optimal label if anticodon complement is optimal\n",
    "df = nest[nest['Host_gene_name']=='EcR']['Codon'].value_counts().to_frame().reset_index()\n",
    "df.columns=['Codon_trna','Frequency']\n",
    "df.head()"
   ]
  },
  {
   "cell_type": "code",
   "execution_count": 373,
   "metadata": {},
   "outputs": [
    {
     "data": {
      "text/html": [
       "<div>\n",
       "<style scoped>\n",
       "    .dataframe tbody tr th:only-of-type {\n",
       "        vertical-align: middle;\n",
       "    }\n",
       "\n",
       "    .dataframe tbody tr th {\n",
       "        vertical-align: top;\n",
       "    }\n",
       "\n",
       "    .dataframe thead th {\n",
       "        text-align: right;\n",
       "    }\n",
       "</style>\n",
       "<table border=\"1\" class=\"dataframe\">\n",
       "  <thead>\n",
       "    <tr style=\"text-align: right;\">\n",
       "      <th></th>\n",
       "      <th>Codon_trna</th>\n",
       "      <th>Frequency</th>\n",
       "    </tr>\n",
       "  </thead>\n",
       "  <tbody>\n",
       "    <tr>\n",
       "      <td>0</td>\n",
       "      <td>ATT</td>\n",
       "      <td>6</td>\n",
       "    </tr>\n",
       "    <tr>\n",
       "      <td>1</td>\n",
       "      <td>TTG</td>\n",
       "      <td>2</td>\n",
       "    </tr>\n",
       "  </tbody>\n",
       "</table>\n",
       "</div>"
      ],
      "text/plain": [
       "  Codon_trna  Frequency\n",
       "0        ATT          6\n",
       "1        TTG          2"
      ]
     },
     "execution_count": 373,
     "metadata": {},
     "output_type": "execute_result"
    }
   ],
   "source": [
    "##add optimal label if anticodon complement is optimal\n",
    "df = nest[nest['Host_gene_name']=='ATP8A']['Codon'].value_counts().to_frame().reset_index()\n",
    "df.columns=['Codon_trna','Frequency']\n",
    "df.head()"
   ]
  },
  {
   "cell_type": "code",
   "execution_count": 374,
   "metadata": {},
   "outputs": [
    {
     "data": {
      "text/html": [
       "<div>\n",
       "<style scoped>\n",
       "    .dataframe tbody tr th:only-of-type {\n",
       "        vertical-align: middle;\n",
       "    }\n",
       "\n",
       "    .dataframe tbody tr th {\n",
       "        vertical-align: top;\n",
       "    }\n",
       "\n",
       "    .dataframe thead th {\n",
       "        text-align: right;\n",
       "    }\n",
       "</style>\n",
       "<table border=\"1\" class=\"dataframe\">\n",
       "  <thead>\n",
       "    <tr style=\"text-align: right;\">\n",
       "      <th></th>\n",
       "      <th>Host_gene_name</th>\n",
       "      <th>tRNA_name</th>\n",
       "      <th>Anticodon</th>\n",
       "      <th>Codon</th>\n",
       "    </tr>\n",
       "  </thead>\n",
       "  <tbody>\n",
       "    <tr>\n",
       "      <td>11</td>\n",
       "      <td>ATP8A</td>\n",
       "      <td>Ile-AAT-1-3-</td>\n",
       "      <td>AAT</td>\n",
       "      <td>ATT</td>\n",
       "    </tr>\n",
       "    <tr>\n",
       "      <td>12</td>\n",
       "      <td>ATP8A</td>\n",
       "      <td>Ile-AAT-1-4-</td>\n",
       "      <td>AAT</td>\n",
       "      <td>ATT</td>\n",
       "    </tr>\n",
       "    <tr>\n",
       "      <td>13</td>\n",
       "      <td>ATP8A</td>\n",
       "      <td>Ile-AAT-1-5-</td>\n",
       "      <td>AAT</td>\n",
       "      <td>ATT</td>\n",
       "    </tr>\n",
       "    <tr>\n",
       "      <td>14</td>\n",
       "      <td>ATP8A</td>\n",
       "      <td>Ile-AAT-1-6-</td>\n",
       "      <td>AAT</td>\n",
       "      <td>ATT</td>\n",
       "    </tr>\n",
       "    <tr>\n",
       "      <td>15</td>\n",
       "      <td>ATP8A</td>\n",
       "      <td>Ile-AAT-1-7-</td>\n",
       "      <td>AAT</td>\n",
       "      <td>ATT</td>\n",
       "    </tr>\n",
       "    <tr>\n",
       "      <td>25</td>\n",
       "      <td>ATP8A</td>\n",
       "      <td>Leu-CAA-2-1-</td>\n",
       "      <td>CAA</td>\n",
       "      <td>TTG</td>\n",
       "    </tr>\n",
       "    <tr>\n",
       "      <td>26</td>\n",
       "      <td>ATP8A</td>\n",
       "      <td>Leu-CAA-1-1-</td>\n",
       "      <td>CAA</td>\n",
       "      <td>TTG</td>\n",
       "    </tr>\n",
       "    <tr>\n",
       "      <td>69</td>\n",
       "      <td>ATP8A</td>\n",
       "      <td>Ile-AAT-1-8-</td>\n",
       "      <td>AAT</td>\n",
       "      <td>ATT</td>\n",
       "    </tr>\n",
       "  </tbody>\n",
       "</table>\n",
       "</div>"
      ],
      "text/plain": [
       "   Host_gene_name     tRNA_name Anticodon Codon\n",
       "11          ATP8A  Ile-AAT-1-3-       AAT   ATT\n",
       "12          ATP8A  Ile-AAT-1-4-       AAT   ATT\n",
       "13          ATP8A  Ile-AAT-1-5-       AAT   ATT\n",
       "14          ATP8A  Ile-AAT-1-6-       AAT   ATT\n",
       "15          ATP8A  Ile-AAT-1-7-       AAT   ATT\n",
       "25          ATP8A  Leu-CAA-2-1-       CAA   TTG\n",
       "26          ATP8A  Leu-CAA-1-1-       CAA   TTG\n",
       "69          ATP8A  Ile-AAT-1-8-       AAT   ATT"
      ]
     },
     "execution_count": 374,
     "metadata": {},
     "output_type": "execute_result"
    }
   ],
   "source": [
    "nest[nest['Host_gene_name']=='ATP8A']"
   ]
  },
  {
   "cell_type": "markdown",
   "metadata": {},
   "source": [
    "### count cases of optimality"
   ]
  },
  {
   "cell_type": "code",
   "execution_count": 304,
   "metadata": {
    "scrolled": true
   },
   "outputs": [
    {
     "data": {
      "text/html": [
       "<div>\n",
       "<style scoped>\n",
       "    .dataframe tbody tr th:only-of-type {\n",
       "        vertical-align: middle;\n",
       "    }\n",
       "\n",
       "    .dataframe tbody tr th {\n",
       "        vertical-align: top;\n",
       "    }\n",
       "\n",
       "    .dataframe thead th {\n",
       "        text-align: right;\n",
       "    }\n",
       "</style>\n",
       "<table border=\"1\" class=\"dataframe\">\n",
       "  <thead>\n",
       "    <tr style=\"text-align: right;\">\n",
       "      <th></th>\n",
       "      <th>Codon_trna</th>\n",
       "      <th>Frequency</th>\n",
       "      <th>Optimality</th>\n",
       "    </tr>\n",
       "  </thead>\n",
       "  <tbody>\n",
       "    <tr>\n",
       "      <td>0</td>\n",
       "      <td>AAC</td>\n",
       "      <td>6</td>\n",
       "      <td>optimal</td>\n",
       "    </tr>\n",
       "    <tr>\n",
       "      <td>1</td>\n",
       "      <td>AAG</td>\n",
       "      <td>4</td>\n",
       "      <td>optimal</td>\n",
       "    </tr>\n",
       "    <tr>\n",
       "      <td>2</td>\n",
       "      <td>CGT</td>\n",
       "      <td>2</td>\n",
       "      <td>non_optimal</td>\n",
       "    </tr>\n",
       "    <tr>\n",
       "      <td>3</td>\n",
       "      <td>ATT</td>\n",
       "      <td>1</td>\n",
       "      <td>optimal</td>\n",
       "    </tr>\n",
       "  </tbody>\n",
       "</table>\n",
       "</div>"
      ],
      "text/plain": [
       "  Codon_trna  Frequency   Optimality\n",
       "0        AAC          6      optimal\n",
       "1        AAG          4      optimal\n",
       "2        CGT          2  non_optimal\n",
       "3        ATT          1      optimal"
      ]
     },
     "execution_count": 304,
     "metadata": {},
     "output_type": "execute_result"
    }
   ],
   "source": [
    "l = []\n",
    "for c in df['Codon_trna'].values:\n",
    "    opt_codons = comb_rscu[comb_rscu['Host_gene']=='EcR'].query('optimal==True')['Codon'].values\n",
    "    if c in opt_codons:\n",
    "        l.append('optimal')\n",
    "    else:\n",
    "        l.append('non_optimal')\n",
    "df['Optimality']=l\n",
    "df"
   ]
  },
  {
   "cell_type": "code",
   "execution_count": 348,
   "metadata": {},
   "outputs": [],
   "source": [
    "opts = [] ##stores number of nested trnas that are optimal\n",
    "count = 0 ##counts whenever agene hase optimal codon contente\n",
    "opt_host_dict=dict()\n",
    "for host in comb_rscu['Host_gene'].unique():\n",
    "    df = nest[nest['Host_gene_name']==host]['Codon'].value_counts().to_frame().reset_index()\n",
    "    df.columns=['Codon_trna','Frequency']\n",
    "    l = []\n",
    "    for c in df['Codon_trna'].values:\n",
    "        opt_codons = comb_rscu[comb_rscu['Host_gene']==host].query('optimal==True')['Codon'].values\n",
    "        if c in opt_codons:\n",
    "            l.append('optimal')\n",
    "        else:\n",
    "            l.append('non_optimal')\n",
    "    if l.count('optimal') >0:\n",
    "        count+=1 ##update for case where a geen nests ints optimal codo\n",
    "    df['Optimality']=l\n",
    "    opts.append(df[df['Optimality']=='optimal'].shape[0])\n",
    "    \n",
    "    opt_host_dict[host]=df"
   ]
  },
  {
   "cell_type": "code",
   "execution_count": 349,
   "metadata": {},
   "outputs": [
    {
     "data": {
      "text/plain": [
       "32"
      ]
     },
     "execution_count": 349,
     "metadata": {},
     "output_type": "execute_result"
    }
   ],
   "source": [
    "count"
   ]
  },
  {
   "cell_type": "code",
   "execution_count": 347,
   "metadata": {},
   "outputs": [
    {
     "data": {
      "text/plain": [
       "0.49230769230769234"
      ]
     },
     "execution_count": 347,
     "metadata": {},
     "output_type": "execute_result"
    }
   ],
   "source": [
    "32/65"
   ]
  },
  {
   "cell_type": "code",
   "execution_count": 351,
   "metadata": {},
   "outputs": [
    {
     "data": {
      "text/plain": [
       "37"
      ]
     },
     "execution_count": 351,
     "metadata": {},
     "output_type": "execute_result"
    }
   ],
   "source": [
    "sum(opts)"
   ]
  },
  {
   "cell_type": "markdown",
   "metadata": {},
   "source": [
    "### I need to model the expectation that an intron contains multiple tRNAs of the same identity given 45 possible tRNAs.\n",
    "\n",
    "- look if diversity of tRNAs is less than total tRNAs\n",
    "- look if all the tRNAs were the same"
   ]
  },
  {
   "cell_type": "code",
   "execution_count": 389,
   "metadata": {},
   "outputs": [],
   "source": [
    "### compute how many multi-host gene have the same nested trna\n",
    "multis = ['Ptp61F', 'Sulf1', 'EcR', 'ATP8A', 'mim', 'ome', 'Ptr', 'pyd',\n",
    "       'CG10713', 'p', 'ec', 'hts', 'Lrt', 'gol', 'mrj', 'sr', 'PIG-S',\n",
    "       'CG43175', 'CG14322', 'Sema1a', 'CG4238', 'CG9289', 'd', 'tkv',\n",
    "       'Cht7', 'Ect4', 'ABCA']"
   ]
  },
  {
   "cell_type": "code",
   "execution_count": 394,
   "metadata": {},
   "outputs": [
    {
     "data": {
      "text/plain": [
       "array(['ATT', 'TTG'], dtype=object)"
      ]
     },
     "execution_count": 394,
     "metadata": {},
     "output_type": "execute_result"
    }
   ],
   "source": [
    "df['Codon_trna'].unique()"
   ]
  },
  {
   "cell_type": "code",
   "execution_count": 399,
   "metadata": {},
   "outputs": [
    {
     "data": {
      "text/plain": [
       "23"
      ]
     },
     "execution_count": 399,
     "metadata": {},
     "output_type": "execute_result"
    }
   ],
   "source": [
    "## check if diversity of tRNAs is less than total tRNAs\n",
    "c= 0 ##counter the number of cases\n",
    "for host in multis:\n",
    "    df = nest[nest['Host_gene_name']==host]['Codon'].value_counts().to_frame().reset_index()\n",
    "    df.columns=['Codon_trna','Frequency']\n",
    "    if df['Codon_trna'].unique().shape[0] < df['Frequency'].sum():\n",
    "        c+=1\n",
    "c"
   ]
  },
  {
   "cell_type": "code",
   "execution_count": 400,
   "metadata": {
    "scrolled": true
   },
   "outputs": [
    {
     "data": {
      "text/plain": [
       "0.8518518518518519"
      ]
     },
     "execution_count": 400,
     "metadata": {},
     "output_type": "execute_result"
    }
   ],
   "source": [
    "23/27 ##85 percent of multihost genes "
   ]
  },
  {
   "cell_type": "code",
   "execution_count": 404,
   "metadata": {
    "scrolled": true
   },
   "outputs": [
    {
     "data": {
      "text/plain": [
       "0.2"
      ]
     },
     "execution_count": 404,
     "metadata": {},
     "output_type": "execute_result"
    }
   ],
   "source": [
    "2/10  #2 unique trnas: 10 total tRNAs. low diversity"
   ]
  },
  {
   "cell_type": "code",
   "execution_count": 430,
   "metadata": {
    "scrolled": true
   },
   "outputs": [
    {
     "data": {
      "text/plain": [
       "0.5"
      ]
     },
     "execution_count": 430,
     "metadata": {},
     "output_type": "execute_result"
    }
   ],
   "source": [
    "(1/2) ##no diversity so should be zero"
   ]
  },
  {
   "cell_type": "code",
   "execution_count": 434,
   "metadata": {
    "scrolled": true
   },
   "outputs": [
    {
     "data": {
      "text/plain": [
       "1.0"
      ]
     },
     "execution_count": 434,
     "metadata": {},
     "output_type": "execute_result"
    }
   ],
   "source": [
    "2/1 /2  ## 1 - sum of trnas/ unique tRNAs normalised by total "
   ]
  },
  {
   "cell_type": "code",
   "execution_count": 454,
   "metadata": {
    "scrolled": true
   },
   "outputs": [
    {
     "data": {
      "text/html": [
       "<div>\n",
       "<style scoped>\n",
       "    .dataframe tbody tr th:only-of-type {\n",
       "        vertical-align: middle;\n",
       "    }\n",
       "\n",
       "    .dataframe tbody tr th {\n",
       "        vertical-align: top;\n",
       "    }\n",
       "\n",
       "    .dataframe thead th {\n",
       "        text-align: right;\n",
       "    }\n",
       "</style>\n",
       "<table border=\"1\" class=\"dataframe\">\n",
       "  <thead>\n",
       "    <tr style=\"text-align: right;\">\n",
       "      <th></th>\n",
       "      <th>Host_gene_name</th>\n",
       "      <th>tRNA_name</th>\n",
       "      <th>Anticodon</th>\n",
       "      <th>Codon</th>\n",
       "    </tr>\n",
       "  </thead>\n",
       "  <tbody>\n",
       "    <tr>\n",
       "      <td>0</td>\n",
       "      <td>caps</td>\n",
       "      <td>Asp-GTC-1-10-</td>\n",
       "      <td>GTC</td>\n",
       "      <td>GAC</td>\n",
       "    </tr>\n",
       "    <tr>\n",
       "      <td>1</td>\n",
       "      <td>Esyt2</td>\n",
       "      <td>Asp-GTC-1-11-</td>\n",
       "      <td>GTC</td>\n",
       "      <td>GAC</td>\n",
       "    </tr>\n",
       "    <tr>\n",
       "      <td>2</td>\n",
       "      <td>Ptp61F</td>\n",
       "      <td>Glu-CTC-3-4-</td>\n",
       "      <td>CTC</td>\n",
       "      <td>GAG</td>\n",
       "    </tr>\n",
       "    <tr>\n",
       "      <td>3</td>\n",
       "      <td>Ptp61F</td>\n",
       "      <td>Glu-CTC-3-5-</td>\n",
       "      <td>CTC</td>\n",
       "      <td>GAG</td>\n",
       "    </tr>\n",
       "    <tr>\n",
       "      <td>4</td>\n",
       "      <td>Ptp61F</td>\n",
       "      <td>Glu-CTC-3-6-</td>\n",
       "      <td>CTC</td>\n",
       "      <td>GAG</td>\n",
       "    </tr>\n",
       "  </tbody>\n",
       "</table>\n",
       "</div>"
      ],
      "text/plain": [
       "  Host_gene_name      tRNA_name Anticodon Codon\n",
       "0           caps  Asp-GTC-1-10-       GTC   GAC\n",
       "1          Esyt2  Asp-GTC-1-11-       GTC   GAC\n",
       "2         Ptp61F   Glu-CTC-3-4-       CTC   GAG\n",
       "3         Ptp61F   Glu-CTC-3-5-       CTC   GAG\n",
       "4         Ptp61F   Glu-CTC-3-6-       CTC   GAG"
      ]
     },
     "execution_count": 454,
     "metadata": {},
     "output_type": "execute_result"
    }
   ],
   "source": [
    "nest.head()"
   ]
  },
  {
   "cell_type": "code",
   "execution_count": null,
   "metadata": {},
   "outputs": [],
   "source": [
    "aa = []\n",
    "for t in nest['tRNA_name'].values:\n",
    "    aa.append"
   ]
  },
  {
   "cell_type": "code",
   "execution_count": 437,
   "metadata": {},
   "outputs": [],
   "source": [
    "## ratio of unique to total tRNAs\n",
    "#1-(unique_trnas/total_trnas)  /total_trnas)  diverstiy index\n",
    "ratios = []\n",
    "for host in multis:\n",
    "    df = nest[nest['Host_gene_name']==host]['Codon'].value_counts().to_frame().reset_index()\n",
    "    df.columns=['Codon_trna','Frequency']\n",
    "    \n",
    "    uniq_trna = df['Codon_trna'].unique().shape[0]\n",
    "    tot_trna = df['Frequency'].sum()\n",
    "    div_index = 1-((tot_trna/uniq_trna)/tot_trna)\n",
    "    ratios.append(div_index)"
   ]
  },
  {
   "cell_type": "code",
   "execution_count": 455,
   "metadata": {
    "scrolled": true
   },
   "outputs": [
    {
     "data": {
      "image/png": "[encoded data removed]",
      "text/plain": [
       "<Figure size 432x288 with 1 Axes>"
      ]
     },
     "metadata": {
      "needs_background": "light"
     },
     "output_type": "display_data"
    }
   ],
   "source": [
    "plt.hist(ratios,bins=25,color='maroon')\n",
    "#plt.axvline(np.mean(ratios),color='navy',linestyle='dashed')\n",
    "plt.xlabel('Diversity Index' ,fontsize=16,fontweight='bold')\n",
    "plt.ylabel('Mult-host genes', fontsize=16,fontweight='bold')\n",
    "plt.xticks(fontsize=14);plt.yticks(fontsize=14)\n",
    "plt.title('Anticodon Identity',fontsize=16,fontweight='bold')\n",
    "plt.ylim(0,24)\n",
    "plt.show()"
   ]
  },
  {
   "cell_type": "code",
   "execution_count": 458,
   "metadata": {},
   "outputs": [
    {
     "data": {
      "text/plain": [
       "25"
      ]
     },
     "execution_count": 458,
     "metadata": {},
     "output_type": "execute_result"
    }
   ],
   "source": [
    "ratios=np.asarray(ratios)\n",
    "len(ratios[ratios<=0.5])"
   ]
  },
  {
   "cell_type": "code",
   "execution_count": 450,
   "metadata": {},
   "outputs": [
    {
     "data": {
      "text/plain": [
       "0.6666666666666666"
      ]
     },
     "execution_count": 450,
     "metadata": {},
     "output_type": "execute_result"
    }
   ],
   "source": [
    "18/27"
   ]
  },
  {
   "cell_type": "code",
   "execution_count": 457,
   "metadata": {},
   "outputs": [
    {
     "data": {
      "text/plain": [
       "18"
      ]
     },
     "execution_count": 457,
     "metadata": {},
     "output_type": "execute_result"
    }
   ],
   "source": [
    "len(ratios[ratios==0.0])"
   ]
  },
  {
   "cell_type": "markdown",
   "metadata": {},
   "source": [
    "## look at amino acid\n"
   ]
  }
 ],
 "metadata": {
  "kernelspec": {
   "display_name": "Python 3",
   "language": "python",
   "name": "python3"
  },
  "language_info": {
   "codemirror_mode": {
    "name": "ipython",
    "version": 3
   },
   "file_extension": ".py",
   "mimetype": "text/x-python",
   "name": "python",
   "nbconvert_exporter": "python",
   "pygments_lexer": "ipython3",
   "version": "3.7.4"
  }
 },
 "nbformat": 4,
 "nbformat_minor": 2
}
